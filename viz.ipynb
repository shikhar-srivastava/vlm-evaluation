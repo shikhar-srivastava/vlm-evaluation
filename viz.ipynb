{
 "cells": [
  {
   "cell_type": "code",
   "execution_count": 11,
   "metadata": {},
   "outputs": [],
   "source": [
    "# Read .pt file at path: runs/reproduction-align-pythia+410m/gqa-only-logits/logits_520.pt\n",
    "\n",
    "import torch\n",
    "import os\n",
    "import sys\n",
    "import numpy as np\n",
    "\n",
    "def read_logits(path):\n",
    "    logits = torch.load(path)\n",
    "    return logits\n",
    "\n",
    "logits_original = read_logits('/localdisk/ssrivas9/prismatic-vlms/runs/reproduction-align-pythia+410m/gqa-only-logits/logits_32619.pt')\n",
    "logits_original_next_id = read_logits('/localdisk/ssrivas9/prismatic-vlms/runs/reproduction-align-pythia+410m/gqa-only-logits/logits_65033.pt')\n",
    "#logits_new = read_logits('/localdisk/ssrivas9/prismatic-vlms/runs/reproduction-align-pythia+410m/gqa-only-logits-with-labels/logits_80.pt')"
   ]
  },
  {
   "cell_type": "code",
   "execution_count": 12,
   "metadata": {},
   "outputs": [
    {
     "data": {
      "text/plain": [
       "(torch.Size([784, 50304]), torch.Size([711, 50304]))"
      ]
     },
     "execution_count": 12,
     "metadata": {},
     "output_type": "execute_result"
    }
   ],
   "source": [
    "logits_original.shape, logits_original_next_id.shape"
   ]
  },
  {
   "cell_type": "code",
   "execution_count": null,
   "metadata": {},
   "outputs": [],
   "source": []
  },
  {
   "cell_type": "code",
   "execution_count": null,
   "metadata": {},
   "outputs": [],
   "source": []
  }
 ],
 "metadata": {
  "kernelspec": {
   "display_name": "minigpt4",
   "language": "python",
   "name": "python3"
  },
  "language_info": {
   "codemirror_mode": {
    "name": "ipython",
    "version": 3
   },
   "file_extension": ".py",
   "mimetype": "text/x-python",
   "name": "python",
   "nbconvert_exporter": "python",
   "pygments_lexer": "ipython3",
   "version": "3.10.14"
  }
 },
 "nbformat": 4,
 "nbformat_minor": 2
}
