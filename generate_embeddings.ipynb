{
 "cells": [
  {
   "cell_type": "code",
   "execution_count": 1,
   "metadata": {},
   "outputs": [
    {
     "name": "stderr",
     "output_type": "stream",
     "text": [
      "/localdisk/ssrivas9/miniconda3/envs/eval/lib/python3.10/site-packages/tqdm/auto.py:21: TqdmWarning: IProgress not found. Please update jupyter and ipywidgets. See https://ipywidgets.readthedocs.io/en/stable/user_install.html\n",
      "  from .autonotebook import tqdm as notebook_tqdm\n"
     ]
    },
    {
     "name": "stdout",
     "output_type": "stream",
     "text": [
      "loading prismatic <vlm_eval.models.prismatic.PrismaticVLM object at 0x7f4bdc7b8880>\n"
     ]
    },
    {
     "data": {
      "text/html": [
       "<pre style=\"white-space:pre;overflow-x:auto;line-height:normal;font-family:Menlo,'DejaVu Sans Mono',consolas,'Courier New',monospace\"><span style=\"color: #7fbfbf; text-decoration-color: #7fbfbf\">11/05 [01:14:30] </span><span style=\"color: #000080; text-decoration-color: #000080\">INFO    </span> | &gt;&gt; <span style=\"font-weight: bold\">[</span>*<span style=\"font-weight: bold\">]</span> Loading from local path                                               <a href=\"file:///localdisk/ssrivas9/miniconda3/envs/eval/lib/python3.10/site-packages/prismatic/models/load.py\" target=\"_blank\"><span style=\"color: #7f7f7f; text-decoration-color: #7f7f7f\">load.py</span></a><span style=\"color: #7f7f7f; text-decoration-color: #7f7f7f\">:</span><a href=\"file:///localdisk/ssrivas9/miniconda3/envs/eval/lib/python3.10/site-packages/prismatic/models/load.py#55\" target=\"_blank\"><span style=\"color: #7f7f7f; text-decoration-color: #7f7f7f\">55</span></a>\n",
       "<span style=\"color: #7fbfbf; text-decoration-color: #7fbfbf\">                 </span>         `<span style=\"color: #800080; text-decoration-color: #800080\">/localdisk/ssrivas9/prismatic-vlms/runs/</span><span style=\"color: #ff00ff; text-decoration-color: #ff00ff\">reproduction-align-pythia+410m</span>`       <span style=\"color: #7f7f7f; text-decoration-color: #7f7f7f\">          </span>\n",
       "</pre>\n"
      ],
      "text/plain": [
       "\u001b[2;36m11/05 [01:14:30]\u001b[0m\u001b[2;36m \u001b[0m\u001b[34mINFO    \u001b[0m | >> \u001b[1m[\u001b[0m*\u001b[1m]\u001b[0m Loading from local path                                               \u001b]8;id=826099;file:///localdisk/ssrivas9/miniconda3/envs/eval/lib/python3.10/site-packages/prismatic/models/load.py\u001b\\\u001b[2mload.py\u001b[0m\u001b]8;;\u001b\\\u001b[2m:\u001b[0m\u001b]8;id=880460;file:///localdisk/ssrivas9/miniconda3/envs/eval/lib/python3.10/site-packages/prismatic/models/load.py#55\u001b\\\u001b[2m55\u001b[0m\u001b]8;;\u001b\\\n",
       "\u001b[2;36m                 \u001b[0m         `\u001b[35m/localdisk/ssrivas9/prismatic-vlms/runs/\u001b[0m\u001b[95mreproduction-align-pythia+410m\u001b[0m`       \u001b[2m          \u001b[0m\n"
      ]
     },
     "metadata": {},
     "output_type": "display_data"
    },
    {
     "data": {
      "text/html": [
       "<pre style=\"white-space:pre;overflow-x:auto;line-height:normal;font-family:Menlo,'DejaVu Sans Mono',consolas,'Courier New',monospace\"><span style=\"color: #7fbfbf; text-decoration-color: #7fbfbf\">                 </span><span style=\"color: #000080; text-decoration-color: #000080\">INFO    </span> | &gt;&gt; <span style=\"font-weight: bold\">[</span>*<span style=\"font-weight: bold\">]</span>                                                                       <a href=\"file:///localdisk/ssrivas9/miniconda3/envs/eval/lib/python3.10/site-packages/prismatic/models/load.py\" target=\"_blank\"><span style=\"color: #7f7f7f; text-decoration-color: #7f7f7f\">load.py</span></a><span style=\"color: #7f7f7f; text-decoration-color: #7f7f7f\">:</span><a href=\"file:///localdisk/ssrivas9/miniconda3/envs/eval/lib/python3.10/site-packages/prismatic/models/load.py#70\" target=\"_blank\"><span style=\"color: #7f7f7f; text-decoration-color: #7f7f7f\">70</span></a>\n",
       "<span style=\"color: #7fbfbf; text-decoration-color: #7fbfbf\">                 </span>                                                                                        <span style=\"color: #7f7f7f; text-decoration-color: #7f7f7f\">          </span>\n",
       "<span style=\"color: #7fbfbf; text-decoration-color: #7fbfbf\">                 </span>         🚀 <span style=\"color: #008000; text-decoration-color: #008000; font-weight: bold\">(LATEST) Loading Prismatic VLM for Inference 🚀</span> 🚀                          <span style=\"color: #7f7f7f; text-decoration-color: #7f7f7f\">          </span>\n",
       "<span style=\"color: #7fbfbf; text-decoration-color: #7fbfbf\">                 </span>                                                                                        <span style=\"color: #7f7f7f; text-decoration-color: #7f7f7f\">          </span>\n",
       "<span style=\"color: #7fbfbf; text-decoration-color: #7fbfbf\">                 </span>                                                                                        <span style=\"color: #7f7f7f; text-decoration-color: #7f7f7f\">          </span>\n",
       "</pre>\n"
      ],
      "text/plain": [
       "\u001b[2;36m                \u001b[0m\u001b[2;36m \u001b[0m\u001b[34mINFO    \u001b[0m | >> \u001b[1m[\u001b[0m*\u001b[1m]\u001b[0m                                                                       \u001b]8;id=159443;file:///localdisk/ssrivas9/miniconda3/envs/eval/lib/python3.10/site-packages/prismatic/models/load.py\u001b\\\u001b[2mload.py\u001b[0m\u001b]8;;\u001b\\\u001b[2m:\u001b[0m\u001b]8;id=386030;file:///localdisk/ssrivas9/miniconda3/envs/eval/lib/python3.10/site-packages/prismatic/models/load.py#70\u001b\\\u001b[2m70\u001b[0m\u001b]8;;\u001b\\\n",
       "\u001b[2;36m                 \u001b[0m                                                                                        \u001b[2m          \u001b[0m\n",
       "\u001b[2;36m                 \u001b[0m         🚀 \u001b[1;32m(\u001b[0m\u001b[1;32mLATEST\u001b[0m\u001b[1;32m)\u001b[0m\u001b[1;32m Loading Prismatic VLM for Inference 🚀\u001b[0m 🚀                          \u001b[2m          \u001b[0m\n",
       "\u001b[2;36m                 \u001b[0m                                                                                        \u001b[2m          \u001b[0m\n",
       "\u001b[2;36m                 \u001b[0m                                                                                        \u001b[2m          \u001b[0m\n"
      ]
     },
     "metadata": {},
     "output_type": "display_data"
    },
    {
     "data": {
      "text/html": [
       "<pre style=\"white-space:pre;overflow-x:auto;line-height:normal;font-family:Menlo,'DejaVu Sans Mono',consolas,'Courier New',monospace\"><span style=\"color: #7fbfbf; text-decoration-color: #7fbfbf\">                 </span><span style=\"color: #000080; text-decoration-color: #000080\">INFO    </span> | &gt;&gt; <span style=\"font-weight: bold\">[</span>*<span style=\"font-weight: bold\">]</span> Found Config =&gt;&gt; Loading &amp; Freezing <span style=\"color: #000080; text-decoration-color: #000080; font-weight: bold\">stage0-pythia+410m</span> with:          <a href=\"file:///localdisk/ssrivas9/miniconda3/envs/eval/lib/python3.10/site-packages/prismatic/models/load.py\" target=\"_blank\"><span style=\"color: #7f7f7f; text-decoration-color: #7f7f7f\">load.py</span></a><span style=\"color: #7f7f7f; text-decoration-color: #7f7f7f\">:</span><a href=\"file:///localdisk/ssrivas9/miniconda3/envs/eval/lib/python3.10/site-packages/prismatic/models/load.py#78\" target=\"_blank\"><span style=\"color: #7f7f7f; text-decoration-color: #7f7f7f\">78</span></a>\n",
       "<span style=\"color: #7fbfbf; text-decoration-color: #7fbfbf\">                 </span>                      Vision Backbone =&gt;&gt; <span style=\"font-weight: bold\">clip-vit-l-336px</span>                              <span style=\"color: #7f7f7f; text-decoration-color: #7f7f7f\">          </span>\n",
       "<span style=\"color: #7fbfbf; text-decoration-color: #7fbfbf\">                 </span>                      LLM Backbone    =&gt;&gt; <span style=\"font-weight: bold\">pythia-410m</span>                                   <span style=\"color: #7f7f7f; text-decoration-color: #7f7f7f\">          </span>\n",
       "<span style=\"color: #7fbfbf; text-decoration-color: #7fbfbf\">                 </span>                      Arch Specifier  =&gt;&gt; <span style=\"font-weight: bold\">gelu-mlp</span>                                      <span style=\"color: #7f7f7f; text-decoration-color: #7f7f7f\">          </span>\n",
       "<span style=\"color: #7fbfbf; text-decoration-color: #7fbfbf\">                 </span>                      Mitigation Strategy      =&gt;&gt; <span style=\"color: #800080; text-decoration-color: #800080; font-weight: bold; font-style: italic\">None</span>             LoRA      =&gt;&gt; <span style=\"font-weight: bold\">rank:</span> <span style=\"color: #7f7f7f; text-decoration-color: #7f7f7f\">          </span>\n",
       "<span style=\"color: #7fbfbf; text-decoration-color: #7fbfbf\">                 </span>         <span style=\"color: #008080; text-decoration-color: #008080; font-weight: bold\">16</span><span style=\"font-weight: bold\">, alpha: </span><span style=\"color: #008080; text-decoration-color: #008080; font-weight: bold\">8</span><span style=\"font-weight: bold\">, lora_target_modules: all-linear</span>             Load in 8bit     =&gt;&gt; <span style=\"color: #7f7f7f; text-decoration-color: #7f7f7f\">          </span>\n",
       "<span style=\"color: #7fbfbf; text-decoration-color: #7fbfbf\">                 </span>         <span style=\"color: #ff0000; text-decoration-color: #ff0000; font-weight: bold; font-style: italic\">False</span>             Checkpoint Path =&gt;&gt;                                          <span style=\"color: #7f7f7f; text-decoration-color: #7f7f7f\">          </span>\n",
       "<span style=\"color: #7fbfbf; text-decoration-color: #7fbfbf\">                 </span>         <span style=\"text-decoration: underline\">`</span><span style=\"color: #800080; text-decoration-color: #800080; text-decoration: underline\">/localdisk/ssrivas9/prismatic-vlms/runs/reproduction-align-pythia+410m/checkp</span> <span style=\"color: #7f7f7f; text-decoration-color: #7f7f7f\">          </span>\n",
       "<span style=\"color: #7fbfbf; text-decoration-color: #7fbfbf\">                 </span>         <span style=\"color: #800080; text-decoration-color: #800080; text-decoration: underline\">oints/</span><span style=\"color: #ff00ff; text-decoration-color: #ff00ff; text-decoration: underline\">latest-checkpoint.pt</span><span style=\"text-decoration: underline\">`</span>                                                    <span style=\"color: #7f7f7f; text-decoration-color: #7f7f7f\">          </span>\n",
       "</pre>\n"
      ],
      "text/plain": [
       "\u001b[2;36m                \u001b[0m\u001b[2;36m \u001b[0m\u001b[34mINFO    \u001b[0m | >> \u001b[1m[\u001b[0m*\u001b[1m]\u001b[0m Found Config =>> Loading & Freezing \u001b[1;34mstage0-pythia+410m\u001b[0m with:          \u001b]8;id=306149;file:///localdisk/ssrivas9/miniconda3/envs/eval/lib/python3.10/site-packages/prismatic/models/load.py\u001b\\\u001b[2mload.py\u001b[0m\u001b]8;;\u001b\\\u001b[2m:\u001b[0m\u001b]8;id=181411;file:///localdisk/ssrivas9/miniconda3/envs/eval/lib/python3.10/site-packages/prismatic/models/load.py#78\u001b\\\u001b[2m78\u001b[0m\u001b]8;;\u001b\\\n",
       "\u001b[2;36m                 \u001b[0m                      Vision Backbone =>> \u001b[1mclip-vit-l-336px\u001b[0m                              \u001b[2m          \u001b[0m\n",
       "\u001b[2;36m                 \u001b[0m                      LLM Backbone    =>> \u001b[1mpythia-410m\u001b[0m                                   \u001b[2m          \u001b[0m\n",
       "\u001b[2;36m                 \u001b[0m                      Arch Specifier  =>> \u001b[1mgelu-mlp\u001b[0m                                      \u001b[2m          \u001b[0m\n",
       "\u001b[2;36m                 \u001b[0m                      Mitigation Strategy      =>> \u001b[1;3;35mNone\u001b[0m             LoRA      =>> \u001b[1mrank:\u001b[0m \u001b[2m          \u001b[0m\n",
       "\u001b[2;36m                 \u001b[0m         \u001b[1;36m16\u001b[0m\u001b[1m, alpha: \u001b[0m\u001b[1;36m8\u001b[0m\u001b[1m, lora_target_modules: all-linear\u001b[0m             Load in 8bit     =>> \u001b[2m          \u001b[0m\n",
       "\u001b[2;36m                 \u001b[0m         \u001b[1;3;91mFalse\u001b[0m             Checkpoint Path =>>                                          \u001b[2m          \u001b[0m\n",
       "\u001b[2;36m                 \u001b[0m         \u001b[4m`\u001b[0m\u001b[4;35m/localdisk/ssrivas9/prismatic-vlms/runs/reproduction-align-pythia+410m/checkp\u001b[0m \u001b[2m          \u001b[0m\n",
       "\u001b[2;36m                 \u001b[0m         \u001b[4;35moints/\u001b[0m\u001b[4;95mlatest-checkpoint.pt\u001b[0m\u001b[4m`\u001b[0m                                                    \u001b[2m          \u001b[0m\n"
      ]
     },
     "metadata": {},
     "output_type": "display_data"
    },
    {
     "data": {
      "text/html": [
       "<pre style=\"white-space:pre;overflow-x:auto;line-height:normal;font-family:Menlo,'DejaVu Sans Mono',consolas,'Courier New',monospace\"><span style=\"color: #7fbfbf; text-decoration-color: #7fbfbf\">                 </span><span style=\"color: #000080; text-decoration-color: #000080\">INFO    </span> | &gt;&gt; <span style=\"font-weight: bold\">[</span>*<span style=\"font-weight: bold\">]</span> Loading Vision Backbone <span style=\"font-weight: bold\">clip-vit-l-336px</span>                              <a href=\"file:///localdisk/ssrivas9/miniconda3/envs/eval/lib/python3.10/site-packages/prismatic/models/load.py\" target=\"_blank\"><span style=\"color: #7f7f7f; text-decoration-color: #7f7f7f\">load.py</span></a><span style=\"color: #7f7f7f; text-decoration-color: #7f7f7f\">:</span><a href=\"file:///localdisk/ssrivas9/miniconda3/envs/eval/lib/python3.10/site-packages/prismatic/models/load.py#89\" target=\"_blank\"><span style=\"color: #7f7f7f; text-decoration-color: #7f7f7f\">89</span></a>\n",
       "</pre>\n"
      ],
      "text/plain": [
       "\u001b[2;36m                \u001b[0m\u001b[2;36m \u001b[0m\u001b[34mINFO    \u001b[0m | >> \u001b[1m[\u001b[0m*\u001b[1m]\u001b[0m Loading Vision Backbone \u001b[1mclip-vit-l-336px\u001b[0m                              \u001b]8;id=988978;file:///localdisk/ssrivas9/miniconda3/envs/eval/lib/python3.10/site-packages/prismatic/models/load.py\u001b\\\u001b[2mload.py\u001b[0m\u001b]8;;\u001b\\\u001b[2m:\u001b[0m\u001b]8;id=828742;file:///localdisk/ssrivas9/miniconda3/envs/eval/lib/python3.10/site-packages/prismatic/models/load.py#89\u001b\\\u001b[2m89\u001b[0m\u001b]8;;\u001b\\\n"
      ]
     },
     "metadata": {},
     "output_type": "display_data"
    },
    {
     "data": {
      "text/html": [
       "<pre style=\"white-space:pre;overflow-x:auto;line-height:normal;font-family:Menlo,'DejaVu Sans Mono',consolas,'Courier New',monospace\"><span style=\"color: #7fbfbf; text-decoration-color: #7fbfbf\">11/05 [01:14:34] </span><span style=\"color: #000080; text-decoration-color: #000080\">INFO    </span> | &gt;&gt; Loading pretrained weights from Hugging Face hub                     <a href=\"file:///localdisk/ssrivas9/miniconda3/envs/eval/lib/python3.10/site-packages/timm/models/_builder.py\" target=\"_blank\"><span style=\"color: #7f7f7f; text-decoration-color: #7f7f7f\">_builder.py</span></a><span style=\"color: #7f7f7f; text-decoration-color: #7f7f7f\">:</span><a href=\"file:///localdisk/ssrivas9/miniconda3/envs/eval/lib/python3.10/site-packages/timm/models/_builder.py#186\" target=\"_blank\"><span style=\"color: #7f7f7f; text-decoration-color: #7f7f7f\">186</span></a>\n",
       "<span style=\"color: #7fbfbf; text-decoration-color: #7fbfbf\">                 </span>         <span style=\"font-weight: bold\">((</span><span style=\"color: #008000; text-decoration-color: #008000\">'timm/vit_large_patch14_clip_336.openai'</span>,                               <span style=\"color: #7f7f7f; text-decoration-color: #7f7f7f\">               </span>\n",
       "<span style=\"color: #7fbfbf; text-decoration-color: #7fbfbf\">                 </span>         <span style=\"color: #008000; text-decoration-color: #008000\">'open_clip_pytorch_model.bin'</span><span style=\"font-weight: bold\">))</span>                                           <span style=\"color: #7f7f7f; text-decoration-color: #7f7f7f\">               </span>\n",
       "</pre>\n"
      ],
      "text/plain": [
       "\u001b[2;36m11/05 [01:14:34]\u001b[0m\u001b[2;36m \u001b[0m\u001b[34mINFO    \u001b[0m | >> Loading pretrained weights from Hugging Face hub                     \u001b]8;id=665461;file:///localdisk/ssrivas9/miniconda3/envs/eval/lib/python3.10/site-packages/timm/models/_builder.py\u001b\\\u001b[2m_builder.py\u001b[0m\u001b]8;;\u001b\\\u001b[2m:\u001b[0m\u001b]8;id=6185;file:///localdisk/ssrivas9/miniconda3/envs/eval/lib/python3.10/site-packages/timm/models/_builder.py#186\u001b\\\u001b[2m186\u001b[0m\u001b]8;;\u001b\\\n",
       "\u001b[2;36m                 \u001b[0m         \u001b[1m(\u001b[0m\u001b[1m(\u001b[0m\u001b[32m'timm/vit_large_patch14_clip_336.openai'\u001b[0m,                               \u001b[2m               \u001b[0m\n",
       "\u001b[2;36m                 \u001b[0m         \u001b[32m'open_clip_pytorch_model.bin'\u001b[0m\u001b[1m)\u001b[0m\u001b[1m)\u001b[0m                                           \u001b[2m               \u001b[0m\n"
      ]
     },
     "metadata": {},
     "output_type": "display_data"
    },
    {
     "data": {
      "text/html": [
       "<pre style=\"white-space:pre;overflow-x:auto;line-height:normal;font-family:Menlo,'DejaVu Sans Mono',consolas,'Courier New',monospace\"><span style=\"color: #7fbfbf; text-decoration-color: #7fbfbf\">                 </span><span style=\"color: #000080; text-decoration-color: #000080\">INFO    </span> | &gt;&gt;  Safe alternative available for <span style=\"color: #008000; text-decoration-color: #008000\">'open_clip_pytorch_model.bin'</span> <span style=\"font-weight: bold\">(</span>as        <a href=\"file:///localdisk/ssrivas9/miniconda3/envs/eval/lib/python3.10/site-packages/timm/models/_hub.py\" target=\"_blank\"><span style=\"color: #7f7f7f; text-decoration-color: #7f7f7f\">_hub.py</span></a><span style=\"color: #7f7f7f; text-decoration-color: #7f7f7f\">:</span><a href=\"file:///localdisk/ssrivas9/miniconda3/envs/eval/lib/python3.10/site-packages/timm/models/_hub.py#180\" target=\"_blank\"><span style=\"color: #7f7f7f; text-decoration-color: #7f7f7f\">180</span></a>\n",
       "<span style=\"color: #7fbfbf; text-decoration-color: #7fbfbf\">                 </span>         <span style=\"color: #008000; text-decoration-color: #008000\">'open_clip_model.safetensors'</span><span style=\"font-weight: bold\">)</span>. Loading weights using safetensors.            <span style=\"color: #7f7f7f; text-decoration-color: #7f7f7f\">           </span>\n",
       "</pre>\n"
      ],
      "text/plain": [
       "\u001b[2;36m                \u001b[0m\u001b[2;36m \u001b[0m\u001b[34mINFO    \u001b[0m | >>  Safe alternative available for \u001b[32m'open_clip_pytorch_model.bin'\u001b[0m \u001b[1m(\u001b[0mas        \u001b]8;id=166927;file:///localdisk/ssrivas9/miniconda3/envs/eval/lib/python3.10/site-packages/timm/models/_hub.py\u001b\\\u001b[2m_hub.py\u001b[0m\u001b]8;;\u001b\\\u001b[2m:\u001b[0m\u001b]8;id=898814;file:///localdisk/ssrivas9/miniconda3/envs/eval/lib/python3.10/site-packages/timm/models/_hub.py#180\u001b\\\u001b[2m180\u001b[0m\u001b]8;;\u001b\\\n",
       "\u001b[2;36m                 \u001b[0m         \u001b[32m'open_clip_model.safetensors'\u001b[0m\u001b[1m)\u001b[0m. Loading weights using safetensors.            \u001b[2m           \u001b[0m\n"
      ]
     },
     "metadata": {},
     "output_type": "display_data"
    },
    {
     "data": {
      "text/html": [
       "<pre style=\"white-space:pre;overflow-x:auto;line-height:normal;font-family:Menlo,'DejaVu Sans Mono',consolas,'Courier New',monospace\"><span style=\"color: #7fbfbf; text-decoration-color: #7fbfbf\">                 </span><span style=\"color: #000080; text-decoration-color: #000080\">INFO    </span> | &gt;&gt; <span style=\"font-weight: bold\">[</span>*<span style=\"font-weight: bold\">]</span> Loading Pretrained LLM <span style=\"font-weight: bold\">pythia-410m</span> via HF Transformers               <a href=\"file:///localdisk/ssrivas9/miniconda3/envs/eval/lib/python3.10/site-packages/prismatic/models/load.py\" target=\"_blank\"><span style=\"color: #7f7f7f; text-decoration-color: #7f7f7f\">load.py</span></a><span style=\"color: #7f7f7f; text-decoration-color: #7f7f7f\">:</span><a href=\"file:///localdisk/ssrivas9/miniconda3/envs/eval/lib/python3.10/site-packages/prismatic/models/load.py#103\" target=\"_blank\"><span style=\"color: #7f7f7f; text-decoration-color: #7f7f7f\">103</span></a>\n",
       "</pre>\n"
      ],
      "text/plain": [
       "\u001b[2;36m                \u001b[0m\u001b[2;36m \u001b[0m\u001b[34mINFO    \u001b[0m | >> \u001b[1m[\u001b[0m*\u001b[1m]\u001b[0m Loading Pretrained LLM \u001b[1mpythia-410m\u001b[0m via HF Transformers               \u001b]8;id=3594;file:///localdisk/ssrivas9/miniconda3/envs/eval/lib/python3.10/site-packages/prismatic/models/load.py\u001b\\\u001b[2mload.py\u001b[0m\u001b]8;;\u001b\\\u001b[2m:\u001b[0m\u001b]8;id=764214;file:///localdisk/ssrivas9/miniconda3/envs/eval/lib/python3.10/site-packages/prismatic/models/load.py#103\u001b\\\u001b[2m103\u001b[0m\u001b]8;;\u001b\\\n"
      ]
     },
     "metadata": {},
     "output_type": "display_data"
    },
    {
     "data": {
      "text/html": [
       "<pre style=\"white-space:pre;overflow-x:auto;line-height:normal;font-family:Menlo,'DejaVu Sans Mono',consolas,'Courier New',monospace\"><span style=\"color: #7fbfbf; text-decoration-color: #7fbfbf\">11/05 [01:14:35] </span><span style=\"color: #000080; text-decoration-color: #000080\">INFO    </span> | &gt;&gt;     |=&gt; Loading <span style=\"font-weight: bold\">pythia</span> <span style=\"font-weight: bold\">(</span>Fast<span style=\"font-weight: bold\">)</span> Tokenizer via the AutoTokenizer API    <a href=\"file:///localdisk/ssrivas9/miniconda3/envs/eval/lib/python3.10/site-packages/prismatic/models/backbones/llm/base_llm.py\" target=\"_blank\"><span style=\"color: #7f7f7f; text-decoration-color: #7f7f7f\">base_llm.py</span></a><span style=\"color: #7f7f7f; text-decoration-color: #7f7f7f\">:</span><a href=\"file:///localdisk/ssrivas9/miniconda3/envs/eval/lib/python3.10/site-packages/prismatic/models/backbones/llm/base_llm.py#245\" target=\"_blank\"><span style=\"color: #7f7f7f; text-decoration-color: #7f7f7f\">245</span></a>\n",
       "</pre>\n"
      ],
      "text/plain": [
       "\u001b[2;36m11/05 [01:14:35]\u001b[0m\u001b[2;36m \u001b[0m\u001b[34mINFO    \u001b[0m | >>     |=> Loading \u001b[1mpythia\u001b[0m \u001b[1m(\u001b[0mFast\u001b[1m)\u001b[0m Tokenizer via the AutoTokenizer API    \u001b]8;id=774722;file:///localdisk/ssrivas9/miniconda3/envs/eval/lib/python3.10/site-packages/prismatic/models/backbones/llm/base_llm.py\u001b\\\u001b[2mbase_llm.py\u001b[0m\u001b]8;;\u001b\\\u001b[2m:\u001b[0m\u001b]8;id=10323;file:///localdisk/ssrivas9/miniconda3/envs/eval/lib/python3.10/site-packages/prismatic/models/backbones/llm/base_llm.py#245\u001b\\\u001b[2m245\u001b[0m\u001b]8;;\u001b\\\n"
      ]
     },
     "metadata": {},
     "output_type": "display_data"
    },
    {
     "name": "stderr",
     "output_type": "stream",
     "text": [
      "Special tokens have been added in the vocabulary, make sure the associated word embeddings are fine-tuned or trained.\n"
     ]
    },
    {
     "data": {
      "text/html": [
       "<pre style=\"white-space:pre;overflow-x:auto;line-height:normal;font-family:Menlo,'DejaVu Sans Mono',consolas,'Courier New',monospace\"><span style=\"color: #7fbfbf; text-decoration-color: #7fbfbf\">                 </span><span style=\"color: #000080; text-decoration-color: #000080\">INFO    </span> | &gt;&gt; <span style=\"font-weight: bold\">[</span>*<span style=\"font-weight: bold\">]</span> Loading VLM <span style=\"color: #000080; text-decoration-color: #000080; font-weight: bold\">stage0-pythia+410m</span> from Checkpoint; Freezing Weights 🥶  <a href=\"file:///localdisk/ssrivas9/miniconda3/envs/eval/lib/python3.10/site-packages/prismatic/models/load.py\" target=\"_blank\"><span style=\"color: #7f7f7f; text-decoration-color: #7f7f7f\">load.py</span></a><span style=\"color: #7f7f7f; text-decoration-color: #7f7f7f\">:</span><a href=\"file:///localdisk/ssrivas9/miniconda3/envs/eval/lib/python3.10/site-packages/prismatic/models/load.py#113\" target=\"_blank\"><span style=\"color: #7f7f7f; text-decoration-color: #7f7f7f\">113</span></a>\n",
       "</pre>\n"
      ],
      "text/plain": [
       "\u001b[2;36m                \u001b[0m\u001b[2;36m \u001b[0m\u001b[34mINFO    \u001b[0m | >> \u001b[1m[\u001b[0m*\u001b[1m]\u001b[0m Loading VLM \u001b[1;34mstage0-pythia+410m\u001b[0m from Checkpoint; Freezing Weights 🥶  \u001b]8;id=97326;file:///localdisk/ssrivas9/miniconda3/envs/eval/lib/python3.10/site-packages/prismatic/models/load.py\u001b\\\u001b[2mload.py\u001b[0m\u001b]8;;\u001b\\\u001b[2m:\u001b[0m\u001b]8;id=68170;file:///localdisk/ssrivas9/miniconda3/envs/eval/lib/python3.10/site-packages/prismatic/models/load.py#113\u001b\\\u001b[2m113\u001b[0m\u001b]8;;\u001b\\\n"
      ]
     },
     "metadata": {},
     "output_type": "display_data"
    },
    {
     "data": {
      "text/html": [
       "<pre style=\"white-space:pre;overflow-x:auto;line-height:normal;font-family:Menlo,'DejaVu Sans Mono',consolas,'Courier New',monospace\"><span style=\"color: #7fbfbf; text-decoration-color: #7fbfbf\">                 </span><span style=\"color: #000080; text-decoration-color: #000080\">INFO    </span> | &gt;&gt; <span style=\"font-weight: bold\">[</span>*<span style=\"font-weight: bold\">]</span> Dimensions of Projector:                                         <a href=\"file:///localdisk/ssrivas9/miniconda3/envs/eval/lib/python3.10/site-packages/prismatic/models/vlms/prismatic.py\" target=\"_blank\"><span style=\"color: #7f7f7f; text-decoration-color: #7f7f7f\">prismatic.py</span></a><span style=\"color: #7f7f7f; text-decoration-color: #7f7f7f\">:</span><a href=\"file:///localdisk/ssrivas9/miniconda3/envs/eval/lib/python3.10/site-packages/prismatic/models/vlms/prismatic.py#70\" target=\"_blank\"><span style=\"color: #7f7f7f; text-decoration-color: #7f7f7f\">70</span></a>\n",
       "<span style=\"color: #7fbfbf; text-decoration-color: #7fbfbf\">                 </span>          vision_dim: <span style=\"color: #008080; text-decoration-color: #008080; font-weight: bold\">1024</span>, llm_dim: <span style=\"color: #008080; text-decoration-color: #008080; font-weight: bold\">1024</span>                                          <span style=\"color: #7f7f7f; text-decoration-color: #7f7f7f\">               </span>\n",
       "</pre>\n"
      ],
      "text/plain": [
       "\u001b[2;36m                \u001b[0m\u001b[2;36m \u001b[0m\u001b[34mINFO    \u001b[0m | >> \u001b[1m[\u001b[0m*\u001b[1m]\u001b[0m Dimensions of Projector:                                         \u001b]8;id=967058;file:///localdisk/ssrivas9/miniconda3/envs/eval/lib/python3.10/site-packages/prismatic/models/vlms/prismatic.py\u001b\\\u001b[2mprismatic.py\u001b[0m\u001b]8;;\u001b\\\u001b[2m:\u001b[0m\u001b]8;id=832171;file:///localdisk/ssrivas9/miniconda3/envs/eval/lib/python3.10/site-packages/prismatic/models/vlms/prismatic.py#70\u001b\\\u001b[2m70\u001b[0m\u001b]8;;\u001b\\\n",
       "\u001b[2;36m                 \u001b[0m          vision_dim: \u001b[1;36m1024\u001b[0m, llm_dim: \u001b[1;36m1024\u001b[0m                                          \u001b[2m               \u001b[0m\n"
      ]
     },
     "metadata": {},
     "output_type": "display_data"
    },
    {
     "data": {
      "text/html": [
       "<pre style=\"white-space:pre;overflow-x:auto;line-height:normal;font-family:Menlo,'DejaVu Sans Mono',consolas,'Courier New',monospace\"><span style=\"color: #7fbfbf; text-decoration-color: #7fbfbf\">                 </span><span style=\"color: #000080; text-decoration-color: #000080\">INFO    </span> | &gt;&gt; <span style=\"font-weight: bold\">[</span>*<span style=\"font-weight: bold\">]</span> Total Parameters: <span style=\"color: #008080; text-decoration-color: #008080; font-weight: bold\">2097152</span>                                        <a href=\"file:///localdisk/ssrivas9/miniconda3/envs/eval/lib/python3.10/site-packages/prismatic/models/vlms/prismatic.py\" target=\"_blank\"><span style=\"color: #7f7f7f; text-decoration-color: #7f7f7f\">prismatic.py</span></a><span style=\"color: #7f7f7f; text-decoration-color: #7f7f7f\">:</span><a href=\"file:///localdisk/ssrivas9/miniconda3/envs/eval/lib/python3.10/site-packages/prismatic/models/vlms/prismatic.py#71\" target=\"_blank\"><span style=\"color: #7f7f7f; text-decoration-color: #7f7f7f\">71</span></a>\n",
       "</pre>\n"
      ],
      "text/plain": [
       "\u001b[2;36m                \u001b[0m\u001b[2;36m \u001b[0m\u001b[34mINFO    \u001b[0m | >> \u001b[1m[\u001b[0m*\u001b[1m]\u001b[0m Total Parameters: \u001b[1;36m2097152\u001b[0m                                        \u001b]8;id=597135;file:///localdisk/ssrivas9/miniconda3/envs/eval/lib/python3.10/site-packages/prismatic/models/vlms/prismatic.py\u001b\\\u001b[2mprismatic.py\u001b[0m\u001b]8;;\u001b\\\u001b[2m:\u001b[0m\u001b]8;id=436718;file:///localdisk/ssrivas9/miniconda3/envs/eval/lib/python3.10/site-packages/prismatic/models/vlms/prismatic.py#71\u001b\\\u001b[2m71\u001b[0m\u001b]8;;\u001b\\\n"
      ]
     },
     "metadata": {},
     "output_type": "display_data"
    },
    {
     "data": {
      "text/html": [
       "<pre style=\"white-space:pre;overflow-x:auto;line-height:normal;font-family:Menlo,'DejaVu Sans Mono',consolas,'Courier New',monospace\"><span style=\"color: #7fbfbf; text-decoration-color: #7fbfbf\">                 </span><span style=\"color: #800000; text-decoration-color: #800000; font-weight: bold\">ERROR   </span> | &gt;&gt;     |=&gt; Loading only `projector` from checkpoint                    <a href=\"file:///localdisk/ssrivas9/miniconda3/envs/eval/lib/python3.10/site-packages/prismatic/models/vlms/prismatic.py\" target=\"_blank\"><span style=\"color: #7f7f7f; text-decoration-color: #7f7f7f\">prismatic.py</span></a><span style=\"color: #7f7f7f; text-decoration-color: #7f7f7f\">:</span><a href=\"file:///localdisk/ssrivas9/miniconda3/envs/eval/lib/python3.10/site-packages/prismatic/models/vlms/prismatic.py#132\" target=\"_blank\"><span style=\"color: #7f7f7f; text-decoration-color: #7f7f7f\">132</span></a>\n",
       "</pre>\n"
      ],
      "text/plain": [
       "\u001b[2;36m                \u001b[0m\u001b[2;36m \u001b[0m\u001b[1;31mERROR   \u001b[0m | >>     |=> Loading only `projector` from checkpoint                    \u001b]8;id=13169;file:///localdisk/ssrivas9/miniconda3/envs/eval/lib/python3.10/site-packages/prismatic/models/vlms/prismatic.py\u001b\\\u001b[2mprismatic.py\u001b[0m\u001b]8;;\u001b\\\u001b[2m:\u001b[0m\u001b]8;id=497204;file:///localdisk/ssrivas9/miniconda3/envs/eval/lib/python3.10/site-packages/prismatic/models/vlms/prismatic.py#132\u001b\\\u001b[2m132\u001b[0m\u001b]8;;\u001b\\\n"
      ]
     },
     "metadata": {},
     "output_type": "display_data"
    },
    {
     "name": "stdout",
     "output_type": "stream",
     "text": [
      "loaded prismatic prism-clip+7b\n"
     ]
    }
   ],
   "source": [
    "import os\n",
    "from dataclasses import dataclass, field\n",
    "from pathlib import Path\n",
    "from typing import Union, Optional\n",
    "\n",
    "import draccus\n",
    "from accelerate.utils import set_seed\n",
    "\n",
    "from vlm_eval.conf import DatasetConfig, DatasetRegistry\n",
    "from vlm_eval.models import load_vlm\n",
    "from vlm_eval.overwatch import initialize_overwatch\n",
    "from vlm_eval.tasks import get_task_runner\n",
    "\n",
    "RUN_DIR = '/localdisk/ssrivas9/prismatic-vlms/runs/reproduction-align-pythia+410m' #'/localdisk/ssrivas9/prismatic-vlms/runs/stage-final-llava-v15-pythia+2p8b'\n",
    "hf_token = None\n",
    "vlm = load_vlm('prismatic', 'prism-clip+7b', RUN_DIR, hf_token=hf_token)\n"
   ]
  },
  {
   "cell_type": "code",
   "execution_count": 2,
   "metadata": {},
   "outputs": [
    {
     "data": {
      "text/plain": [
       "{'do_sample': False, 'max_new_tokens': 128, 'temperature': 1.0}"
      ]
     },
     "execution_count": 2,
     "metadata": {},
     "output_type": "execute_result"
    }
   ],
   "source": [
    "#vlm.model.projector, vlm.model.llm_backbone, vlm.model.vision_backbone\n",
    "vlm.generate_kwargs"
   ]
  },
  {
   "cell_type": "code",
   "execution_count": 3,
   "metadata": {},
   "outputs": [
    {
     "name": "stdout",
     "output_type": "stream",
     "text": [
      "<|endoftext|>A chat between a curious user and an artificial intelligence assistant. The assistant gives helpful, detailed, and polite answers to the user's questions. USER: What is the color of the sky?\n",
      "Answer the question using a single word or phrase. ASSISTANT:\n"
     ]
    }
   ],
   "source": [
    "print(vlm.get_prompt_fn('vqa-v2')('What is the color of the sky?'))"
   ]
  },
  {
   "cell_type": "code",
   "execution_count": 4,
   "metadata": {},
   "outputs": [],
   "source": [
    "from pathlib import Path\n",
    "from typing import Any, Callable, List, Optional, Tuple, Union\n",
    "\n",
    "import torch\n",
    "import torch.nn as nn\n",
    "from accelerate import PartialState\n",
    "from PIL.Image import Image\n",
    "from prismatic import load\n",
    "\n",
    "from vlm_eval.util.interfaces import VLM, ImageProcessor, Tokenizer\n",
    "def process_input(image: Image, prompt_text: str, **kwargs: str) -> str:\n",
    "    # For now, only support generation with a batch size of 1 for simplicity\n",
    "    # Prepare Inputs\n",
    "    input_ids = tokenizer(prompt_text, truncation=True, return_tensors=\"pt\").input_ids.to(self.device)\n",
    "    pixel_values = image_transform(image)\n",
    "    if isinstance(pixel_values, torch.Tensor):\n",
    "        pixel_values = pixel_values[None, ...].to(self.device)\n",
    "    elif isinstance(pixel_values, dict):\n",
    "        pixel_values = {k: v[None, ...].to(self.device) for k, v in pixel_values.items()}\n",
    "    else:\n",
    "        raise ValueError(f\"Unsupported `pixel_values` type = {type(pixel_values)}\")\n",
    "\n",
    "    return input_ids, pixel_values\n",
    "    # # Invoke super().generate --> taps into `GenerationMixin` which (redirects) to `forward()`\n",
    "    # autocast_dtype = self.llm_backbone.half_precision_dtype\n",
    "    # with torch.autocast(\"cuda\", dtype=autocast_dtype, enabled=self.enable_mixed_precision_training):\n",
    "    #     # fmt: off\n",
    "    #     generated_ids = super().generate(\n",
    "    #         input_ids=input_ids,            # Shape: [1, seq]\n",
    "    #         pixel_values=pixel_values,      # Shape: [1, 3, res, res] or Dict[str, Shape[1, 3, res, res]]\n",
    "    #         **kwargs\n",
    "    #     )\n",
    "    #     # fmt: on\n",
    "\n",
    "    # generated_text = tokenizer.decode(generated_ids[0, input_ids.shape[1] :], skip_special_tokens=True).strip()\n",
    "\n",
    "    # return generated_text"
   ]
  },
  {
   "cell_type": "code",
   "execution_count": 4,
   "metadata": {},
   "outputs": [],
   "source": [
    "from prismatic.models import get_llm_backbone_and_tokenizer, get_vision_backbone_and_transform, get_vlm\n",
    "from prismatic.overwatch import initialize_overwatch\n",
    "from prismatic.preprocessing import get_dataset_and_collator\n",
    "\n",
    "# vision_backbone, image_transform = get_vision_backbone_and_transform(\n",
    "#         \"clip-vit-l-336px\", image_resize_strategy=\"letterbox\"\n",
    "#     )\n",
    "# Change directory to '/localdisk/ssrivas9/prismatic-vlms'\n",
    "import os\n",
    "os.chdir('/localdisk/ssrivas9/prismatic-vlms')\n",
    "tokenizer, image_transform = vlm.model.llm_backbone.tokenizer, vlm.model.vision_backbone.image_transform\n",
    "\n",
    "from prismatic.conf import DatasetConfig, DatasetRegistry, ModelConfig, ModelRegistry\n",
    "dataset_cfg: DatasetConfig = DatasetConfig.get_choice_class('llava-v15')\n",
    "\n",
    "train_dataset, collator = get_dataset_and_collator(\n",
    "        'finetune',\n",
    "        dataset_cfg,\n",
    "        image_transform,\n",
    "        tokenizer,\n",
    "        prompt_builder_fn=vlm.model.llm_backbone.prompt_builder_fn,\n",
    "        default_image_resolution=vlm.model.vision_backbone.default_image_resolution,\n",
    "        padding_side=tokenizer.padding_side,\n",
    "    )\n",
    "\n",
    "from prismatic.util.batching_utils import SplitModalitySampler\n",
    "\n",
    "modality_lengths = train_dataset.get_modality_lengths()\n",
    "sampler = SplitModalitySampler(\n",
    "        train_dataset,\n",
    "        modality_lengths,\n",
    "        global_batch_size=6,\n",
    "        num_replicas=1,\n",
    "        rank=0,\n",
    "        seed=123,\n",
    "        drop_last=False,\n",
    "    )"
   ]
  },
  {
   "cell_type": "code",
   "execution_count": 5,
   "metadata": {},
   "outputs": [],
   "source": [
    "from torch.utils.data import DataLoader, Dataset, DistributedSampler\n",
    "\n",
    "dataloader = DataLoader(\n",
    "        train_dataset,\n",
    "        batch_size=16,\n",
    "        sampler=sampler,\n",
    "        collate_fn=collator,\n",
    "        num_workers=12,\n",
    "        worker_init_fn=None,\n",
    "    )"
   ]
  },
  {
   "cell_type": "code",
   "execution_count": null,
   "metadata": {},
   "outputs": [],
   "source": [
    "import itertools\n",
    "\n",
    "# Set the desired batch index\n",
    "target_batch_idx = 190 * 128 # Given batch size of 128, this will skip to the 225th batch\n",
    "# Examples: 1, 100, \n",
    "# Create an iterator over the dataloader\n",
    "data_iter = iter(dataloader)\n",
    "\n",
    "# Use itertools.islice to skip to the desired batch\n",
    "batch = next(itertools.islice(data_iter, target_batch_idx, None))\n",
    "\n",
    "# Extract the data from the batch\n",
    "pixel_values, input_ids, attention_mask, labels = batch['pixel_values'], batch['input_ids'], batch['attention_mask'], batch['labels']"
   ]
  },
  {
   "cell_type": "code",
   "execution_count": 11,
   "metadata": {},
   "outputs": [
    {
     "name": "stdout",
     "output_type": "stream",
     "text": [
      "Input: <|endoftext|>A chat between a curious user and an artificial intelligence assistant. The assistant gives helpful, detailed, and polite answers to the user's questions. USER: Is this person alone?\n",
      "Answer the question using a single word or phrase. ASSISTANT: No<|endoftext|>USER: Is the man smiling? ASSISTANT: Yes<|endoftext|>USER: Is this man writing? ASSISTANT: No<|endoftext|>USER: Who seems more happier? ASSISTANT: Men<|endoftext|>USER: How many people in this photo appear to be holding gaming controllers? ASSISTANT: 2<|endoftext|>USER: What is on the man's wrist? ASSISTANT: Watch<|endoftext|>USER: What is in the guys hand? ASSISTANT: Wii remote<|endoftext|>USER: Are they inside? ASSISTANT: Yes<|endoftext|>USER: What color is his hair? ASSISTANT: Gray<|endoftext|>USER: What part of this man's outfit is missing? ASSISTANT: Shirt<|endoftext|>USER: Is this a test waiting room? ASSISTANT: No<|endoftext|>USER: Is the man wearing a tie? ASSISTANT: No<|endoftext|>USER: What is the person in white t-shirt holding? ASSISTANT: Wii remote<|endoftext|>USER: What kind of electronic device is the man using? ASSISTANT: Wii<|endoftext|>USER: Is anyone else in the room with the man? ASSISTANT: Yes<|endoftext|>USER: What color is the old man's shirt? ASSISTANT: White<|endoftext|>USER: Where are the boys sitting? ASSISTANT: Nowhere<|endoftext|>USER: What does the man's shirt say? ASSISTANT: Nothing<|endoftext|>USER: Is this an old person? ASSISTANT: Yes<|endoftext|>USER: Is it around holiday times in this picture? ASSISTANT: No<|endoftext|>USER: What are the men looking at? ASSISTANT: Tv<|endoftext|>USER: Why is this man shirtless? ASSISTANT: He isn't<|endoftext|>USER: What is the woman playing? ASSISTANT: Wii<|endoftext|>USER: What is on the man's right arm? ASSISTANT: Wii controller<|endoftext|>USER: What game is being played by the gentlemen? ASSISTANT: Wii<|endoftext|>USER: Is this man wearing a black shirt? ASSISTANT: No<|endoftext|>USER: How many people are in the pic? ASSISTANT: 4<|endoftext|>USER: What sort of room are they in? ASSISTANT: Living room<|endoftext|>USER: What room of the house does this item belong in? ASSISTANT: Living room<|endoftext|>USER: What are both men holding? ASSISTANT: Wii remotes<|endoftext|>USER: Is this man a parent? ASSISTANT: Yes<|endoftext|>USER: What are the men holding in their hands? ASSISTANT: Wii remote<|endoftext|>USER: What are both men wearing on their heads? ASSISTANT: Glasses<|endoftext|>USER: Do you think this adult woman is sitting on a chair? ASSISTANT: No<|endoftext|>USER: How many males are seen in the photo? ASSISTANT: 2<|endoftext|>USER: What are the guys standing around? ASSISTANT: Asian<|endoftext|>USER: How many people are wearing hats? ASSISTANT: 0<|endoftext|>USER: Are they intoxicated? ASSISTANT: No<|endoftext|>USER: Are the people in the background real? ASSISTANT: Yes<|endoftext|>USER: Is there any fruit in the picture? ASSISTANT: No<|endoftext|>USER: What are they standing on? ASSISTANT: Floor<|endoftext|>USER: Does the man in the background have facial hair? ASSISTANT: No<|endoftext|>USER: How many people in the photo? ASSISTANT: 4<|endoftext|>USER: What is the ethnicity of these people? ASSISTANT: Asian<|endoftext|>USER: How many people are wearing glasses? ASSISTANT: 4<|endoftext|>USER: How many people are in this family? ASSISTANT: 4<|endoftext|>USER: Is this man wearing a tie? ASSISTANT: No<|endoftext|>USER: Is everyone's face visible? ASSISTANT: Yes<|endoftext|>USER: Are the people cooking? ASSISTANT: No<|endoftext|>USER: Did the man shave? ASSISTANT: Yes<|endoftext|>USER: How many people are there? ASSISTANT: 4<|endoftext|>USER: What is the man wearing on his face? ASSISTANT: Glasses<|endoftext|>USER: How many pairs of glasses are in the scene? ASSISTANT: 4<|endoftext|>USER: Does he have gray hair? ASSISTANT: Yes<|endoftext|>USER: Are the people in this image of the same nationality? ASSISTANT: Yes<|endoftext|>USER: Is there a person laying on the floor? ASSISTANT: No<|endoftext|>USER: What is the man doing? ASSISTANT: Playing wii<|endoftext|>USER: What is the wall behind him made of? ASSISTANT: Drywall<|endoftext|>USER: Is this person wearing protective gear? ASSISTANT: No<|endoftext|>USER: How many people are standing in the background? ASSISTANT: 2<|endoftext|>USER: What time of day is it? ASSISTANT: Evening<|endoftext|>USER: What is the gender of the person in a sleeveless shirt? ASSISTANT: Male<|endoftext|>USER: Is someone wearing a red shirt? ASSISTANT: No<|endoftext|>USER: How many women are in the room? ASSISTANT: 1<|endoftext|>USER: Is the man sad? ASSISTANT: No<|endoftext|>USER: What is the bent over man doing? ASSISTANT: Playing<|endoftext|>USER: Does everyone have hair? ASSISTANT: Yes<|endoftext|>USER: What type of jewelry does he wear? ASSISTANT: Watch<|endoftext|>USER: How many men wearing eyeglasses? ASSISTANT: 2<|endoftext|>USER: Is the door open? ASSISTANT: No<|endoftext|>USER: Are they indoors? ASSISTANT: Yes<|endoftext|>USER: How is the man holding his arms? ASSISTANT: Wii controller<|endoftext|>USER: What are these people wearing on their faces? ASSISTANT: Glasses<|endoftext|>USER: What color are the poles? ASSISTANT: White<|endoftext|>USER: Is the person traveling? ASSISTANT: No<|endoftext|>USER: Who is wearing glasses? ASSISTANT: Everyone<|endoftext|>USER: What are both men holding in their hands? ASSISTANT: Wii remotes<|endoftext|>USER: What does the woman have on her face? ASSISTANT: Glasses<|endoftext|>USER: How many men are in the picture? ASSISTANT: 2<|endoftext|>USER: What is the man holding? ASSISTANT: Wii remote<|endoftext|>USER: What color shirts are these 2 people wearing? ASSISTANT: White<|endoftext|>USER: What color is the boys bracelet? ASSISTANT: White<|endoftext|>USER: Is it windy? ASSISTANT: No<|endoftext|>USER: How many people are there in the picture? ASSISTANT: 4<|endoftext|>USER: What is the guy in the white shirt doing? ASSISTANT: Playing wii<|endoftext|>USER: What objects are the men holding? ASSISTANT: Wii controllers<|endoftext|>USER: How many parking meters can be seen? ASSISTANT: 0<|endoftext|>USER: How many people can be seen? ASSISTANT: 4<|endoftext|>USER: Could there be a beer bottle? ASSISTANT: No<|endoftext|>USER: What are the men doing? ASSISTANT: Playing wii<|endoftext|>USER: What is this guy doing? ASSISTANT: Playing wii<|endoftext|>USER: How many people are in the picture? ASSISTANT: 4<|endoftext|>USER: Is the man dressed formally? ASSISTANT: No<|endoftext|>USER: Does this person appear to need a cane due to old age? ASSISTANT: No<|endoftext|>USER: What's on the woman's head? ASSISTANT: Hair<|endoftext|>USER: Are the men related? ASSISTANT: Yes<|endoftext|>USER: Is there a grocery store visible here? ASSISTANT: No<|endoftext|>USER: What is he on? ASSISTANT: Floor<|endoftext|>USER: Where might this photo have been taken? ASSISTANT: Living room<|endoftext|>USER: Is the man waiting for his luggage? ASSISTANT: No<|endoftext|>USER: Is the man bald head? ASSISTANT: No<|endoftext|>USER: Is he indoors or outdoors? ASSISTANT: Indoors<|endoftext|>USER: Is this on a boat? ASSISTANT: No<|endoftext|>USER: What is he holding? ASSISTANT: Wii remote<|endoftext|>USER: What is the man leaning on? ASSISTANT: Couch<|endoftext|>USER: Who is playing Wii? ASSISTANT: Men<|endoftext|>USER: What's in the man's right hand? ASSISTANT: Remote<|endoftext|>USER: What is on the man's face? ASSISTANT: Glasses<|endoftext|>USER: Are these men friendly? ASSISTANT: Yes<|endoftext|>USER: Are either of them holding iPhones? ASSISTANT: No<|endoftext|>USER: How many girls are there? ASSISTANT: 2<|endoftext|>USER: What is the third person in the line have around their arm? ASSISTANT: Controller<|endoftext|>USER: What is above the young man's head? ASSISTANT: Ceiling<|endoftext|>USER: Could he break his neck? ASSISTANT: No<|endoftext|>USER: Are they playing Xbox? ASSISTANT: No<|endoftext|>USER: Do they both wear glasses? ASSISTANT: Yes<|endoftext|>USER: What is behind the older man in the scene? ASSISTANT: Laptop<|endoftext|>USER: What is the man holding in his right hand? ASSISTANT: Wii remote<|endoftext|>A chat between a curious user and an artificial intelligence assistant. The assistant gives helpful, detailed, and polite answers to the user's questions. USER: What precautions should drivers take in this scenario? ASSISTANT: In this snowy nighttime scene, drivers should take extra precautions to ensure safe driving. The snowy conditions can reduce visibility, make the roads slippery, and potentially lead to accidents. Key precautions for drivers in this scenario include:\n",
      "\n",
      "1. Slowing down and maintaining a safe distance from other vehicles, as stopping distances increase in slippery conditions.\n",
      "2. Paying close attention to road signs, such as the red stop sign at the intersection with the word \"3 way\" written underneath it - this indicates a three-way intersection where vehicles from three different directions come together, requiring extra caution from drivers.\n",
      "3. Ensuring their headlights are functioning and switched on to improve visibility, both for the driver and for other road users.\n",
      "4. Being aware of hidden hazards, such as obscured fire hydrants, which might not be visible due to snow accumulation or darkness.\n",
      "5. Remaining vigilant for pedestrians, cyclists, or other vehicles that might be moving around in the area, even if their presence is not immediately apparent.\n",
      "6. Have the car properly prepared for winter conditions, including having snow tires or chains, a windshield scraper, and a winter emergency kit with essential items such as blankets, water, snacks, and a flashlight.\n",
      "\n",
      "Adopting these precautions can help drivers navigate winter night conditions safely and reduce the risk of accidents.<|endoftext|><|pad|><|pad|><|pad|><|pad|><|pad|><|pad|><|pad|><|pad|><|pad|><|pad|><|pad|><|pad|><|pad|><|pad|><|pad|><|pad|><|pad|><|pad|><|pad|><|pad|><|pad|><|pad|><|pad|><|pad|><|pad|><|pad|><|pad|><|pad|><|pad|><|pad|><|pad|><|pad|><|pad|><|pad|><|pad|><|pad|><|pad|><|pad|><|pad|><|pad|><|pad|><|pad|><|pad|><|pad|><|pad|><|pad|><|pad|><|pad|><|pad|><|pad|><|pad|><|pad|><|pad|><|pad|><|pad|><|pad|><|pad|><|pad|><|pad|><|pad|><|pad|><|pad|><|pad|><|pad|><|pad|><|pad|><|pad|><|pad|><|pad|><|pad|><|pad|><|pad|><|pad|><|pad|><|pad|><|pad|><|pad|><|pad|><|pad|><|pad|><|pad|><|pad|><|pad|><|pad|><|pad|><|pad|><|pad|><|pad|><|pad|><|pad|><|pad|><|pad|><|pad|><|pad|><|pad|><|pad|><|pad|><|pad|><|pad|><|pad|><|pad|><|pad|><|pad|><|pad|><|pad|><|pad|><|pad|><|pad|><|pad|><|pad|><|pad|><|pad|><|pad|><|pad|><|pad|><|pad|><|pad|><|pad|><|pad|><|pad|><|pad|><|pad|><|pad|><|pad|><|pad|><|pad|><|pad|><|pad|><|pad|><|pad|><|pad|><|pad|><|pad|><|pad|><|pad|><|pad|><|pad|><|pad|><|pad|><|pad|><|pad|><|pad|><|pad|><|pad|><|pad|><|pad|><|pad|><|pad|><|pad|><|pad|><|pad|><|pad|><|pad|><|pad|><|pad|><|pad|><|pad|><|pad|><|pad|><|pad|><|pad|><|pad|><|pad|><|pad|><|pad|><|pad|><|pad|><|pad|><|pad|><|pad|><|pad|><|pad|><|pad|><|pad|><|pad|><|pad|><|pad|><|pad|><|pad|><|pad|><|pad|><|pad|><|pad|><|pad|><|pad|><|pad|><|pad|><|pad|><|pad|><|pad|><|pad|><|pad|><|pad|><|pad|><|pad|><|pad|><|pad|><|pad|><|pad|><|pad|><|pad|><|pad|><|pad|><|pad|><|pad|><|pad|><|pad|><|pad|><|pad|><|pad|><|pad|><|pad|><|pad|><|pad|><|pad|><|pad|><|pad|><|pad|><|pad|><|pad|><|pad|><|pad|><|pad|><|pad|><|pad|><|pad|><|pad|><|pad|><|pad|><|pad|><|pad|><|pad|><|pad|><|pad|><|pad|><|pad|><|pad|><|pad|><|pad|><|pad|><|pad|><|pad|><|pad|><|pad|><|pad|><|pad|><|pad|><|pad|><|pad|><|pad|><|pad|><|pad|><|pad|><|pad|><|pad|><|pad|><|pad|><|pad|><|pad|><|pad|><|pad|><|pad|><|pad|><|pad|><|pad|><|pad|><|pad|><|pad|><|pad|><|pad|><|pad|><|pad|><|pad|><|pad|><|pad|><|pad|><|pad|><|pad|><|pad|><|pad|><|pad|><|pad|><|pad|><|pad|><|pad|><|pad|><|pad|><|pad|><|pad|><|pad|><|pad|><|pad|><|pad|><|pad|><|pad|><|pad|><|pad|><|pad|><|pad|><|pad|><|pad|><|pad|><|pad|><|pad|><|pad|><|pad|><|pad|><|pad|><|pad|><|pad|><|pad|><|pad|><|pad|><|pad|><|pad|><|pad|><|pad|><|pad|><|pad|><|pad|><|pad|><|pad|><|pad|><|pad|><|pad|><|pad|><|pad|><|pad|><|pad|><|pad|><|pad|><|pad|><|pad|><|pad|><|pad|><|pad|><|pad|><|pad|><|pad|><|pad|><|pad|><|pad|><|pad|><|pad|><|pad|><|pad|><|pad|><|pad|><|pad|><|pad|><|pad|><|pad|><|pad|><|pad|><|pad|><|pad|><|pad|><|pad|><|pad|><|pad|><|pad|><|pad|><|pad|><|pad|><|pad|><|pad|><|pad|><|pad|><|pad|><|pad|><|pad|><|pad|><|pad|><|pad|><|pad|><|pad|><|pad|><|pad|><|pad|><|pad|><|pad|><|pad|><|pad|><|pad|><|pad|><|pad|><|pad|><|pad|><|pad|><|pad|><|pad|><|pad|><|pad|><|pad|><|pad|><|pad|><|pad|><|pad|><|pad|><|pad|><|pad|><|pad|><|pad|><|pad|><|pad|><|pad|><|pad|><|pad|><|pad|><|pad|><|pad|><|pad|><|pad|><|pad|><|pad|><|pad|><|pad|><|pad|><|pad|><|pad|><|pad|><|pad|><|pad|><|pad|><|pad|><|pad|><|pad|><|pad|><|pad|><|pad|><|pad|><|pad|><|pad|><|pad|><|pad|><|pad|><|pad|><|pad|><|pad|><|pad|><|pad|><|pad|><|pad|><|pad|><|pad|><|pad|><|pad|><|pad|><|pad|><|pad|><|pad|><|pad|><|pad|><|pad|><|pad|><|pad|><|pad|><|pad|><|pad|><|pad|><|pad|><|pad|><|pad|><|pad|><|pad|><|pad|><|pad|><|pad|><|pad|><|pad|><|pad|><|pad|><|pad|><|pad|><|pad|><|pad|><|pad|><|pad|><|pad|><|pad|><|pad|><|pad|><|pad|><|pad|><|pad|><|pad|><|pad|><|pad|><|pad|><|pad|><|pad|><|pad|><|pad|><|pad|><|pad|><|pad|><|pad|><|pad|><|pad|><|pad|><|pad|><|pad|><|pad|><|pad|><|pad|><|pad|><|pad|><|pad|><|pad|><|pad|><|pad|><|pad|><|pad|><|pad|><|pad|><|pad|><|pad|><|pad|><|pad|><|pad|><|pad|><|pad|><|pad|><|pad|><|pad|><|pad|><|pad|><|pad|><|pad|><|pad|><|pad|><|pad|><|pad|><|pad|><|pad|><|pad|><|pad|><|pad|><|pad|><|pad|><|pad|><|pad|><|pad|><|pad|><|pad|><|pad|><|pad|><|pad|><|pad|><|pad|><|pad|><|pad|><|pad|><|pad|><|pad|><|pad|><|pad|><|pad|><|pad|><|pad|><|pad|><|pad|><|pad|><|pad|><|pad|><|pad|><|pad|><|pad|><|pad|><|pad|><|pad|><|pad|><|pad|><|pad|><|pad|><|pad|><|pad|><|pad|><|pad|><|pad|><|pad|><|pad|><|pad|><|pad|><|pad|><|pad|><|pad|><|pad|><|pad|><|pad|><|pad|><|pad|><|pad|><|pad|><|pad|><|pad|><|pad|><|pad|><|pad|><|pad|><|pad|><|pad|><|pad|><|pad|><|pad|><|pad|><|pad|><|pad|><|pad|><|pad|><|pad|><|pad|><|pad|><|pad|><|pad|><|pad|><|pad|><|pad|><|pad|><|pad|><|pad|><|pad|><|pad|><|pad|><|pad|><|pad|><|pad|><|pad|><|pad|><|pad|><|pad|><|pad|><|pad|><|pad|><|pad|><|pad|><|pad|><|pad|><|pad|><|pad|><|pad|><|pad|><|pad|><|pad|><|pad|><|pad|><|pad|><|pad|><|pad|><|pad|><|pad|><|pad|><|pad|><|pad|><|pad|><|pad|><|pad|><|pad|><|pad|><|pad|><|pad|><|pad|><|pad|><|pad|><|pad|><|pad|><|pad|><|pad|><|pad|><|pad|><|pad|><|pad|><|pad|><|pad|><|pad|><|pad|><|pad|><|pad|><|pad|><|pad|><|pad|><|pad|><|pad|><|pad|><|pad|><|pad|><|pad|><|pad|><|pad|><|pad|><|pad|><|pad|><|pad|><|pad|><|pad|><|pad|><|pad|><|pad|><|pad|><|pad|><|pad|><|pad|><|pad|><|pad|><|pad|><|pad|><|pad|><|pad|><|pad|><|pad|><|pad|><|pad|><|pad|><|pad|><|pad|><|pad|><|pad|><|pad|><|pad|><|pad|><|pad|><|pad|><|pad|><|pad|><|pad|><|pad|><|pad|><|pad|><|pad|><|pad|><|pad|><|pad|><|pad|><|pad|><|pad|><|pad|><|pad|><|pad|><|pad|><|pad|><|pad|><|pad|><|pad|><|pad|><|pad|><|pad|><|pad|><|pad|><|pad|><|pad|><|pad|><|pad|><|pad|><|pad|><|pad|><|pad|><|pad|><|pad|><|pad|><|pad|><|pad|><|pad|><|pad|><|pad|><|pad|><|pad|><|pad|><|pad|><|pad|><|pad|><|pad|><|pad|><|pad|><|pad|><|pad|><|pad|><|pad|><|pad|><|pad|><|pad|><|pad|><|pad|><|pad|><|pad|><|pad|><|pad|><|pad|><|pad|><|pad|><|pad|><|pad|><|pad|><|pad|><|pad|><|pad|><|pad|><|pad|><|pad|><|pad|><|pad|><|pad|><|pad|><|pad|><|pad|><|pad|><|pad|><|pad|><|pad|><|pad|><|pad|><|pad|><|pad|><|pad|><|pad|><|pad|><|pad|><|pad|><|pad|><|pad|><|pad|><|pad|><|pad|><|pad|><|pad|><|pad|><|pad|><|pad|><|pad|><|pad|><|pad|><|pad|><|pad|><|pad|><|pad|><|pad|><|pad|><|pad|><|pad|><|pad|><|pad|><|pad|><|pad|><|pad|><|pad|><|pad|><|pad|><|pad|><|pad|><|pad|><|pad|><|pad|><|pad|><|pad|><|pad|><|pad|><|pad|><|pad|><|pad|><|pad|><|pad|><|pad|><|pad|><|pad|><|pad|><|pad|><|pad|><|pad|><|pad|><|pad|><|pad|><|pad|><|pad|><|pad|><|pad|><|pad|><|pad|><|pad|><|pad|><|pad|><|pad|><|pad|><|pad|><|pad|><|pad|><|pad|><|pad|><|pad|><|pad|><|pad|><|pad|><|pad|><|pad|><|pad|><|pad|><|pad|><|pad|><|pad|><|pad|><|pad|><|pad|><|pad|><|pad|><|pad|><|pad|><|pad|><|pad|><|pad|><|pad|><|pad|><|pad|><|pad|><|pad|><|pad|><|pad|><|pad|><|pad|><|pad|><|pad|><|pad|><|pad|><|pad|><|pad|><|pad|><|pad|><|pad|><|pad|><|pad|><|pad|><|pad|><|pad|><|pad|><|pad|><|pad|><|pad|><|pad|><|pad|><|pad|><|pad|><|pad|><|pad|><|pad|><|pad|><|pad|><|pad|><|pad|><|pad|><|pad|><|pad|><|pad|><|pad|><|pad|><|pad|><|pad|><|pad|><|pad|><|pad|><|pad|><|pad|><|pad|><|pad|><|pad|><|pad|><|pad|><|pad|><|pad|><|pad|><|pad|><|pad|><|pad|><|pad|><|pad|><|pad|><|pad|><|pad|><|pad|><|pad|><|pad|><|pad|><|pad|><|pad|><|pad|><|pad|><|pad|><|pad|><|pad|><|pad|><|pad|><|pad|><|pad|><|pad|><|pad|><|pad|><|pad|><|pad|><|pad|><|pad|><|pad|><|pad|><|pad|><|pad|><|pad|><|pad|><|pad|><|pad|><|pad|><|pad|><|pad|><|pad|><|pad|><|pad|><|pad|><|pad|><|pad|><|pad|><|pad|><|pad|><|pad|><|pad|><|pad|><|pad|><|pad|><|pad|><|pad|><|pad|><|pad|><|pad|><|pad|><|pad|><|pad|><|pad|><|pad|><|pad|><|pad|><|pad|><|pad|><|pad|><|pad|><|pad|><|pad|><|pad|><|pad|><|pad|><|pad|><|pad|><|pad|><|pad|><|pad|><|pad|><|pad|><|pad|><|pad|><|pad|><|pad|><|pad|><|pad|><|pad|><|pad|><|pad|><|pad|><|pad|><|pad|><|pad|><|pad|><|pad|><|pad|><|pad|><|pad|><|pad|><|pad|><|pad|><|pad|><|pad|><|pad|><|pad|><|pad|><|pad|><|pad|><|pad|><|pad|><|pad|><|pad|><|pad|><|pad|><|pad|><|pad|><|pad|><|pad|><|pad|><|pad|><|pad|><|pad|><|pad|><|pad|><|pad|><|pad|><|pad|><|pad|><|pad|><|pad|><|pad|><|pad|><|pad|><|pad|><|pad|><|pad|><|pad|><|pad|><|pad|><|pad|><|pad|><|pad|><|pad|><|pad|><|pad|><|pad|><|pad|><|pad|><|pad|><|pad|><|pad|><|pad|><|pad|><|pad|><|pad|><|pad|><|pad|><|pad|><|pad|><|pad|><|pad|><|pad|><|pad|><|pad|><|pad|><|pad|><|pad|><|pad|><|pad|><|pad|><|pad|><|pad|><|pad|><|pad|><|pad|><|pad|><|pad|><|pad|><|pad|><|pad|><|pad|><|pad|><|pad|><|pad|><|pad|><|pad|><|pad|><|pad|><|pad|><|pad|><|pad|><|pad|><|pad|><|pad|><|pad|><|pad|><|pad|><|pad|><|pad|><|pad|><|pad|><|pad|><|pad|><|pad|><|pad|><|pad|><|pad|><|pad|><|pad|><|pad|><|pad|><|pad|><|pad|><|pad|><|pad|><|pad|><|pad|><|pad|><|pad|><|pad|><|pad|><|pad|><|pad|><|pad|><|pad|><|pad|><|pad|><|pad|><|pad|><|pad|><|pad|><|pad|><|pad|><|pad|><|pad|><|pad|><|pad|><|pad|><|pad|><|pad|><|pad|><|pad|><|pad|><|pad|><|pad|><|pad|><|pad|><|pad|><|pad|><|pad|><|pad|><|pad|><|pad|><|pad|><|pad|><|pad|><|pad|><|pad|><|pad|><|pad|><|pad|><|pad|><|pad|><|pad|><|pad|><|pad|><|pad|><|pad|><|pad|><|pad|><|pad|><|pad|><|pad|><|pad|><|pad|><|pad|><|pad|><|pad|><|pad|><|pad|><|pad|><|pad|><|pad|><|pad|><|pad|><|pad|><|pad|><|pad|><|pad|><|pad|><|pad|><|pad|><|pad|><|pad|><|pad|><|pad|><|pad|><|pad|><|pad|><|pad|><|pad|><|pad|><|pad|><|pad|><|pad|><|pad|><|pad|><|pad|><|pad|><|pad|><|pad|><|pad|><|pad|><|pad|><|pad|><|pad|><|pad|><|pad|><|pad|><|pad|><|pad|><|pad|><|pad|><|pad|><|pad|><|pad|><|pad|><|pad|><|pad|><|pad|><|pad|><|pad|><|pad|><|pad|><|pad|><|pad|><|pad|><|pad|><|pad|><|pad|><|pad|><|pad|><|pad|><|pad|><|pad|><|pad|><|pad|><|pad|><|pad|><|pad|><|pad|><|pad|><|pad|><|pad|><|pad|><|pad|><|pad|><|pad|><|pad|><|pad|><|pad|><|pad|><|pad|><|pad|><|pad|><|pad|><|pad|><|pad|><|pad|><|pad|><|pad|><|pad|><|pad|><|pad|><|pad|><|pad|><|pad|><|pad|><|pad|><|pad|><|pad|><|pad|><|pad|><|pad|><|pad|><|pad|><|pad|><|pad|><|pad|><|pad|><|pad|><|pad|><|pad|><|pad|><|pad|><|pad|><|pad|><|pad|><|pad|><|pad|><|pad|><|pad|><|pad|><|pad|><|pad|><|pad|><|pad|><|pad|><|pad|><|pad|><|pad|><|pad|><|pad|><|pad|><|pad|><|pad|><|pad|><|pad|><|pad|><|pad|><|pad|><|pad|><|pad|><|pad|><|pad|><|pad|><|pad|><|pad|><|pad|><|pad|><|pad|><|pad|><|pad|><|pad|><|pad|><|pad|><|pad|><|pad|><|pad|><|pad|><|pad|><|pad|><|pad|><|pad|><|pad|><|pad|><|pad|><|pad|><|pad|><|pad|><|pad|><|pad|><|pad|><|pad|><|pad|><|pad|><|pad|><|pad|><|pad|><|pad|><|pad|><|pad|><|pad|><|pad|><|pad|><|pad|><|pad|><|pad|><|pad|><|pad|><|pad|><|pad|><|pad|><|pad|><|pad|><|pad|><|pad|><|pad|><|pad|><|pad|><|pad|><|pad|><|pad|><|pad|><|pad|><|pad|><|pad|><|pad|><|pad|><|pad|><|pad|><|pad|><|pad|><|pad|><|pad|><|pad|><|pad|><|pad|><|pad|><|pad|><|pad|><|pad|><|pad|><|pad|><|pad|><|pad|><|pad|><|pad|><|pad|><|pad|><|pad|><|pad|><|pad|><|pad|><|pad|><|pad|><|pad|><|pad|><|pad|><|pad|><|pad|><|pad|><|pad|><|pad|><|pad|><|pad|><|pad|><|pad|><|pad|><|pad|><|pad|><|pad|><|pad|><|pad|><|pad|><|pad|><|pad|><|pad|><|pad|><|pad|><|pad|><|pad|><|pad|><|pad|><|pad|><|pad|><|pad|><|pad|><|pad|><|pad|><|pad|><|pad|><|pad|><|pad|><|pad|><|pad|><|pad|><|pad|><|pad|><|pad|><|pad|><|pad|><|pad|><|pad|><|pad|><|pad|><|pad|><|pad|><|pad|><|pad|><|pad|><|pad|><|pad|><|pad|><|pad|><|pad|><|pad|><|pad|><|pad|><|pad|><|pad|><|pad|><|pad|><|pad|><|pad|><|pad|><|pad|><|pad|><|pad|><|pad|><|pad|><|pad|><|pad|><|pad|><|pad|><|pad|><|pad|><|pad|><|pad|><|pad|><|pad|><|pad|><|pad|><|pad|><|pad|><|pad|><|pad|><|pad|><|pad|><|pad|><|pad|><|pad|><|pad|><|pad|><|pad|><|pad|><|pad|><|pad|><|pad|><|pad|><|pad|><|pad|><|pad|><|pad|><|pad|><|pad|><|pad|><|pad|><|pad|><|pad|><|pad|><|pad|><|pad|><|pad|><|pad|><|pad|><|pad|><|pad|><|pad|><|pad|><|pad|><|pad|><|pad|><|pad|><|pad|><|pad|><|pad|><|pad|><|pad|><|pad|><|pad|><|pad|><|pad|><|pad|><|pad|><|pad|><|pad|><|pad|><|pad|><|pad|><|pad|><|pad|><|pad|><|pad|><|pad|><|pad|><|pad|><|pad|><|pad|><|pad|><|pad|><|pad|><|pad|><|pad|><|pad|><|pad|><|pad|><|pad|><|pad|><|pad|><|pad|><|pad|><|pad|><|pad|><|pad|><|pad|><|pad|><|pad|><|pad|><|pad|><|pad|><|pad|><|pad|><|pad|><|pad|><|pad|><|pad|><|pad|><|pad|><|pad|><|pad|><|pad|><|pad|><|pad|><|pad|><|pad|><|pad|><|pad|><|pad|><|pad|><|pad|><|pad|><|pad|><|pad|><|pad|><|pad|><|pad|><|pad|><|pad|><|pad|><|pad|><|pad|><|pad|><|pad|><|pad|><|pad|><|pad|><|pad|><|pad|><|pad|><|pad|><|pad|><|pad|><|pad|><|pad|><|pad|><|pad|><|pad|><|pad|><|pad|><|pad|><|pad|><|pad|><|pad|><|pad|><|pad|><|pad|><|pad|><|pad|><|pad|><|pad|><|pad|><|pad|><|endoftext|>A chat between a curious user and an artificial intelligence assistant. The assistant gives helpful, detailed, and polite answers to the user's questions. USER: Please provide a short description for this region: [0.85, 0.66, 0.88, 0.76]. ASSISTANT: Red and white canteen in a person's hand.<|endoftext|>USER: Please provide the bounding box coordinate of the region this sentence describes: white shorts on the man. ASSISTANT: [0.08, 0.64, 0.29, 0.87]<|endoftext|>USER: Please provide a short description for this region: [0.82, 0.64, 0.93, 0.82]. ASSISTANT: White and red cooler in the man's hand.<|endoftext|>USER: Please provide the bounding box coordinate of the region this sentence describes: white shirt with purple logo. ASSISTANT: [0.64, 0.37, 0.86, 0.61]<|endoftext|>USER: Please provide the bounding box coordinate of the region this sentence describes: Red and white canteen in a person's hand. ASSISTANT: [0.35, 0.54, 0.43, 0.83]<|endoftext|>USER: Please provide a short description for this region: [0.25, 0.55, 0.38, 0.8]. ASSISTANT: A black back pack.<|endoftext|>USER: Please provide the bounding box coordinate of the region this sentence describes: A white strap on a thermos. ASSISTANT: [0.85, 0.65, 0.93, 0.82]<|endoftext|>USER: Please provide a short description for this region: [0.01, 0.67, 0.05, 0.87]. ASSISTANT: Red and white canteen in a person's hand.<|endoftext|>USER: Please provide the bounding box coordinate of the region this sentence describes: Red and white canteen in a person's hand. ASSISTANT: [0.24, 0.65, 0.28, 0.73]<|endoftext|>USER: Please provide the bounding box coordinate of the region this sentence describes: black bag in the man's hand. ASSISTANT: [0.24, 0.54, 0.38, 0.8]<|endoftext|><|pad|><|pad|><|pad|><|pad|><|pad|><|pad|><|pad|><|pad|><|pad|><|pad|><|pad|><|pad|><|pad|><|pad|><|pad|><|pad|><|pad|><|pad|><|pad|><|pad|><|pad|><|pad|><|pad|><|pad|><|pad|><|pad|><|pad|><|pad|><|pad|><|pad|><|pad|><|pad|><|pad|><|pad|><|pad|><|pad|><|pad|><|pad|><|pad|><|pad|><|pad|><|pad|><|pad|><|pad|><|pad|><|pad|><|pad|><|pad|><|pad|><|pad|><|pad|><|pad|><|pad|><|pad|><|pad|><|pad|><|pad|><|pad|><|pad|><|pad|><|pad|><|pad|><|pad|><|pad|><|pad|><|pad|><|pad|><|pad|><|pad|><|pad|><|pad|><|pad|><|pad|><|pad|><|pad|><|pad|><|pad|><|pad|><|pad|><|pad|><|pad|><|pad|><|pad|><|pad|><|pad|><|pad|><|pad|><|pad|><|pad|><|pad|><|pad|><|pad|><|pad|><|pad|><|pad|><|pad|><|pad|><|pad|><|pad|><|pad|><|pad|><|pad|><|pad|><|pad|><|pad|><|pad|><|pad|><|pad|><|pad|><|pad|><|pad|><|pad|><|pad|><|pad|><|pad|><|pad|><|pad|><|pad|><|pad|><|pad|><|pad|><|pad|><|pad|><|pad|><|pad|><|pad|><|pad|><|pad|><|pad|><|pad|><|pad|><|pad|><|pad|><|pad|><|pad|><|pad|><|pad|><|pad|><|pad|><|pad|><|pad|><|pad|><|pad|><|pad|><|pad|><|pad|><|pad|><|pad|><|pad|><|pad|><|pad|><|pad|><|pad|><|pad|><|pad|><|pad|><|pad|><|pad|><|pad|><|pad|><|pad|><|pad|><|pad|><|pad|><|pad|><|pad|><|pad|><|pad|><|pad|><|pad|><|pad|><|pad|><|pad|><|pad|><|pad|><|pad|><|pad|><|pad|><|pad|><|pad|><|pad|><|pad|><|pad|><|pad|><|pad|><|pad|><|pad|><|pad|><|pad|><|pad|><|pad|><|pad|><|pad|><|pad|><|pad|><|pad|><|pad|><|pad|><|pad|><|pad|><|pad|><|pad|><|pad|><|pad|><|pad|><|pad|><|pad|><|pad|><|pad|><|pad|><|pad|><|pad|><|pad|><|pad|><|pad|><|pad|><|pad|><|pad|><|pad|><|pad|><|pad|><|pad|><|pad|><|pad|><|pad|><|pad|><|pad|><|pad|><|pad|><|pad|><|pad|><|pad|><|pad|><|pad|><|pad|><|pad|><|pad|><|pad|><|pad|><|pad|><|pad|><|pad|><|pad|><|pad|><|pad|><|pad|><|pad|><|pad|><|pad|><|pad|><|pad|><|pad|><|pad|><|pad|><|pad|><|pad|><|pad|><|pad|><|pad|><|pad|><|pad|><|pad|><|pad|><|pad|><|pad|><|pad|><|pad|><|pad|><|pad|><|pad|><|pad|><|pad|><|pad|><|pad|><|pad|><|pad|><|pad|><|pad|><|pad|><|pad|><|pad|><|pad|><|pad|><|pad|><|pad|><|pad|><|pad|><|pad|><|pad|><|pad|><|pad|><|pad|><|pad|><|pad|><|pad|><|pad|><|pad|><|pad|><|pad|><|pad|><|pad|><|pad|><|pad|><|pad|><|pad|><|pad|><|pad|><|pad|><|pad|><|pad|><|pad|><|pad|><|pad|><|pad|><|pad|><|pad|><|pad|><|pad|><|pad|><|pad|><|pad|><|pad|><|pad|><|pad|><|pad|><|pad|><|pad|><|pad|><|pad|><|pad|><|pad|><|pad|><|pad|><|pad|><|pad|><|pad|><|pad|><|pad|><|pad|><|pad|><|pad|><|pad|><|pad|><|pad|><|pad|><|pad|><|pad|><|pad|><|pad|><|pad|><|pad|><|pad|><|pad|><|pad|><|pad|><|pad|><|pad|><|pad|><|pad|><|pad|><|pad|><|pad|><|pad|><|pad|><|pad|><|pad|><|pad|><|pad|><|pad|><|pad|><|pad|><|pad|><|pad|><|pad|><|pad|><|pad|><|pad|><|pad|><|pad|><|pad|><|pad|><|pad|><|pad|><|pad|><|pad|><|pad|><|pad|><|pad|><|pad|><|pad|><|pad|><|pad|><|pad|><|pad|><|pad|><|pad|><|pad|><|pad|><|pad|><|pad|><|pad|><|pad|><|pad|><|pad|><|pad|><|pad|><|pad|><|pad|><|pad|><|pad|><|pad|><|pad|><|pad|><|pad|><|pad|><|pad|><|pad|><|pad|><|pad|><|pad|><|pad|><|pad|><|pad|><|pad|><|pad|><|pad|><|pad|><|pad|><|pad|><|pad|><|pad|><|pad|><|pad|><|pad|><|pad|><|pad|><|pad|><|pad|><|pad|><|pad|><|pad|><|pad|><|pad|><|pad|><|pad|><|pad|><|pad|><|pad|><|pad|><|pad|><|pad|><|pad|><|pad|><|pad|><|pad|><|pad|><|pad|><|pad|><|pad|><|pad|><|pad|><|pad|><|pad|><|pad|><|pad|><|pad|><|pad|><|pad|><|pad|><|pad|><|pad|><|pad|><|pad|><|pad|><|pad|><|pad|><|pad|><|pad|><|pad|><|pad|><|pad|><|pad|><|pad|><|pad|><|pad|><|pad|><|pad|><|pad|><|pad|><|pad|><|pad|><|pad|><|pad|><|pad|><|pad|><|pad|><|pad|><|pad|><|pad|><|pad|><|pad|><|pad|><|pad|><|pad|><|pad|><|pad|><|pad|><|pad|><|pad|><|pad|><|pad|><|pad|><|pad|><|pad|><|pad|><|pad|><|pad|><|pad|><|pad|><|pad|><|pad|><|pad|><|pad|><|pad|><|pad|><|pad|><|pad|><|pad|><|pad|><|pad|><|pad|><|pad|><|pad|><|pad|><|pad|><|pad|><|pad|><|pad|><|pad|><|pad|><|pad|><|pad|><|pad|><|pad|><|pad|><|pad|><|pad|><|pad|><|pad|><|pad|><|pad|><|pad|><|pad|><|pad|><|pad|><|pad|><|pad|><|pad|><|pad|><|pad|><|pad|><|pad|><|pad|><|pad|><|pad|><|pad|><|pad|><|pad|><|pad|><|pad|><|pad|><|pad|><|pad|><|pad|><|pad|><|pad|><|pad|><|pad|><|pad|><|pad|><|pad|><|pad|><|pad|><|pad|><|pad|><|pad|><|pad|><|pad|><|pad|><|pad|><|pad|><|pad|><|pad|><|pad|><|pad|><|pad|><|pad|><|pad|><|pad|><|pad|><|pad|><|pad|><|pad|><|pad|><|pad|><|pad|><|pad|><|pad|><|pad|><|pad|><|pad|><|pad|><|pad|><|pad|><|pad|><|pad|><|pad|><|pad|><|pad|><|pad|><|pad|><|pad|><|pad|><|pad|><|pad|><|pad|><|pad|><|pad|><|pad|><|pad|><|pad|><|pad|><|pad|><|pad|><|pad|><|pad|><|pad|><|pad|><|pad|><|pad|><|pad|><|pad|><|pad|><|pad|><|pad|><|pad|><|pad|><|pad|><|pad|><|pad|><|pad|><|pad|><|pad|><|pad|><|pad|><|pad|><|pad|><|pad|><|pad|><|pad|><|pad|><|pad|><|pad|><|pad|><|pad|><|pad|><|pad|><|pad|><|pad|><|pad|><|pad|><|pad|><|pad|><|pad|><|pad|><|pad|><|pad|><|pad|><|pad|><|pad|><|pad|><|pad|><|pad|><|pad|><|pad|><|pad|><|pad|><|pad|><|pad|><|pad|><|pad|><|pad|><|pad|><|pad|><|pad|><|pad|><|pad|><|pad|><|pad|><|pad|><|pad|><|pad|><|pad|><|pad|><|pad|><|pad|><|pad|><|pad|><|pad|><|pad|><|pad|><|pad|><|pad|><|pad|><|pad|><|pad|><|pad|><|pad|><|pad|><|pad|><|pad|><|pad|><|pad|><|pad|><|pad|><|pad|><|pad|><|pad|><|pad|><|pad|><|pad|><|pad|><|pad|><|pad|><|pad|><|pad|><|pad|><|pad|><|pad|><|pad|><|pad|><|pad|><|pad|><|pad|><|pad|><|pad|><|pad|><|pad|><|pad|><|pad|><|pad|><|pad|><|pad|><|pad|><|pad|><|pad|><|pad|><|pad|><|pad|><|pad|><|pad|><|pad|><|pad|><|pad|><|pad|><|pad|><|pad|><|pad|><|pad|><|pad|><|pad|><|pad|><|pad|><|pad|><|pad|><|pad|><|pad|><|pad|><|pad|><|pad|><|pad|><|pad|><|pad|><|pad|><|pad|><|pad|><|pad|><|pad|><|pad|><|pad|><|pad|><|pad|><|pad|><|pad|><|pad|><|pad|><|pad|><|pad|><|pad|><|pad|><|pad|><|pad|><|pad|><|pad|><|pad|><|pad|><|pad|><|pad|><|pad|><|pad|><|pad|><|pad|><|pad|><|pad|><|pad|><|pad|><|pad|><|pad|><|pad|><|pad|><|pad|><|pad|><|pad|><|pad|><|pad|><|pad|><|pad|><|pad|><|pad|><|pad|><|pad|><|pad|><|pad|><|pad|><|pad|><|pad|><|pad|><|pad|><|pad|><|pad|><|pad|><|pad|><|pad|><|pad|><|pad|><|pad|><|pad|><|pad|><|pad|><|pad|><|pad|><|pad|><|pad|><|pad|><|pad|><|pad|><|pad|><|pad|><|pad|><|pad|><|pad|><|pad|><|pad|><|pad|><|pad|><|pad|><|pad|><|pad|><|pad|><|pad|><|pad|><|pad|><|pad|><|pad|><|pad|><|pad|><|pad|><|pad|><|pad|><|pad|><|pad|><|pad|><|pad|><|pad|><|pad|><|pad|><|pad|><|pad|><|pad|><|pad|><|pad|><|pad|><|pad|><|pad|><|pad|><|pad|><|pad|><|pad|><|pad|><|pad|><|pad|><|pad|><|pad|><|pad|><|pad|><|pad|><|pad|><|pad|><|pad|><|pad|><|pad|><|pad|><|pad|><|pad|><|pad|><|pad|><|pad|><|pad|><|pad|><|pad|><|pad|><|pad|><|pad|><|pad|><|pad|><|pad|><|pad|><|pad|><|pad|><|pad|><|pad|><|pad|><|pad|><|pad|><|pad|><|pad|><|pad|><|pad|><|pad|><|pad|><|pad|><|pad|><|pad|><|pad|><|pad|><|pad|><|pad|><|pad|><|pad|><|pad|><|pad|><|pad|><|pad|><|pad|><|pad|><|pad|><|pad|><|pad|><|pad|><|pad|><|pad|><|pad|><|pad|><|pad|><|pad|><|pad|><|pad|><|pad|><|pad|><|pad|><|pad|><|pad|><|pad|><|pad|><|pad|><|pad|><|pad|><|pad|><|pad|><|pad|><|pad|><|pad|><|pad|><|pad|><|pad|><|pad|><|pad|><|pad|><|pad|><|pad|><|pad|><|pad|><|pad|><|pad|><|pad|><|pad|><|pad|><|pad|><|pad|><|pad|><|pad|><|pad|><|pad|><|pad|><|pad|><|pad|><|pad|><|pad|><|pad|><|pad|><|pad|><|pad|><|pad|><|pad|><|pad|><|pad|><|pad|><|pad|><|pad|><|pad|><|pad|><|pad|><|pad|><|pad|><|pad|><|pad|><|pad|><|pad|><|pad|><|pad|><|pad|><|pad|><|pad|><|pad|><|pad|><|pad|><|pad|><|pad|><|pad|><|pad|><|pad|><|pad|><|pad|><|pad|><|pad|><|pad|><|pad|><|pad|><|pad|><|pad|><|pad|><|pad|><|pad|><|pad|><|pad|><|pad|><|pad|><|pad|><|pad|><|pad|><|pad|><|pad|><|pad|><|pad|><|pad|><|pad|><|pad|><|pad|><|pad|><|pad|><|pad|><|pad|><|pad|><|pad|><|pad|><|pad|><|pad|><|pad|><|pad|><|pad|><|pad|><|pad|><|pad|><|pad|><|pad|><|pad|><|pad|><|pad|><|pad|><|pad|><|pad|><|pad|><|pad|><|pad|><|pad|><|pad|><|pad|><|pad|><|pad|><|pad|><|pad|><|pad|><|pad|><|pad|><|pad|><|pad|><|pad|><|pad|><|pad|><|pad|><|pad|><|pad|><|pad|><|pad|><|pad|><|pad|><|pad|><|pad|><|pad|><|pad|><|pad|><|pad|><|pad|><|pad|><|pad|><|pad|><|pad|><|pad|><|pad|><|pad|><|pad|><|pad|><|pad|><|pad|><|pad|><|pad|><|pad|><|pad|><|pad|><|pad|><|pad|><|pad|><|pad|><|pad|><|pad|><|pad|><|pad|><|pad|><|pad|><|pad|><|pad|><|pad|><|pad|><|pad|><|pad|><|pad|><|pad|><|pad|><|pad|><|pad|><|pad|><|pad|><|pad|><|pad|><|pad|><|pad|><|pad|><|pad|><|pad|><|pad|><|pad|><|pad|><|pad|><|pad|><|pad|><|pad|><|pad|><|pad|><|pad|><|pad|><|pad|><|pad|><|pad|><|pad|><|pad|><|pad|><|pad|><|pad|><|pad|><|pad|><|pad|><|pad|><|pad|><|pad|><|pad|><|pad|><|pad|><|pad|><|pad|><|pad|><|pad|><|pad|><|pad|><|pad|><|pad|><|pad|><|pad|><|pad|><|pad|><|pad|><|pad|><|pad|><|pad|><|pad|><|pad|><|pad|><|pad|><|pad|><|pad|><|pad|><|pad|><|pad|><|pad|><|pad|><|pad|><|pad|><|pad|><|pad|><|pad|><|pad|><|pad|><|pad|><|pad|><|pad|><|pad|><|pad|><|pad|><|pad|><|pad|><|pad|><|pad|><|pad|><|pad|><|pad|><|pad|><|pad|><|pad|><|pad|><|pad|><|pad|><|pad|><|pad|><|pad|><|pad|><|pad|><|pad|><|pad|><|pad|><|pad|><|pad|><|pad|><|pad|><|pad|><|pad|><|pad|><|pad|><|pad|><|pad|><|pad|><|pad|><|pad|><|pad|><|pad|><|pad|><|pad|><|pad|><|pad|><|pad|><|pad|><|pad|><|pad|><|pad|><|pad|><|pad|><|pad|><|pad|><|pad|><|pad|><|pad|><|pad|><|pad|><|pad|><|pad|><|pad|><|pad|><|pad|><|pad|><|pad|><|pad|><|pad|><|pad|><|pad|><|pad|><|pad|><|pad|><|pad|><|pad|><|pad|><|pad|><|pad|><|pad|><|pad|><|pad|><|pad|><|pad|><|pad|><|pad|><|pad|><|pad|><|pad|><|pad|><|pad|><|pad|><|pad|><|pad|><|pad|><|pad|><|pad|><|pad|><|pad|><|pad|><|pad|><|pad|><|pad|><|pad|><|pad|><|pad|><|pad|><|pad|><|pad|><|pad|><|pad|><|pad|><|pad|><|pad|><|pad|><|pad|><|pad|><|pad|><|pad|><|pad|><|pad|><|pad|><|pad|><|pad|><|pad|><|pad|><|pad|><|pad|><|pad|><|pad|><|pad|><|pad|><|pad|><|pad|><|pad|><|pad|><|pad|><|pad|><|pad|><|pad|><|pad|><|pad|><|pad|><|pad|><|pad|><|pad|><|pad|><|pad|><|pad|><|pad|><|pad|><|pad|><|pad|><|pad|><|pad|><|pad|><|pad|><|pad|><|pad|><|pad|><|pad|><|pad|><|pad|><|pad|><|pad|><|pad|><|pad|><|pad|><|pad|><|pad|><|pad|><|pad|><|pad|><|pad|><|pad|><|pad|><|pad|><|pad|><|pad|><|pad|><|pad|><|pad|><|pad|><|pad|><|pad|><|pad|><|pad|><|pad|><|pad|><|pad|><|pad|><|pad|><|pad|><|pad|><|pad|><|pad|><|pad|><|pad|><|pad|><|pad|><|pad|><|pad|><|pad|><|pad|><|pad|><|pad|><|pad|><|pad|><|pad|><|pad|><|pad|><|pad|><|pad|><|pad|><|pad|><|pad|><|pad|><|pad|><|pad|><|pad|><|pad|><|pad|><|pad|><|pad|><|pad|><|pad|><|pad|><|pad|><|pad|><|pad|><|pad|><|pad|><|pad|><|pad|><|pad|><|pad|><|pad|><|pad|><|pad|><|pad|><|pad|><|pad|><|pad|><|pad|><|pad|><|pad|><|pad|><|pad|><|pad|><|pad|><|pad|><|pad|><|pad|><|pad|><|pad|><|pad|><|pad|><|pad|><|pad|><|pad|><|pad|><|pad|><|pad|><|pad|><|pad|><|pad|><|pad|><|pad|><|pad|><|pad|><|pad|><|pad|><|pad|><|pad|><|pad|><|pad|><|pad|><|pad|><|pad|><|pad|><|pad|><|pad|><|pad|><|pad|><|pad|><|pad|><|pad|><|pad|><|pad|><|pad|><|pad|><|pad|><|pad|><|pad|><|pad|><|pad|><|pad|><|pad|><|pad|><|pad|><|pad|><|pad|><|pad|><|pad|><|pad|><|pad|><|pad|><|pad|><|pad|><|pad|><|pad|><|pad|><|pad|><|pad|><|pad|><|pad|><|pad|><|pad|><|pad|><|pad|><|pad|><|pad|><|pad|><|pad|><|pad|><|pad|><|pad|><|pad|><|pad|><|pad|><|pad|><|pad|><|endoftext|>A chat between a curious user and an artificial intelligence assistant. The assistant gives helpful, detailed, and polite answers to the user's questions. USER: Where are these vegetables grown?\n",
      "Answer the question using a single word or phrase. ASSISTANT: Inside<|endoftext|>USER: How many red umbrellas are in the window? ASSISTANT: 0<|endoftext|>USER: Are the window blinds open? ASSISTANT: Yes<|endoftext|>USER: Is there a teddy bear? ASSISTANT: Yes<|endoftext|>USER: What room is this? ASSISTANT: Office<|endoftext|>USER: What flag is pictured? ASSISTANT: Greece<|endoftext|><|pad|><|pad|><|pad|><|pad|><|pad|><|pad|><|pad|><|pad|><|pad|><|pad|><|pad|><|pad|><|pad|><|pad|><|pad|><|pad|><|pad|><|pad|><|pad|><|pad|><|pad|><|pad|><|pad|><|pad|><|pad|><|pad|><|pad|><|pad|><|pad|><|pad|><|pad|><|pad|><|pad|><|pad|><|pad|><|pad|><|pad|><|pad|><|pad|><|pad|><|pad|><|pad|><|pad|><|pad|><|pad|><|pad|><|pad|><|pad|><|pad|><|pad|><|pad|><|pad|><|pad|><|pad|><|pad|><|pad|><|pad|><|pad|><|pad|><|pad|><|pad|><|pad|><|pad|><|pad|><|pad|><|pad|><|pad|><|pad|><|pad|><|pad|><|pad|><|pad|><|pad|><|pad|><|pad|><|pad|><|pad|><|pad|><|pad|><|pad|><|pad|><|pad|><|pad|><|pad|><|pad|><|pad|><|pad|><|pad|><|pad|><|pad|><|pad|><|pad|><|pad|><|pad|><|pad|><|pad|><|pad|><|pad|><|pad|><|pad|><|pad|><|pad|><|pad|><|pad|><|pad|><|pad|><|pad|><|pad|><|pad|><|pad|><|pad|><|pad|><|pad|><|pad|><|pad|><|pad|><|pad|><|pad|><|pad|><|pad|><|pad|><|pad|><|pad|><|pad|><|pad|><|pad|><|pad|><|pad|><|pad|><|pad|><|pad|><|pad|><|pad|><|pad|><|pad|><|pad|><|pad|><|pad|><|pad|><|pad|><|pad|><|pad|><|pad|><|pad|><|pad|><|pad|><|pad|><|pad|><|pad|><|pad|><|pad|><|pad|><|pad|><|pad|><|pad|><|pad|><|pad|><|pad|><|pad|><|pad|><|pad|><|pad|><|pad|><|pad|><|pad|><|pad|><|pad|><|pad|><|pad|><|pad|><|pad|><|pad|><|pad|><|pad|><|pad|><|pad|><|pad|><|pad|><|pad|><|pad|><|pad|><|pad|><|pad|><|pad|><|pad|><|pad|><|pad|><|pad|><|pad|><|pad|><|pad|><|pad|><|pad|><|pad|><|pad|><|pad|><|pad|><|pad|><|pad|><|pad|><|pad|><|pad|><|pad|><|pad|><|pad|><|pad|><|pad|><|pad|><|pad|><|pad|><|pad|><|pad|><|pad|><|pad|><|pad|><|pad|><|pad|><|pad|><|pad|><|pad|><|pad|><|pad|><|pad|><|pad|><|pad|><|pad|><|pad|><|pad|><|pad|><|pad|><|pad|><|pad|><|pad|><|pad|><|pad|><|pad|><|pad|><|pad|><|pad|><|pad|><|pad|><|pad|><|pad|><|pad|><|pad|><|pad|><|pad|><|pad|><|pad|><|pad|><|pad|><|pad|><|pad|><|pad|><|pad|><|pad|><|pad|><|pad|><|pad|><|pad|><|pad|><|pad|><|pad|><|pad|><|pad|><|pad|><|pad|><|pad|><|pad|><|pad|><|pad|><|pad|><|pad|><|pad|><|pad|><|pad|><|pad|><|pad|><|pad|><|pad|><|pad|><|pad|><|pad|><|pad|><|pad|><|pad|><|pad|><|pad|><|pad|><|pad|><|pad|><|pad|><|pad|><|pad|><|pad|><|pad|><|pad|><|pad|><|pad|><|pad|><|pad|><|pad|><|pad|><|pad|><|pad|><|pad|><|pad|><|pad|><|pad|><|pad|><|pad|><|pad|><|pad|><|pad|><|pad|><|pad|><|pad|><|pad|><|pad|><|pad|><|pad|><|pad|><|pad|><|pad|><|pad|><|pad|><|pad|><|pad|><|pad|><|pad|><|pad|><|pad|><|pad|><|pad|><|pad|><|pad|><|pad|><|pad|><|pad|><|pad|><|pad|><|pad|><|pad|><|pad|><|pad|><|pad|><|pad|><|pad|><|pad|><|pad|><|pad|><|pad|><|pad|><|pad|><|pad|><|pad|><|pad|><|pad|><|pad|><|pad|><|pad|><|pad|><|pad|><|pad|><|pad|><|pad|><|pad|><|pad|><|pad|><|pad|><|pad|><|pad|><|pad|><|pad|><|pad|><|pad|><|pad|><|pad|><|pad|><|pad|><|pad|><|pad|><|pad|><|pad|><|pad|><|pad|><|pad|><|pad|><|pad|><|pad|><|pad|><|pad|><|pad|><|pad|><|pad|><|pad|><|pad|><|pad|><|pad|><|pad|><|pad|><|pad|><|pad|><|pad|><|pad|><|pad|><|pad|><|pad|><|pad|><|pad|><|pad|><|pad|><|pad|><|pad|><|pad|><|pad|><|pad|><|pad|><|pad|><|pad|><|pad|><|pad|><|pad|><|pad|><|pad|><|pad|><|pad|><|pad|><|pad|><|pad|><|pad|><|pad|><|pad|><|pad|><|pad|><|pad|><|pad|><|pad|><|pad|><|pad|><|pad|><|pad|><|pad|><|pad|><|pad|><|pad|><|pad|><|pad|><|pad|><|pad|><|pad|><|pad|><|pad|><|pad|><|pad|><|pad|><|pad|><|pad|><|pad|><|pad|><|pad|><|pad|><|pad|><|pad|><|pad|><|pad|><|pad|><|pad|><|pad|><|pad|><|pad|><|pad|><|pad|><|pad|><|pad|><|pad|><|pad|><|pad|><|pad|><|pad|><|pad|><|pad|><|pad|><|pad|><|pad|><|pad|><|pad|><|pad|><|pad|><|pad|><|pad|><|pad|><|pad|><|pad|><|pad|><|pad|><|pad|><|pad|><|pad|><|pad|><|pad|><|pad|><|pad|><|pad|><|pad|><|pad|><|pad|><|pad|><|pad|><|pad|><|pad|><|pad|><|pad|><|pad|><|pad|><|pad|><|pad|><|pad|><|pad|><|pad|><|pad|><|pad|><|pad|><|pad|><|pad|><|pad|><|pad|><|pad|><|pad|><|pad|><|pad|><|pad|><|pad|><|pad|><|pad|><|pad|><|pad|><|pad|><|pad|><|pad|><|pad|><|pad|><|pad|><|pad|><|pad|><|pad|><|pad|><|pad|><|pad|><|pad|><|pad|><|pad|><|pad|><|pad|><|pad|><|pad|><|pad|><|pad|><|pad|><|pad|><|pad|><|pad|><|pad|><|pad|><|pad|><|pad|><|pad|><|pad|><|pad|><|pad|><|pad|><|pad|><|pad|><|pad|><|pad|><|pad|><|pad|><|pad|><|pad|><|pad|><|pad|><|pad|><|pad|><|pad|><|pad|><|pad|><|pad|><|pad|><|pad|><|pad|><|pad|><|pad|><|pad|><|pad|><|pad|><|pad|><|pad|><|pad|><|pad|><|pad|><|pad|><|pad|><|pad|><|pad|><|pad|><|pad|><|pad|><|pad|><|pad|><|pad|><|pad|><|pad|><|pad|><|pad|><|pad|><|pad|><|pad|><|pad|><|pad|><|pad|><|pad|><|pad|><|pad|><|pad|><|pad|><|pad|><|pad|><|pad|><|pad|><|pad|><|pad|><|pad|><|pad|><|pad|><|pad|><|pad|><|pad|><|pad|><|pad|><|pad|><|pad|><|pad|><|pad|><|pad|><|pad|><|pad|><|pad|><|pad|><|pad|><|pad|><|pad|><|pad|><|pad|><|pad|><|pad|><|pad|><|pad|><|pad|><|pad|><|pad|><|pad|><|pad|><|pad|><|pad|><|pad|><|pad|><|pad|><|pad|><|pad|><|pad|><|pad|><|pad|><|pad|><|pad|><|pad|><|pad|><|pad|><|pad|><|pad|><|pad|><|pad|><|pad|><|pad|><|pad|><|pad|><|pad|><|pad|><|pad|><|pad|><|pad|><|pad|><|pad|><|pad|><|pad|><|pad|><|pad|><|pad|><|pad|><|pad|><|pad|><|pad|><|pad|><|pad|><|pad|><|pad|><|pad|><|pad|><|pad|><|pad|><|pad|><|pad|><|pad|><|pad|><|pad|><|pad|><|pad|><|pad|><|pad|><|pad|><|pad|><|pad|><|pad|><|pad|><|pad|><|pad|><|pad|><|pad|><|pad|><|pad|><|pad|><|pad|><|pad|><|pad|><|pad|><|pad|><|pad|><|pad|><|pad|><|pad|><|pad|><|pad|><|pad|><|pad|><|pad|><|pad|><|pad|><|pad|><|pad|><|pad|><|pad|><|pad|><|pad|><|pad|><|pad|><|pad|><|pad|><|pad|><|pad|><|pad|><|pad|><|pad|><|pad|><|pad|><|pad|><|pad|><|pad|><|pad|><|pad|><|pad|><|pad|><|pad|><|pad|><|pad|><|pad|><|pad|><|pad|><|pad|><|pad|><|pad|><|pad|><|pad|><|pad|><|pad|><|pad|><|pad|><|pad|><|pad|><|pad|><|pad|><|pad|><|pad|><|pad|><|pad|><|pad|><|pad|><|pad|><|pad|><|pad|><|pad|><|pad|><|pad|><|pad|><|pad|><|pad|><|pad|><|pad|><|pad|><|pad|><|pad|><|pad|><|pad|><|pad|><|pad|><|pad|><|pad|><|pad|><|pad|><|pad|><|pad|><|pad|><|pad|><|pad|><|pad|><|pad|><|pad|><|pad|><|pad|><|pad|><|pad|><|pad|><|pad|><|pad|><|pad|><|pad|><|pad|><|pad|><|pad|><|pad|><|pad|><|pad|><|pad|><|pad|><|pad|><|pad|><|pad|><|pad|><|pad|><|pad|><|pad|><|pad|><|pad|><|pad|><|pad|><|pad|><|pad|><|pad|><|pad|><|pad|><|pad|><|pad|><|pad|><|pad|><|pad|><|pad|><|pad|><|pad|><|pad|><|pad|><|pad|><|pad|><|pad|><|pad|><|pad|><|pad|><|pad|><|pad|><|pad|><|pad|><|pad|><|pad|><|pad|><|pad|><|pad|><|pad|><|pad|><|pad|><|pad|><|pad|><|pad|><|pad|><|pad|><|pad|><|pad|><|pad|><|pad|><|pad|><|pad|><|pad|><|pad|><|pad|><|pad|><|pad|><|pad|><|pad|><|pad|><|pad|><|pad|><|pad|><|pad|><|pad|><|pad|><|pad|><|pad|><|pad|><|pad|><|pad|><|pad|><|pad|><|pad|><|pad|><|pad|><|pad|><|pad|><|pad|><|pad|><|pad|><|pad|><|pad|><|pad|><|pad|><|pad|><|pad|><|pad|><|pad|><|pad|><|pad|><|pad|><|pad|><|pad|><|pad|><|pad|><|pad|><|pad|><|pad|><|pad|><|pad|><|pad|><|pad|><|pad|><|pad|><|pad|><|pad|><|pad|><|pad|><|pad|><|pad|><|pad|><|pad|><|pad|><|pad|><|pad|><|pad|><|pad|><|pad|><|pad|><|pad|><|pad|><|pad|><|pad|><|pad|><|pad|><|pad|><|pad|><|pad|><|pad|><|pad|><|pad|><|pad|><|pad|><|pad|><|pad|><|pad|><|pad|><|pad|><|pad|><|pad|><|pad|><|pad|><|pad|><|pad|><|pad|><|pad|><|pad|><|pad|><|pad|><|pad|><|pad|><|pad|><|pad|><|pad|><|pad|><|pad|><|pad|><|pad|><|pad|><|pad|><|pad|><|pad|><|pad|><|pad|><|pad|><|pad|><|pad|><|pad|><|pad|><|pad|><|pad|><|pad|><|pad|><|pad|><|pad|><|pad|><|pad|><|pad|><|pad|><|pad|><|pad|><|pad|><|pad|><|pad|><|pad|><|pad|><|pad|><|pad|><|pad|><|pad|><|pad|><|pad|><|pad|><|pad|><|pad|><|pad|><|pad|><|pad|><|pad|><|pad|><|pad|><|pad|><|pad|><|pad|><|pad|><|pad|><|pad|><|pad|><|pad|><|pad|><|pad|><|pad|><|pad|><|pad|><|pad|><|pad|><|pad|><|pad|><|pad|><|pad|><|pad|><|pad|><|pad|><|pad|><|pad|><|pad|><|pad|><|pad|><|pad|><|pad|><|pad|><|pad|><|pad|><|pad|><|pad|><|pad|><|pad|><|pad|><|pad|><|pad|><|pad|><|pad|><|pad|><|pad|><|pad|><|pad|><|pad|><|pad|><|pad|><|pad|><|pad|><|pad|><|pad|><|pad|><|pad|><|pad|><|pad|><|pad|><|pad|><|pad|><|pad|><|pad|><|pad|><|pad|><|pad|><|pad|><|pad|><|pad|><|pad|><|pad|><|pad|><|pad|><|pad|><|pad|><|pad|><|pad|><|pad|><|pad|><|pad|><|pad|><|pad|><|pad|><|pad|><|pad|><|pad|><|pad|><|pad|><|pad|><|pad|><|pad|><|pad|><|pad|><|pad|><|pad|><|pad|><|pad|><|pad|><|pad|><|pad|><|pad|><|pad|><|pad|><|pad|><|pad|><|pad|><|pad|><|pad|><|pad|><|pad|><|pad|><|pad|><|pad|><|pad|><|pad|><|pad|><|pad|><|pad|><|pad|><|pad|><|pad|><|pad|><|pad|><|pad|><|pad|><|pad|><|pad|><|pad|><|pad|><|pad|><|pad|><|pad|><|pad|><|pad|><|pad|><|pad|><|pad|><|pad|><|pad|><|pad|><|pad|><|pad|><|pad|><|pad|><|pad|><|pad|><|pad|><|pad|><|pad|><|pad|><|pad|><|pad|><|pad|><|pad|><|pad|><|pad|><|pad|><|pad|><|pad|><|pad|><|pad|><|pad|><|pad|><|pad|><|pad|><|pad|><|pad|><|pad|><|pad|><|pad|><|pad|><|pad|><|pad|><|pad|><|pad|><|pad|><|pad|><|pad|><|pad|><|pad|><|pad|><|pad|><|pad|><|pad|><|pad|><|pad|><|pad|><|pad|><|pad|><|pad|><|pad|><|pad|><|pad|><|pad|><|pad|><|pad|><|pad|><|pad|><|pad|><|pad|><|pad|><|pad|><|pad|><|pad|><|pad|><|pad|><|pad|><|pad|><|pad|><|pad|><|pad|><|pad|><|pad|><|pad|><|pad|><|pad|><|pad|><|pad|><|pad|><|pad|><|pad|><|pad|><|pad|><|pad|><|pad|><|pad|><|pad|><|pad|><|pad|><|pad|><|pad|><|pad|><|pad|><|pad|><|pad|><|pad|><|pad|><|pad|><|pad|><|pad|><|pad|><|pad|><|pad|><|pad|><|pad|><|pad|><|pad|><|pad|><|pad|><|pad|><|pad|><|pad|><|pad|><|pad|><|pad|><|pad|><|pad|><|pad|><|pad|><|pad|><|pad|><|pad|><|pad|><|pad|><|pad|><|pad|><|pad|><|pad|><|pad|><|pad|><|pad|><|pad|><|pad|><|pad|><|pad|><|pad|><|pad|><|pad|><|pad|><|pad|><|pad|><|pad|><|pad|><|pad|><|pad|><|pad|><|pad|><|pad|><|pad|><|pad|><|pad|><|pad|><|pad|><|pad|><|pad|><|pad|><|pad|><|pad|><|pad|><|pad|><|pad|><|pad|><|pad|><|pad|><|pad|><|pad|><|pad|><|pad|><|pad|><|pad|><|pad|><|pad|><|pad|><|pad|><|pad|><|pad|><|pad|><|pad|><|pad|><|pad|><|pad|><|pad|><|pad|><|pad|><|pad|><|pad|><|pad|><|pad|><|pad|><|pad|><|pad|><|pad|><|pad|><|pad|><|pad|><|pad|><|pad|><|pad|><|pad|><|pad|><|pad|><|pad|><|pad|><|pad|><|pad|><|pad|><|pad|><|pad|><|pad|><|pad|><|pad|><|pad|><|pad|><|pad|><|pad|><|pad|><|pad|><|pad|><|pad|><|pad|><|pad|><|pad|><|pad|><|pad|><|pad|><|pad|><|pad|><|pad|><|pad|><|pad|><|pad|><|pad|><|pad|><|pad|><|pad|><|pad|><|pad|><|pad|><|pad|><|pad|><|pad|><|pad|><|pad|><|pad|><|pad|><|pad|><|pad|><|pad|><|pad|><|pad|><|pad|><|pad|><|pad|><|pad|><|pad|><|pad|><|pad|><|pad|><|pad|><|pad|><|pad|><|pad|><|pad|><|pad|><|pad|><|pad|><|pad|><|pad|><|pad|><|pad|><|pad|><|pad|><|pad|><|pad|><|pad|><|pad|><|pad|><|pad|><|pad|><|pad|><|pad|><|pad|><|pad|><|pad|><|pad|><|pad|><|pad|><|pad|><|pad|><|pad|><|pad|><|pad|><|pad|><|pad|><|pad|><|pad|><|pad|><|pad|><|pad|><|pad|><|pad|><|pad|><|pad|><|pad|><|pad|><|pad|><|pad|><|pad|><|pad|><|pad|><|pad|><|pad|><|pad|><|pad|><|pad|><|pad|><|pad|><|pad|><|pad|><|pad|><|pad|><|pad|><|pad|><|pad|><|pad|><|pad|><|pad|><|pad|><|pad|><|pad|><|pad|><|pad|><|pad|><|pad|><|pad|><|pad|><|pad|><|pad|><|pad|><|pad|><|pad|><|pad|><|pad|><|pad|><|pad|><|pad|><|pad|><|pad|><|pad|><|pad|><|pad|><|pad|><|pad|><|pad|><|pad|><|pad|><|pad|><|pad|><|pad|><|pad|><|pad|><|pad|><|pad|><|pad|><|pad|><|pad|><|pad|><|pad|><|pad|><|pad|><|pad|><|pad|><|pad|><|pad|><|pad|><|pad|><|pad|><|pad|><|pad|><|pad|><|pad|><|pad|><|pad|><|pad|><|pad|><|pad|><|pad|><|pad|><|pad|><|pad|><|pad|><|pad|><|pad|><|pad|><|pad|><|pad|><|pad|><|pad|><|pad|><|pad|><|pad|><|pad|><|pad|><|pad|><|pad|><|pad|><|pad|><|pad|><|pad|><|pad|><|pad|><|pad|><|pad|><|pad|><|pad|><|pad|><|pad|><|pad|><|pad|><|pad|><|pad|><|pad|><|pad|><|pad|><|pad|><|pad|><|pad|><|pad|><|pad|><|pad|><|pad|><|pad|><|pad|><|pad|><|pad|><|pad|><|pad|><|pad|><|pad|><|pad|><|pad|><|pad|><|pad|><|pad|><|pad|><|pad|><|pad|><|pad|><|pad|><|pad|><|pad|><|pad|><|pad|><|pad|><|pad|><|pad|><|pad|><|pad|><|pad|><|pad|><|pad|><|pad|><|pad|><|pad|><|pad|><|pad|><|pad|><|pad|><|pad|><|pad|><|pad|><|pad|><|pad|><|pad|><|pad|><|pad|><|pad|><|pad|><|pad|><|pad|><|pad|><|pad|><|pad|><|pad|><|pad|><|pad|><|pad|><|pad|><|pad|><|pad|><|pad|><|pad|><|pad|><|pad|><|pad|><|pad|><|pad|><|pad|><|pad|><|pad|><|pad|><|pad|><|pad|><|pad|><|pad|><|pad|><|pad|><|pad|><|pad|><|pad|><|pad|><|pad|><|pad|><|pad|><|pad|><|pad|><|pad|><|pad|><|pad|><|pad|><|pad|><|pad|><|pad|><|pad|><|pad|><|pad|><|pad|><|pad|><|pad|><|pad|><|pad|><|pad|><|pad|><|pad|><|pad|><|pad|><|pad|><|pad|><|pad|><|pad|><|pad|><|pad|><|pad|><|pad|><|pad|><|pad|><|pad|><|pad|><|pad|><|pad|><|pad|><|pad|><|pad|><|pad|><|pad|><|pad|><|pad|><|pad|><|pad|><|pad|><|pad|><|pad|><|pad|><|pad|><|pad|><|pad|><|pad|><|pad|><|pad|><|pad|><|pad|><|pad|><|pad|><|pad|><|pad|><|pad|><|pad|><|pad|><|pad|><|pad|><|pad|><|pad|><|pad|><|pad|><|pad|><|pad|><|pad|><|pad|><|pad|><|pad|><|pad|><|pad|><|pad|><|pad|><|pad|><|pad|><|pad|><|pad|><|pad|><|pad|><|pad|><|pad|><|pad|><|pad|><|pad|><|pad|><|pad|><|pad|><|pad|><|pad|><|pad|><|pad|><|pad|><|pad|><|pad|><|pad|><|pad|><|pad|><|pad|><|pad|><|pad|><|pad|><|pad|><|pad|><|pad|><|pad|><|pad|><|pad|><|pad|><|pad|><|pad|><|pad|><|pad|><|pad|><|pad|><|pad|><|pad|><|pad|><|pad|><|pad|><|pad|><|pad|><|pad|><|pad|><|pad|><|pad|><|pad|><|pad|><|pad|><|pad|><|pad|><|pad|><|pad|><|pad|><|pad|><|pad|><|pad|><|pad|><|pad|><|pad|><|pad|><|pad|><|pad|><|pad|><|pad|><|pad|><|pad|><|pad|><|pad|><|pad|><|pad|><|pad|><|pad|><|pad|><|pad|><|pad|><|pad|><|pad|><|pad|><|pad|><|pad|><|pad|><|pad|><|pad|><|pad|><|pad|><|pad|><|pad|><|pad|><|pad|><|pad|><|pad|><|pad|><|pad|><|pad|><|pad|><|pad|><|pad|><|pad|><|pad|><|pad|><|pad|><|pad|><|pad|><|pad|><|pad|><|pad|><|pad|><|pad|><|pad|><|pad|><|pad|><|pad|><|pad|><|pad|><|pad|><|pad|><|pad|><|pad|><|pad|><|pad|><|pad|><|pad|><|pad|><|pad|><|endoftext|>A chat between a curious user and an artificial intelligence assistant. The assistant gives helpful, detailed, and polite answers to the user's questions. USER: How is the tennis player feeling?\n",
      "A. angry\n",
      "B. sad\n",
      "C. happy\n",
      "D. tired\n",
      "Answer with the option's letter from the given choices directly. ASSISTANT: C<|endoftext|><|pad|><|pad|><|pad|><|pad|><|pad|><|pad|><|pad|><|pad|><|pad|><|pad|><|pad|><|pad|><|pad|><|pad|><|pad|><|pad|><|pad|><|pad|><|pad|><|pad|><|pad|><|pad|><|pad|><|pad|><|pad|><|pad|><|pad|><|pad|><|pad|><|pad|><|pad|><|pad|><|pad|><|pad|><|pad|><|pad|><|pad|><|pad|><|pad|><|pad|><|pad|><|pad|><|pad|><|pad|><|pad|><|pad|><|pad|><|pad|><|pad|><|pad|><|pad|><|pad|><|pad|><|pad|><|pad|><|pad|><|pad|><|pad|><|pad|><|pad|><|pad|><|pad|><|pad|><|pad|><|pad|><|pad|><|pad|><|pad|><|pad|><|pad|><|pad|><|pad|><|pad|><|pad|><|pad|><|pad|><|pad|><|pad|><|pad|><|pad|><|pad|><|pad|><|pad|><|pad|><|pad|><|pad|><|pad|><|pad|><|pad|><|pad|><|pad|><|pad|><|pad|><|pad|><|pad|><|pad|><|pad|><|pad|><|pad|><|pad|><|pad|><|pad|><|pad|><|pad|><|pad|><|pad|><|pad|><|pad|><|pad|><|pad|><|pad|><|pad|><|pad|><|pad|><|pad|><|pad|><|pad|><|pad|><|pad|><|pad|><|pad|><|pad|><|pad|><|pad|><|pad|><|pad|><|pad|><|pad|><|pad|><|pad|><|pad|><|pad|><|pad|><|pad|><|pad|><|pad|><|pad|><|pad|><|pad|><|pad|><|pad|><|pad|><|pad|><|pad|><|pad|><|pad|><|pad|><|pad|><|pad|><|pad|><|pad|><|pad|><|pad|><|pad|><|pad|><|pad|><|pad|><|pad|><|pad|><|pad|><|pad|><|pad|><|pad|><|pad|><|pad|><|pad|><|pad|><|pad|><|pad|><|pad|><|pad|><|pad|><|pad|><|pad|><|pad|><|pad|><|pad|><|pad|><|pad|><|pad|><|pad|><|pad|><|pad|><|pad|><|pad|><|pad|><|pad|><|pad|><|pad|><|pad|><|pad|><|pad|><|pad|><|pad|><|pad|><|pad|><|pad|><|pad|><|pad|><|pad|><|pad|><|pad|><|pad|><|pad|><|pad|><|pad|><|pad|><|pad|><|pad|><|pad|><|pad|><|pad|><|pad|><|pad|><|pad|><|pad|><|pad|><|pad|><|pad|><|pad|><|pad|><|pad|><|pad|><|pad|><|pad|><|pad|><|pad|><|pad|><|pad|><|pad|><|pad|><|pad|><|pad|><|pad|><|pad|><|pad|><|pad|><|pad|><|pad|><|pad|><|pad|><|pad|><|pad|><|pad|><|pad|><|pad|><|pad|><|pad|><|pad|><|pad|><|pad|><|pad|><|pad|><|pad|><|pad|><|pad|><|pad|><|pad|><|pad|><|pad|><|pad|><|pad|><|pad|><|pad|><|pad|><|pad|><|pad|><|pad|><|pad|><|pad|><|pad|><|pad|><|pad|><|pad|><|pad|><|pad|><|pad|><|pad|><|pad|><|pad|><|pad|><|pad|><|pad|><|pad|><|pad|><|pad|><|pad|><|pad|><|pad|><|pad|><|pad|><|pad|><|pad|><|pad|><|pad|><|pad|><|pad|><|pad|><|pad|><|pad|><|pad|><|pad|><|pad|><|pad|><|pad|><|pad|><|pad|><|pad|><|pad|><|pad|><|pad|><|pad|><|pad|><|pad|><|pad|><|pad|><|pad|><|pad|><|pad|><|pad|><|pad|><|pad|><|pad|><|pad|><|pad|><|pad|><|pad|><|pad|><|pad|><|pad|><|pad|><|pad|><|pad|><|pad|><|pad|><|pad|><|pad|><|pad|><|pad|><|pad|><|pad|><|pad|><|pad|><|pad|><|pad|><|pad|><|pad|><|pad|><|pad|><|pad|><|pad|><|pad|><|pad|><|pad|><|pad|><|pad|><|pad|><|pad|><|pad|><|pad|><|pad|><|pad|><|pad|><|pad|><|pad|><|pad|><|pad|><|pad|><|pad|><|pad|><|pad|><|pad|><|pad|><|pad|><|pad|><|pad|><|pad|><|pad|><|pad|><|pad|><|pad|><|pad|><|pad|><|pad|><|pad|><|pad|><|pad|><|pad|><|pad|><|pad|><|pad|><|pad|><|pad|><|pad|><|pad|><|pad|><|pad|><|pad|><|pad|><|pad|><|pad|><|pad|><|pad|><|pad|><|pad|><|pad|><|pad|><|pad|><|pad|><|pad|><|pad|><|pad|><|pad|><|pad|><|pad|><|pad|><|pad|><|pad|><|pad|><|pad|><|pad|><|pad|><|pad|><|pad|><|pad|><|pad|><|pad|><|pad|><|pad|><|pad|><|pad|><|pad|><|pad|><|pad|><|pad|><|pad|><|pad|><|pad|><|pad|><|pad|><|pad|><|pad|><|pad|><|pad|><|pad|><|pad|><|pad|><|pad|><|pad|><|pad|><|pad|><|pad|><|pad|><|pad|><|pad|><|pad|><|pad|><|pad|><|pad|><|pad|><|pad|><|pad|><|pad|><|pad|><|pad|><|pad|><|pad|><|pad|><|pad|><|pad|><|pad|><|pad|><|pad|><|pad|><|pad|><|pad|><|pad|><|pad|><|pad|><|pad|><|pad|><|pad|><|pad|><|pad|><|pad|><|pad|><|pad|><|pad|><|pad|><|pad|><|pad|><|pad|><|pad|><|pad|><|pad|><|pad|><|pad|><|pad|><|pad|><|pad|><|pad|><|pad|><|pad|><|pad|><|pad|><|pad|><|pad|><|pad|><|pad|><|pad|><|pad|><|pad|><|pad|><|pad|><|pad|><|pad|><|pad|><|pad|><|pad|><|pad|><|pad|><|pad|><|pad|><|pad|><|pad|><|pad|><|pad|><|pad|><|pad|><|pad|><|pad|><|pad|><|pad|><|pad|><|pad|><|pad|><|pad|><|pad|><|pad|><|pad|><|pad|><|pad|><|pad|><|pad|><|pad|><|pad|><|pad|><|pad|><|pad|><|pad|><|pad|><|pad|><|pad|><|pad|><|pad|><|pad|><|pad|><|pad|><|pad|><|pad|><|pad|><|pad|><|pad|><|pad|><|pad|><|pad|><|pad|><|pad|><|pad|><|pad|><|pad|><|pad|><|pad|><|pad|><|pad|><|pad|><|pad|><|pad|><|pad|><|pad|><|pad|><|pad|><|pad|><|pad|><|pad|><|pad|><|pad|><|pad|><|pad|><|pad|><|pad|><|pad|><|pad|><|pad|><|pad|><|pad|><|pad|><|pad|><|pad|><|pad|><|pad|><|pad|><|pad|><|pad|><|pad|><|pad|><|pad|><|pad|><|pad|><|pad|><|pad|><|pad|><|pad|><|pad|><|pad|><|pad|><|pad|><|pad|><|pad|><|pad|><|pad|><|pad|><|pad|><|pad|><|pad|><|pad|><|pad|><|pad|><|pad|><|pad|><|pad|><|pad|><|pad|><|pad|><|pad|><|pad|><|pad|><|pad|><|pad|><|pad|><|pad|><|pad|><|pad|><|pad|><|pad|><|pad|><|pad|><|pad|><|pad|><|pad|><|pad|><|pad|><|pad|><|pad|><|pad|><|pad|><|pad|><|pad|><|pad|><|pad|><|pad|><|pad|><|pad|><|pad|><|pad|><|pad|><|pad|><|pad|><|pad|><|pad|><|pad|><|pad|><|pad|><|pad|><|pad|><|pad|><|pad|><|pad|><|pad|><|pad|><|pad|><|pad|><|pad|><|pad|><|pad|><|pad|><|pad|><|pad|><|pad|><|pad|><|pad|><|pad|><|pad|><|pad|><|pad|><|pad|><|pad|><|pad|><|pad|><|pad|><|pad|><|pad|><|pad|><|pad|><|pad|><|pad|><|pad|><|pad|><|pad|><|pad|><|pad|><|pad|><|pad|><|pad|><|pad|><|pad|><|pad|><|pad|><|pad|><|pad|><|pad|><|pad|><|pad|><|pad|><|pad|><|pad|><|pad|><|pad|><|pad|><|pad|><|pad|><|pad|><|pad|><|pad|><|pad|><|pad|><|pad|><|pad|><|pad|><|pad|><|pad|><|pad|><|pad|><|pad|><|pad|><|pad|><|pad|><|pad|><|pad|><|pad|><|pad|><|pad|><|pad|><|pad|><|pad|><|pad|><|pad|><|pad|><|pad|><|pad|><|pad|><|pad|><|pad|><|pad|><|pad|><|pad|><|pad|><|pad|><|pad|><|pad|><|pad|><|pad|><|pad|><|pad|><|pad|><|pad|><|pad|><|pad|><|pad|><|pad|><|pad|><|pad|><|pad|><|pad|><|pad|><|pad|><|pad|><|pad|><|pad|><|pad|><|pad|><|pad|><|pad|><|pad|><|pad|><|pad|><|pad|><|pad|><|pad|><|pad|><|pad|><|pad|><|pad|><|pad|><|pad|><|pad|><|pad|><|pad|><|pad|><|pad|><|pad|><|pad|><|pad|><|pad|><|pad|><|pad|><|pad|><|pad|><|pad|><|pad|><|pad|><|pad|><|pad|><|pad|><|pad|><|pad|><|pad|><|pad|><|pad|><|pad|><|pad|><|pad|><|pad|><|pad|><|pad|><|pad|><|pad|><|pad|><|pad|><|pad|><|pad|><|pad|><|pad|><|pad|><|pad|><|pad|><|pad|><|pad|><|pad|><|pad|><|pad|><|pad|><|pad|><|pad|><|pad|><|pad|><|pad|><|pad|><|pad|><|pad|><|pad|><|pad|><|pad|><|pad|><|pad|><|pad|><|pad|><|pad|><|pad|><|pad|><|pad|><|pad|><|pad|><|pad|><|pad|><|pad|><|pad|><|pad|><|pad|><|pad|><|pad|><|pad|><|pad|><|pad|><|pad|><|pad|><|pad|><|pad|><|pad|><|pad|><|pad|><|pad|><|pad|><|pad|><|pad|><|pad|><|pad|><|pad|><|pad|><|pad|><|pad|><|pad|><|pad|><|pad|><|pad|><|pad|><|pad|><|pad|><|pad|><|pad|><|pad|><|pad|><|pad|><|pad|><|pad|><|pad|><|pad|><|pad|><|pad|><|pad|><|pad|><|pad|><|pad|><|pad|><|pad|><|pad|><|pad|><|pad|><|pad|><|pad|><|pad|><|pad|><|pad|><|pad|><|pad|><|pad|><|pad|><|pad|><|pad|><|pad|><|pad|><|pad|><|pad|><|pad|><|pad|><|pad|><|pad|><|pad|><|pad|><|pad|><|pad|><|pad|><|pad|><|pad|><|pad|><|pad|><|pad|><|pad|><|pad|><|pad|><|pad|><|pad|><|pad|><|pad|><|pad|><|pad|><|pad|><|pad|><|pad|><|pad|><|pad|><|pad|><|pad|><|pad|><|pad|><|pad|><|pad|><|pad|><|pad|><|pad|><|pad|><|pad|><|pad|><|pad|><|pad|><|pad|><|pad|><|pad|><|pad|><|pad|><|pad|><|pad|><|pad|><|pad|><|pad|><|pad|><|pad|><|pad|><|pad|><|pad|><|pad|><|pad|><|pad|><|pad|><|pad|><|pad|><|pad|><|pad|><|pad|><|pad|><|pad|><|pad|><|pad|><|pad|><|pad|><|pad|><|pad|><|pad|><|pad|><|pad|><|pad|><|pad|><|pad|><|pad|><|pad|><|pad|><|pad|><|pad|><|pad|><|pad|><|pad|><|pad|><|pad|><|pad|><|pad|><|pad|><|pad|><|pad|><|pad|><|pad|><|pad|><|pad|><|pad|><|pad|><|pad|><|pad|><|pad|><|pad|><|pad|><|pad|><|pad|><|pad|><|pad|><|pad|><|pad|><|pad|><|pad|><|pad|><|pad|><|pad|><|pad|><|pad|><|pad|><|pad|><|pad|><|pad|><|pad|><|pad|><|pad|><|pad|><|pad|><|pad|><|pad|><|pad|><|pad|><|pad|><|pad|><|pad|><|pad|><|pad|><|pad|><|pad|><|pad|><|pad|><|pad|><|pad|><|pad|><|pad|><|pad|><|pad|><|pad|><|pad|><|pad|><|pad|><|pad|><|pad|><|pad|><|pad|><|pad|><|pad|><|pad|><|pad|><|pad|><|pad|><|pad|><|pad|><|pad|><|pad|><|pad|><|pad|><|pad|><|pad|><|pad|><|pad|><|pad|><|pad|><|pad|><|pad|><|pad|><|pad|><|pad|><|pad|><|pad|><|pad|><|pad|><|pad|><|pad|><|pad|><|pad|><|pad|><|pad|><|pad|><|pad|><|pad|><|pad|><|pad|><|pad|><|pad|><|pad|><|pad|><|pad|><|pad|><|pad|><|pad|><|pad|><|pad|><|pad|><|pad|><|pad|><|pad|><|pad|><|pad|><|pad|><|pad|><|pad|><|pad|><|pad|><|pad|><|pad|><|pad|><|pad|><|pad|><|pad|><|pad|><|pad|><|pad|><|pad|><|pad|><|pad|><|pad|><|pad|><|pad|><|pad|><|pad|><|pad|><|pad|><|pad|><|pad|><|pad|><|pad|><|pad|><|pad|><|pad|><|pad|><|pad|><|pad|><|pad|><|pad|><|pad|><|pad|><|pad|><|pad|><|pad|><|pad|><|pad|><|pad|><|pad|><|pad|><|pad|><|pad|><|pad|><|pad|><|pad|><|pad|><|pad|><|pad|><|pad|><|pad|><|pad|><|pad|><|pad|><|pad|><|pad|><|pad|><|pad|><|pad|><|pad|><|pad|><|pad|><|pad|><|pad|><|pad|><|pad|><|pad|><|pad|><|pad|><|pad|><|pad|><|pad|><|pad|><|pad|><|pad|><|pad|><|pad|><|pad|><|pad|><|pad|><|pad|><|pad|><|pad|><|pad|><|pad|><|pad|><|pad|><|pad|><|pad|><|pad|><|pad|><|pad|><|pad|><|pad|><|pad|><|pad|><|pad|><|pad|><|pad|><|pad|><|pad|><|pad|><|pad|><|pad|><|pad|><|pad|><|pad|><|pad|><|pad|><|pad|><|pad|><|pad|><|pad|><|pad|><|pad|><|pad|><|pad|><|pad|><|pad|><|pad|><|pad|><|pad|><|pad|><|pad|><|pad|><|pad|><|pad|><|pad|><|pad|><|pad|><|pad|><|pad|><|pad|><|pad|><|pad|><|pad|><|pad|><|pad|><|pad|><|pad|><|pad|><|pad|><|pad|><|pad|><|pad|><|pad|><|pad|><|pad|><|pad|><|pad|><|pad|><|pad|><|pad|><|pad|><|pad|><|pad|><|pad|><|pad|><|pad|><|pad|><|pad|><|pad|><|pad|><|pad|><|pad|><|pad|><|pad|><|pad|><|pad|><|pad|><|pad|><|pad|><|pad|><|pad|><|pad|><|pad|><|pad|><|pad|><|pad|><|pad|><|pad|><|pad|><|pad|><|pad|><|pad|><|pad|><|pad|><|pad|><|pad|><|pad|><|pad|><|pad|><|pad|><|pad|><|pad|><|pad|><|pad|><|pad|><|pad|><|pad|><|pad|><|pad|><|pad|><|pad|><|pad|><|pad|><|pad|><|pad|><|pad|><|pad|><|pad|><|pad|><|pad|><|pad|><|pad|><|pad|><|pad|><|pad|><|pad|><|pad|><|pad|><|pad|><|pad|><|pad|><|pad|><|pad|><|pad|><|pad|><|pad|><|pad|><|pad|><|pad|><|pad|><|pad|><|pad|><|pad|><|pad|><|pad|><|pad|><|pad|><|pad|><|pad|><|pad|><|pad|><|pad|><|pad|><|pad|><|pad|><|pad|><|pad|><|pad|><|pad|><|pad|><|pad|><|pad|><|pad|><|pad|><|pad|><|pad|><|pad|><|pad|><|pad|><|pad|><|pad|><|pad|><|pad|><|pad|><|pad|><|pad|><|pad|><|pad|><|pad|><|pad|><|pad|><|pad|><|pad|><|pad|><|pad|><|pad|><|pad|><|pad|><|pad|><|pad|><|pad|><|pad|><|pad|><|pad|><|pad|><|pad|><|pad|><|pad|><|pad|><|pad|><|pad|><|pad|><|pad|><|pad|><|pad|><|pad|><|pad|><|pad|><|pad|><|pad|><|pad|><|pad|><|pad|><|pad|><|pad|><|pad|><|pad|><|pad|><|pad|><|pad|><|pad|><|pad|><|pad|><|pad|><|pad|><|pad|><|pad|><|pad|><|pad|><|pad|><|pad|><|pad|><|pad|><|pad|><|pad|><|pad|><|pad|><|pad|><|pad|><|pad|><|pad|><|pad|><|pad|><|pad|><|pad|><|pad|><|pad|><|pad|><|pad|><|pad|><|pad|><|pad|><|pad|><|pad|><|pad|><|pad|><|pad|><|pad|><|pad|><|pad|><|pad|><|pad|><|pad|><|pad|><|pad|><|pad|><|pad|><|pad|><|pad|><|pad|><|pad|><|pad|><|pad|><|pad|><|pad|><|pad|><|pad|><|pad|><|pad|><|pad|><|pad|><|pad|><|pad|><|pad|><|pad|><|pad|><|pad|><|pad|><|pad|><|pad|><|pad|><|pad|><|pad|><|pad|><|pad|><|pad|><|pad|><|pad|><|pad|><|pad|><|pad|><|pad|><|pad|><|pad|><|pad|><|pad|><|pad|><|pad|><|pad|><|pad|><|pad|><|pad|><|pad|><|pad|><|pad|><|pad|><|pad|><|pad|><|pad|><|pad|><|pad|><|pad|><|pad|><|pad|><|pad|><|pad|><|pad|><|pad|><|pad|><|pad|><|pad|><|pad|><|pad|><|pad|><|pad|><|pad|><|pad|><|pad|><|pad|><|pad|><|pad|><|pad|><|pad|><|pad|><|pad|><|pad|><|pad|><|pad|><|pad|><|pad|><|pad|><|pad|><|pad|><|pad|><|pad|><|pad|><|pad|><|pad|><|pad|><|pad|><|pad|><|pad|><|pad|><|pad|><|pad|><|pad|><|pad|><|pad|><|pad|><|pad|><|pad|><|pad|><|pad|><|pad|><|pad|><|pad|><|pad|><|pad|><|pad|><|pad|><|pad|><|pad|><|pad|><|pad|><|pad|><|pad|><|pad|><|pad|><|pad|><|pad|><|pad|><|pad|><|pad|><|pad|><|pad|><|pad|><|pad|><|pad|><|pad|><|pad|><|pad|><|pad|><|pad|><|pad|><|pad|><|pad|><|pad|><|pad|><|pad|><|pad|><|pad|><|pad|><|pad|><|pad|><|pad|><|pad|><|pad|><|pad|><|pad|><|pad|><|pad|><|pad|><|pad|><|pad|><|pad|><|pad|><|pad|><|pad|><|pad|><|pad|><|pad|><|pad|><|pad|><|pad|><|pad|><|pad|><|pad|><|pad|><|pad|><|pad|><|pad|><|pad|><|pad|><|pad|><|pad|><|pad|><|pad|><|pad|><|pad|><|pad|><|pad|><|pad|><|pad|><|pad|><|pad|><|pad|><|pad|><|pad|><|pad|><|pad|><|pad|><|pad|><|pad|><|pad|><|pad|><|pad|><|pad|><|pad|><|pad|><|pad|><|pad|><|pad|><|pad|><|pad|><|pad|><|pad|><|pad|><|pad|><|pad|><|pad|><|pad|><|pad|><|pad|><|pad|><|pad|><|pad|><|pad|><|pad|><|pad|><|pad|><|pad|><|pad|><|pad|><|pad|><|pad|><|pad|><|pad|><|pad|><|pad|><|pad|><|pad|><|pad|><|pad|><|pad|><|pad|><|pad|><|pad|><|pad|><|pad|><|pad|><|pad|><|pad|><|pad|><|pad|><|pad|><|pad|><|pad|><|pad|><|pad|><|pad|><|pad|><|pad|><|pad|><|pad|><|pad|><|pad|><|pad|><|pad|><|pad|><|pad|><|pad|><|pad|><|pad|><|pad|><|pad|><|pad|><|pad|><|pad|><|pad|><|pad|><|pad|><|pad|><|pad|><|pad|><|pad|><|pad|><|pad|><|pad|><|pad|><|pad|><|pad|><|pad|><|pad|><|pad|><|pad|><|pad|><|pad|><|pad|><|pad|><|pad|><|pad|><|pad|><|pad|><|pad|><|pad|><|pad|><|pad|><|pad|><|pad|><|pad|><|pad|><|pad|><|pad|><|pad|><|pad|><|pad|><|pad|><|pad|><|pad|><|pad|><|pad|><|pad|><|pad|><|pad|><|pad|><|pad|><|pad|><|pad|><|pad|><|pad|><|pad|><|pad|><|pad|><|pad|><|pad|><|pad|><|pad|><|pad|><|pad|><|pad|><|pad|><|pad|><|pad|><|pad|><|pad|><|pad|><|pad|><|pad|><|pad|><|pad|><|pad|><|pad|><|pad|><|pad|><|pad|><|pad|><|pad|><|pad|><|pad|><|pad|><|pad|><|pad|><|pad|><|pad|><|pad|><|pad|><|pad|><|pad|><|pad|><|pad|><|pad|><|pad|><|pad|><|pad|><|pad|><|pad|><|pad|><|pad|><|pad|><|pad|><|pad|><|pad|><|pad|><|pad|><|pad|><|pad|><|pad|><|pad|><|pad|><|pad|><|pad|><|pad|><|pad|><|pad|><|pad|><|pad|><|pad|><|pad|><|pad|><|pad|><|pad|><|pad|><|pad|><|pad|><|pad|><|pad|><|pad|><|pad|><|pad|><|pad|><|pad|><|pad|><|pad|><|pad|><|pad|><|pad|><|pad|><|pad|><|pad|><|pad|><|pad|><|pad|><|pad|><|pad|><|pad|><|pad|><|pad|><|pad|><|pad|><|pad|><|pad|><|pad|><|pad|><|pad|><|pad|><|pad|><|pad|><|pad|><|pad|><|pad|><|pad|><|pad|><|pad|><|pad|><|pad|><|pad|><|pad|><|pad|><|pad|><|pad|><|pad|><|pad|><|pad|><|pad|><|pad|><|pad|><|pad|><|pad|><|pad|><|pad|><|pad|><|pad|><|pad|><|endoftext|>A chat between a curious user and an artificial intelligence assistant. The assistant gives helpful, detailed, and polite answers to the user's questions. USER: Which kind of animal is it?\n",
      "Answer the question using a single word or phrase. ASSISTANT: Dog<|endoftext|><|pad|><|pad|><|pad|><|pad|><|pad|><|pad|><|pad|><|pad|><|pad|><|pad|><|pad|><|pad|><|pad|><|pad|><|pad|><|pad|><|pad|><|pad|><|pad|><|pad|><|pad|><|pad|><|pad|><|pad|><|pad|><|pad|><|pad|><|pad|><|pad|><|pad|><|pad|><|pad|><|pad|><|pad|><|pad|><|pad|><|pad|><|pad|><|pad|><|pad|><|pad|><|pad|><|pad|><|pad|><|pad|><|pad|><|pad|><|pad|><|pad|><|pad|><|pad|><|pad|><|pad|><|pad|><|pad|><|pad|><|pad|><|pad|><|pad|><|pad|><|pad|><|pad|><|pad|><|pad|><|pad|><|pad|><|pad|><|pad|><|pad|><|pad|><|pad|><|pad|><|pad|><|pad|><|pad|><|pad|><|pad|><|pad|><|pad|><|pad|><|pad|><|pad|><|pad|><|pad|><|pad|><|pad|><|pad|><|pad|><|pad|><|pad|><|pad|><|pad|><|pad|><|pad|><|pad|><|pad|><|pad|><|pad|><|pad|><|pad|><|pad|><|pad|><|pad|><|pad|><|pad|><|pad|><|pad|><|pad|><|pad|><|pad|><|pad|><|pad|><|pad|><|pad|><|pad|><|pad|><|pad|><|pad|><|pad|><|pad|><|pad|><|pad|><|pad|><|pad|><|pad|><|pad|><|pad|><|pad|><|pad|><|pad|><|pad|><|pad|><|pad|><|pad|><|pad|><|pad|><|pad|><|pad|><|pad|><|pad|><|pad|><|pad|><|pad|><|pad|><|pad|><|pad|><|pad|><|pad|><|pad|><|pad|><|pad|><|pad|><|pad|><|pad|><|pad|><|pad|><|pad|><|pad|><|pad|><|pad|><|pad|><|pad|><|pad|><|pad|><|pad|><|pad|><|pad|><|pad|><|pad|><|pad|><|pad|><|pad|><|pad|><|pad|><|pad|><|pad|><|pad|><|pad|><|pad|><|pad|><|pad|><|pad|><|pad|><|pad|><|pad|><|pad|><|pad|><|pad|><|pad|><|pad|><|pad|><|pad|><|pad|><|pad|><|pad|><|pad|><|pad|><|pad|><|pad|><|pad|><|pad|><|pad|><|pad|><|pad|><|pad|><|pad|><|pad|><|pad|><|pad|><|pad|><|pad|><|pad|><|pad|><|pad|><|pad|><|pad|><|pad|><|pad|><|pad|><|pad|><|pad|><|pad|><|pad|><|pad|><|pad|><|pad|><|pad|><|pad|><|pad|><|pad|><|pad|><|pad|><|pad|><|pad|><|pad|><|pad|><|pad|><|pad|><|pad|><|pad|><|pad|><|pad|><|pad|><|pad|><|pad|><|pad|><|pad|><|pad|><|pad|><|pad|><|pad|><|pad|><|pad|><|pad|><|pad|><|pad|><|pad|><|pad|><|pad|><|pad|><|pad|><|pad|><|pad|><|pad|><|pad|><|pad|><|pad|><|pad|><|pad|><|pad|><|pad|><|pad|><|pad|><|pad|><|pad|><|pad|><|pad|><|pad|><|pad|><|pad|><|pad|><|pad|><|pad|><|pad|><|pad|><|pad|><|pad|><|pad|><|pad|><|pad|><|pad|><|pad|><|pad|><|pad|><|pad|><|pad|><|pad|><|pad|><|pad|><|pad|><|pad|><|pad|><|pad|><|pad|><|pad|><|pad|><|pad|><|pad|><|pad|><|pad|><|pad|><|pad|><|pad|><|pad|><|pad|><|pad|><|pad|><|pad|><|pad|><|pad|><|pad|><|pad|><|pad|><|pad|><|pad|><|pad|><|pad|><|pad|><|pad|><|pad|><|pad|><|pad|><|pad|><|pad|><|pad|><|pad|><|pad|><|pad|><|pad|><|pad|><|pad|><|pad|><|pad|><|pad|><|pad|><|pad|><|pad|><|pad|><|pad|><|pad|><|pad|><|pad|><|pad|><|pad|><|pad|><|pad|><|pad|><|pad|><|pad|><|pad|><|pad|><|pad|><|pad|><|pad|><|pad|><|pad|><|pad|><|pad|><|pad|><|pad|><|pad|><|pad|><|pad|><|pad|><|pad|><|pad|><|pad|><|pad|><|pad|><|pad|><|pad|><|pad|><|pad|><|pad|><|pad|><|pad|><|pad|><|pad|><|pad|><|pad|><|pad|><|pad|><|pad|><|pad|><|pad|><|pad|><|pad|><|pad|><|pad|><|pad|><|pad|><|pad|><|pad|><|pad|><|pad|><|pad|><|pad|><|pad|><|pad|><|pad|><|pad|><|pad|><|pad|><|pad|><|pad|><|pad|><|pad|><|pad|><|pad|><|pad|><|pad|><|pad|><|pad|><|pad|><|pad|><|pad|><|pad|><|pad|><|pad|><|pad|><|pad|><|pad|><|pad|><|pad|><|pad|><|pad|><|pad|><|pad|><|pad|><|pad|><|pad|><|pad|><|pad|><|pad|><|pad|><|pad|><|pad|><|pad|><|pad|><|pad|><|pad|><|pad|><|pad|><|pad|><|pad|><|pad|><|pad|><|pad|><|pad|><|pad|><|pad|><|pad|><|pad|><|pad|><|pad|><|pad|><|pad|><|pad|><|pad|><|pad|><|pad|><|pad|><|pad|><|pad|><|pad|><|pad|><|pad|><|pad|><|pad|><|pad|><|pad|><|pad|><|pad|><|pad|><|pad|><|pad|><|pad|><|pad|><|pad|><|pad|><|pad|><|pad|><|pad|><|pad|><|pad|><|pad|><|pad|><|pad|><|pad|><|pad|><|pad|><|pad|><|pad|><|pad|><|pad|><|pad|><|pad|><|pad|><|pad|><|pad|><|pad|><|pad|><|pad|><|pad|><|pad|><|pad|><|pad|><|pad|><|pad|><|pad|><|pad|><|pad|><|pad|><|pad|><|pad|><|pad|><|pad|><|pad|><|pad|><|pad|><|pad|><|pad|><|pad|><|pad|><|pad|><|pad|><|pad|><|pad|><|pad|><|pad|><|pad|><|pad|><|pad|><|pad|><|pad|><|pad|><|pad|><|pad|><|pad|><|pad|><|pad|><|pad|><|pad|><|pad|><|pad|><|pad|><|pad|><|pad|><|pad|><|pad|><|pad|><|pad|><|pad|><|pad|><|pad|><|pad|><|pad|><|pad|><|pad|><|pad|><|pad|><|pad|><|pad|><|pad|><|pad|><|pad|><|pad|><|pad|><|pad|><|pad|><|pad|><|pad|><|pad|><|pad|><|pad|><|pad|><|pad|><|pad|><|pad|><|pad|><|pad|><|pad|><|pad|><|pad|><|pad|><|pad|><|pad|><|pad|><|pad|><|pad|><|pad|><|pad|><|pad|><|pad|><|pad|><|pad|><|pad|><|pad|><|pad|><|pad|><|pad|><|pad|><|pad|><|pad|><|pad|><|pad|><|pad|><|pad|><|pad|><|pad|><|pad|><|pad|><|pad|><|pad|><|pad|><|pad|><|pad|><|pad|><|pad|><|pad|><|pad|><|pad|><|pad|><|pad|><|pad|><|pad|><|pad|><|pad|><|pad|><|pad|><|pad|><|pad|><|pad|><|pad|><|pad|><|pad|><|pad|><|pad|><|pad|><|pad|><|pad|><|pad|><|pad|><|pad|><|pad|><|pad|><|pad|><|pad|><|pad|><|pad|><|pad|><|pad|><|pad|><|pad|><|pad|><|pad|><|pad|><|pad|><|pad|><|pad|><|pad|><|pad|><|pad|><|pad|><|pad|><|pad|><|pad|><|pad|><|pad|><|pad|><|pad|><|pad|><|pad|><|pad|><|pad|><|pad|><|pad|><|pad|><|pad|><|pad|><|pad|><|pad|><|pad|><|pad|><|pad|><|pad|><|pad|><|pad|><|pad|><|pad|><|pad|><|pad|><|pad|><|pad|><|pad|><|pad|><|pad|><|pad|><|pad|><|pad|><|pad|><|pad|><|pad|><|pad|><|pad|><|pad|><|pad|><|pad|><|pad|><|pad|><|pad|><|pad|><|pad|><|pad|><|pad|><|pad|><|pad|><|pad|><|pad|><|pad|><|pad|><|pad|><|pad|><|pad|><|pad|><|pad|><|pad|><|pad|><|pad|><|pad|><|pad|><|pad|><|pad|><|pad|><|pad|><|pad|><|pad|><|pad|><|pad|><|pad|><|pad|><|pad|><|pad|><|pad|><|pad|><|pad|><|pad|><|pad|><|pad|><|pad|><|pad|><|pad|><|pad|><|pad|><|pad|><|pad|><|pad|><|pad|><|pad|><|pad|><|pad|><|pad|><|pad|><|pad|><|pad|><|pad|><|pad|><|pad|><|pad|><|pad|><|pad|><|pad|><|pad|><|pad|><|pad|><|pad|><|pad|><|pad|><|pad|><|pad|><|pad|><|pad|><|pad|><|pad|><|pad|><|pad|><|pad|><|pad|><|pad|><|pad|><|pad|><|pad|><|pad|><|pad|><|pad|><|pad|><|pad|><|pad|><|pad|><|pad|><|pad|><|pad|><|pad|><|pad|><|pad|><|pad|><|pad|><|pad|><|pad|><|pad|><|pad|><|pad|><|pad|><|pad|><|pad|><|pad|><|pad|><|pad|><|pad|><|pad|><|pad|><|pad|><|pad|><|pad|><|pad|><|pad|><|pad|><|pad|><|pad|><|pad|><|pad|><|pad|><|pad|><|pad|><|pad|><|pad|><|pad|><|pad|><|pad|><|pad|><|pad|><|pad|><|pad|><|pad|><|pad|><|pad|><|pad|><|pad|><|pad|><|pad|><|pad|><|pad|><|pad|><|pad|><|pad|><|pad|><|pad|><|pad|><|pad|><|pad|><|pad|><|pad|><|pad|><|pad|><|pad|><|pad|><|pad|><|pad|><|pad|><|pad|><|pad|><|pad|><|pad|><|pad|><|pad|><|pad|><|pad|><|pad|><|pad|><|pad|><|pad|><|pad|><|pad|><|pad|><|pad|><|pad|><|pad|><|pad|><|pad|><|pad|><|pad|><|pad|><|pad|><|pad|><|pad|><|pad|><|pad|><|pad|><|pad|><|pad|><|pad|><|pad|><|pad|><|pad|><|pad|><|pad|><|pad|><|pad|><|pad|><|pad|><|pad|><|pad|><|pad|><|pad|><|pad|><|pad|><|pad|><|pad|><|pad|><|pad|><|pad|><|pad|><|pad|><|pad|><|pad|><|pad|><|pad|><|pad|><|pad|><|pad|><|pad|><|pad|><|pad|><|pad|><|pad|><|pad|><|pad|><|pad|><|pad|><|pad|><|pad|><|pad|><|pad|><|pad|><|pad|><|pad|><|pad|><|pad|><|pad|><|pad|><|pad|><|pad|><|pad|><|pad|><|pad|><|pad|><|pad|><|pad|><|pad|><|pad|><|pad|><|pad|><|pad|><|pad|><|pad|><|pad|><|pad|><|pad|><|pad|><|pad|><|pad|><|pad|><|pad|><|pad|><|pad|><|pad|><|pad|><|pad|><|pad|><|pad|><|pad|><|pad|><|pad|><|pad|><|pad|><|pad|><|pad|><|pad|><|pad|><|pad|><|pad|><|pad|><|pad|><|pad|><|pad|><|pad|><|pad|><|pad|><|pad|><|pad|><|pad|><|pad|><|pad|><|pad|><|pad|><|pad|><|pad|><|pad|><|pad|><|pad|><|pad|><|pad|><|pad|><|pad|><|pad|><|pad|><|pad|><|pad|><|pad|><|pad|><|pad|><|pad|><|pad|><|pad|><|pad|><|pad|><|pad|><|pad|><|pad|><|pad|><|pad|><|pad|><|pad|><|pad|><|pad|><|pad|><|pad|><|pad|><|pad|><|pad|><|pad|><|pad|><|pad|><|pad|><|pad|><|pad|><|pad|><|pad|><|pad|><|pad|><|pad|><|pad|><|pad|><|pad|><|pad|><|pad|><|pad|><|pad|><|pad|><|pad|><|pad|><|pad|><|pad|><|pad|><|pad|><|pad|><|pad|><|pad|><|pad|><|pad|><|pad|><|pad|><|pad|><|pad|><|pad|><|pad|><|pad|><|pad|><|pad|><|pad|><|pad|><|pad|><|pad|><|pad|><|pad|><|pad|><|pad|><|pad|><|pad|><|pad|><|pad|><|pad|><|pad|><|pad|><|pad|><|pad|><|pad|><|pad|><|pad|><|pad|><|pad|><|pad|><|pad|><|pad|><|pad|><|pad|><|pad|><|pad|><|pad|><|pad|><|pad|><|pad|><|pad|><|pad|><|pad|><|pad|><|pad|><|pad|><|pad|><|pad|><|pad|><|pad|><|pad|><|pad|><|pad|><|pad|><|pad|><|pad|><|pad|><|pad|><|pad|><|pad|><|pad|><|pad|><|pad|><|pad|><|pad|><|pad|><|pad|><|pad|><|pad|><|pad|><|pad|><|pad|><|pad|><|pad|><|pad|><|pad|><|pad|><|pad|><|pad|><|pad|><|pad|><|pad|><|pad|><|pad|><|pad|><|pad|><|pad|><|pad|><|pad|><|pad|><|pad|><|pad|><|pad|><|pad|><|pad|><|pad|><|pad|><|pad|><|pad|><|pad|><|pad|><|pad|><|pad|><|pad|><|pad|><|pad|><|pad|><|pad|><|pad|><|pad|><|pad|><|pad|><|pad|><|pad|><|pad|><|pad|><|pad|><|pad|><|pad|><|pad|><|pad|><|pad|><|pad|><|pad|><|pad|><|pad|><|pad|><|pad|><|pad|><|pad|><|pad|><|pad|><|pad|><|pad|><|pad|><|pad|><|pad|><|pad|><|pad|><|pad|><|pad|><|pad|><|pad|><|pad|><|pad|><|pad|><|pad|><|pad|><|pad|><|pad|><|pad|><|pad|><|pad|><|pad|><|pad|><|pad|><|pad|><|pad|><|pad|><|pad|><|pad|><|pad|><|pad|><|pad|><|pad|><|pad|><|pad|><|pad|><|pad|><|pad|><|pad|><|pad|><|pad|><|pad|><|pad|><|pad|><|pad|><|pad|><|pad|><|pad|><|pad|><|pad|><|pad|><|pad|><|pad|><|pad|><|pad|><|pad|><|pad|><|pad|><|pad|><|pad|><|pad|><|pad|><|pad|><|pad|><|pad|><|pad|><|pad|><|pad|><|pad|><|pad|><|pad|><|pad|><|pad|><|pad|><|pad|><|pad|><|pad|><|pad|><|pad|><|pad|><|pad|><|pad|><|pad|><|pad|><|pad|><|pad|><|pad|><|pad|><|pad|><|pad|><|pad|><|pad|><|pad|><|pad|><|pad|><|pad|><|pad|><|pad|><|pad|><|pad|><|pad|><|pad|><|pad|><|pad|><|pad|><|pad|><|pad|><|pad|><|pad|><|pad|><|pad|><|pad|><|pad|><|pad|><|pad|><|pad|><|pad|><|pad|><|pad|><|pad|><|pad|><|pad|><|pad|><|pad|><|pad|><|pad|><|pad|><|pad|><|pad|><|pad|><|pad|><|pad|><|pad|><|pad|><|pad|><|pad|><|pad|><|pad|><|pad|><|pad|><|pad|><|pad|><|pad|><|pad|><|pad|><|pad|><|pad|><|pad|><|pad|><|pad|><|pad|><|pad|><|pad|><|pad|><|pad|><|pad|><|pad|><|pad|><|pad|><|pad|><|pad|><|pad|><|pad|><|pad|><|pad|><|pad|><|pad|><|pad|><|pad|><|pad|><|pad|><|pad|><|pad|><|pad|><|pad|><|pad|><|pad|><|pad|><|pad|><|pad|><|pad|><|pad|><|pad|><|pad|><|pad|><|pad|><|pad|><|pad|><|pad|><|pad|><|pad|><|pad|><|pad|><|pad|><|pad|><|pad|><|pad|><|pad|><|pad|><|pad|><|pad|><|pad|><|pad|><|pad|><|pad|><|pad|><|pad|><|pad|><|pad|><|pad|><|pad|><|pad|><|pad|><|pad|><|pad|><|pad|><|pad|><|pad|><|pad|><|pad|><|pad|><|pad|><|pad|><|pad|><|pad|><|pad|><|pad|><|pad|><|pad|><|pad|><|pad|><|pad|><|pad|><|pad|><|pad|><|pad|><|pad|><|pad|><|pad|><|pad|><|pad|><|pad|><|pad|><|pad|><|pad|><|pad|><|pad|><|pad|><|pad|><|pad|><|pad|><|pad|><|pad|><|pad|><|pad|><|pad|><|pad|><|pad|><|pad|><|pad|><|pad|><|pad|><|pad|><|pad|><|pad|><|pad|><|pad|><|pad|><|pad|><|pad|><|pad|><|pad|><|pad|><|pad|><|pad|><|pad|><|pad|><|pad|><|pad|><|pad|><|pad|><|pad|><|pad|><|pad|><|pad|><|pad|><|pad|><|pad|><|pad|><|pad|><|pad|><|pad|><|pad|><|pad|><|pad|><|pad|><|pad|><|pad|><|pad|><|pad|><|pad|><|pad|><|pad|><|pad|><|pad|><|pad|><|pad|><|pad|><|pad|><|pad|><|pad|><|pad|><|pad|><|pad|><|pad|><|pad|><|pad|><|pad|><|pad|><|pad|><|pad|><|pad|><|pad|><|pad|><|pad|><|pad|><|pad|><|pad|><|pad|><|pad|><|pad|><|pad|><|pad|><|pad|><|pad|><|pad|><|pad|><|pad|><|pad|><|pad|><|pad|><|pad|><|pad|><|pad|><|pad|><|pad|><|pad|><|pad|><|pad|><|pad|><|pad|><|pad|><|pad|><|pad|><|pad|><|pad|><|pad|><|pad|><|pad|><|pad|><|pad|><|pad|><|pad|><|pad|><|pad|><|pad|><|pad|><|pad|><|pad|><|pad|><|pad|><|pad|><|pad|><|pad|><|pad|><|pad|><|pad|><|pad|><|pad|><|pad|><|pad|><|pad|><|pad|><|pad|><|pad|><|pad|><|pad|><|pad|><|pad|><|pad|><|pad|><|pad|><|pad|><|pad|><|pad|><|pad|><|pad|><|pad|><|pad|><|pad|><|pad|><|pad|><|pad|><|pad|><|pad|><|pad|><|pad|><|pad|><|pad|><|pad|><|pad|><|pad|><|pad|><|pad|><|pad|><|pad|><|pad|><|pad|><|pad|><|pad|><|pad|><|pad|><|pad|><|pad|><|pad|><|pad|><|pad|><|pad|><|pad|><|pad|><|pad|><|pad|><|pad|><|pad|><|pad|><|pad|><|pad|><|pad|><|pad|><|pad|><|pad|><|pad|><|pad|><|pad|><|pad|><|pad|><|pad|><|pad|><|pad|><|pad|><|pad|><|pad|><|pad|><|pad|><|pad|><|pad|><|pad|><|pad|><|pad|><|pad|><|pad|><|pad|><|pad|><|pad|><|pad|><|pad|><|pad|><|pad|><|pad|><|pad|><|pad|><|pad|><|pad|><|pad|><|pad|><|pad|><|pad|><|pad|><|pad|><|pad|><|pad|><|pad|><|pad|><|pad|><|pad|><|pad|><|pad|><|pad|><|pad|><|pad|><|pad|><|pad|><|pad|><|pad|><|pad|><|pad|><|pad|><|pad|><|pad|><|pad|><|pad|><|pad|><|pad|><|pad|><|pad|><|pad|><|pad|><|pad|><|pad|><|pad|><|pad|><|pad|><|pad|><|pad|><|pad|><|pad|><|pad|><|pad|><|pad|><|pad|><|pad|><|pad|><|pad|><|pad|><|pad|><|pad|><|pad|><|pad|><|pad|><|pad|><|pad|><|pad|><|pad|><|pad|><|pad|><|pad|><|pad|><|pad|><|pad|><|pad|><|pad|><|pad|><|pad|><|pad|><|pad|><|pad|><|pad|><|pad|><|pad|><|pad|><|pad|><|pad|><|pad|><|pad|><|pad|><|pad|><|pad|><|pad|><|pad|><|pad|><|pad|><|pad|><|pad|><|pad|><|pad|><|pad|><|pad|><|pad|><|pad|><|pad|><|pad|><|pad|><|pad|><|pad|><|pad|><|pad|><|pad|><|pad|><|pad|><|pad|><|pad|><|pad|><|pad|><|pad|><|pad|><|pad|><|pad|><|pad|><|pad|><|pad|><|pad|><|pad|><|pad|><|pad|><|pad|><|pad|><|pad|><|pad|><|pad|><|pad|><|pad|><|pad|><|pad|><|pad|><|pad|><|pad|><|pad|><|pad|><|pad|><|pad|><|pad|><|pad|><|pad|><|pad|><|pad|><|pad|><|pad|><|pad|><|pad|><|pad|><|pad|><|pad|><|pad|><|pad|><|pad|><|pad|><|pad|><|pad|><|pad|><|pad|><|pad|><|pad|><|pad|><|pad|><|pad|><|pad|><|pad|><|pad|><|pad|><|pad|><|pad|><|pad|><|pad|><|pad|><|pad|><|pad|><|pad|><|pad|><|pad|><|pad|><|pad|><|pad|><|pad|><|pad|><|pad|><|pad|><|pad|><|pad|><|pad|><|pad|><|pad|><|pad|><|pad|><|pad|><|pad|><|pad|><|pad|><|pad|><|pad|><|pad|><|pad|><|pad|><|pad|><|pad|><|pad|><|pad|><|pad|><|pad|><|pad|><|pad|><|pad|><|pad|><|pad|><|pad|><|pad|><|pad|><|pad|><|pad|><|pad|><|pad|><|pad|><|pad|><|pad|><|pad|><|pad|><|pad|><|pad|><|pad|><|pad|><|pad|><|pad|><|pad|><|pad|><|pad|><|pad|><|pad|><|pad|><|pad|><|pad|><|pad|><|pad|><|pad|><|pad|><|pad|><|pad|><|pad|><|pad|><|pad|><|pad|><|pad|><|pad|><|pad|><|pad|><|pad|><|pad|><|pad|><|pad|><|pad|><|pad|><|pad|><|pad|><|pad|><|pad|><|pad|><|pad|><|pad|><|pad|><|pad|><|pad|><|pad|><|pad|><|pad|><|pad|><|pad|><|pad|><|pad|><|pad|><|pad|><|pad|><|pad|><|pad|><|pad|><|pad|><|pad|><|pad|><|pad|><|pad|><|pad|><|pad|><|pad|><|pad|><|pad|><|pad|><|pad|><|pad|><|pad|><|pad|><|pad|><|pad|><|pad|><|pad|><|pad|><|pad|><|pad|><|pad|><|pad|><|pad|>\n",
      "Labels: No<|endoftext|>Yes<|endoftext|>No<|endoftext|>Men<|endoftext|>2<|endoftext|>Watch<|endoftext|>Wii remote<|endoftext|>Yes<|endoftext|>Gray<|endoftext|>Shirt<|endoftext|>No<|endoftext|>No<|endoftext|>Wii remote<|endoftext|>Wii<|endoftext|>Yes<|endoftext|>White<|endoftext|>Nowhere<|endoftext|>Nothing<|endoftext|>Yes<|endoftext|>No<|endoftext|>Tv<|endoftext|>He isn't<|endoftext|>Wii<|endoftext|>Wii controller<|endoftext|>Wii<|endoftext|>No<|endoftext|>4<|endoftext|>Living room<|endoftext|>Living room<|endoftext|>Wii remotes<|endoftext|>Yes<|endoftext|>Wii remote<|endoftext|>Glasses<|endoftext|>No<|endoftext|>2<|endoftext|>Asian<|endoftext|>0<|endoftext|>No<|endoftext|>Yes<|endoftext|>No<|endoftext|>Floor<|endoftext|>No<|endoftext|>4<|endoftext|>Asian<|endoftext|>4<|endoftext|>4<|endoftext|>No<|endoftext|>Yes<|endoftext|>No<|endoftext|>Yes<|endoftext|>4<|endoftext|>Glasses<|endoftext|>4<|endoftext|>Yes<|endoftext|>Yes<|endoftext|>No<|endoftext|>Playing wii<|endoftext|>Drywall<|endoftext|>No<|endoftext|>2<|endoftext|>Evening<|endoftext|>Male<|endoftext|>No<|endoftext|>1<|endoftext|>No<|endoftext|>Playing<|endoftext|>Yes<|endoftext|>Watch<|endoftext|>2<|endoftext|>No<|endoftext|>Yes<|endoftext|>Wii controller<|endoftext|>Glasses<|endoftext|>White<|endoftext|>No<|endoftext|>Everyone<|endoftext|>Wii remotes<|endoftext|>Glasses<|endoftext|>2<|endoftext|>Wii remote<|endoftext|>White<|endoftext|>White<|endoftext|>No<|endoftext|>4<|endoftext|>Playing wii<|endoftext|>Wii controllers<|endoftext|>0<|endoftext|>4<|endoftext|>No<|endoftext|>Playing wii<|endoftext|>Playing wii<|endoftext|>4<|endoftext|>No<|endoftext|>No<|endoftext|>Hair<|endoftext|>Yes<|endoftext|>No<|endoftext|>Floor<|endoftext|>Living room<|endoftext|>No<|endoftext|>No<|endoftext|>Indoors<|endoftext|>No<|endoftext|>Wii remote<|endoftext|>Couch<|endoftext|>Men<|endoftext|>Remote<|endoftext|>Glasses<|endoftext|>Yes<|endoftext|>No<|endoftext|>2<|endoftext|>Controller<|endoftext|>Ceiling<|endoftext|>No<|endoftext|>No<|endoftext|>Yes<|endoftext|>Laptop<|endoftext|>Wii remoteIn this snowy nighttime scene, drivers should take extra precautions to ensure safe driving. The snowy conditions can reduce visibility, make the roads slippery, and potentially lead to accidents. Key precautions for drivers in this scenario include:\n",
      "\n",
      "1. Slowing down and maintaining a safe distance from other vehicles, as stopping distances increase in slippery conditions.\n",
      "2. Paying close attention to road signs, such as the red stop sign at the intersection with the word \"3 way\" written underneath it - this indicates a three-way intersection where vehicles from three different directions come together, requiring extra caution from drivers.\n",
      "3. Ensuring their headlights are functioning and switched on to improve visibility, both for the driver and for other road users.\n",
      "4. Being aware of hidden hazards, such as obscured fire hydrants, which might not be visible due to snow accumulation or darkness.\n",
      "5. Remaining vigilant for pedestrians, cyclists, or other vehicles that might be moving around in the area, even if their presence is not immediately apparent.\n",
      "6. Have the car properly prepared for winter conditions, including having snow tires or chains, a windshield scraper, and a winter emergency kit with essential items such as blankets, water, snacks, and a flashlight.\n",
      "\n",
      "Adopting these precautions can help drivers navigate winter night conditions safely and reduce the risk of accidents.<|endoftext|>Red and white canteen in a person's hand.<|endoftext|>[0.08, 0.64, 0.29, 0.87]<|endoftext|>White and red cooler in the man's hand.<|endoftext|>[0.64, 0.37, 0.86, 0.61]<|endoftext|>[0.35, 0.54, 0.43, 0.83]<|endoftext|>A black back pack.<|endoftext|>[0.85, 0.65, 0.93, 0.82]<|endoftext|>Red and white canteen in a person's hand.<|endoftext|>[0.24, 0.65, 0.28, 0.73]<|endoftext|>[0.24, 0.54, 0.38, 0.8]<|endoftext|>Inside<|endoftext|>0<|endoftext|>Yes<|endoftext|>Yes<|endoftext|>Office<|endoftext|>Greece<|endoftext|>C<|endoftext|>Dog<|endoftext|>\n"
     ]
    }
   ],
   "source": [
    "decoded_input = tokenizer.decode(batch[\"input_ids\"].flatten()).strip()\n",
    "decoded_labels = tokenizer.decode(batch[\"labels\"][batch['labels']!=-100].flatten()).strip()\n",
    "print(f\"Input: {decoded_input}\")\n",
    "print(f\"Labels: {decoded_labels}\")"
   ]
  },
  {
   "cell_type": "code",
   "execution_count": null,
   "metadata": {},
   "outputs": [
    {
     "data": {
      "text/plain": [
       "(torch.Size([1, 454]), torch.Size([1, 454]))"
      ]
     },
     "execution_count": 8,
     "metadata": {},
     "output_type": "execute_result"
    }
   ],
   "source": [
    "batch['labels'].shape, batch['input_ids'].shape"
   ]
  },
  {
   "cell_type": "code",
   "execution_count": null,
   "metadata": {},
   "outputs": [
    {
     "name": "stdout",
     "output_type": "stream",
     "text": [
      "[[-100, -100, -100, -100, -100, -100, -100, -100, -100, -100, -100, -100, -100, -100, -100, -100, -100, -100, -100, -100, -100, -100, -100, -100, -100, -100, -100, -100, -100, -100, -100, -100, -100, -100, -100, -100, -100, -100, -100, -100, -100, -100, -100, -100, -100, -100, -100, -100, 510, 4370, 275, 253, 2460, 310, 8516, 285, 2806, 15, 0, -100, -100, -100, -100, -100, -100, -100, -100, -100, -100, -100, -100, -100, -100, -100, -100, 510, 4370, 310, 3515, 327, 247, 14872, 5254, 275, 253, 2316, 1223, 5877, 247, 20391, 4023, 275, 697, 6208, 15, 733, 4620, 281, 320, 4882, 342, 253, 4023, 15, 0, -100, -100, -100, -100, -100, -100, -100, -100, -100, -100, -100, -100, -100, -100, -100, -100, -100, 510, 4370, 310, 3515, 327, 247, 14872, 5254, 15, 0, -100, -100, -100, -100, -100, -100, -100, -100, -100, -100, -100, -100, -100, -100, -100, -100, -100, -100, -100, 510, 4370, 556, 247, 20391, 4023, 275, 697, 6208, 15, 0, -100, -100, -100, -100, -100, -100, -100, -100, -100, -100, -100, -100, -100, -100, -100, -100, -100, -100, -100, -100, -100, -100, -100, -100, -100, -100, -100, -100, -100, -100, -100, 37, 14175, 5431, 897, 616, 37111, 281, 1132, 342, 5113, 347, 247, 830, 273, 17947, 13, 14608, 13, 285, 5763, 15, 40938, 452, 247, 3626, 18110, 281, 1161, 88, 285, 4459, 5113, 275, 616, 37111, 13, 534, 476, 320, 26098, 896, 281, 616, 4956, 25938, 665, 651, 20269, 13, 35901, 4703, 13, 285, 4459, 2739, 285, 643, 4957, 275, 616, 37111, 15, 50000, 342, 23908, 13, 751, 253, 20391, 4023, 275, 253, 2460, 13, 12310, 841, 3626, 39609, 15, 187, 187, 1992, 656, 285, 3958, 326, 6388, 5877, 390, 41927, 5113, 2085, 9097, 342, 6255, 10277, 285, 1361, 3657, 23086, 297, 15, 2545, 2977, 275, 1132, 285, 5763, 310, 671, 9560, 323, 247, 4370, 434, 4583, 3520, 1786, 285, 973, 14, 11952, 15, 35116, 1132, 12154, 285, 5763, 417, 760, 1361, 281, 1978, 247, 4370, 434, 13370, 285, 13440, 985, 275, 1175, 1617, 533, 671, 1361, 281, 6558, 1463, 2801, 285, 8591, 5875, 27665, 15, 187, 187, 49579, 342, 5113, 310, 671, 247, 2097, 323, 9097, 281, 3037, 2675, 6936, 285, 20705, 15, 2091, 4882, 20279, 390, 30139, 14, 1171, 14, 7523, 3958, 342, 616, 7497, 13, 9097, 3037, 281, 1379, 26638, 432, 616, 9891, 285, 1287, 4517, 285, 4685, 15, 187, 187, 688, 6452, 13, 9097, 970, 616, 37111, 281, 1132, 342, 5113, 310, 247, 3626, 629, 273, 616, 3879, 285, 3400, 5667, 3520, 5763, 13, 6255, 10277, 13, 285, 2675, 20705, 9091, 15, 2053, 4712, 8162, 281, 247, 4370, 434, 4583, 973, 14, 11952, 285, 15704, 13, 17749, 326, 597, 3464, 275, 1175, 1786, 4768, 616, 4852, 15, 0]]\n"
     ]
    }
   ],
   "source": [
    "print(batch['labels'].cpu().numpy().tolist())\n"
   ]
  },
  {
   "cell_type": "code",
   "execution_count": 6,
   "metadata": {},
   "outputs": [],
   "source": [
    "\n",
    "data_iter = iter(dataloader)\n",
    "batch = next(data_iter)\n",
    "#batch = next(data_iter)\n"
   ]
  },
  {
   "cell_type": "code",
   "execution_count": 7,
   "metadata": {},
   "outputs": [],
   "source": [
    "for idx, batch in enumerate(dataloader):\n",
    "    pixel_values, input_ids, attention_mask, labels = batch['pixel_values'], batch['input_ids'], batch['attention_mask'], batch['labels']\n",
    "    break"
   ]
  },
  {
   "cell_type": "code",
   "execution_count": 8,
   "metadata": {},
   "outputs": [
    {
     "data": {
      "text/plain": [
       "torch.Size([16, 2048])"
      ]
     },
     "execution_count": 8,
     "metadata": {},
     "output_type": "execute_result"
    }
   ],
   "source": [
    "labels.shape"
   ]
  },
  {
   "cell_type": "code",
   "execution_count": null,
   "metadata": {},
   "outputs": [],
   "source": [
    "import torch\n",
    "vlm.model.eval()\n",
    "with torch.autocast(\"cuda\", dtype=torch.bfloat16):\n",
    "    batch = {k: v.to(\"cuda\") if isinstance(v, torch.Tensor) else v for k, v in batch.items()}\n",
    "    # output = vlm.model(\n",
    "    #             input_ids= batch[\"input_ids\"],\n",
    "    #                 attention_mask=batch[\"attention_mask\"],\n",
    "    #                 pixel_values=batch[\"pixel_values\"],\n",
    "    #                 labels=batch[\"labels\"],\n",
    "    #                 multimodal_indices=batch[\"multimodal_indices\"],\n",
    "    #             )\n",
    "    output, fused_labels = vlm.model(\n",
    "                                input_ids=batch[\"input_ids\"],\n",
    "                                attention_mask=batch[\"attention_mask\"],\n",
    "                                pixel_values=batch[\"pixel_values\"],\n",
    "                                labels=batch[\"labels\"],\n",
    "                                multimodal_indices=batch[\"multimodal_indices\"],\n",
    "                                return_labels=True,\n",
    "                            )"
   ]
  },
  {
   "cell_type": "code",
   "execution_count": null,
   "metadata": {},
   "outputs": [
    {
     "data": {
      "text/plain": [
       "odict_keys(['loss', 'logits', 'past_key_values'])"
      ]
     },
     "execution_count": 12,
     "metadata": {},
     "output_type": "execute_result"
    }
   ],
   "source": [
    "output.keys()"
   ]
  },
  {
   "cell_type": "code",
   "execution_count": null,
   "metadata": {},
   "outputs": [
    {
     "data": {
      "text/plain": [
       "torch.Size([1, 2624])"
      ]
     },
     "execution_count": 27,
     "metadata": {},
     "output_type": "execute_result"
    }
   ],
   "source": [
    "fused_labels.shape"
   ]
  },
  {
   "cell_type": "code",
   "execution_count": null,
   "metadata": {},
   "outputs": [
    {
     "data": {
      "text/plain": [
       "tensor([ 6.5625,  4.5000, 14.0000,  ...,  4.5625,  4.6562,  4.5938],\n",
       "       device='cuda:0', dtype=torch.bfloat16)"
      ]
     },
     "execution_count": 32,
     "metadata": {},
     "output_type": "execute_result"
    }
   ],
   "source": [
    "output.logits.squeeze()[-1]"
   ]
  },
  {
   "cell_type": "code",
   "execution_count": null,
   "metadata": {},
   "outputs": [
    {
     "data": {
      "text/plain": [
       "torch.Size([1, 2624, 50304])"
      ]
     },
     "execution_count": 18,
     "metadata": {},
     "output_type": "execute_result"
    }
   ],
   "source": [
    "output.logits.shape"
   ]
  },
  {
   "cell_type": "code",
   "execution_count": null,
   "metadata": {},
   "outputs": [
    {
     "data": {
      "text/plain": [
       "24"
      ]
     },
     "execution_count": 17,
     "metadata": {},
     "output_type": "execute_result"
    }
   ],
   "source": [
    "len(output.past_key_values)"
   ]
  },
  {
   "cell_type": "code",
   "execution_count": null,
   "metadata": {},
   "outputs": [
    {
     "data": {
      "text/plain": [
       "(2, 2, 2)"
      ]
     },
     "execution_count": 23,
     "metadata": {},
     "output_type": "execute_result"
    }
   ],
   "source": [
    "len(output.past_key_values[0]), len(output.past_key_values[1]), len(output.past_key_values[2])"
   ]
  },
  {
   "cell_type": "code",
   "execution_count": null,
   "metadata": {},
   "outputs": [
    {
     "data": {
      "text/plain": [
       "(torch.Size([1, 16, 2624, 64]),\n",
       " torch.Size([1, 16, 2624, 64]),\n",
       " torch.Size([1, 16, 2624, 64]),\n",
       " torch.Size([1, 16, 2624, 64]),\n",
       " torch.Size([1, 16, 2624, 64]),\n",
       " torch.Size([1, 16, 2624, 64]))"
      ]
     },
     "execution_count": 26,
     "metadata": {},
     "output_type": "execute_result"
    }
   ],
   "source": [
    "output.past_key_values[0][0].shape, output.past_key_values[0][1].shape, output.past_key_values[1][0].shape, output.past_key_values[1][1].shape, output.past_key_values[2][0].shape, output.past_key_values[2][1].shape"
   ]
  },
  {
   "cell_type": "code",
   "execution_count": null,
   "metadata": {},
   "outputs": [],
   "source": []
  },
  {
   "cell_type": "code",
   "execution_count": null,
   "metadata": {},
   "outputs": [],
   "source": [
    "# Original ST"
   ]
  },
  {
   "cell_type": "code",
   "execution_count": null,
   "metadata": {},
   "outputs": [],
   "source": [
    "torch.manual_seed(42)\n",
    "device = torch.device('cuda' if torch.cuda.is_available() else 'cpu')\n",
    "\n",
    "def original_soft_target_loss(output, fused_labels, soft_alpha=0.1, debug = False):\n",
    "\n",
    "    shift_logits = output.logits[:, :-1, :].contiguous()\n",
    "    valid_targets = fused_labels[:, 1:].contiguous()\n",
    "\n",
    "    num_classes = shift_logits.size(-1)\n",
    "    # Handling special value -100 in targets\n",
    "    mask = (valid_targets == -100)\n",
    "    valid_targets[mask] = 0  # Replace -100 with 0 or another neutral index\n",
    "\n",
    "    confidence = 1.0 - soft_alpha\n",
    "    label_smoothing = soft_alpha / (num_classes - 1)\n",
    "    targets_smooth = torch.full_like(shift_logits, label_smoothing)\n",
    "\n",
    "    # # Ensure all tensors are on the same device and have the same dtype\n",
    "    # valid_targets = valid_targets.to(device=shift_logits.device, dtype=torch.int64)\n",
    "\n",
    "    # Apply scatter only on valid targets\n",
    "    targets_smooth.scatter_(-1, valid_targets.unsqueeze(-1), confidence)\n",
    "\n",
    "    # Apply mask to neutralize the effect of -100 in loss calculation\n",
    "    targets_smooth[mask.unsqueeze(-1).expand_as(targets_smooth)] = 0\n",
    "    # Loss calculation with try-except block\n",
    "    loss_fct = torch.nn.CrossEntropyLoss()\n",
    "    print(f\"Logits shape: {shift_logits.shape}, Targets shape: {targets_smooth.shape}\")\n",
    "    # print(targets_smooth.squeeze()[0], targets_smooth.squeeze(0).sum(dim=-1), targets_smooth.squeeze(0).sum(dim=-1).min(), targets_smooth.squeeze(0).sum(dim=-1).max())\n",
    "    print(f\"targets_smooth.squeeze(): {targets_smooth.squeeze()}, \\ntargets_smooth.squeeze().min(): {targets_smooth.squeeze().min()}, targets_smooth.squeeze().max(): {targets_smooth.squeeze().max()}\")\n",
    "    print(f\"\\nmasked targets_smooth.squeeze()[~mask.squeeze()]]: {targets_smooth.squeeze()[~mask.squeeze()]}, \\nmasked min(): {targets_smooth.squeeze()[~mask.squeeze()].min()}, masked .max(): {targets_smooth.squeeze()[~mask.squeeze()].max()}\")\n",
    "    loss = loss_fct(shift_logits.view(-1, num_classes), targets_smooth.view(-1, num_classes))\n",
    "    print(f\"Loss: {loss.item()}\")\n",
    "    if debug:\n",
    "        return targets_smooth, mask\n",
    "    return targets_smooth\n"
   ]
  },
  {
   "cell_type": "code",
   "execution_count": null,
   "metadata": {},
   "outputs": [],
   "source": [
    "\n",
    "import torch\n",
    "import torch.nn as nn\n",
    "import torch.nn.functional as F\n",
    "\n",
    "# Ensure reproducibility and set device\n",
    "torch.manual_seed(42)\n",
    "device = torch.device('cuda' if torch.cuda.is_available() else 'cpu')\n",
    "\n",
    "def dynamic_soft_targets(output, fused_labels, alpha=0.1):\n",
    "    # Example shapes (adjust as per your actual data)\n",
    "    # output.logits: [batch_size, seq_length, num_classes]\n",
    "    # fused_labels: [batch_size, seq_length]\n",
    "\n",
    "    # Move tensors to the appropriate device and dtype\n",
    "    dtype = torch.float32\n",
    "    shift_logits = output.logits[:, :-1, :].to(dtype).to(device)  # Shape: [batch_size, seq_length-1, num_classes]\n",
    "    valid_targets = fused_labels[:, 1:].to(dtype).to(device)     # Shape: [batch_size, seq_length-1]\n",
    "\n",
    "    num_classes = shift_logits.size(-1)\n",
    "    mask = (valid_targets != -100)  # Ignored positions are marked with -100\n",
    "\n",
    "    # Compute soft probabilities from logits and detach to prevent gradient flow\n",
    "    soft_probs = F.softmax(shift_logits, dim=-1).to(dtype).detach()  # Shape: [batch_size, seq_length-1, num_classes]\n",
    "\n",
    "    batch_size, shifted_seq_length = shift_logits.size()[:2]\n",
    "\n",
    "    # Initialize a zero tensor for one-hot encoding\n",
    "    one_hot_targets = torch.zeros(\n",
    "        batch_size, \n",
    "        shifted_seq_length, \n",
    "        num_classes, \n",
    "        device=valid_targets.device, \n",
    "        dtype=dtype\n",
    "    )  # Shape: [batch_size, seq_length-1, num_classes]\n",
    "\n",
    "    # Identify valid target positions\n",
    "    valid_positions = mask.nonzero(as_tuple=False)  # Shape: [num_valid_positions, 2]\n",
    "    target_indices = valid_targets[mask].long()    # Shape: [num_valid_positions]\n",
    "\n",
    "    # Convert target indices to one-hot vectors\n",
    "    one_hot_valid = F.one_hot(target_indices, num_classes=num_classes).to(dtype)  # Shape: [num_valid_positions, num_classes]\n",
    "\n",
    "    # Assign one-hot vectors to their corresponding positions in the batch\n",
    "    batch_indices, seq_indices = valid_positions[:, 0], valid_positions[:, 1]  # Shapes: [num_valid_positions], [num_valid_positions]\n",
    "    one_hot_targets[batch_indices, seq_indices] = one_hot_valid  # Broadcasting assignment\n",
    "\n",
    "    # Compute dynamic soft targets without tracking gradients\n",
    "    with torch.no_grad():\n",
    "        # Interpolate between soft_probs and one_hot_targets\n",
    "        dynamic_soft_targets = alpha * soft_probs + (1.0 - alpha) * one_hot_targets  # Shape: [batch_size, seq_length-1, num_classes]\n",
    "        \n",
    "        # Apply mask to ignore certain positions\n",
    "        dynamic_soft_targets = dynamic_soft_targets * mask.unsqueeze(-1).float()  # Shape: [batch_size, seq_length-1, num_classes]\n",
    "        \n",
    "        # Optionally cast to a different dtype if required (ensure compatibility with loss function)\n",
    "        dynamic_soft_targets = dynamic_soft_targets.to(torch.bfloat16)\n",
    "\n",
    "    # Verify shapes and properties\n",
    "    assert dynamic_soft_targets.shape == (batch_size, shifted_seq_length, num_classes), \\\n",
    "        f\"Expected shape {[batch_size, shifted_seq_length, num_classes]}, but got {dynamic_soft_targets.shape}\"\n",
    "    assert torch.all(dynamic_soft_targets[~mask] == 0), \"Positions with label -100 are not all zeros in dynamic_soft_targets.\"\n",
    "\n",
    "    # Verify that valid positions have probability distributions summing to 1\n",
    "    valid_dynamic_sum = dynamic_soft_targets[mask].sum(dim=-1)\n",
    "    assert torch.allclose(valid_dynamic_sum, torch.ones_like(valid_dynamic_sum), atol=1e-2), \\\n",
    "        \"Valid positions in dynamic_soft_targets do not sum to 1.\"\n",
    "\n",
    "    # Compute log probabilities from shift_logits for KLDivLoss\n",
    "    log_probs = F.log_softmax(shift_logits, dim=-1)  # Shape: [batch_size, seq_length-1, num_classes]\n",
    "\n",
    "    # Define the loss function\n",
    "    loss_fct = nn.KLDivLoss(reduction='batchmean')#(reduction='batchmean')\n",
    "\n",
    "    # Compute the loss\n",
    "    # Reshape tensors to [batch_size * (seq_length-1), num_classes]\n",
    "    loss = loss_fct(\n",
    "        log_probs.view(-1, num_classes),                # Predictions\n",
    "        dynamic_soft_targets.view(-1, num_classes)       # Targets\n",
    "    )\n",
    "    print(f\"Soft targets shape: {dynamic_soft_targets.shape}, Logits shape: {log_probs.shape}\")\n",
    "    print(f\"Loss: {loss.item()}\")\n",
    "    print(f\"dynamic_soft_targets.squeeze(): {dynamic_soft_targets.squeeze()}, \\ndynamic_soft_targets.squeeze().min(): {dynamic_soft_targets.squeeze().min()}, dynamic_soft_targets.squeeze().max(): {dynamic_soft_targets.squeeze().max()}\")\n",
    "    #print(f\"\\nmasked dynamic_soft_targets.squeeze()[~mask.squeeze()]]: {dynamic_soft_targets.squeeze()[~mask.squeeze()]}, \\nmasked min(): {dynamic_soft_targets.squeeze()[~mask.squeeze()].min()}, masked .max(): {dynamic_soft_targets.squeeze()[~mask.squeeze()].max()}\")\n",
    "    return dynamic_soft_targets\n",
    "    # Backpropagate the loss\n",
    "    #loss.backward()"
   ]
  },
  {
   "cell_type": "code",
   "execution_count": null,
   "metadata": {},
   "outputs": [],
   "source": [
    "\n",
    "import torch\n",
    "import torch.nn as nn\n",
    "import torch.nn.functional as F\n",
    "\n",
    "# Ensure reproducibility and set device\n",
    "torch.manual_seed(42)\n",
    "device = torch.device('cuda' if torch.cuda.is_available() else 'cpu')\n",
    "\n",
    "# def dynamic_soft_targets_zero_masking(output, fused_labels, alpha=0.1):\n",
    "#     # Example shapes (adjust as per your actual data)\n",
    "#     # output.logits: [batch_size, seq_length, num_classes]\n",
    "#     # fused_labels: [batch_size, seq_length]\n",
    "\n",
    "#     # Move tensors to the appropriate device and dtype\n",
    "#     dtype = torch.float32\n",
    "#     shift_logits = output.logits[:, :-1, :].to(dtype).to(device)  # Shape: [batch_size, seq_length-1, num_classes]\n",
    "#     valid_targets = fused_labels[:, 1:].to(dtype).to(device)     # Shape: [batch_size, seq_length-1]\n",
    "\n",
    "#     num_classes = shift_logits.size(-1)\n",
    "#     mask = (valid_targets != -100)  # Ignored positions are marked with -100\n",
    "\n",
    "#     # Compute soft probabilities from logits and detach to prevent gradient flow\n",
    "#     soft_probs = F.softmax(shift_logits, dim=-1).to(dtype).detach()  # Shape: [batch_size, seq_length-1, num_classes]\n",
    "\n",
    "#     batch_size, shifted_seq_length = shift_logits.size()[:2]\n",
    "\n",
    "#     # Initialize a zero tensor for one-hot encoding\n",
    "#     one_hot_targets = torch.zeros(\n",
    "#         batch_size, \n",
    "#         shifted_seq_length, \n",
    "#         num_classes, \n",
    "#         device=valid_targets.device, \n",
    "#         dtype=dtype\n",
    "#     )  # Shape: [batch_size, seq_length-1, num_classes]\n",
    "\n",
    "#     # Identify valid target positions\n",
    "#     valid_positions = mask.nonzero(as_tuple=False)  # Shape: [num_valid_positions, 2]\n",
    "#     target_indices = valid_targets[mask].long()    # Shape: [num_valid_positions]\n",
    "\n",
    "#     # Convert target indices to one-hot vectors\n",
    "#     one_hot_valid = F.one_hot(target_indices, num_classes=num_classes).to(dtype)  # Shape: [num_valid_positions, num_classes]\n",
    "\n",
    "#     # Assign one-hot vectors to their corresponding positions in the batch\n",
    "#     batch_indices, seq_indices = valid_positions[:, 0], valid_positions[:, 1]  # Shapes: [num_valid_positions], [num_valid_positions]\n",
    "#     one_hot_targets[batch_indices, seq_indices] = one_hot_valid  # Broadcasting assignment\n",
    "\n",
    "#     # Compute dynamic soft targets without tracking gradients\n",
    "#     with torch.no_grad():\n",
    "#         # Interpolate between soft_probs and one_hot_targets\n",
    "#         dynamic_soft_targets = alpha * soft_probs + (1.0 - alpha) * one_hot_targets  # Shape: [batch_size, seq_length-1, num_classes]\n",
    "        \n",
    "#         # Apply mask to ignore certain positions\n",
    "#         dynamic_soft_targets = dynamic_soft_targets * mask.unsqueeze(-1).float()  # Shape: [batch_size, seq_length-1, num_classes]\n",
    "        \n",
    "#         # Optionally cast to a different dtype if required (ensure compatibility with loss function)\n",
    "#         dynamic_soft_targets = dynamic_soft_targets.to(torch.bfloat16)\n",
    "\n",
    "#     # Verify shapes and properties\n",
    "#     assert dynamic_soft_targets.shape == (batch_size, shifted_seq_length, num_classes), \\\n",
    "#         f\"Expected shape {[batch_size, shifted_seq_length, num_classes]}, but got {dynamic_soft_targets.shape}\"\n",
    "#     assert torch.all(dynamic_soft_targets[~mask] == 0), \"Positions with label -100 are not all zeros in dynamic_soft_targets.\"\n",
    "\n",
    "#     # Verify that valid positions have probability distributions summing to 1\n",
    "#     valid_dynamic_sum = dynamic_soft_targets[mask].sum(dim=-1)\n",
    "#     assert torch.allclose(valid_dynamic_sum, torch.ones_like(valid_dynamic_sum), atol=1e-2), \\\n",
    "#         \"Valid positions in dynamic_soft_targets do not sum to 1.\"\n",
    "\n",
    "#     # Compute log probabilities from shift_logits for KLDivLoss\n",
    "#     log_probs = F.log_softmax(shift_logits, dim=-1)  # Shape: [batch_size, seq_length-1, num_classes]\n",
    "\n",
    "#     # Define the loss function\n",
    "#     loss_fct = nn.KLDivLoss(reduction='batchmean')#(reduction='batchmean')\n",
    "\n",
    "#     # Compute the loss\n",
    "#     # Reshape tensors to [batch_size * (seq_length-1), num_classes]\n",
    "#     loss = loss_fct(\n",
    "#         log_probs.view(-1, num_classes),                # Predictions\n",
    "#         dynamic_soft_targets.view(-1, num_classes)       # Targets\n",
    "#     )\n",
    "#     print(f\"Soft targets shape: {dynamic_soft_targets.shape}, Logits shape: {log_probs.shape}\")\n",
    "#     print(f\"Loss: {loss.item()}\")\n",
    "#     print(f\"dynamic_soft_targets.squeeze(): {dynamic_soft_targets.squeeze()}, \\ndynamic_soft_targets.squeeze().min(): {dynamic_soft_targets.squeeze().min()}, dynamic_soft_targets.squeeze().max(): {dynamic_soft_targets.squeeze().max()}\")\n",
    "#     #print(f\"\\nmasked dynamic_soft_targets.squeeze()[~mask.squeeze()]]: {dynamic_soft_targets.squeeze()[~mask.squeeze()]}, \\nmasked min(): {dynamic_soft_targets.squeeze()[~mask.squeeze()].min()}, masked .max(): {dynamic_soft_targets.squeeze()[~mask.squeeze()].max()}\")\n",
    "#     return dynamic_soft_targets\n",
    "#     # Backpropagate the loss\n",
    "#     #loss.backward()\n",
    "\n",
    "def dynamic_soft_targets_no_masking(output, fused_labels, alpha=0.1):\n",
    "    # Example shapes (adjust as per your actual data)\n",
    "    # output.logits: [batch_size, seq_length, num_classes]\n",
    "    # fused_labels: [batch_size, seq_length]\n",
    "\n",
    "    # Move tensors to the appropriate device and dtype\n",
    "    dtype = torch.float32\n",
    "    shift_logits = output.logits[:, :-1, :].to(dtype).to(device)  # Shape: [batch_size, seq_length-1, num_classes]\n",
    "    valid_targets = fused_labels[:, 1:].to(dtype).to(device)     # Shape: [batch_size, seq_length-1]\n",
    "\n",
    "    num_classes = shift_logits.size(-1)\n",
    "    mask = (valid_targets != -100)  # Ignored positions are marked with -100\n",
    "\n",
    "    # Compute soft probabilities from logits and detach to prevent gradient flow\n",
    "    soft_probs = F.softmax(shift_logits, dim=-1).to(dtype).detach()  # Shape: [batch_size, seq_length-1, num_classes]\n",
    "\n",
    "    batch_size, shifted_seq_length = shift_logits.size()[:2]\n",
    "\n",
    "    # Initialize a zero tensor for one-hot encoding\n",
    "    one_hot_targets = torch.zeros(\n",
    "        batch_size, \n",
    "        shifted_seq_length, \n",
    "        num_classes, \n",
    "        device=valid_targets.device, \n",
    "        dtype=dtype\n",
    "    )  # Shape: [batch_size, seq_length-1, num_classes]\n",
    "\n",
    "    # Identify valid target positions\n",
    "    valid_positions = mask.nonzero(as_tuple=False)  # Shape: [num_valid_positions, 2]\n",
    "    target_indices = valid_targets[mask].long()    # Shape: [num_valid_positions]\n",
    "\n",
    "    # Convert target indices to one-hot vectors\n",
    "    one_hot_valid = F.one_hot(target_indices, num_classes=num_classes).to(dtype)  # Shape: [num_valid_positions, num_classes]\n",
    "\n",
    "    # Assign one-hot vectors to their corresponding positions in the batch\n",
    "    batch_indices, seq_indices = valid_positions[:, 0], valid_positions[:, 1]  # Shapes: [num_valid_positions], [num_valid_positions]\n",
    "    one_hot_targets[batch_indices, seq_indices] = one_hot_valid  # Broadcasting assignment\n",
    "\n",
    "    # Compute dynamic soft targets without tracking gradients\n",
    "    with torch.no_grad():\n",
    "        # Interpolate between soft_probs and one_hot_targets\n",
    "        dynamic_soft_targets = alpha * soft_probs + (1.0 - alpha) * one_hot_targets  # Shape: [batch_size, seq_length-1, num_classes]\n",
    "        \n",
    "        # No masking applied\n",
    "    \n",
    "        # Optionally cast to a different dtype if required (ensure compatibility with loss function)\n",
    "        dynamic_soft_targets = dynamic_soft_targets.to(torch.bfloat16)\n",
    "\n",
    "    # Verify shapes and properties\n",
    "    assert dynamic_soft_targets.shape == (batch_size, shifted_seq_length, num_classes), \\\n",
    "        f\"Expected shape {[batch_size, shifted_seq_length, num_classes]}, but got {dynamic_soft_targets.shape}\"\n",
    "    assert torch.all(dynamic_soft_targets[~mask] == 0), \"Positions with label -100 are not all zeros in dynamic_soft_targets.\"\n",
    "\n",
    "    # Verify that valid positions have probability distributions summing to 1\n",
    "    valid_dynamic_sum = dynamic_soft_targets[mask].sum(dim=-1)\n",
    "    assert torch.allclose(valid_dynamic_sum, torch.ones_like(valid_dynamic_sum), atol=1e-2), \\\n",
    "        \"Valid positions in dynamic_soft_targets do not sum to 1.\"\n",
    "\n",
    "    # Compute log probabilities from shift_logits for KLDivLoss\n",
    "    log_probs = F.log_softmax(shift_logits, dim=-1)  # Shape: [batch_size, seq_length-1, num_classes]\n",
    "\n",
    "    # Define the loss function\n",
    "    loss_fct = nn.KLDivLoss(reduction='batchmean')#(reduction='batchmean')\n",
    "\n",
    "    # Compute the loss\n",
    "    # Reshape tensors to [batch_size * (seq_length-1), num_classes]\n",
    "    loss = loss_fct(\n",
    "        log_probs.view(-1, num_classes),                # Predictions\n",
    "        dynamic_soft_targets.view(-1, num_classes)       # Targets\n",
    "    )\n",
    "    print(f\"Soft targets shape: {dynamic_soft_targets.shape}, Logits shape: {log_probs.shape}\")\n",
    "    print(f\"Loss: {loss.item()}\")\n",
    "    print(f\"dynamic_soft_targets.squeeze(): {dynamic_soft_targets.squeeze()}, \\ndynamic_soft_targets.squeeze().min(): {dynamic_soft_targets.squeeze().min()}, dynamic_soft_targets.squeeze().max(): {dynamic_soft_targets.squeeze().max()}\")\n",
    "    #print(f\"\\nmasked dynamic_soft_targets.squeeze()[~mask.squeeze()]]: {dynamic_soft_targets.squeeze()[~mask.squeeze()]}, \\nmasked min(): {dynamic_soft_targets.squeeze()[~mask.squeeze()].min()}, masked .max(): {dynamic_soft_targets.squeeze()[~mask.squeeze()].max()}\")\n",
    "    return dynamic_soft_targets\n",
    "    # Backpropagate the loss\n",
    "    #loss.backward()"
   ]
  },
  {
   "cell_type": "code",
   "execution_count": null,
   "metadata": {},
   "outputs": [],
   "source": [
    "def dynamic_soft_targets_mask_with_logits_corrected(output, fused_labels, alpha=0.1):\n",
    "    # output.logits: [batch_size, seq_length, num_classes]\n",
    "    # fused_labels: [batch_size, seq_length]\n",
    "\n",
    "    # Move tensors to the appropriate device and dtype\n",
    "    dtype = torch.float32\n",
    "    shift_logits = output.logits[:, :-1, :].to(dtype).to(device)  # Shape: [batch_size, seq_length-1, num_classes]\n",
    "    valid_targets = fused_labels[:, 1:].to(dtype).to(device)     # Shape: [batch_size, seq_length-1]\n",
    "\n",
    "    soft_probs = F.softmax(output.logits[:,1:,:].to(dtype), dim=-1).to(dtype).detach()  # Shape: [batch_size, seq_length-1, num_classes]\n",
    "\n",
    "    num_classes = shift_logits.size(-1)\n",
    "    mask = (valid_targets != -100)  # Ignored positions are marked with -100\n",
    "\n",
    "    batch_size, shifted_seq_length = shift_logits.size()[:2]\n",
    "\n",
    "    # Initialize a zero tensor for one-hot encoding\n",
    "    one_hot_targets = torch.zeros(\n",
    "        batch_size, \n",
    "        shifted_seq_length, \n",
    "        num_classes, \n",
    "        device=valid_targets.device, \n",
    "        dtype=dtype\n",
    "    )  # Shape: [batch_size, seq_length-1, num_classes]\n",
    "\n",
    "    # Identify valid target positions\n",
    "    valid_positions = mask.nonzero(as_tuple=False)  # Shape: [num_valid_positions, 2]\n",
    "    target_indices = valid_targets[mask].long()    # Shape: [num_valid_positions]\n",
    "\n",
    "    # Convert target indices to one-hot vectors\n",
    "    one_hot_valid = F.one_hot(target_indices, num_classes=num_classes).to(dtype)  # Shape: [num_valid_positions, num_classes]\n",
    "\n",
    "    # Assign one-hot vectors to their corresponding positions in the batch\n",
    "    batch_indices, seq_indices = valid_positions[:, 0], valid_positions[:, 1]  # Shapes: [num_valid_positions], [num_valid_positions]\n",
    "    one_hot_targets[batch_indices, seq_indices] = one_hot_valid  # Broadcasting assignment\n",
    "\n",
    "    # Compute dynamic soft targets without tracking gradients\n",
    "    with torch.no_grad():\n",
    "        # Interpolate between soft_probs and one_hot_targets\n",
    "        dynamic_soft_targets = alpha * soft_probs + (1.0 - alpha) * one_hot_targets  # Shape: [batch_size, seq_length-1, num_classes]\n",
    "        \n",
    "        # MASKED areas are set to value of logits\n",
    "        dynamic_soft_targets = dynamic_soft_targets * mask.unsqueeze(-1).float() + soft_probs * (~mask).unsqueeze(-1).float()\n",
    "        \n",
    "        # Optionally cast to a different dtype if required (ensure compatibility with loss function)\n",
    "        dynamic_soft_targets = dynamic_soft_targets.to(torch.bfloat16)\n",
    "\n",
    "    # Verify shapes and properties\n",
    "    assert dynamic_soft_targets.shape == (batch_size, shifted_seq_length, num_classes), \\\n",
    "        f\"Expected shape {[batch_size, shifted_seq_length, num_classes]}, but got {dynamic_soft_targets.shape}\"\n",
    "    assert torch.all(dynamic_soft_targets[~mask] == 0), \"Positions with label -100 are not all zeros in dynamic_soft_targets.\"\n",
    "\n",
    "    # Verify that valid positions have probability distributions summing to 1\n",
    "    valid_dynamic_sum = dynamic_soft_targets[mask].sum(dim=-1)\n",
    "    assert torch.allclose(valid_dynamic_sum, torch.ones_like(valid_dynamic_sum), atol=1e-2), \\\n",
    "        \"Valid positions in dynamic_soft_targets do not sum to 1.\"\n",
    "\n",
    "    # Compute log probabilities from shift_logits for KLDivLoss\n",
    "    log_probs = F.log_softmax(shift_logits, dim=-1)  # Shape: [batch_size, seq_length-1, num_classes]\n",
    "\n",
    "    # Define the loss function\n",
    "    loss_fct = nn.CrossEntropyLoss(reduction='mean')#(reduction='batchmean')\n",
    "\n",
    "    # Compute the loss\n",
    "    # Reshape tensors to [batch_size * (seq_length-1), num_classes]\n",
    "    loss = loss_fct(\n",
    "        log_probs.view(-1, num_classes),                # Predictions\n",
    "        dynamic_soft_targets.view(-1, num_classes)       # Targets\n",
    "    )\n",
    "    print(f\"Soft targets shape: {dynamic_soft_targets.shape}, Logits shape: {log_probs.shape}\")\n",
    "    print(f\"Loss: {loss.item()}\")\n",
    "    print(f\"dynamic_soft_targets.squeeze(): {dynamic_soft_targets.squeeze()}, \\ndynamic_soft_targets.squeeze().min(): {dynamic_soft_targets.squeeze().min()}, dynamic_soft_targets.squeeze().max(): {dynamic_soft_targets.squeeze().max()}\")\n",
    "    #print(f\"\\nmasked dynamic_soft_targets.squeeze()[~mask.squeeze()]]: {dynamic_soft_targets.squeeze()[~mask.squeeze()]}, \\nmasked min(): {dynamic_soft_targets.squeeze()[~mask.squeeze()].min()}, masked .max(): {dynamic_soft_targets.squeeze()[~mask.squeeze()].max()}\")\n",
    "    return dynamic_soft_targets\n",
    "    # Backpropagate the loss\n",
    "    #loss.backward()"
   ]
  },
  {
   "cell_type": "code",
   "execution_count": null,
   "metadata": {},
   "outputs": [],
   "source": [
    "def dynamic_soft_targets_mask_with_logits(output, fused_labels, alpha=0.1):\n",
    "    # Example shapes (adjust as per your actual data)\n",
    "    # output.logits: [batch_size, seq_length, num_classes]\n",
    "    # fused_labels: [batch_size, seq_length]\n",
    "\n",
    "    # Move tensors to the appropriate device and dtype\n",
    "    dtype = torch.float32\n",
    "    shift_logits = output.logits[:, :-1, :].to(dtype).to(device)  # Shape: [batch_size, seq_length-1, num_classes]\n",
    "    valid_targets = fused_labels[:, 1:].to(dtype).to(device)     # Shape: [batch_size, seq_length-1]\n",
    "\n",
    "    num_classes = shift_logits.size(-1)\n",
    "    mask = (valid_targets != -100)  # Ignored positions are marked with -100\n",
    "\n",
    "    # Compute soft probabilities from logits and detach to prevent gradient flow\n",
    "    soft_probs = F.softmax(shift_logits, dim=-1).to(dtype).detach()  # Shape: [batch_size, seq_length-1, num_classes]\n",
    "\n",
    "    batch_size, shifted_seq_length = shift_logits.size()[:2]\n",
    "\n",
    "    # Initialize a zero tensor for one-hot encoding\n",
    "    one_hot_targets = torch.zeros(\n",
    "        batch_size, \n",
    "        shifted_seq_length, \n",
    "        num_classes, \n",
    "        device=valid_targets.device, \n",
    "        dtype=dtype\n",
    "    )  # Shape: [batch_size, seq_length-1, num_classes]\n",
    "\n",
    "    # Identify valid target positions\n",
    "    valid_positions = mask.nonzero(as_tuple=False)  # Shape: [num_valid_positions, 2]\n",
    "    target_indices = valid_targets[mask].long()    # Shape: [num_valid_positions]\n",
    "\n",
    "    # Convert target indices to one-hot vectors\n",
    "    one_hot_valid = F.one_hot(target_indices, num_classes=num_classes).to(dtype)  # Shape: [num_valid_positions, num_classes]\n",
    "\n",
    "    # Assign one-hot vectors to their corresponding positions in the batch\n",
    "    batch_indices, seq_indices = valid_positions[:, 0], valid_positions[:, 1]  # Shapes: [num_valid_positions], [num_valid_positions]\n",
    "    one_hot_targets[batch_indices, seq_indices] = one_hot_valid  # Broadcasting assignment\n",
    "\n",
    "    # Compute dynamic soft targets without tracking gradients\n",
    "    with torch.no_grad():\n",
    "        # Interpolate between soft_probs and one_hot_targets\n",
    "        dynamic_soft_targets = alpha * soft_probs + (1.0 - alpha) * one_hot_targets  # Shape: [batch_size, seq_length-1, num_classes]\n",
    "        \n",
    "        # MASKED areas are set to value of logits\n",
    "        dynamic_soft_targets = dynamic_soft_targets * mask.unsqueeze(-1).float() + soft_probs * (~mask).unsqueeze(-1).float()\n",
    "        \n",
    "        # Optionally cast to a different dtype if required (ensure compatibility with loss function)\n",
    "        dynamic_soft_targets = dynamic_soft_targets.to(torch.bfloat16)\n",
    "\n",
    "    # Verify shapes and properties\n",
    "    assert dynamic_soft_targets.shape == (batch_size, shifted_seq_length, num_classes), \\\n",
    "        f\"Expected shape {[batch_size, shifted_seq_length, num_classes]}, but got {dynamic_soft_targets.shape}\"\n",
    "    assert torch.all(dynamic_soft_targets[~mask] == 0), \"Positions with label -100 are not all zeros in dynamic_soft_targets.\"\n",
    "\n",
    "    # Verify that valid positions have probability distributions summing to 1\n",
    "    valid_dynamic_sum = dynamic_soft_targets[mask].sum(dim=-1)\n",
    "    assert torch.allclose(valid_dynamic_sum, torch.ones_like(valid_dynamic_sum), atol=1e-2), \\\n",
    "        \"Valid positions in dynamic_soft_targets do not sum to 1.\"\n",
    "\n",
    "    # Compute log probabilities from shift_logits for KLDivLoss\n",
    "    log_probs = F.log_softmax(shift_logits, dim=-1)  # Shape: [batch_size, seq_length-1, num_classes]\n",
    "\n",
    "    # Define the loss function\n",
    "    loss_fct = nn.CrossEntropyLoss(reduction='mean')#(reduction='batchmean')\n",
    "\n",
    "    # Compute the loss\n",
    "    # Reshape tensors to [batch_size * (seq_length-1), num_classes]\n",
    "    loss = loss_fct(\n",
    "        log_probs.view(-1, num_classes),                # Predictions\n",
    "        dynamic_soft_targets.view(-1, num_classes)       # Targets\n",
    "    )\n",
    "    print(f\"Soft targets shape: {dynamic_soft_targets.shape}, Logits shape: {log_probs.shape}\")\n",
    "    print(f\"Loss: {loss.item()}\")\n",
    "    print(f\"dynamic_soft_targets.squeeze(): {dynamic_soft_targets.squeeze()}, \\ndynamic_soft_targets.squeeze().min(): {dynamic_soft_targets.squeeze().min()}, dynamic_soft_targets.squeeze().max(): {dynamic_soft_targets.squeeze().max()}\")\n",
    "    #print(f\"\\nmasked dynamic_soft_targets.squeeze()[~mask.squeeze()]]: {dynamic_soft_targets.squeeze()[~mask.squeeze()]}, \\nmasked min(): {dynamic_soft_targets.squeeze()[~mask.squeeze()].min()}, masked .max(): {dynamic_soft_targets.squeeze()[~mask.squeeze()].max()}\")\n",
    "    return dynamic_soft_targets\n",
    "    # Backpropagate the loss\n",
    "    #loss.backward()"
   ]
  },
  {
   "cell_type": "code",
   "execution_count": null,
   "metadata": {},
   "outputs": [
    {
     "data": {
      "text/plain": [
       "'\\n 1. Interpolate on logits (not on probabilities)\\n 2. Unmasked Area: \\n        - i) (a)* logits + (1 - a) * hard_target \\n        - ii) (1 - a - a/(K-1)) * hard_target + a/(K - 1)\\n 3. Masked area:        \\n        - a) Mask positions with 0 distribution\\n        - b) Mask positions with logits\\n                -- i) \\n        - c) Mask positions with -100 \\n        - d) Separately mask V-tokens, and L-tokens\\n                -- i) Mask V-tokens with 0 distribution, and L-tokens with -100 or logits\\n 3. \\n\\n\\n '"
      ]
     },
     "execution_count": 30,
     "metadata": {},
     "output_type": "execute_result"
    }
   ],
   "source": [
    "\"\"\"\n",
    " 1. Interpolate on logits (not on probabilities)\n",
    " 2. Unmasked Area: \n",
    "        - i) (a)* logits + (1 - a) * hard_target \n",
    "        - ii) (1 - a - a/(K-1)) * hard_target + a/(K - 1)\n",
    " 3. Masked area:        \n",
    "        - a) Mask positions with 0 distribution\n",
    "        - b) Mask positions with logits\n",
    "                -- i) \n",
    "        - c) Mask positions with -100 \n",
    "        - d) Separately mask V-tokens, and L-tokens\n",
    "                -- i) Mask V-tokens with 0 distribution, and L-tokens with -100 or logits\n",
    " 3. \n",
    "\n",
    "\n",
    " \"\"\""
   ]
  },
  {
   "cell_type": "code",
   "execution_count": null,
   "metadata": {},
   "outputs": [],
   "source": [
    "import torch\n",
    "import torch.nn.functional as F\n",
    "\n",
    "def set_to_one(output, fused_labels):\n",
    "    \"\"\"\n",
    "    Modifies the predicted probabilities by setting the probability of the correct token to 1.0,\n",
    "    and subtracts the corresponding difference proportionally from other tokens,\n",
    "    ensuring that the total sums to 1.0.\n",
    "\n",
    "    Args:\n",
    "        output (torch.nn.Module): The model output containing logits with shape [batch_size, seq_length, num_classes].\n",
    "        fused_labels (torch.Tensor): The ground truth labels with shape [batch_size, seq_length].\n",
    "\n",
    "    Returns:\n",
    "        torch.Tensor: The modified target distributions with shape [batch_size, seq_length - 1, num_classes].\n",
    "    \"\"\"\n",
    "    device = output.logits.device\n",
    "    dtype = output.logits.dtype\n",
    "\n",
    "    # Align logits and labels by shifting\n",
    "    target_aligned_logits = output.logits[:, 1:, :]  # [batch_size, seq_length - 1, num_classes]\n",
    "    valid_targets = fused_labels[:, 1:]              # [batch_size, seq_length - 1]\n",
    "\n",
    "    num_classes = target_aligned_logits.size(-1)\n",
    "    mask = (valid_targets != -100)                   # [batch_size, seq_length - 1]\n",
    "\n",
    "    # Compute soft probabilities and detach from computational graph\n",
    "    soft_probs = F.softmax(target_aligned_logits, dim=-1).detach()  # [batch_size, seq_length - 1, num_classes]\n",
    "\n",
    "    # Initialize target distributions\n",
    "    targets_set_to_one = torch.zeros_like(soft_probs)  # [batch_size, seq_length - 1, num_classes]\n",
    "\n",
    "    if mask.any():\n",
    "        # Extract valid positions\n",
    "        valid_indices = valid_targets[mask].long()  # [N]\n",
    "        batch_indices, seq_indices = mask.nonzero(as_tuple=True)  # [N], [N]\n",
    "\n",
    "        # Gather soft probabilities at valid positions\n",
    "        soft_probs_masked = soft_probs[mask]  # [N, num_classes]\n",
    "\n",
    "        # Create a mask for the correct tokens\n",
    "        correct_token_mask = torch.zeros_like(soft_probs_masked, dtype=torch.bool)\n",
    "        correct_token_mask.scatter_(1, valid_indices.unsqueeze(1), True)  # [N, num_classes]\n",
    "\n",
    "        # Extract p_correct\n",
    "        p_correct = soft_probs_masked[correct_token_mask]  # [N]\n",
    "\n",
    "        # Compute delta (amount to set correct token to 1.0)\n",
    "        delta = 1.0 - p_correct  # [N]\n",
    "\n",
    "        # Compute probabilities of other tokens\n",
    "        p_others = soft_probs_masked.clone()  # [N, num_classes]\n",
    "        p_others[correct_token_mask] = 0.0  # Zero out correct token probabilities\n",
    "\n",
    "        # Compute sum of other probabilities\n",
    "        sum_p_others = p_others.sum(dim=-1) + 1e-12  # [N]\n",
    "\n",
    "        # Adjust other tokens proportionally\n",
    "        adjustment = (p_others / sum_p_others.unsqueeze(-1)) * delta.unsqueeze(-1)  # [N, num_classes]\n",
    "        p_others = p_others - adjustment  # [N, num_classes]\n",
    "\n",
    "        # Ensure probabilities are non-negative\n",
    "        p_others = torch.clamp(p_others, min=0.0)  # [N, num_classes]\n",
    "\n",
    "        # Set correct token's probability to 1.0\n",
    "        p_correct_new = torch.ones_like(p_correct)  # [N]\n",
    "        soft_probs_masked[correct_token_mask] = p_correct_new  # [N, num_classes]\n",
    "\n",
    "        # Assign adjusted other tokens back\n",
    "        soft_probs_masked[~correct_token_mask] = p_others[~correct_token_mask]  # [N, num_classes]\n",
    "\n",
    "        # Assign to target_set_to_one\n",
    "        targets_set_to_one[mask] = soft_probs_masked  # [batch_size, seq_length - 1, num_classes]\n",
    "\n",
    "    # Zero out positions where mask is False\n",
    "    targets_set_to_one[~mask] = 0.0\n",
    "\n",
    "    # Assert that probabilities sum to 1.0\n",
    "    probs_sum = targets_set_to_one.sum(dim=-1)  # [batch_size, seq_length - 1]\n",
    "    assert torch.allclose(probs_sum[mask], torch.ones_like(probs_sum[mask]), atol=1e-6), \"Probabilities do not sum to 1.0\"\n",
    "\n",
    "    return targets_set_to_one"
   ]
  },
  {
   "cell_type": "code",
   "execution_count": null,
   "metadata": {},
   "outputs": [],
   "source": [
    "import torch\n",
    "import torch.nn.functional as F\n",
    "\n",
    "def top_K(output, fused_labels, K=5, delta=0.5):\n",
    "    \"\"\"\n",
    "    Modifies the target probability distributions by retaining only the top-K probabilities\n",
    "    from the model's logits and the correct token's probability, setting all other probabilities to zero.\n",
    "    The correct token's probability is set to 'delta', and the remaining top-K probabilities are\n",
    "    scaled proportionally to sum to (1 - delta).\n",
    "\n",
    "    Args:\n",
    "        output (torch.nn.Module): \n",
    "            The model output containing logits with shape [batch_size, seq_length, num_classes].\n",
    "        fused_labels (torch.Tensor): \n",
    "            The ground truth labels with shape [batch_size, seq_length], where -100 indicates masked positions.\n",
    "        K (int, optional): \n",
    "            The number of top probabilities to retain for each token position. Defaults to 5.\n",
    "        delta (float, optional): \n",
    "            The probability to assign to the correct token. Must satisfy 0 <= delta <= 1. Defaults to 0.5.\n",
    "\n",
    "    Returns:\n",
    "        torch.Tensor: \n",
    "            The modified target distributions with shape [batch_size, seq_length - 1, num_classes].\n",
    "\n",
    "    Raises:\n",
    "        AssertionError: \n",
    "            If the sum of probabilities for any valid position does not equal 1.0 within a tolerance of 1e-6.\n",
    "    \"\"\"\n",
    "    device = output.logits.device\n",
    "    dtype = output.logits.dtype\n",
    "\n",
    "    # Align logits and labels by shifting (e.g., for language modeling tasks)\n",
    "    target_aligned_logits = output.logits[:, 1:, :]  # Shape: [batch_size, seq_length - 1, num_classes]\n",
    "    valid_targets = fused_labels[:, 1:]              # Shape: [batch_size, seq_length - 1]\n",
    "\n",
    "    num_classes = target_aligned_logits.size(-1)\n",
    "    mask = (valid_targets != -100)                   # Shape: [batch_size, seq_length - 1]\n",
    "\n",
    "    # Compute softmax probabilities from logits and detach to prevent gradient flow\n",
    "    soft_probs = F.softmax(target_aligned_logits, dim=-1).detach()  # Shape: [batch_size, seq_length - 1, num_classes]\n",
    "\n",
    "    # Initialize the target distributions with zeros\n",
    "    targets_top_K = torch.zeros_like(soft_probs)  # Shape: [batch_size, seq_length - 1, num_classes]\n",
    "\n",
    "    if mask.any():\n",
    "        # Extract indices of valid (unmasked) positions\n",
    "        valid_indices = valid_targets[mask].long()  # Shape: [num_valid_positions]\n",
    "        batch_indices, seq_indices = mask.nonzero(as_tuple=True)  # Shapes: [num_valid_positions], [num_valid_positions]\n",
    "\n",
    "        # Gather soft probabilities at valid positions\n",
    "        soft_probs_masked = soft_probs[mask]  # Shape: [num_valid_positions, num_classes]\n",
    "\n",
    "        # Identify the top-K tokens for each position\n",
    "        topk = soft_probs_masked.topk(K, dim=-1, largest=True, sorted=True)\n",
    "        topk_indices = topk.indices  # Shape: [num_valid_positions, K]\n",
    "\n",
    "        # Create a mask for top-K tokens\n",
    "        topk_mask = torch.zeros_like(soft_probs_masked, dtype=torch.bool)  # Shape: [num_valid_positions, num_classes]\n",
    "        topk_mask.scatter_(1, topk_indices, True)  # Set top-K positions to True\n",
    "\n",
    "        # Create a mask for the correct tokens\n",
    "        correct_token_mask = torch.zeros_like(soft_probs_masked, dtype=torch.bool)  # Shape: [num_valid_positions, num_classes]\n",
    "        correct_token_mask.scatter_(1, valid_indices.unsqueeze(1), True)  # Set correct token positions to True\n",
    "\n",
    "        # Determine if the correct token is already in the top-K\n",
    "        correct_in_topk = correct_token_mask & topk_mask  # Shape: [num_valid_positions, num_classes]\n",
    "        correct_in_topk_any = correct_in_topk.any(dim=-1)  # Shape: [num_valid_positions]\n",
    "\n",
    "        # Final mask: retain top-K tokens and ensure the correct token is included\n",
    "        final_mask = topk_mask.clone()  # Shape: [num_valid_positions, num_classes]\n",
    "        # For positions where the correct token is not in top-K, include it\n",
    "        final_mask[~correct_in_topk_any] = final_mask[~correct_in_topk_any] | correct_token_mask[~correct_in_topk_any]\n",
    "\n",
    "        # Clone the probabilities to adjust\n",
    "        adjusted_probs = soft_probs_masked.clone()  # Shape: [num_valid_positions, num_classes]\n",
    "\n",
    "        # Set the correct token's probability to delta\n",
    "        adjusted_probs[correct_token_mask] = delta  # Assign delta to correct tokens\n",
    "\n",
    "        # Zero out probabilities of tokens not in the final mask (excluding correct token)\n",
    "        adjusted_probs[~final_mask] = 0.0  # Set non-top-K and non-correct tokens to 0\n",
    "\n",
    "        # Compute the sum of probabilities for the top-K tokens (excluding correct token if delta is set)\n",
    "        sum_p_topk = adjusted_probs.sum(dim=-1, keepdim=True)  # Shape: [num_valid_positions, 1]\n",
    "\n",
    "        # To prevent division by zero, add a small epsilon\n",
    "        epsilon = 1e-12\n",
    "        sum_p_topk = sum_p_topk + epsilon\n",
    "\n",
    "        # Scale the top-K tokens' probabilities to sum to (1 - delta)\n",
    "        # Exclude the correct token from scaling\n",
    "        p_others = adjusted_probs.clone()  # Shape: [num_valid_positions, num_classes]\n",
    "        p_others[correct_token_mask] = 0.0  # Zero out correct token probabilities\n",
    "\n",
    "        # Compute scaling factor\n",
    "        scaling_factor = (1.0 - delta) / (p_others.sum(dim=-1, keepdim=True) + epsilon)  # Shape: [num_valid_positions, 1]\n",
    "\n",
    "        # Scale the other tokens\n",
    "        p_others = p_others * scaling_factor  # Shape: [num_valid_positions, num_classes]\n",
    "\n",
    "        # Assign the scaled probabilities back\n",
    "        adjusted_probs[~correct_token_mask] = p_others[~correct_token_mask]\n",
    "\n",
    "        # Assign the adjusted probabilities to the target distribution\n",
    "        targets_top_K[mask] = adjusted_probs  # Shape: [batch_size, seq_length - 1, num_classes]\n",
    "\n",
    "    # Zero out positions where mask is False (masked positions)\n",
    "    targets_top_K[~mask] = 0.0\n",
    "\n",
    "    # Assert that probabilities sum to 1.0 for all valid positions within a tolerance\n",
    "    probs_sum = targets_top_K.sum(dim=-1)  # Shape: [batch_size, seq_length - 1]\n",
    "    assert torch.allclose(probs_sum[mask], torch.ones_like(probs_sum[mask]), atol=1e-6), \\\n",
    "        \"Probabilities do not sum to 1.0 after top_K adjustments.\"\n",
    "\n",
    "    return targets_top_K\n"
   ]
  },
  {
   "cell_type": "code",
   "execution_count": null,
   "metadata": {},
   "outputs": [],
   "source": [
    "import torch\n",
    "import torch.nn.functional as F\n",
    "\n",
    "def bottom_K_percent(output, fused_labels, K=0.1, delta=0.5):\n",
    "    \"\"\"\n",
    "    Modifies the target probability distributions by retaining only the bottom-K% probabilities\n",
    "    from the model's logits and the correct token's probability, setting all other probabilities to zero.\n",
    "    The correct token's probability is set to 'delta', and the remaining bottom-K% probabilities are\n",
    "    scaled proportionally to sum to (1 - delta).\n",
    "\n",
    "    Args:\n",
    "        output (torch.nn.Module):\n",
    "            The model output containing logits with shape [batch_size, seq_length, num_classes].\n",
    "        fused_labels (torch.Tensor):\n",
    "            The ground truth labels with shape [batch_size, seq_length], where -100 indicates masked positions.\n",
    "        K (float, optional):\n",
    "            The percentage of bottom probabilities to retain for each token position (e.g., 0.1 for 10%).\n",
    "            Must satisfy 0 < K < 1. Defaults to 0.1.\n",
    "        delta (float, optional):\n",
    "            The probability to assign to the correct token. Must satisfy 0 <= delta <= 1.\n",
    "            Defaults to 0.5.\n",
    "\n",
    "    Returns:\n",
    "        torch.Tensor:\n",
    "            The modified target distributions with shape [batch_size, seq_length - 1, num_classes].\n",
    "\n",
    "    Raises:\n",
    "        ValueError:\n",
    "            If K is not in the range (0, 1) or delta is not in the range [0, 1].\n",
    "        AssertionError:\n",
    "            If the sum of probabilities for any valid position does not equal 1.0 within a tolerance of 1e-6.\n",
    "    \"\"\"\n",
    "    # Validate input parameters\n",
    "    if not (0.0 < K < 1.0):\n",
    "        raise ValueError(f\"K must be between 0 and 1 (exclusive). Received K={K}.\")\n",
    "    if not (0.0 <= delta <= 1.0):\n",
    "        raise ValueError(f\"delta must be between 0 and 1 (inclusive). Received delta={delta}.\")\n",
    "\n",
    "    device = output.logits.device\n",
    "    dtype = output.logits.dtype\n",
    "\n",
    "    # Align logits and labels by shifting (e.g., for language modeling tasks)\n",
    "    # Assuming that the model predicts the next token, so shift by one\n",
    "    target_aligned_logits = output.logits[:, 1:, :]  # Shape: [batch_size, seq_length - 1, num_classes]\n",
    "    valid_targets = fused_labels[:, 1:]              # Shape: [batch_size, seq_length - 1]\n",
    "\n",
    "    num_classes = target_aligned_logits.size(-1)\n",
    "    mask = (valid_targets != -100)                   # Shape: [batch_size, seq_length - 1]\n",
    "\n",
    "    # Compute softmax probabilities from logits and detach to prevent gradient flow\n",
    "    soft_probs = F.softmax(target_aligned_logits, dim=-1).detach()  # Shape: [batch_size, seq_length - 1, num_classes]\n",
    "\n",
    "    # Initialize the target distributions with zeros\n",
    "    targets_bottom_K = torch.zeros_like(soft_probs)  # Shape: [batch_size, seq_length - 1, num_classes]\n",
    "\n",
    "    if mask.any():\n",
    "        # Extract indices of valid (unmasked) positions\n",
    "        valid_indices = valid_targets[mask].long()  # Shape: [num_valid_positions]\n",
    "        batch_indices, seq_indices = mask.nonzero(as_tuple=True)  # Shapes: [num_valid_positions], [num_valid_positions]\n",
    "\n",
    "        # Gather soft probabilities at valid positions\n",
    "        soft_probs_masked = soft_probs[mask]  # Shape: [num_valid_positions, num_classes]\n",
    "\n",
    "        # Compute the number of tokens to retain based on K%\n",
    "        # For each position, retain tokens whose cumulative probability is <= K%\n",
    "        # To achieve this, sort the probabilities in ascending order\n",
    "        sorted_probs, sorted_indices = soft_probs_masked.sort(dim=-1, descending=False)  # Ascending sort\n",
    "\n",
    "        # Compute cumulative sum of sorted probabilities\n",
    "        cumulative_probs = sorted_probs.cumsum(dim=-1)  # Shape: [num_valid_positions, num_classes]\n",
    "\n",
    "        # Determine the cutoff index where cumulative probability exceeds K%\n",
    "        # For each position, find the first index where cumsum >= K\n",
    "        # This determines how many tokens to retain\n",
    "        cutoff = (cumulative_probs >= K).float().argmax(dim=-1) + 1  # Shape: [num_valid_positions]\n",
    "\n",
    "        # Create a mask for bottom-K% tokens\n",
    "        # Initialize all to False\n",
    "        bottom_k_mask = torch.zeros_like(soft_probs_masked, dtype=torch.bool)  # Shape: [num_valid_positions, num_classes]\n",
    "\n",
    "        for i in range(soft_probs_masked.size(0)):\n",
    "            k = cutoff[i]\n",
    "            if k > 0:\n",
    "                bottom_k_mask[i, sorted_indices[i, :k]] = True\n",
    "\n",
    "        # Ensure that the correct token is included in the mask\n",
    "        correct_token_mask = torch.zeros_like(soft_probs_masked, dtype=torch.bool)  # Shape: [num_valid_positions, num_classes]\n",
    "        correct_token_mask.scatter_(1, valid_indices.unsqueeze(1), True)  # Shape: [num_valid_positions, num_classes]\n",
    "\n",
    "        # If the correct token is not in the bottom-K% mask, include it\n",
    "        correct_not_in_bottom_k = ~bottom_k_mask[torch.arange(soft_probs_masked.size(0)), valid_indices]\n",
    "        bottom_k_mask[correct_not_in_bottom_k, valid_indices[correct_not_in_bottom_k]] = True\n",
    "\n",
    "        # Now, create the final mask by combining bottom-K% tokens and the correct token\n",
    "        final_mask = bottom_k_mask | correct_token_mask  # Shape: [num_valid_positions, num_classes]\n",
    "\n",
    "        # Clone the probabilities to adjust\n",
    "        adjusted_probs = soft_probs_masked.clone()  # Shape: [num_valid_positions, num_classes]\n",
    "\n",
    "        # Set the correct token's probability to delta\n",
    "        adjusted_probs[correct_token_mask] = delta  # Assign delta to correct tokens\n",
    "\n",
    "        # Zero out probabilities of tokens not in the final mask (excluding correct token)\n",
    "        adjusted_probs[~final_mask] = 0.0  # Set non-bottom-K% and non-correct tokens to 0\n",
    "\n",
    "        # Compute the sum of probabilities for the retained tokens (excluding correct token)\n",
    "        sum_retained = adjusted_probs.sum(dim=-1, keepdim=True) - delta  # Shape: [num_valid_positions, 1]\n",
    "\n",
    "        # To prevent division by zero, add a small epsilon\n",
    "        epsilon = 1e-12\n",
    "        sum_retained = sum_retained + epsilon  # Shape: [num_valid_positions, 1]\n",
    "\n",
    "        # Compute scaling factor for the retained tokens (excluding correct token)\n",
    "        scaling_factor = (1.0 - delta) / sum_retained  # Shape: [num_valid_positions, 1]\n",
    "\n",
    "        # Scale the retained tokens' probabilities (excluding correct token)\n",
    "        adjusted_probs[~correct_token_mask] = adjusted_probs[~correct_token_mask] * scaling_factor\n",
    "\n",
    "        # Assign the adjusted probabilities to the target distribution\n",
    "        targets_bottom_K[mask] = adjusted_probs  # Shape: [batch_size, seq_length - 1, num_classes]\n",
    "\n",
    "    # Zero out positions where mask is False (masked positions)\n",
    "    targets_bottom_K[~mask] = 0.0\n",
    "\n",
    "    # Assert that probabilities sum to 1.0 for all valid positions within a tolerance\n",
    "    probs_sum = targets_bottom_K.sum(dim=-1)  # Shape: [batch_size, seq_length - 1]\n",
    "    assert torch.allclose(probs_sum[mask], torch.ones_like(probs_sum[mask]), atol=1e-6), \\\n",
    "        \"Probabilities do not sum to 1.0 after bottom_K_percent adjustments.\"\n",
    "\n",
    "    return targets_bottom_K\n"
   ]
  },
  {
   "cell_type": "code",
   "execution_count": null,
   "metadata": {},
   "outputs": [],
   "source": [
    "import torch\n",
    "import torch.nn.functional as F\n",
    "\n",
    "def add_K(output, fused_labels, K=0.1, percentage=False):\n",
    "    \"\"\"\n",
    "    Modifies the predicted probabilities by increasing the probability of the correct token by K,\n",
    "    and subtracts the corresponding difference proportionally from other tokens,\n",
    "    ensuring that the total sums to 1.0.\n",
    "\n",
    "    Args:\n",
    "        output (torch.nn.Module): The model output containing logits with shape [batch_size, seq_length, num_classes].\n",
    "        fused_labels (torch.Tensor): The ground truth labels with shape [batch_size, seq_length].\n",
    "        K (float, optional): The constant value or percentage to add. Defaults to 0.1.\n",
    "        percentage (bool, optional): If True, K is treated as a percentage of p_correct. Defaults to False.\n",
    "\n",
    "    Returns:\n",
    "        torch.Tensor: The modified target distributions with shape [batch_size, seq_length - 1, num_classes].\n",
    "    \"\"\"\n",
    "    device = output.logits.device\n",
    "    dtype = torch.float32\n",
    "\n",
    "    # Align logits and labels by shifting\n",
    "    target_aligned_logits = output.logits[:, 1:, :].to(dtype).to(device)  # [batch_size, seq_length - 1, num_classes]\n",
    "    valid_targets = fused_labels[:, 1:].to(dtype).to(device)              # [batch_size, seq_length - 1]\n",
    "\n",
    "    num_classes = target_aligned_logits.size(-1)\n",
    "    mask = (valid_targets != -100)                   # [batch_size, seq_length - 1]\n",
    "\n",
    "    # Compute soft probabilities and detach from computational graph\n",
    "    soft_probs = F.softmax(target_aligned_logits, dim=-1).detach()  # [batch_size, seq_length - 1, num_classes]\n",
    "\n",
    "    # Initialize target distributions\n",
    "    targets_add_K = torch.zeros_like(soft_probs)  # [batch_size, seq_length - 1, num_classes]\n",
    "\n",
    "    if mask.any():\n",
    "        # Extract valid positions\n",
    "        valid_indices = valid_targets[mask].long()  # [N]\n",
    "        batch_indices, seq_indices = mask.nonzero(as_tuple=True)  # [N], [N]\n",
    "\n",
    "        # Gather soft probabilities at valid positions\n",
    "        soft_probs_masked = soft_probs[mask]  # [N, num_classes]\n",
    "\n",
    "        # Create a mask for the correct tokens\n",
    "        correct_token_mask = torch.zeros_like(soft_probs_masked, dtype=torch.bool)\n",
    "        correct_token_mask.scatter_(1, valid_indices.unsqueeze(1), True)  # [N, num_classes]\n",
    "\n",
    "        # Extract p_correct\n",
    "        p_correct = soft_probs_masked[correct_token_mask]  # [N]\n",
    "\n",
    "        # Compute delta based on whether K is a percentage\n",
    "        if percentage:\n",
    "            delta = p_correct * K  # [N]\n",
    "        else:\n",
    "            delta = torch.full_like(p_correct, K)  # [N]\n",
    "\n",
    "        # Compute new p_correct, ensuring it does not exceed 1.0\n",
    "        p_correct_new = p_correct + delta  # [N]\n",
    "        p_correct_new = torch.clamp(p_correct_new, max=1.0)  # [N]\n",
    "\n",
    "        # Compute actual delta used (in case p_correct_new was clamped)\n",
    "        actual_delta = p_correct_new - p_correct  # [N]\n",
    "\n",
    "        # Compute probabilities of other tokens\n",
    "        p_others = soft_probs_masked.clone()  # [N, num_classes]\n",
    "        p_others[correct_token_mask] = 0.0  # Zero out correct token probabilities\n",
    "\n",
    "        # Compute sum of other probabilities\n",
    "        sum_p_others = p_others.sum(dim=-1) + 1e-12  # [N]\n",
    "\n",
    "        # Adjust other tokens proportionally based on actual_delta\n",
    "        adjustment = (p_others / sum_p_others.unsqueeze(-1)) * actual_delta.unsqueeze(-1)  # [N, num_classes]\n",
    "        p_others = p_others - adjustment  # [N, num_classes]\n",
    "\n",
    "        # Ensure probabilities are non-negative\n",
    "        p_others = torch.clamp(p_others, min=0.0)  # [N, num_classes]\n",
    "\n",
    "        # Assign adjusted other tokens back\n",
    "        soft_probs_masked[~correct_token_mask] = p_others[~correct_token_mask]  # [N, num_classes]\n",
    "\n",
    "        # Set correct token's probability to p_correct_new\n",
    "        soft_probs_masked[correct_token_mask] = p_correct_new  # [N, num_classes]\n",
    "\n",
    "        # Assign to targets_add_K\n",
    "        targets_add_K[mask] = soft_probs_masked  # [batch_size, seq_length - 1, num_classes]\n",
    "\n",
    "    # Zero out positions where mask is False\n",
    "    targets_add_K[~mask] = 0.0\n",
    "\n",
    "    # Assert that probabilities sum to 1.0\n",
    "    probs_sum = targets_add_K.sum(dim=-1)  # [batch_size, seq_length - 1]\n",
    "    assert torch.allclose(probs_sum[mask], torch.ones_like(probs_sum[mask]), atol=1e-6), \"Probabilities do not sum to 1.0\"\n",
    "\n",
    "    return targets_add_K"
   ]
  },
  {
   "cell_type": "code",
   "execution_count": null,
   "metadata": {},
   "outputs": [],
   "source": [
    "import torch\n",
    "import torch.nn.functional as F\n",
    "\n",
    "def max_logit(output, fused_labels):\n",
    "    \"\"\"\n",
    "    Modifies the predicted probabilities by setting the probability of the correct token\n",
    "    to the current maximum probability among all tokens in that position,\n",
    "    and proportionally adjusts the probabilities of other tokens to maintain the total sum of 1.0.\n",
    "    \n",
    "    Args:\n",
    "        output (torch.nn.Module): The model output containing logits with shape [batch_size, seq_length, num_classes].\n",
    "        fused_labels (torch.Tensor): The ground truth labels with shape [batch_size, seq_length].\n",
    "    \n",
    "    Returns:\n",
    "        torch.Tensor: The modified target distributions with shape [batch_size, seq_length - 1, num_classes].\n",
    "    \"\"\"\n",
    "    device = output.logits.device\n",
    "    dtype = torch.float32\n",
    "\n",
    "    # Align logits and labels by shifting\n",
    "    target_aligned_logits = output.logits[:, 1:, :].to(dtype).to(device)  # [batch_size, seq_length - 1, num_classes]\n",
    "    valid_targets = fused_labels[:, 1:].to(dtype).to(device)              # [batch_size, seq_length - 1]\n",
    "\n",
    "    num_classes = target_aligned_logits.size(-1)\n",
    "    mask = (valid_targets != -100)                   # [batch_size, seq_length - 1]\n",
    "\n",
    "    # Compute soft probabilities and detach from computational graph\n",
    "    soft_probs = F.softmax(target_aligned_logits, dim=-1).detach()  # [batch_size, seq_length - 1, num_classes]\n",
    "\n",
    "    # Initialize target distributions\n",
    "    targets_max_logit = torch.zeros_like(soft_probs)  # [batch_size, seq_length - 1, num_classes]\n",
    "\n",
    "    if mask.any():\n",
    "        # Extract valid positions\n",
    "        valid_indices = valid_targets[mask].long()  # [N]\n",
    "        batch_indices, seq_indices = mask.nonzero(as_tuple=True)  # [N], [N]\n",
    "\n",
    "        # Gather soft probabilities at valid positions\n",
    "        soft_probs_masked = soft_probs[mask]  # [N, num_classes]\n",
    "\n",
    "        # Find p_max for each valid position\n",
    "        p_max, _ = soft_probs_masked.max(dim=-1)  # [N]\n",
    "\n",
    "        # Create a mask for the correct tokens\n",
    "        correct_token_mask = torch.zeros_like(soft_probs_masked, dtype=torch.bool)\n",
    "        correct_token_mask.scatter_(1, valid_indices.unsqueeze(1), True)  # [N, num_classes]\n",
    "\n",
    "        # Extract p_correct\n",
    "        p_correct = soft_probs_masked[correct_token_mask]  # [N]\n",
    "\n",
    "        # Compute delta\n",
    "        delta = p_max - p_correct  # [N]\n",
    "\n",
    "        # Handle cases where p_correct is already the max (delta = 0)\n",
    "        # No adjustment needed in these cases\n",
    "\n",
    "        # Compute probabilities of other tokens\n",
    "        p_others = soft_probs_masked.clone()  # [N, num_classes]\n",
    "        p_others[correct_token_mask] = 0.0  # Zero out correct token probabilities\n",
    "\n",
    "        # Compute sum of other probabilities\n",
    "        sum_p_others = p_others.sum(dim=-1)  # [N]\n",
    "\n",
    "        # Avoid division by zero by adding epsilon where sum_p_others is zero\n",
    "        epsilon = 1e-12\n",
    "        sum_p_others = sum_p_others + epsilon  # [N]\n",
    "\n",
    "        # Compute adjustment: subtract delta proportionally from other tokens\n",
    "        adjustment = (p_others / sum_p_others.unsqueeze(-1)) * delta.unsqueeze(-1)  # [N, num_classes]\n",
    "        p_others = p_others - adjustment  # [N, num_classes]\n",
    "\n",
    "        # Ensure probabilities are non-negative\n",
    "        p_others = torch.clamp(p_others, min=0.0)  # [N, num_classes]\n",
    "\n",
    "        # Set correct token's probability to p_max\n",
    "        p_correct_new = p_max  # [N]\n",
    "        soft_probs_masked[correct_token_mask] = p_correct_new  # [N, num_classes]\n",
    "\n",
    "        # Assign adjusted other tokens back\n",
    "        soft_probs_masked[~correct_token_mask] = p_others[~correct_token_mask]  # [N, num_classes]\n",
    "\n",
    "        # Assign to targets_max_logit\n",
    "        targets_max_logit[mask] = soft_probs_masked  # [batch_size, seq_length - 1, num_classes]\n",
    "\n",
    "        # Debugging: Check if any probabilities are negative (they should not be)\n",
    "        if (targets_max_logit < 0).any():\n",
    "            negative_probs = targets_max_logit < 0\n",
    "            print(\"Negative probabilities detected in max_logit function.\")\n",
    "            print(targets_max_logit[negative_probs])\n",
    "            raise ValueError(\"Negative probabilities found after adjustment in max_logit.\")\n",
    "\n",
    "        # Debugging: Check sum of probabilities\n",
    "        probs_sum = targets_max_logit.sum(dim=-1)  # [batch_size, seq_length - 1]\n",
    "        if not torch.allclose(probs_sum[mask], torch.ones_like(probs_sum[mask]), atol=1e-6):\n",
    "            max_diff = torch.abs(probs_sum[mask] - 1.0).max()\n",
    "            print(f\"Max difference from 1.0: {max_diff.item()}\")\n",
    "            raise AssertionError(\"Probabilities do not sum to 1.0 after max_logit adjustments.\")\n",
    "\n",
    "    # Zero out positions where mask is False\n",
    "    targets_max_logit[~mask] = 0.0\n",
    "\n",
    "    return targets_max_logit"
   ]
  },
  {
   "cell_type": "code",
   "execution_count": null,
   "metadata": {},
   "outputs": [],
   "source": [
    "torch.manual_seed(42)\n",
    "device = torch.device('cuda' if torch.cuda.is_available() else 'cpu')"
   ]
  },
  {
   "cell_type": "code",
   "execution_count": null,
   "metadata": {},
   "outputs": [],
   "source": [
    "dtype = torch.float32\n",
    "shift_logits = output.logits[:, :-1, :].contiguous().to(dtype).to(device)  # Shape: [batch_size, seq_length-1, num_classes]\n",
    "valid_targets = fused_labels[:, 1:].contiguous().to(dtype).to(device)     # Shape: [batch_size, seq_length-1]\n",
    "\n",
    "num_classes = shift_logits.size(-1)\n",
    "mask = (valid_targets != -100)  # Ignored positions are marked with -100"
   ]
  },
  {
   "cell_type": "code",
   "execution_count": null,
   "metadata": {},
   "outputs": [
    {
     "name": "stdout",
     "output_type": "stream",
     "text": [
      " Original Soft Targets\n",
      "Logits shape: torch.Size([1, 2623, 50304]), Targets shape: torch.Size([1, 2623, 50304])\n",
      "targets_smooth.squeeze(): tensor([[0.0000e+00, 0.0000e+00, 0.0000e+00,  ..., 0.0000e+00, 0.0000e+00,\n",
      "         0.0000e+00],\n",
      "        [0.0000e+00, 0.0000e+00, 0.0000e+00,  ..., 0.0000e+00, 0.0000e+00,\n",
      "         0.0000e+00],\n",
      "        [0.0000e+00, 0.0000e+00, 0.0000e+00,  ..., 0.0000e+00, 0.0000e+00,\n",
      "         0.0000e+00],\n",
      "        ...,\n",
      "        [1.9936e-09, 1.9936e-09, 1.9936e-09,  ..., 1.9936e-09, 1.9936e-09,\n",
      "         1.9936e-09],\n",
      "        [1.9936e-09, 1.9936e-09, 1.9936e-09,  ..., 1.9936e-09, 1.9936e-09,\n",
      "         1.9936e-09],\n",
      "        [1.9936e-09, 1.9936e-09, 1.9936e-09,  ..., 1.9936e-09, 1.9936e-09,\n",
      "         1.9936e-09]], device='cuda:0', dtype=torch.bfloat16), \n",
      "targets_smooth.squeeze().min(): 0.0, targets_smooth.squeeze().max(): 1.0\n",
      "\n",
      "masked targets_smooth.squeeze()[~mask.squeeze()]]: tensor([[1.9936e-09, 1.9936e-09, 1.9936e-09,  ..., 1.9936e-09, 1.9936e-09,\n",
      "         1.9936e-09],\n",
      "        [1.0000e+00, 1.9936e-09, 1.9936e-09,  ..., 1.9936e-09, 1.9936e-09,\n",
      "         1.9936e-09],\n",
      "        [1.9936e-09, 1.9936e-09, 1.9936e-09,  ..., 1.9936e-09, 1.9936e-09,\n",
      "         1.9936e-09],\n",
      "        ...,\n",
      "        [1.9936e-09, 1.9936e-09, 1.9936e-09,  ..., 1.9936e-09, 1.9936e-09,\n",
      "         1.9936e-09],\n",
      "        [1.9936e-09, 1.9936e-09, 1.9936e-09,  ..., 1.9936e-09, 1.9936e-09,\n",
      "         1.9936e-09],\n",
      "        [1.9936e-09, 1.9936e-09, 1.9936e-09,  ..., 1.9936e-09, 1.9936e-09,\n",
      "         1.9936e-09]], device='cuda:0', dtype=torch.bfloat16), \n",
      "masked min(): 1.9936123862862587e-09, masked .max(): 1.0\n",
      "Loss: 10.5\n"
     ]
    }
   ],
   "source": [
    "#print(f\"\\nSet to One\")\n",
    "# targets_set_to_one = set_to_one(output, fused_labels)\n",
    "# print(f\"\\nAdd K\")\n",
    "# add_k = add_K(output, fused_labels, K=0.10, percentage=False)\n",
    "#print(f\"Max Logit\")\n",
    "#max_logit = max_logit(output, fused_labels)\n",
    "\n",
    "print(f\" Original Soft Targets\")\n",
    "targets_smooth, mask = original_soft_target_loss(output, fused_labels, soft_alpha=0.0001, debug = True)\n",
    "# print(f\"\\nDynamic Soft Targets\")\n",
    "# dynamic_soft = dynamic_soft_targets(output, fused_labels, alpha=0.1)\n",
    "# print(f\"\\nDynamic Soft Targets without Masking\")\n",
    "# dynamic_soft_no_masking = dynamic_soft_targets_no_masking(output, fused_labels, alpha=0.1)\n",
    "# print(f\"\\nDynamic Soft Targets with logits masking\")\n",
    "# dynamic_soft_masking_logits = dynamic_soft_targets_mask_with_logits(output, fused_labels, alpha=0.1)\n",
    "# print(f\"\\nDynamic Soft Targets with logits masking corrected\")\n",
    "# dynamic_soft_masking_logits_corrected = dynamic_soft_targets_mask_with_logits_corrected(output, fused_labels, alpha=0.1)\n"
   ]
  },
  {
   "cell_type": "code",
   "execution_count": null,
   "metadata": {},
   "outputs": [
    {
     "data": {
      "text/plain": [
       "torch.Size([1, 2623])"
      ]
     },
     "execution_count": 40,
     "metadata": {},
     "output_type": "execute_result"
    }
   ],
   "source": [
    "mask.shape"
   ]
  },
  {
   "cell_type": "code",
   "execution_count": null,
   "metadata": {},
   "outputs": [
    {
     "data": {
      "text/plain": [
       "tensor([[1.9936e-09, 1.9936e-09, 1.9936e-09,  ..., 1.9936e-09, 1.9936e-09,\n",
       "         1.9936e-09],\n",
       "        [1.0000e+00, 1.9936e-09, 1.9936e-09,  ..., 1.9936e-09, 1.9936e-09,\n",
       "         1.9936e-09],\n",
       "        [1.9936e-09, 1.9936e-09, 1.9936e-09,  ..., 1.9936e-09, 1.9936e-09,\n",
       "         1.9936e-09],\n",
       "        ...,\n",
       "        [1.9936e-09, 1.9936e-09, 1.9936e-09,  ..., 1.9936e-09, 1.9936e-09,\n",
       "         1.9936e-09],\n",
       "        [1.9936e-09, 1.9936e-09, 1.9936e-09,  ..., 1.9936e-09, 1.9936e-09,\n",
       "         1.9936e-09],\n",
       "        [1.9936e-09, 1.9936e-09, 1.9936e-09,  ..., 1.9936e-09, 1.9936e-09,\n",
       "         1.9936e-09]], device='cuda:0')"
      ]
     },
     "execution_count": 41,
     "metadata": {},
     "output_type": "execute_result"
    }
   ],
   "source": [
    "targets_smooth[~mask].to(torch.float32)"
   ]
  },
  {
   "cell_type": "code",
   "execution_count": null,
   "metadata": {},
   "outputs": [
    {
     "data": {
      "text/plain": [
       "tensor([[0., 0., 0.,  ..., 0., 0., 0.],\n",
       "        [0., 0., 0.,  ..., 0., 0., 0.],\n",
       "        [0., 0., 0.,  ..., 0., 0., 0.],\n",
       "        ...,\n",
       "        [0., 0., 0.,  ..., 0., 0., 0.],\n",
       "        [0., 0., 0.,  ..., 0., 0., 0.],\n",
       "        [0., 0., 0.,  ..., 0., 0., 0.]], device='cuda:0', dtype=torch.bfloat16)"
      ]
     },
     "execution_count": 44,
     "metadata": {},
     "output_type": "execute_result"
    }
   ],
   "source": [
    "targets_smooth[mask]"
   ]
  },
  {
   "cell_type": "code",
   "execution_count": null,
   "metadata": {},
   "outputs": [
    {
     "data": {
      "text/plain": [
       "tensor([1., 1., 1., 1., 1., 1., 1., 1., 1., 1., 1., 1., 1., 1., 1., 1., 1., 1.,\n",
       "        1., 1., 1., 1., 1., 1., 1., 1., 1., 1., 1., 1., 1., 1., 1., 1., 1., 1.,\n",
       "        1., 1., 1., 1., 1., 1., 1., 1., 1., 1., 1., 1., 1., 1., 1., 1., 1., 1.,\n",
       "        1., 1., 1., 1., 1., 1., 1., 1., 1., 1., 1., 1., 1., 1., 1., 1., 1., 1.,\n",
       "        1., 1., 1., 1., 1., 1., 1., 1., 1., 1., 1., 1., 1., 1., 1., 1., 1., 1.,\n",
       "        1., 1., 1., 1., 1., 1., 1., 1., 1., 1., 1., 1., 1., 1., 1., 1., 1., 1.,\n",
       "        1., 1., 1., 1., 1., 1., 1., 1., 1., 1., 1., 1., 1., 1., 1., 1., 1., 1.,\n",
       "        1., 1., 1., 1., 1., 1., 1., 1., 1., 1., 1., 1., 1., 1., 1., 1., 1., 1.,\n",
       "        1., 1., 1., 1., 1., 1., 1., 1., 1., 1., 1., 1., 1., 1., 1., 1., 1., 1.,\n",
       "        1., 1., 1., 1., 1., 1., 1., 1., 1., 1., 1., 1., 1., 1., 1., 1., 1., 1.,\n",
       "        1., 1., 1., 1., 1., 1., 1., 1., 1., 1., 1., 1., 1., 1., 1., 1., 1., 1.,\n",
       "        1., 1., 1., 1., 1., 1., 1., 1., 1., 1., 1., 1., 1., 1., 1., 1., 1., 1.,\n",
       "        1., 1., 1., 1., 1., 1., 1., 1., 1., 1., 1., 1., 1., 1., 1., 1., 1., 1.,\n",
       "        1., 1., 1., 1., 1., 1., 1., 1., 1., 1., 1., 1., 1., 1., 1., 1., 1., 1.,\n",
       "        1., 1., 1., 1., 1., 1., 1., 1., 1., 1., 1., 1., 1., 1., 1., 1., 1., 1.,\n",
       "        1., 1., 1., 1., 1., 1., 1., 1., 1., 1., 1., 1., 1., 1., 1., 1., 1., 1.,\n",
       "        1., 1., 1., 1., 1., 1., 1., 1., 1., 1., 1., 1., 1., 1., 1., 1., 1., 1.,\n",
       "        1., 1., 1., 1., 1., 1., 1., 1., 1., 1., 1., 1., 1., 1., 1., 1., 1.],\n",
       "       device='cuda:0', dtype=torch.bfloat16)"
      ]
     },
     "execution_count": 19,
     "metadata": {},
     "output_type": "execute_result"
    }
   ],
   "source": [
    "targets_smooth[~mask].sum(dim=-1)"
   ]
  },
  {
   "cell_type": "code",
   "execution_count": null,
   "metadata": {},
   "outputs": [
    {
     "name": "stdout",
     "output_type": "stream",
     "text": [
      "Max Logit: True\n",
      "Add K: False\n",
      "Set to One: True\n"
     ]
    }
   ],
   "source": [
    "check_max_logit = valid_targets.squeeze()[mask.squeeze()].to(torch.int64) == torch.argmax(max_logit[mask], dim=-1)\n",
    "print(f\"Max Logit: {check_max_logit.all()}\")\n",
    "check_add_k = valid_targets.squeeze()[mask.squeeze()].to(torch.int64) == torch.argmax(add_k[mask], dim=-1)\n",
    "print(f\"Add K: {check_add_k.all()}\")\n",
    "check_set_to_one = valid_targets.squeeze()[mask.squeeze()].to(torch.int64) == torch.argmax(targets_set_to_one[mask], dim=-1)\n",
    "print(f\"Set to One: {check_set_to_one.all()}\")\n",
    "\n"
   ]
  },
  {
   "cell_type": "code",
   "execution_count": null,
   "metadata": {},
   "outputs": [
    {
     "data": {
      "text/plain": [
       "(array([ 1.,  3.,  8.,  5.,  9., 15.,  4., 15., 13., 10., 11.,  9., 12.,\n",
       "         9.,  8.,  6.,  8.,  3.,  8.,  4.,  2.,  8.,  4.,  3.,  2.,  4.,\n",
       "         0.,  5.,  8.,  5.,  4.,  4.,  3.,  1.,  2.,  1.,  3.,  0.,  1.,\n",
       "         0.,  0.,  1.,  2.,  3.,  1.,  1.,  0.,  3.,  0.,  4.,  3.,  1.,\n",
       "         3.,  1.,  0.,  0.,  2.,  0.,  0.,  1.,  1.,  0.,  1.,  0.,  0.,\n",
       "         1.,  1.,  0.,  0.,  0.,  1.,  1.,  0.,  1.,  0.,  1.,  0.,  2.,\n",
       "         1.,  2.,  3.,  2.,  1.,  2.,  3.,  0.,  1.,  0.,  2.,  0.,  1.,\n",
       "         1.,  0.,  2.,  4.,  1.,  2.,  2.,  2.,  4.]),\n",
       " array([0.02651063, 0.03623628, 0.04596194, 0.05568759, 0.06541324,\n",
       "        0.0751389 , 0.08486455, 0.09459021, 0.10431586, 0.11404151,\n",
       "        0.12376717, 0.13349283, 0.14321847, 0.15294413, 0.16266978,\n",
       "        0.17239544, 0.18212108, 0.19184674, 0.2015724 , 0.21129805,\n",
       "        0.22102371, 0.23074935, 0.24047501, 0.25020066, 0.25992632,\n",
       "        0.26965198, 0.27937764, 0.28910327, 0.29882893, 0.30855459,\n",
       "        0.31828025, 0.32800591, 0.33773154, 0.3474572 , 0.35718286,\n",
       "        0.36690852, 0.37663418, 0.38635981, 0.39608547, 0.40581113,\n",
       "        0.41553679, 0.42526242, 0.43498808, 0.44471374, 0.4544394 ,\n",
       "        0.46416506, 0.47389069, 0.48361635, 0.49334201, 0.50306767,\n",
       "        0.5127933 , 0.52251899, 0.53224462, 0.54197025, 0.55169594,\n",
       "        0.56142157, 0.57114726, 0.58087289, 0.59059852, 0.60032421,\n",
       "        0.61004984, 0.61977553, 0.62950116, 0.63922679, 0.64895248,\n",
       "        0.65867811, 0.6684038 , 0.67812943, 0.68785506, 0.69758075,\n",
       "        0.70730639, 0.71703207, 0.72675771, 0.73648334, 0.74620903,\n",
       "        0.75593466, 0.76566035, 0.77538598, 0.78511161, 0.7948373 ,\n",
       "        0.80456293, 0.81428862, 0.82401425, 0.83373988, 0.84346557,\n",
       "        0.8531912 , 0.86291683, 0.87264252, 0.88236815, 0.89209384,\n",
       "        0.90181947, 0.9115451 , 0.92127079, 0.93099642, 0.94072211,\n",
       "        0.95044774, 0.96017337, 0.96989906, 0.97962469, 0.98935038,\n",
       "        0.99907601]),\n",
       " <BarContainer object of 100 artists>)"
      ]
     },
     "execution_count": 37,
     "metadata": {},
     "output_type": "execute_result"
    },
    {
     "data": {
      "image/png": "[encoded data removed]",
      "text/plain": [
       "<Figure size 640x480 with 1 Axes>"
      ]
     },
     "metadata": {},
     "output_type": "display_data"
    }
   ],
   "source": [
    "# Max Logit\n",
    "import matplotlib.pyplot as plt\n",
    "plt.hist(max_logit[mask].max(dim=-1).values.cpu().numpy(), bins=100)"
   ]
  },
  {
   "cell_type": "code",
   "execution_count": null,
   "metadata": {},
   "outputs": [
    {
     "data": {
      "text/plain": [
       "(array([ 1.,  4.,  4.,  3.,  1.,  9.,  9.,  8., 11.,  8.,  8.,  4., 11.,\n",
       "         6., 12.,  4.,  7.,  3.,  3.,  3.,  3.,  7.,  2.,  2.,  5.,  4.,\n",
       "         2.,  3.,  7.,  6.,  5.,  6.,  5.,  3.,  3.,  3.,  3.,  0.,  2.,\n",
       "         0.,  1.,  5.,  5.,  3.,  2.,  5.,  0.,  5.,  1.,  4.,  3.,  4.,\n",
       "         3.,  2.,  0.,  2.,  2.,  0.,  0.,  3.,  2.,  0.,  1.,  1.,  1.,\n",
       "         1.,  2.,  1.,  0.,  0.,  1.,  1.,  0.,  1.,  0.,  1.,  0.,  3.,\n",
       "         1.,  2.,  3.,  2.,  1.,  2.,  4.,  0.,  1.,  0.,  2.,  0.,  1.,\n",
       "         1.,  0.,  2.,  4.,  1.,  2.,  2.,  2.,  4.]),\n",
       " array([0.02651063, 0.03623628, 0.04596194, 0.05568759, 0.06541324,\n",
       "        0.0751389 , 0.08486455, 0.09459021, 0.10431586, 0.11404151,\n",
       "        0.12376717, 0.13349283, 0.14321847, 0.15294413, 0.16266978,\n",
       "        0.17239544, 0.18212108, 0.19184674, 0.2015724 , 0.21129805,\n",
       "        0.22102371, 0.23074935, 0.24047501, 0.25020066, 0.25992632,\n",
       "        0.26965198, 0.27937764, 0.28910327, 0.29882893, 0.30855459,\n",
       "        0.31828025, 0.32800591, 0.33773154, 0.3474572 , 0.35718286,\n",
       "        0.36690852, 0.37663418, 0.38635981, 0.39608547, 0.40581113,\n",
       "        0.41553679, 0.42526242, 0.43498808, 0.44471374, 0.4544394 ,\n",
       "        0.46416506, 0.47389069, 0.48361635, 0.49334201, 0.50306767,\n",
       "        0.5127933 , 0.52251899, 0.53224462, 0.54197025, 0.55169594,\n",
       "        0.56142157, 0.57114726, 0.58087289, 0.59059852, 0.60032421,\n",
       "        0.61004984, 0.61977553, 0.62950116, 0.63922679, 0.64895248,\n",
       "        0.65867811, 0.6684038 , 0.67812943, 0.68785506, 0.69758075,\n",
       "        0.70730639, 0.71703207, 0.72675771, 0.73648334, 0.74620903,\n",
       "        0.75593466, 0.76566035, 0.77538598, 0.78511161, 0.7948373 ,\n",
       "        0.80456293, 0.81428862, 0.82401425, 0.83373988, 0.84346557,\n",
       "        0.8531912 , 0.86291683, 0.87264252, 0.88236815, 0.89209384,\n",
       "        0.90181947, 0.9115451 , 0.92127079, 0.93099642, 0.94072211,\n",
       "        0.95044774, 0.96017337, 0.96989906, 0.97962469, 0.98935038,\n",
       "        0.99907601]),\n",
       " <BarContainer object of 100 artists>)"
      ]
     },
     "execution_count": 43,
     "metadata": {},
     "output_type": "execute_result"
    },
    {
     "data": {
      "image/png": "[encoded data removed]",
      "text/plain": [
       "<Figure size 640x480 with 1 Axes>"
      ]
     },
     "metadata": {},
     "output_type": "display_data"
    }
   ],
   "source": [
    "# Raw Logits\n",
    "plt.hist(F.softmax(shift_logits[mask], dim=-1).max(dim=-1).values.cpu().numpy(), bins=100)"
   ]
  },
  {
   "cell_type": "code",
   "execution_count": null,
   "metadata": {},
   "outputs": [
    {
     "data": {
      "text/plain": [
       "tensor([[0., 0., 0.,  ..., 0., 0., 0.],\n",
       "        [1., 0., 0.,  ..., 0., 0., 0.],\n",
       "        [0., 0., 0.,  ..., 0., 0., 0.],\n",
       "        ...,\n",
       "        [0., 0., 0.,  ..., 0., 0., 0.],\n",
       "        [0., 0., 0.,  ..., 0., 0., 0.],\n",
       "        [0., 0., 0.,  ..., 0., 0., 0.]], device='cuda:0', dtype=torch.bfloat16)"
      ]
     },
     "execution_count": 48,
     "metadata": {},
     "output_type": "execute_result"
    }
   ],
   "source": [
    "targets_set_to_one[mask]"
   ]
  },
  {
   "cell_type": "code",
   "execution_count": null,
   "metadata": {},
   "outputs": [
    {
     "data": {
      "text/plain": [
       "(array([  0.,   0.,   0.,   0.,   0.,   0.,   0.,   0.,   0.,   0.,   0.,\n",
       "          0.,   0.,   0.,   0.,   0.,   0.,   0.,   0.,   0.,   0.,   0.,\n",
       "          0.,   0.,   0.,   0.,   0.,   0.,   0.,   0.,   0.,   0.,   0.,\n",
       "          0.,   0.,   0.,   0.,   0.,   0.,   0.,   0.,   0.,   0.,   0.,\n",
       "          0.,   0.,   0.,   0.,   0.,   0., 293.,   0.,   0.,   0.,   0.,\n",
       "          0.,   0.,   0.,   0.,   0.,   0.,   0.,   0.,   0.,   0.,   0.,\n",
       "          0.,   0.,   0.,   0.,   0.,   0.,   0.,   0.,   0.,   0.,   0.,\n",
       "          0.,   0.,   0.,   0.,   0.,   0.,   0.,   0.,   0.,   0.,   0.,\n",
       "          0.,   0.,   0.,   0.,   0.,   0.,   0.,   0.,   0.,   0.,   0.,\n",
       "          0.]),\n",
       " array([0.5       , 0.50999999, 0.51999998, 0.52999997, 0.54000002,\n",
       "        0.55000001, 0.56      , 0.56999999, 0.57999998, 0.58999997,\n",
       "        0.60000002, 0.61000001, 0.62      , 0.63      , 0.63999999,\n",
       "        0.64999998, 0.66000003, 0.67000002, 0.68000001, 0.69      ,\n",
       "        0.69999999, 0.70999998, 0.72000003, 0.73000002, 0.74000001,\n",
       "        0.75      , 0.75999999, 0.76999998, 0.77999997, 0.79000002,\n",
       "        0.80000001, 0.81      , 0.81999999, 0.82999998, 0.83999997,\n",
       "        0.85000002, 0.86000001, 0.87      , 0.88      , 0.88999999,\n",
       "        0.89999998, 0.91000003, 0.92000002, 0.93000001, 0.94      ,\n",
       "        0.94999999, 0.95999998, 0.97000003, 0.98000002, 0.99000001,\n",
       "        1.        , 1.00999999, 1.01999998, 1.02999997, 1.03999996,\n",
       "        1.04999995, 1.05999994, 1.07000005, 1.08000004, 1.09000003,\n",
       "        1.10000002, 1.11000001, 1.12      , 1.13      , 1.13999999,\n",
       "        1.14999998, 1.15999997, 1.16999996, 1.17999995, 1.19000006,\n",
       "        1.20000005, 1.21000004, 1.22000003, 1.23000002, 1.24000001,\n",
       "        1.25      , 1.25999999, 1.26999998, 1.27999997, 1.28999996,\n",
       "        1.29999995, 1.30999994, 1.32000005, 1.33000004, 1.34000003,\n",
       "        1.35000002, 1.36000001, 1.37      , 1.38      , 1.38999999,\n",
       "        1.39999998, 1.40999997, 1.41999996, 1.42999995, 1.44000006,\n",
       "        1.45000005, 1.46000004, 1.47000003, 1.48000002, 1.49000001,\n",
       "        1.5       ]),\n",
       " <BarContainer object of 100 artists>)"
      ]
     },
     "execution_count": 46,
     "metadata": {},
     "output_type": "execute_result"
    },
    {
     "data": {
      "image/png": "[encoded data removed]",
      "text/plain": [
       "<Figure size 640x480 with 1 Axes>"
      ]
     },
     "metadata": {},
     "output_type": "display_data"
    }
   ],
   "source": [
    "# Targets Set to One\n",
    "import matplotlib.pyplot as plt\n",
    "plt.hist(targets_set_to_one[mask].to(torch.float32).max(dim=-1).values.cpu().numpy(), bins=100)"
   ]
  },
  {
   "cell_type": "code",
   "execution_count": null,
   "metadata": {},
   "outputs": [
    {
     "data": {
      "text/plain": [
       "(array([210.,   3.,   1.,   0.,   2.,   0.,   2.,   2.,   0.,   1.,   0.,\n",
       "          0.,   0.,   0.,   0.,   2.,   1.,   2.,   2.,   0.,   1.,   0.,\n",
       "          0.,   3.,   0.,   2.,   2.,   3.,   0.,   1.,   1.,   3.,   0.,\n",
       "          0.,   0.,   1.,   1.,   0.,   0.,   0.,   1.,   0.,   1.,   0.,\n",
       "          1.,   0.,   0.,   0.,   0.,   1.,   1.,   0.,   0.,   0.,   0.,\n",
       "          0.,   1.,   0.,   0.,   1.,   0.,   1.,   0.,   1.,   0.,   0.,\n",
       "          0.,   2.,   0.,   2.,   2.,   2.,   1.,   1.,   1.,   0.,   3.,\n",
       "          2.,   0.,   0.,   1.,   0.,   0.,   2.,   0.,   0.,   1.,   1.,\n",
       "          0.,   1.,   1.,   2.,   3.,   0.,   1.,   1.,   2.,   1.,   2.,\n",
       "          3.]),\n",
       " array([0.25      , 0.25499308, 0.25998613, 0.26497921, 0.26997229,\n",
       "        0.27496535, 0.27995843, 0.28495148, 0.28994456, 0.29493764,\n",
       "        0.29993069, 0.30492377, 0.30991685, 0.31490991, 0.31990299,\n",
       "        0.32489607, 0.32988912, 0.3348822 , 0.33987528, 0.34486833,\n",
       "        0.34986141, 0.35485446, 0.35984755, 0.36484063, 0.36983368,\n",
       "        0.37482676, 0.37981984, 0.38481289, 0.38980597, 0.39479905,\n",
       "        0.3997921 , 0.40478519, 0.40977824, 0.41477132, 0.4197644 ,\n",
       "        0.42475745, 0.42975053, 0.43474361, 0.43973666, 0.44472975,\n",
       "        0.44972283, 0.45471588, 0.45970896, 0.46470204, 0.46969509,\n",
       "        0.47468817, 0.47968122, 0.4846743 , 0.48966739, 0.49466044,\n",
       "        0.49965352, 0.5046466 , 0.50963968, 0.5146327 , 0.51962578,\n",
       "        0.52461886, 0.52961195, 0.53460503, 0.53959811, 0.54459113,\n",
       "        0.54958421, 0.55457729, 0.55957037, 0.56456345, 0.56955647,\n",
       "        0.57454956, 0.57954264, 0.58453572, 0.5895288 , 0.59452188,\n",
       "        0.5995149 , 0.60450798, 0.60950106, 0.61449414, 0.61948723,\n",
       "        0.62448025, 0.62947333, 0.63446641, 0.63945949, 0.64445257,\n",
       "        0.64944565, 0.65443867, 0.65943176, 0.66442484, 0.66941792,\n",
       "        0.674411  , 0.67940408, 0.6843971 , 0.68939018, 0.69438326,\n",
       "        0.69937634, 0.70436943, 0.70936245, 0.71435553, 0.71934861,\n",
       "        0.72434169, 0.72933477, 0.73432785, 0.73932087, 0.74431396,\n",
       "        0.74930704]),\n",
       " <BarContainer object of 100 artists>)"
      ]
     },
     "execution_count": 55,
     "metadata": {},
     "output_type": "execute_result"
    },
    {
     "data": {
      "image/png": "[encoded data removed]",
      "text/plain": [
       "<Figure size 640x480 with 1 Axes>"
      ]
     },
     "metadata": {},
     "output_type": "display_data"
    }
   ],
   "source": [
    "plt.hist(add_k[mask].max(dim=-1).values.cpu().numpy(), bins=100)\n"
   ]
  },
  {
   "cell_type": "code",
   "execution_count": null,
   "metadata": {},
   "outputs": [
    {
     "data": {
      "text/plain": [
       "array([[0.        , 0.        , 0.        , ..., 0.8266956 , 0.34109816,\n",
       "        0.24651651]], dtype=float32)"
      ]
     },
     "execution_count": 40,
     "metadata": {},
     "output_type": "execute_result"
    }
   ],
   "source": [
    "max_logit.max(dim=-1).values.cpu().numpy()"
   ]
  },
  {
   "cell_type": "code",
   "execution_count": null,
   "metadata": {},
   "outputs": [
    {
     "data": {
      "text/plain": [
       "(tensor([[7.0217e-19, 3.0373e-20, 7.1601e-06,  ..., 3.0373e-20, 3.0611e-20,\n",
       "          2.9785e-20],\n",
       "         [1.1513e-01, 2.9848e-42, 1.1764e-18,  ..., 3.0913e-42, 2.9778e-42,\n",
       "          2.9876e-42],\n",
       "         [7.2114e-18, 2.9811e-19, 1.4255e-05,  ..., 2.9503e-19, 2.9319e-19,\n",
       "          2.8625e-19],\n",
       "         ...,\n",
       "         [0.0000e+00, 0.0000e+00, 2.1820e-09,  ..., 0.0000e+00, 0.0000e+00,\n",
       "          0.0000e+00],\n",
       "         [1.5814e-27, 2.5581e-30, 6.5230e-07,  ..., 2.6239e-30, 2.6993e-30,\n",
       "          2.5308e-30],\n",
       "         [4.1534e-27, 2.9558e-29, 1.0273e-04,  ..., 2.9328e-29, 2.9790e-29,\n",
       "          2.8426e-29]], device='cuda:0'),\n",
       " torch.return_types.max(\n",
       " values=tensor([0.1962, 0.1151, 0.8189, 0.1284, 0.2320, 0.0984, 0.3110, 0.3630, 0.2323,\n",
       "         0.0993, 0.1593, 0.1214, 0.4342, 0.4891, 0.8405, 0.2063, 0.9750, 0.2997,\n",
       "         0.3021, 0.2094, 0.9919, 0.2346, 0.3046, 0.3602, 0.2723, 0.7423, 0.1911,\n",
       "         0.7808, 0.2941, 0.4479, 0.1605, 0.8525, 0.2993, 0.1389, 0.4354, 0.1196,\n",
       "         0.2123, 0.1519, 0.1840, 0.1934, 0.1402, 0.1131, 0.1299, 0.9070, 0.0667,\n",
       "         0.2246, 0.0779, 0.1021, 0.7939, 0.0479, 0.1864, 0.8454, 0.2928, 0.1558,\n",
       "         0.5333, 0.4532, 0.1344, 0.8070, 0.9459, 0.1745, 0.0619, 0.2959, 0.2996,\n",
       "         0.2308, 0.1012, 0.2975, 0.1844, 0.1281, 0.8720, 0.2020, 0.0520, 0.4722,\n",
       "         0.5721, 0.0809, 0.9427, 0.7563, 0.1171, 0.4529, 0.2543, 0.3112, 0.1510,\n",
       "         0.2470, 0.3488, 0.7836, 0.1551, 0.0426, 0.5317, 0.0543, 0.6691, 0.0708,\n",
       "         0.4556, 0.0617, 0.3190, 0.0797, 0.5149, 0.0529, 0.8048, 0.0667, 0.3196,\n",
       "         0.0715, 0.5163, 0.2104, 0.2347, 0.0811, 0.0689, 0.8232, 0.1219, 0.1673,\n",
       "         0.0917, 0.1443, 0.0833, 0.1529, 0.0766, 0.1956, 0.2632, 0.9889, 0.0701,\n",
       "         0.2715, 0.1603, 0.3844, 0.2247, 0.1650, 0.1217, 0.2581, 0.1769, 0.1870,\n",
       "         0.1716, 0.2384, 0.1602, 0.3080, 0.7075, 0.1075, 0.1504, 0.2176, 0.3097,\n",
       "         0.2114, 0.0265, 0.6056, 0.0378, 0.1395, 0.0489, 0.1655, 0.3132, 0.1081,\n",
       "         0.8114, 0.1326, 0.3797, 0.1799, 0.1078, 0.1290, 0.1087, 0.9313, 0.1118,\n",
       "         0.3307, 0.0807, 0.9982, 0.1872, 0.2030, 0.1640, 0.6641, 0.1047, 0.1269,\n",
       "         0.0995, 0.1741, 0.1011, 0.5791, 0.1406, 0.3301, 0.1205, 0.1318, 0.2096,\n",
       "         0.9417, 0.1454, 0.2669, 0.0787, 0.1131, 0.0767, 0.0970, 0.0835, 0.1021,\n",
       "         0.9829, 0.0824, 0.9645, 0.1076, 0.1442, 0.0907, 0.0495, 0.8516, 0.0803,\n",
       "         0.8869, 0.4445, 0.1433, 0.9461, 0.0535, 0.8913, 0.1152, 0.1291, 0.1493,\n",
       "         0.1274, 0.0721, 0.5408, 0.2114, 0.6323, 0.2560, 0.9384, 0.1449, 0.0385,\n",
       "         0.2376, 0.0912, 0.0962, 0.5059, 0.0567, 0.9697, 0.0675, 0.3738, 0.1374,\n",
       "         0.8011, 0.0590, 0.2729, 0.1578, 0.2362, 0.1663, 0.0949, 0.0951, 0.5042,\n",
       "         0.3991, 0.7262, 0.0947, 0.9991, 0.1020, 0.7968, 0.2914, 0.3849, 0.0664,\n",
       "         0.0547, 0.1277, 0.0784, 0.9138, 0.0802, 0.3016, 0.1062, 0.1412, 0.4867,\n",
       "         0.1053, 0.9749, 0.3438, 0.1051, 0.5412, 0.1026, 0.6168, 0.1885, 0.0648,\n",
       "         0.9927, 0.2051, 0.1728, 0.1163, 0.8429, 0.0833, 0.1910, 0.2714, 0.4915,\n",
       "         0.3224, 0.1247, 0.3362, 0.1114, 0.1488, 0.1357, 0.1637, 0.5460, 0.1790,\n",
       "         0.5100, 0.1641, 0.3112, 0.0887, 0.5107, 0.2489, 0.3235, 0.2032, 0.1624,\n",
       "         0.3353, 0.1016, 0.9507, 0.1158, 0.2483, 0.1480, 0.3456, 0.1420, 0.5137,\n",
       "         0.2996, 0.1576, 0.8267, 0.3411, 0.2465], device='cuda:0'),\n",
       " indices=tensor([ 2302,     0,  4374,     0,  2302,     0, 18812,     0,    19,     0,\n",
       "         20083,     0,    56,  2886,  8905,     0,  4374,     0, 46708,     0,\n",
       "          2809,  4580,     0,  2302,     0,  2302,     0,    56,  2886,  8905,\n",
       "             0,    56,  2886,     0,  4374,     0, 17185,     0,  4125,  1568,\n",
       "             0, 16440,     0,  4374,     0,  2302,     0,    53,    87,     0,\n",
       "          1328,  3548,   626,     0,    56,  2886,     0,    56,  2886,  9763,\n",
       "             0,    56,  2886,     0,  2302,     0,    21,     0, 14316,  2316,\n",
       "             0, 14316,  2316,     0,    56,  2886,   867,  4787,     0,  4374,\n",
       "             0,    56,  2886,  8905,     0,  9030, 30131,     0,  2302,     0,\n",
       "            19,     0, 47548,     0,    17,     0,  2302,     0,  4374,     0,\n",
       "          2302,     0,  6623,  1887,     0,  2302,     0,    21,     0, 47548,\n",
       "             0,    21,     0,    21,     0,  2302,     0,  4374,     0,  2302,\n",
       "             0,  4374,     0,    21,     0,  9030, 30131,     0,    21,     0,\n",
       "          4374,     0,  4374,     0,  2302,     0, 49579,   259,  2886,     0,\n",
       "            37,   610, 12081,     0,  2302,     0,    19,     0,  9586,   272,\n",
       "             0, 27346,     0,  2302,     0,    18,     0,  2302,     0, 49579,\n",
       "             0,  4374,     0, 20083,     0,    19,     0,  2302,     0,  4374,\n",
       "             0,    56,  2886,  9763,     0,  9030, 30131,     0, 17185,     0,\n",
       "          2302,     0, 23631,     0,    56,  2886,   867,  4787,     0,  9030,\n",
       "         30131,     0,    19,     0,    56,  2886,  8905,     0, 17185,     0,\n",
       "         17185,     0,  2302,     0,    21,     0, 49579,   259,  2886,     0,\n",
       "            56,  2886, 27765,     0,    17,     0,    21,     0,  2302,     0,\n",
       "         49579,   259,  2886,     0, 49579,   259,  2886,     0,    21,     0,\n",
       "          2302,     0,  2302,     0,    41,  1094,     0,  4374,     0,  2302,\n",
       "             0,  6623,  1887,     0, 14316,  2316,     0,  2302,     0,  2302,\n",
       "             0,   688, 26695,     0,  2302,     0,    56,  2886,  8905,     0,\n",
       "            36,  9764,     0, 18812,     0, 32842,     0,  9030, 30131,     0,\n",
       "          4374,     0,  2302,     0,    19,     0,  8929,     0, 27681,  4837,\n",
       "             0,  2302,     0,  2302,     0,  4374,     0,    45, 48013,     0,\n",
       "            56,  2886,  8905], device='cuda:0')))"
      ]
     },
     "execution_count": 35,
     "metadata": {},
     "output_type": "execute_result"
    }
   ],
   "source": [
    "max_logit[mask], max_logit[mask].max(dim=-1)"
   ]
  },
  {
   "cell_type": "code",
   "execution_count": null,
   "metadata": {},
   "outputs": [
    {
     "data": {
      "text/plain": [
       "tensor([[0., 0., 0.,  ..., 0., 0., 0.],\n",
       "        [0., 0., 0.,  ..., 0., 0., 0.],\n",
       "        [0., 0., 0.,  ..., 0., 0., 0.],\n",
       "        ...,\n",
       "        [0., 0., 0.,  ..., 0., 0., 0.],\n",
       "        [0., 0., 0.,  ..., 0., 0., 0.],\n",
       "        [0., 0., 0.,  ..., 0., 0., 0.]], device='cuda:0')"
      ]
     },
     "execution_count": 24,
     "metadata": {},
     "output_type": "execute_result"
    }
   ],
   "source": [
    "max_logit[~mask]"
   ]
  },
  {
   "cell_type": "code",
   "execution_count": null,
   "metadata": {},
   "outputs": [
    {
     "data": {
      "text/plain": [
       "torch.return_types.max(\n",
       "values=tensor([0.5000, 0.5000, 0.5000, 0.5000, 0.5000, 0.5000, 0.5000, 0.5000, 0.5000,\n",
       "        0.5000, 0.5000, 0.5000, 0.5000, 0.5000, 0.5000, 0.5000, 0.5000, 0.5000,\n",
       "        0.5000, 0.5000, 0.5000, 0.5000, 0.5000, 0.5000, 0.5000, 0.5000, 0.5000,\n",
       "        0.5000, 0.5000, 0.5000, 0.5000, 0.5000, 0.5000, 0.5000, 0.5000, 0.5000,\n",
       "        0.5000, 0.5000, 0.5000, 0.5000, 0.5000, 0.5000, 0.5000, 0.5000, 0.5000,\n",
       "        0.5000, 0.5000, 0.5000, 0.5000, 0.5000, 0.5000, 0.5000, 0.5000, 0.5000,\n",
       "        0.5000, 0.5000, 0.5000, 0.5000, 0.5000, 0.5000, 0.5000, 0.5000, 0.5000,\n",
       "        0.5000, 0.5000, 0.5000, 0.5000, 0.5000, 0.5000, 0.5000, 0.5000, 0.5000,\n",
       "        0.5000, 0.5000, 0.5000, 0.5000, 0.5000, 0.5000, 0.5000, 0.5000, 0.5000,\n",
       "        0.5000, 0.5000, 0.5000, 0.5000, 0.5000, 0.5000, 0.5000, 0.5000, 0.5000,\n",
       "        0.5000, 0.5000, 0.5000, 0.5000, 0.5000, 0.5000, 0.5000, 0.5000, 0.5000,\n",
       "        0.5000, 0.5000, 0.5000, 0.5000, 0.5000, 0.5000, 0.5000, 0.5000, 0.5000,\n",
       "        0.5000, 0.5000, 0.5000, 0.5000, 0.5000, 0.5000, 0.5000, 0.5000, 0.5000,\n",
       "        0.5000, 0.5000, 0.5000, 0.5000, 0.5000, 0.5000, 0.5000, 0.5000, 0.5000,\n",
       "        0.5000, 0.5000, 0.5000, 0.5000, 0.5000, 0.5000, 0.5000, 0.5000, 0.5000,\n",
       "        0.5000, 0.5000, 0.5000, 0.5000, 0.5000, 0.5000, 0.5000, 0.5000, 0.5000,\n",
       "        0.5000, 0.5000, 0.5000, 0.5000, 0.5000, 0.5000, 0.5000, 0.5000, 0.5000,\n",
       "        0.5000, 0.5000, 0.5000, 0.5000, 0.5000, 0.5000, 0.5000, 0.5000, 0.5000,\n",
       "        0.5000, 0.5000, 0.5000, 0.5000, 0.5000, 0.5000, 0.5000, 0.5000, 0.5000,\n",
       "        0.5000, 0.5000, 0.5000, 0.5000, 0.5000, 0.5000, 0.5000, 0.5000, 0.5000,\n",
       "        0.5000, 0.5000, 0.5000, 0.5000, 0.5000, 0.5000, 0.5000, 0.5000, 0.5000,\n",
       "        0.5000, 0.5000, 0.5000, 0.5000, 0.5000, 0.5000, 0.5000, 0.5000, 0.5000,\n",
       "        0.5000, 0.5000, 0.5000, 0.5000, 0.5043, 0.5000, 0.5000, 0.5000, 0.5000,\n",
       "        0.5000, 0.5000, 0.5000, 0.5000, 0.5000, 0.5000, 0.5000, 0.5000, 0.5000,\n",
       "        0.5000, 0.5000, 0.5000, 0.5000, 0.5000, 0.5000, 0.5000, 0.5000, 0.5000,\n",
       "        0.5000, 0.5000, 0.5000, 0.5000, 0.5000, 0.5000, 0.5000, 0.5000, 0.5000,\n",
       "        0.5000, 0.5000, 0.5000, 0.5000, 0.5000, 0.5000, 0.5000, 0.5000, 0.5000,\n",
       "        0.5000, 0.5000, 0.5000, 0.5000, 0.5000, 0.5000, 0.5000, 0.5000, 0.5000,\n",
       "        0.5000, 0.5000, 0.5000, 0.5000, 0.5000, 0.5000, 0.5000, 0.5000, 0.5000,\n",
       "        0.5000, 0.5000, 0.5000, 0.5000, 0.5000, 0.5000, 0.5000, 0.5000, 0.5000,\n",
       "        0.5000, 0.5000, 0.5000, 0.5000, 0.5000, 0.5000, 0.5000, 0.5000, 0.5002,\n",
       "        0.5000, 0.5000, 0.5000, 0.5000, 0.5000, 0.5000, 0.5000, 0.5000, 0.5000,\n",
       "        0.5000, 0.5000, 0.5000, 0.5000, 0.5000], device='cuda:0'),\n",
       "indices=tensor([ 2302,     0,  4374,     0,  2302,     0, 18812,     0,    19,     0,\n",
       "        20083,     0,    56,  2886,  8905,     0,  4374,     0, 46708,     0,\n",
       "         2809,  4580,     0,  2302,     0,  2302,     0,    56,  2886,  8905,\n",
       "            0,    56,  2886,     0,  4374,     0, 17185,     0,  4125,  1568,\n",
       "            0, 16440,     0,  4374,     0,  2302,     0,    53,    87,     0,\n",
       "         1328,  3548,   626,     0,    56,  2886,     0,    56,  2886,  9763,\n",
       "            0,    56,  2886,     0,  2302,     0,    21,     0, 14316,  2316,\n",
       "            0, 14316,  2316,     0,    56,  2886,   867,  4787,     0,  4374,\n",
       "            0,    56,  2886,  8905,     0,  9030, 30131,     0,  2302,     0,\n",
       "           19,     0, 47548,     0,    17,     0,  2302,     0,  4374,     0,\n",
       "         2302,     0,  6623,  1887,     0,  2302,     0,    21,     0, 47548,\n",
       "            0,    21,     0,    21,     0,  2302,     0,  4374,     0,  2302,\n",
       "            0,  4374,     0,    21,     0,  9030, 30131,     0,    21,     0,\n",
       "         4374,     0,  4374,     0,  2302,     0, 49579,   259,  2886,     0,\n",
       "           37,   610, 12081,     0,  2302,     0,    19,     0,  9586,   272,\n",
       "            0, 27346,     0,  2302,     0,    18,     0,  2302,     0, 49579,\n",
       "            0,  4374,     0, 20083,     0,    19,     0,  2302,     0,  4374,\n",
       "            0,    56,  2886,  9763,     0,  9030, 30131,     0, 17185,     0,\n",
       "         2302,     0, 23631,     0,    56,  2886,   867,  4787,     0,  9030,\n",
       "        30131,     0,    19,     0,    56,  2886,  8905,     0, 17185,     0,\n",
       "        17185,     0,  2302,     0,    21,     0, 49579,   259,  2886,     0,\n",
       "           56,  2886, 27765,     0,    17,     0,    21,     0,  2302,     0,\n",
       "        49579,   259,  2886,     0, 49579,   259,  2886,     0,    21,     0,\n",
       "         2302,     0,  2302,     0,    41,  1094,     0,  4374,     0,  2302,\n",
       "            0,  6623,  1887,     0, 14316,  2316,     0,  2302,     0,  2302,\n",
       "            0,   688, 26695,     0,  2302,     0,    56,  2886,  8905,     0,\n",
       "           36,  9764,     0, 18812,     0, 32842,     0,  9030, 30131,     0,\n",
       "         4374,     0,  2302,     0,    19,     0,  8929,     0, 27681,  4837,\n",
       "            0,  2302,     0,  2302,     0,  4374,     0,    45, 48013,     0,\n",
       "           56,  2886,  8905], device='cuda:0'))"
      ]
     },
     "execution_count": 55,
     "metadata": {},
     "output_type": "execute_result"
    }
   ],
   "source": [
    "add_k[mask].max(dim=-1)"
   ]
  },
  {
   "cell_type": "code",
   "execution_count": null,
   "metadata": {},
   "outputs": [
    {
     "data": {
      "text/plain": [
       "(tensor([[0., 0., 0.,  ..., 0., 0., 0.],\n",
       "         [0., 0., 0.,  ..., 0., 0., 0.],\n",
       "         [0., 0., 0.,  ..., 0., 0., 0.],\n",
       "         ...,\n",
       "         [0., 0., 0.,  ..., 0., 0., 0.],\n",
       "         [0., 0., 0.,  ..., 0., 0., 0.],\n",
       "         [0., 0., 0.,  ..., 0., 0., 0.]], device='cuda:0'),\n",
       " torch.Size([2330, 50304]),\n",
       " tensor(0., device='cuda:0'))"
      ]
     },
     "execution_count": 189,
     "metadata": {},
     "output_type": "execute_result"
    }
   ],
   "source": [
    "targets_set_to_one[~mask], targets_set_to_one[~mask].shape, targets_set_to_one[~mask].max(dim=-1).values.sum()"
   ]
  },
  {
   "cell_type": "code",
   "execution_count": null,
   "metadata": {},
   "outputs": [
    {
     "data": {
      "text/plain": [
       "(tensor([[4.3707e-19, 1.8846e-20, 4.4405e-06,  ..., 1.8846e-20, 1.9058e-20,\n",
       "          1.8529e-20],\n",
       "         [5.0000e-01, 0.0000e+00, 6.6407e-19,  ..., 0.0000e+00, 0.0000e+00,\n",
       "          0.0000e+00],\n",
       "         [1.9949e-17, 8.2332e-19, 3.9339e-05,  ..., 8.1315e-19, 8.0976e-19,\n",
       "          7.8943e-19],\n",
       "         ...,\n",
       "         [0.0000e+00, 0.0000e+00, 6.2864e-09,  ..., 0.0000e+00, 0.0000e+00,\n",
       "          0.0000e+00],\n",
       "         [1.1991e-27, 1.9352e-30, 4.9546e-07,  ..., 1.9968e-30, 2.0461e-30,\n",
       "          1.9228e-30],\n",
       "         [2.7515e-27, 1.9623e-29, 6.8188e-05,  ..., 1.9426e-29, 1.9722e-29,\n",
       "          1.8834e-29]], device='cuda:0'),\n",
       " torch.Size([293, 50304]),\n",
       " torch.return_types.max(\n",
       " values=tensor([0.5000, 0.5000, 0.5000, 0.5000, 0.5000, 0.5000, 0.5000, 0.5000, 0.5000,\n",
       "         0.5000, 0.5000, 0.5000, 0.5000, 0.5000, 0.5000, 0.5000, 0.5000, 0.5000,\n",
       "         0.5000, 0.5000, 0.5000, 0.5000, 0.5000, 0.5000, 0.5000, 0.5000, 0.5000,\n",
       "         0.5000, 0.5000, 0.5000, 0.5000, 0.5000, 0.5000, 0.5000, 0.5000, 0.5000,\n",
       "         0.5000, 0.5000, 0.5000, 0.5000, 0.5000, 0.5000, 0.5000, 0.5000, 0.5000,\n",
       "         0.5000, 0.5000, 0.5000, 0.5000, 0.5000, 0.5000, 0.5000, 0.5000, 0.5000,\n",
       "         0.5000, 0.5000, 0.5000, 0.5000, 0.5000, 0.5000, 0.5000, 0.5000, 0.5000,\n",
       "         0.5000, 0.5000, 0.5000, 0.5000, 0.5000, 0.5000, 0.5000, 0.5000, 0.5000,\n",
       "         0.5000, 0.5000, 0.5000, 0.5000, 0.5000, 0.5000, 0.5000, 0.5000, 0.5000,\n",
       "         0.5000, 0.5000, 0.5000, 0.5000, 0.5000, 0.5000, 0.5000, 0.5000, 0.5000,\n",
       "         0.5000, 0.5000, 0.5000, 0.5000, 0.5000, 0.5000, 0.5000, 0.5000, 0.5000,\n",
       "         0.5000, 0.5000, 0.5000, 0.5000, 0.5000, 0.5000, 0.5000, 0.5000, 0.5000,\n",
       "         0.5000, 0.5000, 0.5000, 0.5000, 0.5000, 0.5000, 0.5000, 0.5000, 0.5000,\n",
       "         0.5000, 0.5000, 0.5000, 0.5000, 0.5000, 0.5000, 0.5000, 0.5000, 0.5000,\n",
       "         0.5000, 0.5000, 0.5000, 0.5000, 0.5000, 0.5000, 0.5000, 0.5000, 0.5000,\n",
       "         0.5000, 0.5000, 0.5000, 0.5000, 0.5000, 0.5000, 0.5000, 0.5000, 0.5000,\n",
       "         0.5000, 0.5000, 0.5000, 0.5000, 0.5000, 0.5000, 0.5000, 0.5000, 0.5000,\n",
       "         0.5000, 0.5000, 0.5000, 0.5000, 0.5000, 0.5000, 0.5000, 0.5000, 0.5000,\n",
       "         0.5000, 0.5000, 0.5000, 0.5000, 0.5000, 0.5000, 0.5000, 0.5000, 0.5000,\n",
       "         0.5000, 0.5000, 0.5000, 0.5000, 0.5000, 0.5000, 0.5000, 0.5000, 0.5000,\n",
       "         0.5000, 0.5000, 0.5000, 0.5000, 0.5000, 0.5000, 0.5000, 0.5000, 0.5000,\n",
       "         0.5000, 0.5000, 0.5000, 0.5000, 0.5000, 0.5000, 0.5000, 0.5000, 0.5000,\n",
       "         0.5000, 0.5000, 0.5000, 0.5000, 0.5000, 0.5000, 0.5000, 0.5000, 0.5000,\n",
       "         0.5000, 0.5000, 0.5000, 0.5000, 0.5000, 0.5000, 0.5000, 0.5000, 0.5000,\n",
       "         0.5000, 0.5000, 0.5000, 0.5000, 0.5000, 0.5000, 0.5000, 0.5000, 0.5000,\n",
       "         0.5000, 0.5000, 0.5000, 0.5000, 0.5000, 0.5000, 0.5000, 0.5000, 0.5000,\n",
       "         0.5000, 0.5000, 0.5000, 0.5000, 0.5000, 0.5000, 0.5000, 0.5000, 0.5000,\n",
       "         0.5000, 0.5000, 0.5000, 0.5000, 0.5000, 0.5000, 0.5000, 0.5000, 0.5000,\n",
       "         0.5000, 0.5000, 0.5000, 0.5000, 0.5000, 0.5000, 0.5000, 0.5000, 0.5000,\n",
       "         0.5000, 0.5000, 0.5000, 0.5000, 0.5000, 0.5000, 0.5000, 0.5000, 0.5000,\n",
       "         0.5000, 0.5000, 0.5000, 0.5000, 0.5000, 0.5000, 0.5000, 0.5000, 0.5000,\n",
       "         0.5000, 0.5000, 0.5000, 0.5000, 0.5000, 0.5000, 0.5000, 0.5000, 0.5000,\n",
       "         0.5000, 0.5000, 0.5000, 0.5000, 0.5000], device='cuda:0'),\n",
       " indices=tensor([ 2302,     0,  4374,     0,  2302,     0, 18812,     0,    19,     0,\n",
       "         20083,     0,    56,  2886,  8905,     0,  4374,     0, 46708,     0,\n",
       "          2809,  4580,     0,  2302,     0,  2302,     0,    56,  2886,  8905,\n",
       "             0,    56,  2886,     0,  4374,     0, 17185,     0,  4125,  1568,\n",
       "             0, 16440,     0,  4374,     0,  2302,     0,    53,    87,     0,\n",
       "          1328,  3548,   626,     0,    56,  2886,     0,    56,  2886,  9763,\n",
       "             0,    56,  2886,     0,  2302,     0,    21,     0, 14316,  2316,\n",
       "             0, 14316,  2316,     0,    56,  2886,   867,  4787,     0,  4374,\n",
       "             0,    56,  2886,  8905,     0,  9030, 30131,     0,  2302,     0,\n",
       "            19,     0, 47548,     0,    17,     0,  2302,     0,  4374,     0,\n",
       "          2302,     0,  6623,  1887,     0,  2302,     0,    21,     0, 47548,\n",
       "             0,    21,     0,    21,     0,  2302,     0,  4374,     0,  2302,\n",
       "             0,  4374,     0,    21,     0,  9030, 30131,     0,    21,     0,\n",
       "          4374,     0,  4374,     0,  2302,     0, 49579,   259,  2886,     0,\n",
       "            37,   610, 12081,     0,  2302,     0,    19,     0,  9586,   272,\n",
       "             0, 27346,     0,  2302,     0,    18,     0,  2302,     0, 49579,\n",
       "             0,  4374,     0, 20083,     0,    19,     0,  2302,     0,  4374,\n",
       "             0,    56,  2886,  9763,     0,  9030, 30131,     0, 17185,     0,\n",
       "          2302,     0, 23631,     0,    56,  2886,   867,  4787,     0,  9030,\n",
       "         30131,     0,    19,     0,    56,  2886,  8905,     0, 17185,     0,\n",
       "         17185,     0,  2302,     0,    21,     0, 49579,   259,  2886,     0,\n",
       "            56,  2886, 27765,     0,    17,     0,    21,     0,  2302,     0,\n",
       "         49579,   259,  2886,     0, 49579,   259,  2886,     0,    21,     0,\n",
       "          2302,     0,  2302,     0,    41,  1094,     0,  4374,     0,  2302,\n",
       "             0,  6623,  1887,     0, 14316,  2316,     0,  2302,     0,  2302,\n",
       "             0,   688, 26695,     0,  2302,     0,    56,  2886,  8905,     0,\n",
       "            36,  9764,     0, 18812,     0, 32842,     0,  9030, 30131,     0,\n",
       "          4374,     0,  2302,     0,    19,     0,  8929,     0, 27681,  4837,\n",
       "             0,  2302,     0,  2302,     0,  4374,     0,    45, 48013,     0,\n",
       "            56,  2886,  8905], device='cuda:0')))"
      ]
     },
     "execution_count": 190,
     "metadata": {},
     "output_type": "execute_result"
    }
   ],
   "source": [
    "targets_set_to_one[mask], targets_set_to_one[mask].shape, torch.max(targets_set_to_one[mask], dim=-1)"
   ]
  },
  {
   "cell_type": "code",
   "execution_count": null,
   "metadata": {},
   "outputs": [
    {
     "data": {
      "text/plain": [
       "(tensor([[0., 0., 0.,  ..., 0., 0., 0.],\n",
       "         [0., 0., 0.,  ..., 0., 0., 0.],\n",
       "         [0., 0., 0.,  ..., 0., 0., 0.],\n",
       "         ...,\n",
       "         [0., 0., 0.,  ..., 0., 0., 0.],\n",
       "         [0., 0., 0.,  ..., 0., 0., 0.],\n",
       "         [0., 0., 0.,  ..., 0., 0., 0.]], device='cuda:0'),\n",
       " torch.Size([2330, 50304]),\n",
       " tensor(0., device='cuda:0'))"
      ]
     },
     "execution_count": 191,
     "metadata": {},
     "output_type": "execute_result"
    }
   ],
   "source": [
    "add_k[~mask], add_k[~mask].shape, add_k[~mask].max(dim=-1).values.sum()"
   ]
  },
  {
   "cell_type": "code",
   "execution_count": null,
   "metadata": {},
   "outputs": [
    {
     "data": {
      "text/plain": [
       "(tensor([[5.1500e-19, 2.2235e-20, 5.2452e-06,  ..., 2.2235e-20, 2.2446e-20,\n",
       "          2.1811e-20],\n",
       "         [4.1211e-01, 0.0000e+00, 7.8266e-19,  ..., 0.0000e+00, 0.0000e+00,\n",
       "          0.0000e+00],\n",
       "         [2.3419e-17, 9.6901e-19, 4.6253e-05,  ..., 9.5545e-19, 9.4868e-19,\n",
       "          9.2835e-19],\n",
       "         ...,\n",
       "         [0.0000e+00, 0.0000e+00, 7.3924e-09,  ..., 0.0000e+00, 0.0000e+00,\n",
       "          0.0000e+00],\n",
       "         [1.4073e-27, 2.2680e-30, 5.8115e-07,  ..., 2.3419e-30, 2.4036e-30,\n",
       "          2.2556e-30],\n",
       "         [3.2564e-27, 2.3173e-29, 8.0585e-05,  ..., 2.2877e-29, 2.3271e-29,\n",
       "          2.2187e-29]], device='cuda:0'),\n",
       " torch.Size([293, 50304]),\n",
       " torch.return_types.max(\n",
       " values=tensor([0.4121, 0.4121, 0.4824, 0.4102, 0.4102, 0.4121, 0.4121, 0.4102, 0.4121,\n",
       "         0.4121, 0.4121, 0.4102, 0.4121, 0.4121, 0.4961, 0.4121, 0.5742, 0.4121,\n",
       "         0.4102, 0.4121, 0.5820, 0.4102, 0.4102, 0.4121, 0.4121, 0.4375, 0.4102,\n",
       "         0.4590, 0.4102, 0.4102, 0.4102, 0.5039, 0.4102, 0.4121, 0.4121, 0.4121,\n",
       "         0.4121, 0.4102, 0.4121, 0.4102, 0.4121, 0.4102, 0.4102, 0.5352, 0.4102,\n",
       "         0.4102, 0.4102, 0.4121, 0.4668, 0.4121, 0.4102, 0.4980, 0.4102, 0.4102,\n",
       "         0.4102, 0.4121, 0.4121, 0.4746, 0.5586, 0.4121, 0.4102, 0.4121, 0.4121,\n",
       "         0.4121, 0.4121, 0.4121, 0.4121, 0.4121, 0.5156, 0.4102, 0.4102, 0.4102,\n",
       "         0.4121, 0.4121, 0.5547, 0.4453, 0.4102, 0.4102, 0.4102, 0.4121, 0.4102,\n",
       "         0.4121, 0.4102, 0.4609, 0.4102, 0.4102, 0.4121, 0.4102, 0.4121, 0.4121,\n",
       "         0.4121, 0.4102, 0.4121, 0.4121, 0.4102, 0.4121, 0.4727, 0.4102, 0.4102,\n",
       "         0.4121, 0.4121, 0.4121, 0.4121, 0.4102, 0.4121, 0.4844, 0.4102, 0.4121,\n",
       "         0.4121, 0.4102, 0.4121, 0.4102, 0.4102, 0.4121, 0.4102, 0.5820, 0.4102,\n",
       "         0.4102, 0.4102, 0.4102, 0.4121, 0.4102, 0.4121, 0.4121, 0.4121, 0.4121,\n",
       "         0.4121, 0.4121, 0.4121, 0.4102, 0.4180, 0.4121, 0.4102, 0.4102, 0.4102,\n",
       "         0.4121, 0.4102, 0.4102, 0.4102, 0.4102, 0.4121, 0.4102, 0.4121, 0.4102,\n",
       "         0.4766, 0.4102, 0.4121, 0.4102, 0.4121, 0.4121, 0.4102, 0.5469, 0.4102,\n",
       "         0.4121, 0.4102, 0.5859, 0.4102, 0.4102, 0.4102, 0.4121, 0.4102, 0.4121,\n",
       "         0.4102, 0.4121, 0.4121, 0.4121, 0.4102, 0.4102, 0.4102, 0.4102, 0.4102,\n",
       "         0.5547, 0.4121, 0.4102, 0.4121, 0.4102, 0.4121, 0.4102, 0.4121, 0.4121,\n",
       "         0.5781, 0.4102, 0.5664, 0.4102, 0.4102, 0.4102, 0.4102, 0.5039, 0.4102,\n",
       "         0.5234, 0.4102, 0.4102, 0.5586, 0.4121, 0.5234, 0.4102, 0.4121, 0.4102,\n",
       "         0.4121, 0.4102, 0.4121, 0.4102, 0.4121, 0.4121, 0.5547, 0.4121, 0.4102,\n",
       "         0.4121, 0.4121, 0.4102, 0.4121, 0.4121, 0.5703, 0.4121, 0.4121, 0.4102,\n",
       "         0.4727, 0.4102, 0.4102, 0.4102, 0.4102, 0.4121, 0.4121, 0.4121, 0.4121,\n",
       "         0.4121, 0.4258, 0.4102, 0.5859, 0.4102, 0.4707, 0.4102, 0.4121, 0.4121,\n",
       "         0.4102, 0.4102, 0.4121, 0.5352, 0.4102, 0.4121, 0.4121, 0.4102, 0.4121,\n",
       "         0.4102, 0.5742, 0.4102, 0.4121, 0.4102, 0.4121, 0.4102, 0.4121, 0.4102,\n",
       "         0.5859, 0.4121, 0.4102, 0.4121, 0.4961, 0.4102, 0.4102, 0.4121, 0.4102,\n",
       "         0.4121, 0.4121, 0.4121, 0.4102, 0.4121, 0.4121, 0.4102, 0.4102, 0.4121,\n",
       "         0.4102, 0.4121, 0.4121, 0.4102, 0.4102, 0.4102, 0.4102, 0.4102, 0.4121,\n",
       "         0.4102, 0.4121, 0.5586, 0.4102, 0.4121, 0.4102, 0.4121, 0.4121, 0.4102,\n",
       "         0.4121, 0.4102, 0.4863, 0.4102, 0.4121], device='cuda:0'),\n",
       " indices=tensor([ 2302,     0,    13,     0,  2302,     0, 18812,     0,    19,     0,\n",
       "         20083,     0,    56,  2886,   432,     0,    13,     0, 46708,     0,\n",
       "           302,  4580,     0,  2302,     0,     3,     0,  2711,  2886,  8905,\n",
       "             0,  2711,  2886,     0,  4374,     0, 17185,     0,  4125,  1568,\n",
       "             0, 16440,     0,    13,     0,  2302,     0,    53,   536,     0,\n",
       "          1328,    13,   626,     0,    56,  2886,     0,  2711,    27,  9763,\n",
       "             0,    56,  2886,     0,  2302,     0,    21,     0,  5493,  2316,\n",
       "             0, 14316,  2316,     0,  2711,  5225,   867,  4787,     0,  4374,\n",
       "             0,    56,  2886,  2987,     0,  9030, 30131,     0,  2302,     0,\n",
       "            19,     0, 47548,     0,    17,     0,    13,     0,  4374,     0,\n",
       "          2302,     0,  6623,  1887,     0, 24381,     0,    21,     0, 47548,\n",
       "             0,    21,     0,    21,     0,    13,     0,  4374,     0,  2302,\n",
       "             0,  4374,     0,    21,     0,  9030, 30131,     0,    21,     0,\n",
       "            13,     0,  4374,     0,  2302,     0, 49579,   259,  2886,     0,\n",
       "            37,   610, 12081,     0,    13,     0,    19,     0,  9586,   272,\n",
       "             0,    27,     0,  2302,     0,   296,     0,  2302,     0, 49579,\n",
       "             0,  4374,     0, 20083,     0,    19,     0,  2302,     0,  4374,\n",
       "             0,  5656,  2886,  9763,     0,  9030, 30131,     0, 17185,     0,\n",
       "            13,     0,  2010,     0,    56,  2886,   867,   327,     0,   489,\n",
       "         30131,     0,  2109,     0,  2711,  2886,  8905,     0, 17185,     0,\n",
       "         17185,     0,  2302,     0,    32,     0, 49579,   259,  2886,     0,\n",
       "            56,  2886,    27,     0,    17,     0, 13484,     0,  2302,     0,\n",
       "         49579,   259,  2886,     0, 49579,   259,    32,     0,    32,     0,\n",
       "            27,     0,  2302,     0,    41,  1094,     0,    13,     0,  2302,\n",
       "             0,  6623,  1887,     0,  5493,  2316,     0,  2302,     0,  2302,\n",
       "             0,   688,    27,     0,  2302,     0,  2711,  2886,  8905,     0,\n",
       "            36,  9764,     0, 18812,     0, 32842,     0,  9030, 30131,     0,\n",
       "          4374,     0,  2302,     0,    19,     0,  8929,     0, 27681,  4837,\n",
       "             0,  2267,     0,  2302,     0,  4374,     0,    45, 48013,     0,\n",
       "          2711,  2886,  8905], device='cuda:0')))"
      ]
     },
     "execution_count": 192,
     "metadata": {},
     "output_type": "execute_result"
    }
   ],
   "source": [
    "add_k[mask], add_k[mask].shape, torch.max(add_k[mask], dim=-1)"
   ]
  },
  {
   "cell_type": "code",
   "execution_count": null,
   "metadata": {},
   "outputs": [
    {
     "ename": "NameError",
     "evalue": "name 'targets_smooth' is not defined",
     "output_type": "error",
     "traceback": [
      "\u001b[0;31m---------------------------------------------------------------------------\u001b[0m",
      "\u001b[0;31mNameError\u001b[0m                                 Traceback (most recent call last)",
      "Cell \u001b[0;32mIn[56], line 1\u001b[0m\n\u001b[0;32m----> 1\u001b[0m valid_targets\u001b[38;5;241m.\u001b[39msqueeze()[mask\u001b[38;5;241m.\u001b[39msqueeze()]\u001b[38;5;241m.\u001b[39mto(torch\u001b[38;5;241m.\u001b[39mint64) \u001b[38;5;241m==\u001b[39m torch\u001b[38;5;241m.\u001b[39margmax(\u001b[43mtargets_smooth\u001b[49m[mask], dim\u001b[38;5;241m=\u001b[39m\u001b[38;5;241m-\u001b[39m\u001b[38;5;241m1\u001b[39m)\n",
      "\u001b[0;31mNameError\u001b[0m: name 'targets_smooth' is not defined"
     ]
    }
   ],
   "source": [
    "valid_targets.squeeze()[mask.squeeze()].to(torch.int64) == torch.argmax(targets_smooth[mask], dim=-1)"
   ]
  },
  {
   "cell_type": "code",
   "execution_count": null,
   "metadata": {},
   "outputs": [
    {
     "data": {
      "text/plain": [
       "tensor([[0.0000, 0.0000, 0.0000,  ..., 0.5000, 0.5000, 0.5000]],\n",
       "       device='cuda:0')"
      ]
     },
     "execution_count": 163,
     "metadata": {},
     "output_type": "execute_result"
    }
   ],
   "source": [
    "targets_set_to_one.max(dim=-1).values"
   ]
  },
  {
   "cell_type": "code",
   "execution_count": null,
   "metadata": {},
   "outputs": [
    {
     "data": {
      "text/plain": [
       "(tensor([0, 0, 0,  ..., 0, 0, 0], device='cuda:0'),\n",
       " tensor([   0,    1,    2,  ..., 2617, 2618, 2619], device='cuda:0'))"
      ]
     },
     "execution_count": 161,
     "metadata": {},
     "output_type": "execute_result"
    }
   ],
   "source": [
    "# all indices where mask is False\n",
    "torch.where(~mask)"
   ]
  },
  {
   "cell_type": "code",
   "execution_count": null,
   "metadata": {},
   "outputs": [
    {
     "data": {
      "text/plain": [
       "tensor([[False, False, False,  ...,  True,  True,  True]], device='cuda:0')"
      ]
     },
     "execution_count": 36,
     "metadata": {},
     "output_type": "execute_result"
    }
   ],
   "source": [
    "mask\n"
   ]
  },
  {
   "cell_type": "code",
   "execution_count": null,
   "metadata": {},
   "outputs": [
    {
     "data": {
      "text/plain": [
       "(tensor([[1.9819e-06, 1.9819e-06, 1.9819e-06,  ..., 1.9819e-06, 1.9819e-06,\n",
       "          1.9819e-06],\n",
       "         [8.9844e-01, 1.9819e-06, 1.9819e-06,  ..., 1.9819e-06, 1.9819e-06,\n",
       "          1.9819e-06],\n",
       "         [1.9819e-06, 1.9819e-06, 1.9819e-06,  ..., 1.9819e-06, 1.9819e-06,\n",
       "          1.9819e-06],\n",
       "         ...,\n",
       "         [1.9819e-06, 1.9819e-06, 1.9819e-06,  ..., 1.9819e-06, 1.9819e-06,\n",
       "          1.9819e-06],\n",
       "         [1.9819e-06, 1.9819e-06, 1.9819e-06,  ..., 1.9819e-06, 1.9819e-06,\n",
       "          1.9819e-06],\n",
       "         [1.9819e-06, 1.9819e-06, 1.9819e-06,  ..., 1.9819e-06, 1.9819e-06,\n",
       "          1.9819e-06]], device='cuda:0', dtype=torch.bfloat16),\n",
       " torch.Size([293, 50304]),\n",
       " tensor([ 2302,     0,  4374,     0,  2302,     0, 18812,     0,    19,     0,\n",
       "         20083,     0,    56,  2886,  8905,     0,  4374,     0, 46708,     0,\n",
       "          2809,  4580,     0,  2302,     0,  2302,     0,    56,  2886,  8905,\n",
       "             0,    56,  2886,     0,  4374,     0, 17185,     0,  4125,  1568,\n",
       "             0, 16440,     0,  4374,     0,  2302,     0,    53,    87,     0,\n",
       "          1328,  3548,   626,     0,    56,  2886,     0,    56,  2886,  9763,\n",
       "             0,    56,  2886,     0,  2302,     0,    21,     0, 14316,  2316,\n",
       "             0, 14316,  2316,     0,    56,  2886,   867,  4787,     0,  4374,\n",
       "             0,    56,  2886,  8905,     0,  9030, 30131,     0,  2302,     0,\n",
       "            19,     0, 47548,     0,    17,     0,  2302,     0,  4374,     0,\n",
       "          2302,     0,  6623,  1887,     0,  2302,     0,    21,     0, 47548,\n",
       "             0,    21,     0,    21,     0,  2302,     0,  4374,     0,  2302,\n",
       "             0,  4374,     0,    21,     0,  9030, 30131,     0,    21,     0,\n",
       "          4374,     0,  4374,     0,  2302,     0, 49579,   259,  2886,     0,\n",
       "            37,   610, 12081,     0,  2302,     0,    19,     0,  9586,   272,\n",
       "             0, 27346,     0,  2302,     0,    18,     0,  2302,     0, 49579,\n",
       "             0,  4374,     0, 20083,     0,    19,     0,  2302,     0,  4374,\n",
       "             0,    56,  2886,  9763,     0,  9030, 30131,     0, 17185,     0,\n",
       "          2302,     0, 23631,     0,    56,  2886,   867,  4787,     0,  9030,\n",
       "         30131,     0,    19,     0,    56,  2886,  8905,     0, 17185,     0,\n",
       "         17185,     0,  2302,     0,    21,     0, 49579,   259,  2886,     0,\n",
       "            56,  2886, 27765,     0,    17,     0,    21,     0,  2302,     0,\n",
       "         49579,   259,  2886,     0, 49579,   259,  2886,     0,    21,     0,\n",
       "          2302,     0,  2302,     0,    41,  1094,     0,  4374,     0,  2302,\n",
       "             0,  6623,  1887,     0, 14316,  2316,     0,  2302,     0,  2302,\n",
       "             0,   688, 26695,     0,  2302,     0,    56,  2886,  8905,     0,\n",
       "            36,  9764,     0, 18812,     0, 32842,     0,  9030, 30131,     0,\n",
       "          4374,     0,  2302,     0,    19,     0,  8929,     0, 27681,  4837,\n",
       "             0,  2302,     0,  2302,     0,  4374,     0,    45, 48013,     0,\n",
       "            56,  2886,  8905], device='cuda:0'))"
      ]
     },
     "execution_count": 39,
     "metadata": {},
     "output_type": "execute_result"
    }
   ],
   "source": [
    "targets_smooth[mask], targets_smooth[mask].shape, torch.argmax(targets_smooth[mask], dim=-1)"
   ]
  },
  {
   "cell_type": "code",
   "execution_count": null,
   "metadata": {},
   "outputs": [
    {
     "data": {
      "text/plain": [
       "tensor([True, True, True, True, True, True, True, True, True, True, True, True,\n",
       "        True, True, True, True, True, True, True, True, True, True, True, True,\n",
       "        True, True, True, True, True, True, True, True, True, True, True, True,\n",
       "        True, True, True, True, True, True, True, True, True, True, True, True,\n",
       "        True, True, True, True, True, True, True, True, True, True, True, True,\n",
       "        True, True, True, True, True, True, True, True, True, True, True, True,\n",
       "        True, True, True, True, True, True, True, True, True, True, True, True,\n",
       "        True, True, True, True, True, True, True, True, True, True, True, True,\n",
       "        True, True, True, True, True, True, True, True, True, True, True, True,\n",
       "        True, True, True, True, True, True, True, True, True, True, True, True,\n",
       "        True, True, True, True, True, True, True, True, True, True, True, True,\n",
       "        True, True, True, True, True, True, True, True, True, True, True, True,\n",
       "        True, True, True, True, True, True, True, True, True, True, True, True,\n",
       "        True, True, True, True, True, True, True, True, True, True, True, True,\n",
       "        True, True, True, True, True, True, True, True, True, True, True, True,\n",
       "        True, True, True, True, True, True, True, True, True, True, True, True,\n",
       "        True, True, True, True, True, True, True, True, True, True, True, True,\n",
       "        True, True, True, True, True, True, True, True, True, True, True, True,\n",
       "        True, True, True, True, True, True, True, True, True, True, True, True,\n",
       "        True, True, True, True, True, True, True, True, True, True, True, True,\n",
       "        True, True, True, True, True, True, True, True, True, True, True, True,\n",
       "        True, True, True, True, True, True, True, True, True, True, True, True,\n",
       "        True, True, True, True, True, True, True, True, True, True, True, True,\n",
       "        True, True, True, True, True, True, True, True, True, True, True, True,\n",
       "        True, True, True, True, True], device='cuda:0')"
      ]
     },
     "execution_count": 30,
     "metadata": {},
     "output_type": "execute_result"
    }
   ],
   "source": [
    "valid_targets.squeeze()[mask.squeeze()].to(torch.int64) == torch.argmax(targets_smooth[mask], dim=-1)"
   ]
  },
  {
   "cell_type": "code",
   "execution_count": null,
   "metadata": {},
   "outputs": [
    {
     "data": {
      "text/plain": [
       "(tensor([[0., 0., 0.,  ..., 0., 0., 0.],\n",
       "         [0., 0., 0.,  ..., 0., 0., 0.],\n",
       "         [0., 0., 0.,  ..., 0., 0., 0.],\n",
       "         ...,\n",
       "         [0., 0., 0.,  ..., 0., 0., 0.],\n",
       "         [0., 0., 0.,  ..., 0., 0., 0.],\n",
       "         [0., 0., 0.,  ..., 0., 0., 0.]], device='cuda:0', dtype=torch.bfloat16),\n",
       " tensor(0., device='cuda:0', dtype=torch.bfloat16),\n",
       " torch.Size([2330, 50304]))"
      ]
     },
     "execution_count": 49,
     "metadata": {},
     "output_type": "execute_result"
    }
   ],
   "source": [
    "targets_smooth[~mask],targets_smooth[~mask].sum(), targets_smooth[~mask].shape"
   ]
  },
  {
   "cell_type": "code",
   "execution_count": null,
   "metadata": {},
   "outputs": [
    {
     "data": {
      "text/plain": [
       "(tensor([[1.6917e-10, 3.7232e-12, 5.3575e-20,  ..., 3.6948e-12, 3.7232e-12,\n",
       "          3.7232e-12],\n",
       "         [8.9844e-01, 3.7852e-21, 8.9034e-07,  ..., 3.7852e-21, 3.8116e-21,\n",
       "          3.7058e-21],\n",
       "         [2.8799e-19, 5.9557e-22, 3.1598e-22,  ..., 5.7903e-22, 5.7903e-22,\n",
       "          5.9557e-22],\n",
       "         ...,\n",
       "         [9.0226e-30, 1.9982e-33, 6.4947e-25,  ..., 1.9741e-33, 1.9982e-33,\n",
       "          1.9861e-33],\n",
       "         [0.0000e+00, 0.0000e+00, 1.2587e-09,  ..., 0.0000e+00, 0.0000e+00,\n",
       "          0.0000e+00],\n",
       "         [2.3981e-28, 3.8827e-31, 9.9186e-08,  ..., 3.9751e-31, 4.0984e-31,\n",
       "          3.8365e-31]], device='cuda:0', dtype=torch.bfloat16),\n",
       " tensor(1., device='cuda:0', dtype=torch.bfloat16),\n",
       " torch.Size([293, 50304]))"
      ]
     },
     "execution_count": 51,
     "metadata": {},
     "output_type": "execute_result"
    }
   ],
   "source": [
    "dynamic_soft[mask], dynamic_soft[mask].sum(dim=-1).mean(), dynamic_soft[mask].shape"
   ]
  },
  {
   "cell_type": "code",
   "execution_count": null,
   "metadata": {},
   "outputs": [
    {
     "data": {
      "text/plain": [
       "(tensor([[8.9844e-01, 0.0000e+00, 5.5294e-18,  ..., 0.0000e+00, 0.0000e+00,\n",
       "          0.0000e+00],\n",
       "         [8.9844e-01, 0.0000e+00, 6.8173e-07,  ..., 0.0000e+00, 0.0000e+00,\n",
       "          0.0000e+00],\n",
       "         [8.9844e-01, 0.0000e+00, 3.8184e-07,  ..., 0.0000e+00, 0.0000e+00,\n",
       "          0.0000e+00],\n",
       "         ...,\n",
       "         [8.9844e-01, 1.5186e-29, 9.5926e-08,  ..., 1.4890e-29, 1.5284e-29,\n",
       "          1.4298e-29],\n",
       "         [8.9844e-01, 1.0710e-08, 2.4564e-08,  ..., 1.0536e-08, 1.0885e-08,\n",
       "          1.0419e-08],\n",
       "         [8.9844e-01, 0.0000e+00, 7.5670e-09,  ..., 0.0000e+00, 0.0000e+00,\n",
       "          0.0000e+00]], device='cuda:0', dtype=torch.bfloat16),\n",
       " torch.Size([2330, 50304]))"
      ]
     },
     "execution_count": 52,
     "metadata": {},
     "output_type": "execute_result"
    }
   ],
   "source": [
    "dynamic_soft[~mask], dynamic_soft[~mask].shape"
   ]
  },
  {
   "cell_type": "code",
   "execution_count": null,
   "metadata": {},
   "outputs": [
    {
     "data": {
      "text/plain": [
       "(tensor([ 2302,     0,  4374,     0,  2302,     0, 18812,     0,    19,     0,\n",
       "         20083,     0,    56,  2886,  8905,     0,  4374,     0, 46708,     0,\n",
       "          2809,  4580,     0,  2302,     0,  2302,     0,    56,  2886,  8905,\n",
       "             0,    56,  2886,     0,  4374,     0, 17185,     0,  4125,  1568,\n",
       "             0, 16440,     0,  4374,     0,  2302,     0,    53,    87,     0,\n",
       "          1328,  3548,   626,     0,    56,  2886,     0,    56,  2886,  9763,\n",
       "             0,    56,  2886,     0,  2302,     0,    21,     0, 14316,  2316,\n",
       "             0, 14316,  2316,     0,    56,  2886,   867,  4787,     0,  4374,\n",
       "             0,    56,  2886,  8905,     0,  9030, 30131,     0,  2302,     0,\n",
       "            19,     0, 47548,     0,    17,     0,  2302,     0,  4374,     0,\n",
       "          2302,     0,  6623,  1887,     0,  2302,     0,    21,     0, 47548,\n",
       "             0,    21,     0,    21,     0,  2302,     0,  4374,     0,  2302,\n",
       "             0,  4374,     0,    21,     0,  9030, 30131,     0,    21,     0,\n",
       "          4374,     0,  4374,     0,  2302,     0, 49579,   259,  2886,     0,\n",
       "            37,   610, 12081,     0,  2302,     0,    19,     0,  9586,   272,\n",
       "             0, 27346,     0,  2302,     0,    18,     0,  2302,     0, 49579,\n",
       "             0,  4374,     0, 20083,     0,    19,     0,  2302,     0,  4374,\n",
       "             0,    56,  2886,  9763,     0,  9030, 30131,     0, 17185,     0,\n",
       "          2302,     0, 23631,     0,    56,  2886,   867,  4787,     0,  9030,\n",
       "         30131,     0,    19,     0,    56,  2886,  8905,     0, 17185,     0,\n",
       "         17185,     0,  2302,     0,    21,     0, 49579,   259,  2886,     0,\n",
       "            56,  2886, 27765,     0,    17,     0,    21,     0,  2302,     0,\n",
       "         49579,   259,  2886,     0, 49579,   259,  2886,     0,    21,     0,\n",
       "          2302,     0,  2302,     0,    41,  1094,     0,  4374,     0,  2302,\n",
       "             0,  6623,  1887,     0, 14316,  2316,     0,  2302,     0,  2302,\n",
       "             0,   688, 26695,     0,  2302,     0,    56,  2886,  8905,     0,\n",
       "            36,  9764,     0, 18812,     0, 32842,     0,  9030, 30131,     0,\n",
       "          4374,     0,  2302,     0,    19,     0,  8929,     0, 27681,  4837,\n",
       "             0,  2302,     0,  2302,     0,  4374,     0,    45, 48013,     0,\n",
       "            56,  2886,  8905], device='cuda:0'),\n",
       " tensor([0, 0, 0,  ..., 0, 0, 0], device='cuda:0'))"
      ]
     },
     "execution_count": 57,
     "metadata": {},
     "output_type": "execute_result"
    }
   ],
   "source": [
    "torch.argmax(dynamic_soft[mask], dim=-1), torch.argmax(dynamic_soft[~mask], dim=-1)"
   ]
  },
  {
   "cell_type": "code",
   "execution_count": null,
   "metadata": {},
   "outputs": [
    {
     "data": {
      "text/plain": [
       "tensor([True, True, True, True, True, True, True, True, True, True, True, True,\n",
       "        True, True, True, True, True, True, True, True, True, True, True, True,\n",
       "        True, True, True, True, True, True, True, True, True, True, True, True,\n",
       "        True, True, True, True, True, True, True, True, True, True, True, True,\n",
       "        True, True, True, True, True, True, True, True, True, True, True, True,\n",
       "        True, True, True, True, True, True, True, True, True, True, True, True,\n",
       "        True, True, True, True, True, True, True, True, True, True, True, True,\n",
       "        True, True, True, True, True, True, True, True, True, True, True, True,\n",
       "        True, True, True, True, True, True, True, True, True, True, True, True,\n",
       "        True, True, True, True, True, True, True, True, True, True, True, True,\n",
       "        True, True, True, True, True, True, True, True, True, True, True, True,\n",
       "        True, True, True, True, True, True, True, True, True, True, True, True,\n",
       "        True, True, True, True, True, True, True, True, True, True, True, True,\n",
       "        True, True, True, True, True, True, True, True, True, True, True, True,\n",
       "        True, True, True, True, True, True, True, True, True, True, True, True,\n",
       "        True, True, True, True, True, True, True, True, True, True, True, True,\n",
       "        True, True, True, True, True, True, True, True, True, True, True, True,\n",
       "        True, True, True, True, True, True, True, True, True, True, True, True,\n",
       "        True, True, True, True, True, True, True, True, True, True, True, True,\n",
       "        True, True, True, True, True, True, True, True, True, True, True, True,\n",
       "        True, True, True, True, True, True, True, True, True, True, True, True,\n",
       "        True, True, True, True, True, True, True, True, True, True, True, True,\n",
       "        True, True, True, True, True, True, True, True, True, True, True, True,\n",
       "        True, True, True, True, True, True, True, True, True, True, True, True,\n",
       "        True, True, True, True, True], device='cuda:0')"
      ]
     },
     "execution_count": 36,
     "metadata": {},
     "output_type": "execute_result"
    }
   ],
   "source": [
    "valid_targets.squeeze()[mask.squeeze()].to(torch.int64) == torch.argmax(dynamic_soft_masking_logits_corrected[mask], dim=-1)"
   ]
  },
  {
   "cell_type": "code",
   "execution_count": null,
   "metadata": {},
   "outputs": [],
   "source": []
  },
  {
   "cell_type": "code",
   "execution_count": null,
   "metadata": {},
   "outputs": [
    {
     "data": {
      "text/plain": [
       "(tensor([[8.9844e-01, 0.0000e+00, 5.5294e-18,  ..., 0.0000e+00, 0.0000e+00,\n",
       "          0.0000e+00],\n",
       "         [8.9844e-01, 0.0000e+00, 6.8173e-07,  ..., 0.0000e+00, 0.0000e+00,\n",
       "          0.0000e+00],\n",
       "         [8.9844e-01, 0.0000e+00, 3.8184e-07,  ..., 0.0000e+00, 0.0000e+00,\n",
       "          0.0000e+00],\n",
       "         ...,\n",
       "         [8.9844e-01, 1.5186e-29, 9.5926e-08,  ..., 1.4890e-29, 1.5284e-29,\n",
       "          1.4298e-29],\n",
       "         [8.9844e-01, 1.0710e-08, 2.4564e-08,  ..., 1.0536e-08, 1.0885e-08,\n",
       "          1.0419e-08],\n",
       "         [8.9844e-01, 0.0000e+00, 7.5670e-09,  ..., 0.0000e+00, 0.0000e+00,\n",
       "          0.0000e+00]], device='cuda:0', dtype=torch.bfloat16),\n",
       " torch.Size([2330, 50304]))"
      ]
     },
     "execution_count": 56,
     "metadata": {},
     "output_type": "execute_result"
    }
   ],
   "source": [
    "dynamic_soft_no_masking[~mask], dynamic_soft_no_masking[~mask].shape"
   ]
  },
  {
   "cell_type": "code",
   "execution_count": null,
   "metadata": {},
   "outputs": [
    {
     "data": {
      "text/plain": [
       "(tensor([[1.9968e-06, 1.8044e-09, 9.7789e-08,  ..., 1.6080e-09, 1.6589e-09,\n",
       "          1.4625e-09],\n",
       "         [1.0000e+00, 3.2596e-09, 8.9779e-07,  ..., 2.9686e-09, 2.9540e-09,\n",
       "          3.0705e-09],\n",
       "         [2.3842e-06, 2.2847e-09, 2.9057e-07,  ..., 1.9209e-09, 2.0664e-09,\n",
       "          1.9063e-09],\n",
       "         ...,\n",
       "         [3.9307e-02, 5.0757e-08, 1.2994e-05,  ..., 7.2177e-08, 5.1456e-08,\n",
       "          7.2177e-08],\n",
       "         [3.1738e-03, 1.2980e-08, 3.7432e-05,  ..., 1.3388e-08, 1.0128e-08,\n",
       "          1.8859e-08],\n",
       "         [1.5869e-02, 1.7462e-08, 1.0395e-04,  ..., 2.1770e-08, 1.6997e-08,\n",
       "          2.1071e-08]], device='cuda:0', dtype=torch.bfloat16),\n",
       " torch.Size([293, 50304]))"
      ]
     },
     "execution_count": 29,
     "metadata": {},
     "output_type": "execute_result"
    }
   ],
   "source": [
    "dynamic_soft_no_masking[mask], dynamic_soft_no_masking[mask].shape"
   ]
  },
  {
   "cell_type": "code",
   "execution_count": null,
   "metadata": {},
   "outputs": [
    {
     "data": {
      "text/plain": [
       "(tensor([[1.9968e-06, 1.8044e-09, 9.7789e-08,  ..., 1.6080e-09, 1.6589e-09,\n",
       "          1.4625e-09],\n",
       "         [1.0000e+00, 3.2596e-09, 8.9779e-07,  ..., 2.9686e-09, 2.9540e-09,\n",
       "          3.0705e-09],\n",
       "         [2.3842e-06, 2.2847e-09, 2.9057e-07,  ..., 1.9209e-09, 2.0664e-09,\n",
       "          1.9063e-09],\n",
       "         ...,\n",
       "         [3.9307e-02, 5.0757e-08, 1.2994e-05,  ..., 7.2177e-08, 5.1456e-08,\n",
       "          7.2177e-08],\n",
       "         [3.1738e-03, 1.2980e-08, 3.7432e-05,  ..., 1.3388e-08, 1.0128e-08,\n",
       "          1.8859e-08],\n",
       "         [1.5869e-02, 1.7462e-08, 1.0395e-04,  ..., 2.1770e-08, 1.6997e-08,\n",
       "          2.1071e-08]], device='cuda:0', dtype=torch.bfloat16),\n",
       " torch.Size([293, 50304]))"
      ]
     },
     "execution_count": 37,
     "metadata": {},
     "output_type": "execute_result"
    }
   ],
   "source": [
    "dynamic_soft_masking_logits[mask], dynamic_soft_masking_logits[mask].shape"
   ]
  },
  {
   "cell_type": "code",
   "execution_count": null,
   "metadata": {},
   "outputs": [
    {
     "data": {
      "image/png": "[encoded data removed]",
      "text/plain": [
       "<Figure size 2000x800 with 1 Axes>"
      ]
     },
     "metadata": {},
     "output_type": "display_data"
    }
   ],
   "source": [
    "shift_logits[~mask].to(torch.int64), shift_logits[~mask].shape\n",
    "plot_soft_targets(dynamic_soft_masking_logits, fused_labels, 0, torch.where(mask)[1][150], top_k=100, logits_format=False)"
   ]
  },
  {
   "cell_type": "code",
   "execution_count": null,
   "metadata": {},
   "outputs": [
    {
     "data": {
      "text/plain": [
       "(tensor([[  4,   0, -17,  ...,   0,   0,   0],\n",
       "         [  2,   0,  32,  ...,   0,   0,   0],\n",
       "         [  7,   0,   0,  ...,   0,   0,   0],\n",
       "         ...,\n",
       "         [  9,   0,  20,  ...,   0,   0,   0],\n",
       "         [ 24,   0, 442,  ...,   0,   0,   0],\n",
       "         [  6,   0,  53,  ...,   0,   0,   0]], device='cuda:0'),\n",
       " torch.Size([293, 50304]))"
      ]
     },
     "execution_count": 65,
     "metadata": {},
     "output_type": "execute_result"
    }
   ],
   "source": [
    "shift_logits[mask].to(torch.int64), shift_logits[mask].shape"
   ]
  },
  {
   "cell_type": "code",
   "execution_count": null,
   "metadata": {},
   "outputs": [
    {
     "data": {
      "text/plain": [
       "(tensor([[8.9844e-01, 3.1199e-08, 3.2663e-05,  ..., 3.1665e-08, 2.8405e-08,\n",
       "          3.1199e-08],\n",
       "         [9.0234e-01, 2.8522e-08, 6.6280e-05,  ..., 2.5961e-08, 3.3993e-08,\n",
       "          2.7241e-08],\n",
       "         [9.0234e-01, 3.0268e-08, 6.9141e-05,  ..., 2.9802e-08, 3.6554e-08,\n",
       "          3.2829e-08],\n",
       "         ...,\n",
       "         [9.0234e-01, 2.4447e-08, 3.7193e-05,  ..., 2.9453e-08, 2.2235e-08,\n",
       "          2.9453e-08],\n",
       "         [9.0625e-01, 2.6310e-08, 9.2983e-05,  ..., 2.9802e-08, 2.6310e-08,\n",
       "          3.2829e-08],\n",
       "         [9.2578e-01, 1.4901e-08, 1.0371e-05,  ..., 1.7928e-08, 1.3562e-08,\n",
       "          1.8510e-08]], device='cuda:0', dtype=torch.bfloat16),\n",
       " torch.Size([2330, 50304]))"
      ]
     },
     "execution_count": 38,
     "metadata": {},
     "output_type": "execute_result"
    }
   ],
   "source": [
    "dynamic_soft_masking_logits[~mask], dynamic_soft_masking_logits[~mask].shape"
   ]
  },
  {
   "cell_type": "code",
   "execution_count": null,
   "metadata": {},
   "outputs": [
    {
     "data": {
      "text/plain": [
       "(tensor([[8.9844e-01, 0.0000e+00, 6.8173e-07,  ..., 0.0000e+00, 0.0000e+00,\n",
       "          0.0000e+00],\n",
       "         [8.9844e-01, 0.0000e+00, 3.8184e-07,  ..., 0.0000e+00, 0.0000e+00,\n",
       "          0.0000e+00],\n",
       "         [8.9844e-01, 0.0000e+00, 8.1127e-10,  ..., 0.0000e+00, 0.0000e+00,\n",
       "          0.0000e+00],\n",
       "         ...,\n",
       "         [8.9844e-01, 1.0710e-08, 2.4564e-08,  ..., 1.0536e-08, 1.0885e-08,\n",
       "          1.0419e-08],\n",
       "         [8.9844e-01, 0.0000e+00, 7.5670e-09,  ..., 0.0000e+00, 0.0000e+00,\n",
       "          0.0000e+00],\n",
       "         [8.9844e-01, 1.9982e-33, 6.4947e-25,  ..., 1.9741e-33, 1.9982e-33,\n",
       "          1.9861e-33]], device='cuda:0', dtype=torch.bfloat16),\n",
       " torch.Size([2330, 50304]))"
      ]
     },
     "execution_count": 58,
     "metadata": {},
     "output_type": "execute_result"
    }
   ],
   "source": [
    "dynamic_soft_masking_logits_corrected.squeeze()[~mask.squeeze()], dynamic_soft_masking_logits_corrected.squeeze()[~mask.squeeze()].shape"
   ]
  },
  {
   "cell_type": "code",
   "execution_count": null,
   "metadata": {},
   "outputs": [
    {
     "name": "stdout",
     "output_type": "stream",
     "text": [
      "Soft targets shape: torch.Size([1, 2623, 50304]), Logits shape: torch.Size([1, 2623, 50304])\n",
      "Loss: 187.64759826660156\n",
      "dynamic_soft_targets.squeeze(): tensor([[5.0000e-01, 0.0000e+00, 3.3975e-06,  ..., 0.0000e+00, 0.0000e+00,\n",
      "         0.0000e+00],\n",
      "        [5.0000e-01, 0.0000e+00, 1.9073e-06,  ..., 0.0000e+00, 0.0000e+00,\n",
      "         0.0000e+00],\n",
      "        [5.0000e-01, 0.0000e+00, 4.0745e-09,  ..., 0.0000e+00, 0.0000e+00,\n",
      "         0.0000e+00],\n",
      "        ...,\n",
      "        [0.0000e+00, 0.0000e+00, 6.2864e-09,  ..., 0.0000e+00, 0.0000e+00,\n",
      "         0.0000e+00],\n",
      "        [1.1991e-27, 1.9352e-30, 4.9546e-07,  ..., 1.9968e-30, 2.0461e-30,\n",
      "         1.9228e-30],\n",
      "        [2.7515e-27, 1.9623e-29, 6.8188e-05,  ..., 1.9426e-29, 1.9722e-29,\n",
      "         1.8834e-29]], device='cuda:0', dtype=torch.bfloat16), \n",
      "dynamic_soft_targets.squeeze().min(): 0.0, dynamic_soft_targets.squeeze().max(): 0.50390625\n"
     ]
    },
    {
     "data": {
      "text/plain": [
       "tensor([True, True, True, True, True, True, True, True, True, True, True, True,\n",
       "        True, True, True, True, True, True, True, True, True, True, True, True,\n",
       "        True, True, True, True, True, True, True, True, True, True, True, True,\n",
       "        True, True, True, True, True, True, True, True, True, True, True, True,\n",
       "        True, True, True, True, True, True, True, True, True, True, True, True,\n",
       "        True, True, True, True, True, True, True, True, True, True, True, True,\n",
       "        True, True, True, True, True, True, True, True, True, True, True, True,\n",
       "        True, True, True, True, True, True, True, True, True, True, True, True,\n",
       "        True, True, True, True, True, True, True, True, True, True, True, True,\n",
       "        True, True, True, True, True, True, True, True, True, True, True, True,\n",
       "        True, True, True, True, True, True, True, True, True, True, True, True,\n",
       "        True, True, True, True, True, True, True, True, True, True, True, True,\n",
       "        True, True, True, True, True, True, True, True, True, True, True, True,\n",
       "        True, True, True, True, True, True, True, True, True, True, True, True,\n",
       "        True, True, True, True, True, True, True, True, True, True, True, True,\n",
       "        True, True, True, True, True, True, True, True, True, True, True, True,\n",
       "        True, True, True, True, True, True, True, True, True, True, True, True,\n",
       "        True, True, True, True, True, True, True, True, True, True, True, True,\n",
       "        True, True, True, True, True, True, True, True, True, True, True, True,\n",
       "        True, True, True, True, True, True, True, True, True, True, True, True,\n",
       "        True, True, True, True, True, True, True, True, True, True, True, True,\n",
       "        True, True, True, True, True, True, True, True, True, True, True, True,\n",
       "        True, True, True, True, True, True, True, True, True, True, True, True,\n",
       "        True, True, True, True, True, True, True, True, True, True, True, True,\n",
       "        True, True, True, True, True], device='cuda:0')"
      ]
     },
     "execution_count": 56,
     "metadata": {},
     "output_type": "execute_result"
    }
   ],
   "source": [
    "dynamic_soft_masking_logits_corrected = dynamic_soft_targets_mask_with_logits_corrected(output, fused_labels, alpha=0.500)\n",
    "(valid_targets.squeeze()[mask.squeeze()].to(torch.int64) == torch.argmax(dynamic_soft_masking_logits_corrected[mask], dim=-1))"
   ]
  },
  {
   "cell_type": "code",
   "execution_count": null,
   "metadata": {},
   "outputs": [],
   "source": []
  },
  {
   "cell_type": "code",
   "execution_count": null,
   "metadata": {},
   "outputs": [
    {
     "data": {
      "text/plain": [
       "(tensor([[5.0000e-01, 0.0000e+00, 3.3975e-06,  ..., 0.0000e+00, 0.0000e+00,\n",
       "          0.0000e+00],\n",
       "         [5.0000e-01, 0.0000e+00, 1.9073e-06,  ..., 0.0000e+00, 0.0000e+00,\n",
       "          0.0000e+00],\n",
       "         [5.0000e-01, 0.0000e+00, 4.0745e-09,  ..., 0.0000e+00, 0.0000e+00,\n",
       "          0.0000e+00],\n",
       "         ...,\n",
       "         [0.0000e+00, 0.0000e+00, 6.2864e-09,  ..., 0.0000e+00, 0.0000e+00,\n",
       "          0.0000e+00],\n",
       "         [1.1991e-27, 1.9352e-30, 4.9546e-07,  ..., 1.9968e-30, 2.0461e-30,\n",
       "          1.9228e-30],\n",
       "         [2.7515e-27, 1.9623e-29, 6.8188e-05,  ..., 1.9426e-29, 1.9722e-29,\n",
       "          1.8834e-29]], device='cuda:0'),\n",
       " torch.Size([1, 2623, 50304]))"
      ]
     },
     "execution_count": 96,
     "metadata": {},
     "output_type": "execute_result"
    }
   ],
   "source": [
    "targets_set_to_one.squeeze(), targets_set_to_one.shape"
   ]
  },
  {
   "cell_type": "code",
   "execution_count": null,
   "metadata": {},
   "outputs": [
    {
     "data": {
      "text/plain": [
       "(tensor([[5.0000e-01, 0.0000e+00, 3.3975e-06,  ..., 0.0000e+00, 0.0000e+00,\n",
       "          0.0000e+00],\n",
       "         [5.0000e-01, 0.0000e+00, 1.9073e-06,  ..., 0.0000e+00, 0.0000e+00,\n",
       "          0.0000e+00],\n",
       "         [5.0000e-01, 0.0000e+00, 4.0745e-09,  ..., 0.0000e+00, 0.0000e+00,\n",
       "          0.0000e+00],\n",
       "         ...,\n",
       "         [0.0000e+00, 0.0000e+00, 6.2864e-09,  ..., 0.0000e+00, 0.0000e+00,\n",
       "          0.0000e+00],\n",
       "         [1.1991e-27, 1.9352e-30, 4.9546e-07,  ..., 1.9968e-30, 2.0461e-30,\n",
       "          1.9228e-30],\n",
       "         [2.7515e-27, 1.9623e-29, 6.8188e-05,  ..., 1.9426e-29, 1.9722e-29,\n",
       "          1.8834e-29]], device='cuda:0'),\n",
       " torch.Size([2623, 50304]))"
      ]
     },
     "execution_count": 97,
     "metadata": {},
     "output_type": "execute_result"
    }
   ],
   "source": [
    "targets_set_to_one[mask], targets_set_to_one[mask].shape"
   ]
  },
  {
   "cell_type": "code",
   "execution_count": null,
   "metadata": {},
   "outputs": [
    {
     "data": {
      "text/plain": [
       "(tensor([], device='cuda:0', size=(0, 50304)), torch.Size([0, 50304]))"
      ]
     },
     "execution_count": 98,
     "metadata": {},
     "output_type": "execute_result"
    }
   ],
   "source": [
    "targets_set_to_one[~mask], targets_set_to_one[~mask].shape"
   ]
  },
  {
   "cell_type": "code",
   "execution_count": null,
   "metadata": {},
   "outputs": [
    {
     "data": {
      "text/plain": [
       "(tensor([], device='cuda:0', size=(0, 50304)), torch.Size([0, 50304]))"
      ]
     },
     "execution_count": 99,
     "metadata": {},
     "output_type": "execute_result"
    }
   ],
   "source": [
    "add_k[~mask], add_k[~mask].shape"
   ]
  },
  {
   "cell_type": "code",
   "execution_count": null,
   "metadata": {},
   "outputs": [
    {
     "data": {
      "text/plain": [
       "(tensor([[9.0820e-02, 0.0000e+00, 6.1691e-06,  ..., 0.0000e+00, 0.0000e+00,\n",
       "          0.0000e+00],\n",
       "         [9.0820e-02, 0.0000e+00, 3.4571e-06,  ..., 0.0000e+00, 0.0000e+00,\n",
       "          0.0000e+00],\n",
       "         [9.0820e-02, 0.0000e+00, 7.3924e-09,  ..., 0.0000e+00, 0.0000e+00,\n",
       "          0.0000e+00],\n",
       "         ...,\n",
       "         [0.0000e+00, 0.0000e+00, 1.1409e-08,  ..., 0.0000e+00, 0.0000e+00,\n",
       "          0.0000e+00],\n",
       "         [2.1709e-27, 3.5252e-30, 8.9779e-07,  ..., 3.6238e-30, 3.7224e-30,\n",
       "          3.5006e-30],\n",
       "         [4.9982e-27, 3.5696e-29, 1.2398e-04,  ..., 3.5302e-29, 3.5893e-29,\n",
       "          3.4118e-29]], device='cuda:0'),\n",
       " torch.Size([2623, 50304]))"
      ]
     },
     "execution_count": 100,
     "metadata": {},
     "output_type": "execute_result"
    }
   ],
   "source": [
    "add_k[mask], add_k[mask].shape"
   ]
  },
  {
   "cell_type": "code",
   "execution_count": null,
   "metadata": {},
   "outputs": [
    {
     "data": {
      "text/plain": [
       "(tensor([[9.0820e-02, 0.0000e+00, 6.1691e-06,  ..., 0.0000e+00, 0.0000e+00,\n",
       "          0.0000e+00],\n",
       "         [9.0820e-02, 0.0000e+00, 3.4571e-06,  ..., 0.0000e+00, 0.0000e+00,\n",
       "          0.0000e+00],\n",
       "         [9.0820e-02, 0.0000e+00, 7.3924e-09,  ..., 0.0000e+00, 0.0000e+00,\n",
       "          0.0000e+00],\n",
       "         ...,\n",
       "         [0.0000e+00, 0.0000e+00, 1.1409e-08,  ..., 0.0000e+00, 0.0000e+00,\n",
       "          0.0000e+00],\n",
       "         [2.1709e-27, 3.5252e-30, 8.9779e-07,  ..., 3.6238e-30, 3.7224e-30,\n",
       "          3.5006e-30],\n",
       "         [4.9982e-27, 3.5696e-29, 1.2398e-04,  ..., 3.5302e-29, 3.5893e-29,\n",
       "          3.4118e-29]], device='cuda:0'),\n",
       " torch.Size([1, 2623, 50304]))"
      ]
     },
     "execution_count": 69,
     "metadata": {},
     "output_type": "execute_result"
    }
   ],
   "source": [
    "add_k.squeeze(), add_k.shape"
   ]
  },
  {
   "cell_type": "code",
   "execution_count": null,
   "metadata": {},
   "outputs": [],
   "source": [
    "targets_smooth"
   ]
  },
  {
   "cell_type": "code",
   "execution_count": null,
   "metadata": {},
   "outputs": [
    {
     "data": {
      "text/plain": [
       "tensor([1.0000, 1.0000, 1.0000, 1.0000, 1.0000, 1.0000, 1.0000, 1.0000, 1.0000,\n",
       "        1.0000, 1.0000, 1.0000, 1.0000, 1.0000, 1.0000, 1.0000, 1.0000, 1.0000,\n",
       "        1.0000, 1.0000, 1.0000, 1.0000, 1.0000, 1.0000, 1.0000, 1.0000, 1.0000,\n",
       "        1.0000, 1.0000, 1.0000, 1.0000, 1.0000, 1.0000, 1.0000, 1.0000, 1.0000,\n",
       "        1.0000, 1.0000, 1.0000, 1.0000, 1.0000, 1.0000, 1.0000, 1.0000, 1.0000,\n",
       "        1.0000, 1.0000, 1.0000, 1.0000, 1.0000, 1.0000, 1.0000, 1.0000, 1.0000,\n",
       "        1.0000, 1.0000, 1.0000, 1.0000, 1.0000, 1.0000, 1.0000, 1.0000, 1.0000,\n",
       "        1.0000, 1.0000, 1.0000, 1.0000, 1.0000, 1.0000, 1.0000, 1.0000, 1.0000,\n",
       "        1.0000, 1.0000, 1.0000, 1.0000, 1.0000, 1.0000, 1.0000, 1.0000, 1.0000,\n",
       "        1.0000, 1.0000, 1.0000, 1.0000, 1.0000, 1.0000, 1.0000, 1.0000, 1.0000,\n",
       "        1.0000, 1.0000, 1.0000, 1.0000, 1.0000, 1.0000, 1.0000, 1.0000, 1.0000,\n",
       "        1.0000, 1.0000, 1.0000, 1.0000, 1.0000, 1.0000, 1.0000, 1.0000, 1.0000,\n",
       "        1.0000, 1.0000, 1.0000, 1.0000, 1.0000, 1.0000, 1.0000, 1.0000, 1.0000,\n",
       "        1.0000, 1.0000, 1.0000, 1.0000, 1.0000, 1.0000, 1.0000, 1.0000, 1.0000,\n",
       "        1.0000, 1.0000, 1.0000, 1.0000, 1.0000, 1.0000, 1.0000, 1.0000, 1.0000,\n",
       "        1.0000, 1.0000, 1.0000, 1.0000, 1.0000, 1.0000, 1.0000, 1.0000, 1.0000,\n",
       "        1.0000, 1.0000, 1.0000, 1.0000, 1.0000, 1.0000, 1.0000, 1.0000, 1.0000,\n",
       "        1.0000, 1.0000, 1.0000, 1.0000, 1.0000, 1.0000, 1.0000, 0.9961, 1.0000,\n",
       "        1.0000, 1.0000, 1.0000, 1.0000, 1.0000, 1.0000, 1.0000, 1.0000, 1.0000,\n",
       "        1.0000, 1.0000, 1.0000, 1.0000, 1.0000, 1.0000, 1.0000, 1.0000, 1.0000,\n",
       "        1.0000, 1.0000, 1.0000, 1.0000, 1.0000, 1.0000, 1.0000, 1.0000, 1.0000,\n",
       "        1.0000, 1.0000, 1.0000, 1.0000, 1.0000, 1.0000, 1.0000, 1.0000, 1.0000,\n",
       "        1.0000, 1.0000, 1.0000, 1.0000, 1.0000, 1.0000, 1.0000, 1.0000, 1.0000,\n",
       "        1.0000, 1.0000, 1.0000, 1.0000, 1.0000, 1.0000, 1.0000, 1.0000, 1.0000,\n",
       "        1.0000, 1.0000, 1.0000, 1.0000, 1.0000, 1.0000, 1.0000, 1.0000, 1.0000,\n",
       "        1.0000, 1.0000, 1.0000, 1.0000, 1.0000, 1.0000, 1.0000, 1.0000, 1.0000,\n",
       "        1.0000, 1.0000, 1.0000, 1.0000, 1.0000, 1.0000, 1.0000, 1.0000, 1.0000,\n",
       "        1.0000, 1.0000, 1.0000, 1.0000, 1.0000, 1.0000, 1.0000, 1.0000, 1.0000,\n",
       "        1.0000, 1.0000, 1.0000, 1.0000, 1.0000, 1.0000, 1.0000, 1.0000, 1.0000,\n",
       "        1.0000, 1.0000, 1.0000, 1.0000, 1.0000, 1.0000, 1.0000, 1.0000, 1.0000,\n",
       "        1.0000, 1.0000, 1.0000, 1.0000, 1.0000, 1.0000, 1.0000, 1.0000, 1.0000,\n",
       "        1.0000, 1.0000, 1.0000, 1.0000, 1.0000, 1.0000, 1.0000, 1.0000, 1.0000,\n",
       "        1.0000, 1.0000, 1.0000, 1.0000, 1.0000], device='cuda:0',\n",
       "       dtype=torch.bfloat16)"
      ]
     },
     "execution_count": 26,
     "metadata": {},
     "output_type": "execute_result"
    }
   ],
   "source": [
    "dynamic_soft_no_masking[mask].sum(dim=-1)"
   ]
  },
  {
   "cell_type": "code",
   "execution_count": null,
   "metadata": {},
   "outputs": [
    {
     "data": {
      "text/plain": [
       "tensor([1., 1., 1.,  ..., 1., 1., 1.], device='cuda:0', dtype=torch.bfloat16)"
      ]
     },
     "execution_count": 25,
     "metadata": {},
     "output_type": "execute_result"
    }
   ],
   "source": [
    "dynamic_soft_no_masking[~mask].sum(dim=-1)"
   ]
  },
  {
   "cell_type": "code",
   "execution_count": null,
   "metadata": {},
   "outputs": [
    {
     "name": "stderr",
     "output_type": "stream",
     "text": [
      "/localdisk/ssrivas9/miniconda3/envs/eval/lib/python3.10/site-packages/torch/nn/functional.py:2976: UserWarning: reduction: 'mean' divides the total loss by both the batch size and the support size.'batchmean' divides only by the batch size, and aligns with the KL div math definition.'mean' will be changed to behave the same as 'batchmean' in the next major release.\n",
      "  warnings.warn(\n"
     ]
    }
   ],
   "source": [
    "import torch\n",
    "import torch.nn as nn\n",
    "import torch.nn.functional as F\n",
    "\n",
    "# Assume output.logits and fused_labels are provided\n",
    "# Shift logits and labels\n",
    "shift_logits = output.logits[:, :-1, :].contiguous()\n",
    "valid_targets = fused_labels[:, 1:].contiguous()\n",
    "\n",
    "num_classes = shift_logits.size(-1)\n",
    "\n",
    "# Create mask for valid targets\n",
    "mask = (valid_targets != -100)\n",
    "\n",
    "# Initialize target distributions with (1 - alpha) / (num_classes - 1)\n",
    "soft_alpha = 0.1\n",
    "targets_smooth = torch.full_like(shift_logits, (1.0 - soft_alpha) / (num_classes - 1))\n",
    "\n",
    "# Assign alpha to the correct classes where label is valid\n",
    "valid_indices = valid_targets[mask].unsqueeze(1)\n",
    "targets_smooth[mask] = targets_smooth[mask].scatter(1, valid_indices, soft_alpha)\n",
    "\n",
    "# For positions to be ignored, set the entire distribution to 0\n",
    "targets_smooth[~mask] = 0.0\n",
    "\n",
    "# Define the loss function\n",
    "loss_fct = nn.KLDivLoss(reduction='batchmean')\n",
    "\n",
    "# Compute log probabilities from logits\n",
    "log_probs = F.log_softmax(shift_logits, dim=-1)\n",
    "\n",
    "# Flatten the tensors for loss computation\n",
    "loss = loss_fct(\n",
    "    log_probs.view(-1, num_classes),\n",
    "    targets_smooth.view(-1, num_classes)\n",
    ")"
   ]
  },
  {
   "cell_type": "code",
   "execution_count": null,
   "metadata": {},
   "outputs": [],
   "source": []
  },
  {
   "cell_type": "code",
   "execution_count": null,
   "metadata": {},
   "outputs": [
    {
     "name": "stdout",
     "output_type": "stream",
     "text": [
      "Logits shape: torch.Size([1, 2623, 50304]), Targets shape: torch.Size([1, 2623, 50304])\n"
     ]
    }
   ],
   "source": [
    "print(f\"Logits shape: {shift_logits.shape}, Targets shape: {targets_smooth.shape}\")"
   ]
  },
  {
   "cell_type": "code",
   "execution_count": null,
   "metadata": {},
   "outputs": [
    {
     "name": "stdout",
     "output_type": "stream",
     "text": [
      " Loss: 9.417533874511719e-06\n"
     ]
    }
   ],
   "source": [
    "print(f\" Loss: {loss.item()}\")"
   ]
  },
  {
   "cell_type": "code",
   "execution_count": null,
   "metadata": {},
   "outputs": [],
   "source": [
    "shift_logits = output.logits[:, :-1, :].contiguous()  # [batch, seq-1, num_classes]\n",
    "valid_targets = fused_labels[:, 1:].contiguous()      # [batch, seq-1]\n",
    "\n",
    "num_classes = shift_logits.size(-1)  # Vocab size\n",
    "\n",
    "# Create mask for valid targets (labels != -100)\n",
    "mask = (valid_targets != -100)  # [batch, seq-1]"
   ]
  },
  {
   "cell_type": "markdown",
   "metadata": {},
   "source": [
    "### Soft Targets = Interpolation with Logits. Masked ignored, only valid are smoothed. "
   ]
  },
  {
   "cell_type": "code",
   "execution_count": null,
   "metadata": {},
   "outputs": [],
   "source": [
    "import torch\n",
    "import torch.nn as nn\n",
    "import torch.nn.functional as F\n",
    "\n",
    "dtype = torch.float32\n",
    "shift_logits = output.logits[:, :-1, :].contiguous().to(dtype)\n",
    "valid_targets = fused_labels[:, 1:].contiguous().to(dtype)\n",
    "\n",
    "num_classes = shift_logits.size(-1)\n",
    "mask = (valid_targets != -100)\n",
    "soft_probs = F.softmax(shift_logits, dim=-1).to(dtype)\n",
    "batch_size, shifted_seq_length = shift_logits.size()[:2]\n",
    "# Step 1: Initialize a zero tensor for one-hot encoding\n",
    "one_hot_targets = torch.zeros(\n",
    "    batch_size, \n",
    "    shifted_seq_length, \n",
    "    num_classes, \n",
    "    device=valid_targets.device, \n",
    "    dtype=dtype\n",
    ")  # Shape: [batch_size, seq_length-1, num_classes]\n",
    "\n",
    "# Step 2: Identify valid target positions\n",
    "# The mask has shape [batch_size, seq_length-1]\n",
    "valid_positions = mask.nonzero(as_tuple=False)  # Tensor of shape [num_valid_positions, 2]\n",
    "target_indices = valid_targets[mask]  # Tensor of shape [num_valid_positions]\n",
    "target_indices = target_indices.to(torch.long)  # Ensure correct dtype\n",
    "one_hot_valid = F.one_hot(target_indices, num_classes=num_classes).to(dtype)\n",
    "\n",
    "batch_indices, seq_indices = valid_positions[:, 0], valid_positions[:, 1]  # Shapes: [num_valid_positions], [num_valid_positions]\n",
    "# Assign one-hot vectors to the corresponding positions\n",
    "one_hot_targets[batch_indices, seq_indices] = one_hot_valid  # Broadcasting assignment\n",
    "# Cast one_hot_targets to the same dtype as soft_probs\n",
    "one_hot_targets = one_hot_targets.to(dtype)\n",
    "soft_probs = soft_probs.to(dtype)\n",
    "\n",
    "assert one_hot_targets.shape == (batch_size, shifted_seq_length, num_classes), \\\n",
    "    f\"Expected shape {[batch_size, shifted_seq_length, num_classes]}, but got {one_hot_targets.shape}\"\n",
    "assert torch.all(one_hot_targets[~mask] == 0), \"Positions with label -100 are not all zeros.\"\n",
    "valid_one_hot_sum = one_hot_targets[mask].sum(dim=-1)\n",
    "assert torch.all(valid_one_hot_sum == 1), \"Valid positions do not have exactly one '1' in their one-hot vectors.\"\n",
    "# soft_probs.sum(dim=-1), one_hot_targets.sum(dim=-1)\n",
    "alpha = torch.tensor(0.1, device=one_hot_targets.device, dtype=dtype)\n",
    "# Step 1: Interpolate soft_probs and one_hot_targets\n",
    "dynamic_soft_targets = alpha * soft_probs + (torch.tensor(1.0, device=one_hot_targets.device, dtype=dtype) - alpha) * one_hot_targets  # Shape: [batch_size, seq_length-1, num_classes]\n",
    "# Step 2: Handle positions to be ignored by setting their target distributions to zero\n",
    "dynamic_soft_targets = dynamic_soft_targets * mask.unsqueeze(-1).float()  # Broadcasting mask\n",
    "# dynamic_soft_targets[~mask] = 0.0\n",
    "# Cast back to the original dtype\n",
    "dynamic_soft_targets = dynamic_soft_targets.to(torch.bfloat16)\n",
    "# Verify that dynamic_soft_targets has the correct shape\n",
    "assert dynamic_soft_targets.shape == (batch_size, shifted_seq_length, num_classes), \\\n",
    "    f\"Expected shape {[batch_size, shifted_seq_length, num_classes]}, but got {dynamic_soft_targets.shape}\"\n",
    "# Verify that positions with -100 have all zeros\n",
    "assert torch.all(dynamic_soft_targets[~mask] == 0), \"Positions with label -100 are not all zeros in dynamic_soft_targets.\"\n"
   ]
  },
  {
   "cell_type": "code",
   "execution_count": null,
   "metadata": {
    "notebookRunGroups": {
     "groupValue": "1"
    }
   },
   "outputs": [
    {
     "name": "stdout",
     "output_type": "stream",
     "text": [
      "Loss: 3.977926731109619\n"
     ]
    },
    {
     "ename": "RuntimeError",
     "evalue": "element 0 of tensors does not require grad and does not have a grad_fn",
     "output_type": "error",
     "traceback": [
      "\u001b[0;31m---------------------------------------------------------------------------\u001b[0m",
      "\u001b[0;31mRuntimeError\u001b[0m                              Traceback (most recent call last)",
      "Cell \u001b[0;32mIn[27], line 25\u001b[0m\n\u001b[1;32m     22\u001b[0m \u001b[38;5;28mprint\u001b[39m(\u001b[38;5;124mf\u001b[39m\u001b[38;5;124m\"\u001b[39m\u001b[38;5;124mLoss: \u001b[39m\u001b[38;5;132;01m{\u001b[39;00mloss\u001b[38;5;241m.\u001b[39mitem()\u001b[38;5;132;01m}\u001b[39;00m\u001b[38;5;124m\"\u001b[39m)\n\u001b[1;32m     24\u001b[0m \u001b[38;5;66;03m# Backpropagate if in training mode\u001b[39;00m\n\u001b[0;32m---> 25\u001b[0m \u001b[43mloss\u001b[49m\u001b[38;5;241;43m.\u001b[39;49m\u001b[43mbackward\u001b[49m\u001b[43m(\u001b[49m\u001b[43m)\u001b[49m\n",
      "File \u001b[0;32m/localdisk/ssrivas9/miniconda3/envs/eval/lib/python3.10/site-packages/torch/_tensor.py:525\u001b[0m, in \u001b[0;36mTensor.backward\u001b[0;34m(self, gradient, retain_graph, create_graph, inputs)\u001b[0m\n\u001b[1;32m    515\u001b[0m \u001b[38;5;28;01mif\u001b[39;00m has_torch_function_unary(\u001b[38;5;28mself\u001b[39m):\n\u001b[1;32m    516\u001b[0m     \u001b[38;5;28;01mreturn\u001b[39;00m handle_torch_function(\n\u001b[1;32m    517\u001b[0m         Tensor\u001b[38;5;241m.\u001b[39mbackward,\n\u001b[1;32m    518\u001b[0m         (\u001b[38;5;28mself\u001b[39m,),\n\u001b[0;32m   (...)\u001b[0m\n\u001b[1;32m    523\u001b[0m         inputs\u001b[38;5;241m=\u001b[39minputs,\n\u001b[1;32m    524\u001b[0m     )\n\u001b[0;32m--> 525\u001b[0m \u001b[43mtorch\u001b[49m\u001b[38;5;241;43m.\u001b[39;49m\u001b[43mautograd\u001b[49m\u001b[38;5;241;43m.\u001b[39;49m\u001b[43mbackward\u001b[49m\u001b[43m(\u001b[49m\n\u001b[1;32m    526\u001b[0m \u001b[43m    \u001b[49m\u001b[38;5;28;43mself\u001b[39;49m\u001b[43m,\u001b[49m\u001b[43m \u001b[49m\u001b[43mgradient\u001b[49m\u001b[43m,\u001b[49m\u001b[43m \u001b[49m\u001b[43mretain_graph\u001b[49m\u001b[43m,\u001b[49m\u001b[43m \u001b[49m\u001b[43mcreate_graph\u001b[49m\u001b[43m,\u001b[49m\u001b[43m \u001b[49m\u001b[43minputs\u001b[49m\u001b[38;5;241;43m=\u001b[39;49m\u001b[43minputs\u001b[49m\n\u001b[1;32m    527\u001b[0m \u001b[43m\u001b[49m\u001b[43m)\u001b[49m\n",
      "File \u001b[0;32m/localdisk/ssrivas9/miniconda3/envs/eval/lib/python3.10/site-packages/torch/autograd/__init__.py:267\u001b[0m, in \u001b[0;36mbackward\u001b[0;34m(tensors, grad_tensors, retain_graph, create_graph, grad_variables, inputs)\u001b[0m\n\u001b[1;32m    262\u001b[0m     retain_graph \u001b[38;5;241m=\u001b[39m create_graph\n\u001b[1;32m    264\u001b[0m \u001b[38;5;66;03m# The reason we repeat the same comment below is that\u001b[39;00m\n\u001b[1;32m    265\u001b[0m \u001b[38;5;66;03m# some Python versions print out the first line of a multi-line function\u001b[39;00m\n\u001b[1;32m    266\u001b[0m \u001b[38;5;66;03m# calls in the traceback and some print out the last line\u001b[39;00m\n\u001b[0;32m--> 267\u001b[0m \u001b[43m_engine_run_backward\u001b[49m\u001b[43m(\u001b[49m\n\u001b[1;32m    268\u001b[0m \u001b[43m    \u001b[49m\u001b[43mtensors\u001b[49m\u001b[43m,\u001b[49m\n\u001b[1;32m    269\u001b[0m \u001b[43m    \u001b[49m\u001b[43mgrad_tensors_\u001b[49m\u001b[43m,\u001b[49m\n\u001b[1;32m    270\u001b[0m \u001b[43m    \u001b[49m\u001b[43mretain_graph\u001b[49m\u001b[43m,\u001b[49m\n\u001b[1;32m    271\u001b[0m \u001b[43m    \u001b[49m\u001b[43mcreate_graph\u001b[49m\u001b[43m,\u001b[49m\n\u001b[1;32m    272\u001b[0m \u001b[43m    \u001b[49m\u001b[43minputs\u001b[49m\u001b[43m,\u001b[49m\n\u001b[1;32m    273\u001b[0m \u001b[43m    \u001b[49m\u001b[43mallow_unreachable\u001b[49m\u001b[38;5;241;43m=\u001b[39;49m\u001b[38;5;28;43;01mTrue\u001b[39;49;00m\u001b[43m,\u001b[49m\n\u001b[1;32m    274\u001b[0m \u001b[43m    \u001b[49m\u001b[43maccumulate_grad\u001b[49m\u001b[38;5;241;43m=\u001b[39;49m\u001b[38;5;28;43;01mTrue\u001b[39;49;00m\u001b[43m,\u001b[49m\n\u001b[1;32m    275\u001b[0m \u001b[43m\u001b[49m\u001b[43m)\u001b[49m\n",
      "File \u001b[0;32m/localdisk/ssrivas9/miniconda3/envs/eval/lib/python3.10/site-packages/torch/autograd/graph.py:744\u001b[0m, in \u001b[0;36m_engine_run_backward\u001b[0;34m(t_outputs, *args, **kwargs)\u001b[0m\n\u001b[1;32m    742\u001b[0m     unregister_hooks \u001b[38;5;241m=\u001b[39m _register_logging_hooks_on_whole_graph(t_outputs)\n\u001b[1;32m    743\u001b[0m \u001b[38;5;28;01mtry\u001b[39;00m:\n\u001b[0;32m--> 744\u001b[0m     \u001b[38;5;28;01mreturn\u001b[39;00m \u001b[43mVariable\u001b[49m\u001b[38;5;241;43m.\u001b[39;49m\u001b[43m_execution_engine\u001b[49m\u001b[38;5;241;43m.\u001b[39;49m\u001b[43mrun_backward\u001b[49m\u001b[43m(\u001b[49m\u001b[43m  \u001b[49m\u001b[38;5;66;43;03m# Calls into the C++ engine to run the backward pass\u001b[39;49;00m\n\u001b[1;32m    745\u001b[0m \u001b[43m        \u001b[49m\u001b[43mt_outputs\u001b[49m\u001b[43m,\u001b[49m\u001b[43m \u001b[49m\u001b[38;5;241;43m*\u001b[39;49m\u001b[43margs\u001b[49m\u001b[43m,\u001b[49m\u001b[43m \u001b[49m\u001b[38;5;241;43m*\u001b[39;49m\u001b[38;5;241;43m*\u001b[39;49m\u001b[43mkwargs\u001b[49m\n\u001b[1;32m    746\u001b[0m \u001b[43m    \u001b[49m\u001b[43m)\u001b[49m  \u001b[38;5;66;03m# Calls into the C++ engine to run the backward pass\u001b[39;00m\n\u001b[1;32m    747\u001b[0m \u001b[38;5;28;01mfinally\u001b[39;00m:\n\u001b[1;32m    748\u001b[0m     \u001b[38;5;28;01mif\u001b[39;00m attach_logging_hooks:\n",
      "\u001b[0;31mRuntimeError\u001b[0m: element 0 of tensors does not require grad and does not have a grad_fn"
     ]
    }
   ],
   "source": [
    "\n",
    "# Verify that valid positions have probability distributions summing to 1\n",
    "valid_dynamic_sum = dynamic_soft_targets[mask].sum(dim=-1)\n",
    "assert torch.allclose(valid_dynamic_sum, torch.ones_like(valid_dynamic_sum), atol=1e-2), \\\n",
    "    \"Valid positions in dynamic_soft_targets do not sum to 1.\"\n",
    "\n",
    "# Now, dynamic_soft_targets can be used as needed in your loss computations or other operations\n",
    "# Example: Using KLDivLoss with dynamic_soft_targets\n",
    "# Ensure that shift_logits is used to compute log_probs as required by KLDivLoss\n",
    "\n",
    "# Compute log probabilities from shift_logits\n",
    "log_probs = F.log_softmax(shift_logits, dim=-1)  # Shape: [batch_size, seq_length-1, num_classes]\n",
    "\n",
    "# Define the loss function\n",
    "loss_fct = nn.KLDivLoss(reduction='batchmean')\n",
    "\n",
    "# Compute the loss\n",
    "loss = loss_fct(\n",
    "    log_probs.view(-1, num_classes),         # [batch_size * (seq_length-1), num_classes]\n",
    "    dynamic_soft_targets.view(-1, num_classes)   # [batch_size * (seq_length-1), num_classes]\n",
    ")\n",
    "\n",
    "print(f\"Loss: {loss.item()}\")\n",
    "\n",
    "# Backpropagate if in training mode\n",
    "loss.backward()"
   ]
  },
  {
   "cell_type": "code",
   "execution_count": null,
   "metadata": {},
   "outputs": [
    {
     "name": "stdout",
     "output_type": "stream",
     "text": [
      "Soft targets shape: torch.Size([1, 2623, 50304]), Logits shape: torch.Size([1, 2623, 50304])\n",
      "Loss: 0.15558448433876038\n"
     ]
    },
    {
     "ename": "RuntimeError",
     "evalue": "element 0 of tensors does not require grad and does not have a grad_fn",
     "output_type": "error",
     "traceback": [
      "\u001b[0;31m---------------------------------------------------------------------------\u001b[0m",
      "\u001b[0;31mRuntimeError\u001b[0m                              Traceback (most recent call last)",
      "Cell \u001b[0;32mIn[80], line 86\u001b[0m\n\u001b[1;32m     83\u001b[0m \u001b[38;5;28mprint\u001b[39m(\u001b[38;5;124mf\u001b[39m\u001b[38;5;124m\"\u001b[39m\u001b[38;5;124mLoss: \u001b[39m\u001b[38;5;132;01m{\u001b[39;00mloss\u001b[38;5;241m.\u001b[39mitem()\u001b[38;5;132;01m}\u001b[39;00m\u001b[38;5;124m\"\u001b[39m)\n\u001b[1;32m     85\u001b[0m \u001b[38;5;66;03m# Backpropagate the loss\u001b[39;00m\n\u001b[0;32m---> 86\u001b[0m \u001b[43mloss\u001b[49m\u001b[38;5;241;43m.\u001b[39;49m\u001b[43mbackward\u001b[49m\u001b[43m(\u001b[49m\u001b[43m)\u001b[49m\n",
      "File \u001b[0;32m/localdisk/ssrivas9/miniconda3/envs/eval/lib/python3.10/site-packages/torch/_tensor.py:525\u001b[0m, in \u001b[0;36mTensor.backward\u001b[0;34m(self, gradient, retain_graph, create_graph, inputs)\u001b[0m\n\u001b[1;32m    515\u001b[0m \u001b[38;5;28;01mif\u001b[39;00m has_torch_function_unary(\u001b[38;5;28mself\u001b[39m):\n\u001b[1;32m    516\u001b[0m     \u001b[38;5;28;01mreturn\u001b[39;00m handle_torch_function(\n\u001b[1;32m    517\u001b[0m         Tensor\u001b[38;5;241m.\u001b[39mbackward,\n\u001b[1;32m    518\u001b[0m         (\u001b[38;5;28mself\u001b[39m,),\n\u001b[0;32m   (...)\u001b[0m\n\u001b[1;32m    523\u001b[0m         inputs\u001b[38;5;241m=\u001b[39minputs,\n\u001b[1;32m    524\u001b[0m     )\n\u001b[0;32m--> 525\u001b[0m \u001b[43mtorch\u001b[49m\u001b[38;5;241;43m.\u001b[39;49m\u001b[43mautograd\u001b[49m\u001b[38;5;241;43m.\u001b[39;49m\u001b[43mbackward\u001b[49m\u001b[43m(\u001b[49m\n\u001b[1;32m    526\u001b[0m \u001b[43m    \u001b[49m\u001b[38;5;28;43mself\u001b[39;49m\u001b[43m,\u001b[49m\u001b[43m \u001b[49m\u001b[43mgradient\u001b[49m\u001b[43m,\u001b[49m\u001b[43m \u001b[49m\u001b[43mretain_graph\u001b[49m\u001b[43m,\u001b[49m\u001b[43m \u001b[49m\u001b[43mcreate_graph\u001b[49m\u001b[43m,\u001b[49m\u001b[43m \u001b[49m\u001b[43minputs\u001b[49m\u001b[38;5;241;43m=\u001b[39;49m\u001b[43minputs\u001b[49m\n\u001b[1;32m    527\u001b[0m \u001b[43m\u001b[49m\u001b[43m)\u001b[49m\n",
      "File \u001b[0;32m/localdisk/ssrivas9/miniconda3/envs/eval/lib/python3.10/site-packages/torch/autograd/__init__.py:267\u001b[0m, in \u001b[0;36mbackward\u001b[0;34m(tensors, grad_tensors, retain_graph, create_graph, grad_variables, inputs)\u001b[0m\n\u001b[1;32m    262\u001b[0m     retain_graph \u001b[38;5;241m=\u001b[39m create_graph\n\u001b[1;32m    264\u001b[0m \u001b[38;5;66;03m# The reason we repeat the same comment below is that\u001b[39;00m\n\u001b[1;32m    265\u001b[0m \u001b[38;5;66;03m# some Python versions print out the first line of a multi-line function\u001b[39;00m\n\u001b[1;32m    266\u001b[0m \u001b[38;5;66;03m# calls in the traceback and some print out the last line\u001b[39;00m\n\u001b[0;32m--> 267\u001b[0m \u001b[43m_engine_run_backward\u001b[49m\u001b[43m(\u001b[49m\n\u001b[1;32m    268\u001b[0m \u001b[43m    \u001b[49m\u001b[43mtensors\u001b[49m\u001b[43m,\u001b[49m\n\u001b[1;32m    269\u001b[0m \u001b[43m    \u001b[49m\u001b[43mgrad_tensors_\u001b[49m\u001b[43m,\u001b[49m\n\u001b[1;32m    270\u001b[0m \u001b[43m    \u001b[49m\u001b[43mretain_graph\u001b[49m\u001b[43m,\u001b[49m\n\u001b[1;32m    271\u001b[0m \u001b[43m    \u001b[49m\u001b[43mcreate_graph\u001b[49m\u001b[43m,\u001b[49m\n\u001b[1;32m    272\u001b[0m \u001b[43m    \u001b[49m\u001b[43minputs\u001b[49m\u001b[43m,\u001b[49m\n\u001b[1;32m    273\u001b[0m \u001b[43m    \u001b[49m\u001b[43mallow_unreachable\u001b[49m\u001b[38;5;241;43m=\u001b[39;49m\u001b[38;5;28;43;01mTrue\u001b[39;49;00m\u001b[43m,\u001b[49m\n\u001b[1;32m    274\u001b[0m \u001b[43m    \u001b[49m\u001b[43maccumulate_grad\u001b[49m\u001b[38;5;241;43m=\u001b[39;49m\u001b[38;5;28;43;01mTrue\u001b[39;49;00m\u001b[43m,\u001b[49m\n\u001b[1;32m    275\u001b[0m \u001b[43m\u001b[49m\u001b[43m)\u001b[49m\n",
      "File \u001b[0;32m/localdisk/ssrivas9/miniconda3/envs/eval/lib/python3.10/site-packages/torch/autograd/graph.py:744\u001b[0m, in \u001b[0;36m_engine_run_backward\u001b[0;34m(t_outputs, *args, **kwargs)\u001b[0m\n\u001b[1;32m    742\u001b[0m     unregister_hooks \u001b[38;5;241m=\u001b[39m _register_logging_hooks_on_whole_graph(t_outputs)\n\u001b[1;32m    743\u001b[0m \u001b[38;5;28;01mtry\u001b[39;00m:\n\u001b[0;32m--> 744\u001b[0m     \u001b[38;5;28;01mreturn\u001b[39;00m \u001b[43mVariable\u001b[49m\u001b[38;5;241;43m.\u001b[39;49m\u001b[43m_execution_engine\u001b[49m\u001b[38;5;241;43m.\u001b[39;49m\u001b[43mrun_backward\u001b[49m\u001b[43m(\u001b[49m\u001b[43m  \u001b[49m\u001b[38;5;66;43;03m# Calls into the C++ engine to run the backward pass\u001b[39;49;00m\n\u001b[1;32m    745\u001b[0m \u001b[43m        \u001b[49m\u001b[43mt_outputs\u001b[49m\u001b[43m,\u001b[49m\u001b[43m \u001b[49m\u001b[38;5;241;43m*\u001b[39;49m\u001b[43margs\u001b[49m\u001b[43m,\u001b[49m\u001b[43m \u001b[49m\u001b[38;5;241;43m*\u001b[39;49m\u001b[38;5;241;43m*\u001b[39;49m\u001b[43mkwargs\u001b[49m\n\u001b[1;32m    746\u001b[0m \u001b[43m    \u001b[49m\u001b[43m)\u001b[49m  \u001b[38;5;66;03m# Calls into the C++ engine to run the backward pass\u001b[39;00m\n\u001b[1;32m    747\u001b[0m \u001b[38;5;28;01mfinally\u001b[39;00m:\n\u001b[1;32m    748\u001b[0m     \u001b[38;5;28;01mif\u001b[39;00m attach_logging_hooks:\n",
      "\u001b[0;31mRuntimeError\u001b[0m: element 0 of tensors does not require grad and does not have a grad_fn"
     ]
    }
   ],
   "source": [
    "import torch\n",
    "import torch.nn as nn\n",
    "import torch.nn.functional as F\n",
    "\n",
    "# Ensure reproducibility and set device\n",
    "torch.manual_seed(42)\n",
    "device = torch.device('cuda' if torch.cuda.is_available() else 'cpu')\n",
    "\n",
    "# Example shapes (adjust as per your actual data)\n",
    "# output.logits: [batch_size, seq_length, num_classes]\n",
    "# fused_labels: [batch_size, seq_length]\n",
    "\n",
    "# Move tensors to the appropriate device and dtype\n",
    "dtype = torch.float32\n",
    "shift_logits = output.logits[:, :-1, :].contiguous().to(dtype).to(device)  # Shape: [batch_size, seq_length-1, num_classes]\n",
    "valid_targets = fused_labels[:, 1:].contiguous().to(dtype).to(device)     # Shape: [batch_size, seq_length-1]\n",
    "\n",
    "num_classes = shift_logits.size(-1)\n",
    "mask = (valid_targets != -100)  # Ignored positions are marked with -100\n",
    "\n",
    "# Compute soft probabilities from logits and detach to prevent gradient flow\n",
    "soft_probs = F.softmax(shift_logits, dim=-1).to(dtype).detach()  # Shape: [batch_size, seq_length-1, num_classes]\n",
    "\n",
    "batch_size, shifted_seq_length = shift_logits.size()[:2]\n",
    "\n",
    "# Initialize a zero tensor for one-hot encoding\n",
    "one_hot_targets = torch.zeros(\n",
    "    batch_size, \n",
    "    shifted_seq_length, \n",
    "    num_classes, \n",
    "    device=valid_targets.device, \n",
    "    dtype=dtype\n",
    ")  # Shape: [batch_size, seq_length-1, num_classes]\n",
    "\n",
    "# Identify valid target positions\n",
    "valid_positions = mask.nonzero(as_tuple=False)  # Shape: [num_valid_positions, 2]\n",
    "target_indices = valid_targets[mask].long()    # Shape: [num_valid_positions]\n",
    "\n",
    "# Convert target indices to one-hot vectors\n",
    "one_hot_valid = F.one_hot(target_indices, num_classes=num_classes).to(dtype)  # Shape: [num_valid_positions, num_classes]\n",
    "\n",
    "# Assign one-hot vectors to their corresponding positions in the batch\n",
    "batch_indices, seq_indices = valid_positions[:, 0], valid_positions[:, 1]  # Shapes: [num_valid_positions], [num_valid_positions]\n",
    "one_hot_targets[batch_indices, seq_indices] = one_hot_valid  # Broadcasting assignment\n",
    "\n",
    "# Define the interpolation factor\n",
    "alpha = 0.1\n",
    "\n",
    "# Compute dynamic soft targets without tracking gradients\n",
    "with torch.no_grad():\n",
    "    # Interpolate between soft_probs and one_hot_targets\n",
    "    dynamic_soft_targets = alpha * soft_probs + (1.0 - alpha) * one_hot_targets  # Shape: [batch_size, seq_length-1, num_classes]\n",
    "    \n",
    "    # Apply mask to ignore certain positions\n",
    "    dynamic_soft_targets = dynamic_soft_targets * mask.unsqueeze(-1).float()  # Shape: [batch_size, seq_length-1, num_classes]\n",
    "    \n",
    "    # Optionally cast to a different dtype if required (ensure compatibility with loss function)\n",
    "    dynamic_soft_targets = dynamic_soft_targets.to(torch.bfloat16)\n",
    "\n",
    "# Verify shapes and properties\n",
    "assert dynamic_soft_targets.shape == (batch_size, shifted_seq_length, num_classes), \\\n",
    "    f\"Expected shape {[batch_size, shifted_seq_length, num_classes]}, but got {dynamic_soft_targets.shape}\"\n",
    "assert torch.all(dynamic_soft_targets[~mask] == 0), \"Positions with label -100 are not all zeros in dynamic_soft_targets.\"\n",
    "\n",
    "# Verify that valid positions have probability distributions summing to 1\n",
    "valid_dynamic_sum = dynamic_soft_targets[mask].sum(dim=-1)\n",
    "assert torch.allclose(valid_dynamic_sum, torch.ones_like(valid_dynamic_sum), atol=1e-2), \\\n",
    "    \"Valid positions in dynamic_soft_targets do not sum to 1.\"\n",
    "\n",
    "# Compute log probabilities from shift_logits for KLDivLoss\n",
    "log_probs = F.log_softmax(shift_logits, dim=-1)  # Shape: [batch_size, seq_length-1, num_classes]\n",
    "\n",
    "# Define the loss function\n",
    "loss_fct = nn.KLDivLoss(reduction='batchmean')#(reduction='batchmean')\n",
    "\n",
    "# Compute the loss\n",
    "# Reshape tensors to [batch_size * (seq_length-1), num_classes]\n",
    "loss = loss_fct(\n",
    "    log_probs.view(-1, num_classes),                # Predictions\n",
    "    dynamic_soft_targets.view(-1, num_classes)       # Targets\n",
    ")\n",
    "print(f\"Soft targets shape: {dynamic_soft_targets.shape}, Logits shape: {log_probs.shape}\")\n",
    "print(f\"Loss: {loss.item()}\")\n",
    "\n",
    "# Backpropagate the loss\n",
    "loss.backward()"
   ]
  },
  {
   "cell_type": "code",
   "execution_count": null,
   "metadata": {},
   "outputs": [
    {
     "ename": "AssertionError",
     "evalue": "shift_logits must require gradients.",
     "output_type": "error",
     "traceback": [
      "\u001b[0;31m---------------------------------------------------------------------------\u001b[0m",
      "\u001b[0;31mAssertionError\u001b[0m                            Traceback (most recent call last)",
      "Cell \u001b[0;32mIn[11], line 23\u001b[0m\n\u001b[1;32m     21\u001b[0m \u001b[38;5;66;03m# Ensure that output.logits requires grad\u001b[39;00m\n\u001b[1;32m     22\u001b[0m shift_logits \u001b[38;5;241m=\u001b[39m output\u001b[38;5;241m.\u001b[39mlogits[:, :\u001b[38;5;241m-\u001b[39m\u001b[38;5;241m1\u001b[39m, :]\u001b[38;5;241m.\u001b[39mcontiguous()\u001b[38;5;241m.\u001b[39mto(dtype)\u001b[38;5;241m.\u001b[39mto(device)\n\u001b[0;32m---> 23\u001b[0m \u001b[38;5;28;01massert\u001b[39;00m shift_logits\u001b[38;5;241m.\u001b[39mrequires_grad, \u001b[38;5;124m\"\u001b[39m\u001b[38;5;124mshift_logits must require gradients.\u001b[39m\u001b[38;5;124m\"\u001b[39m\n\u001b[1;32m     25\u001b[0m valid_targets \u001b[38;5;241m=\u001b[39m fused_labels[:, \u001b[38;5;241m1\u001b[39m:]\u001b[38;5;241m.\u001b[39mcontiguous()\u001b[38;5;241m.\u001b[39mto(torch\u001b[38;5;241m.\u001b[39mlong)\u001b[38;5;241m.\u001b[39mto(device)  \u001b[38;5;66;03m# Ensure targets are LongTensor\u001b[39;00m\n\u001b[1;32m     27\u001b[0m num_classes \u001b[38;5;241m=\u001b[39m shift_logits\u001b[38;5;241m.\u001b[39msize(\u001b[38;5;241m-\u001b[39m\u001b[38;5;241m1\u001b[39m)\n",
      "\u001b[0;31mAssertionError\u001b[0m: shift_logits must require gradients."
     ]
    }
   ],
   "source": [
    "import torch\n",
    "import torch.nn as nn\n",
    "import torch.nn.functional as F\n",
    "\n",
    "# Assuming `output.logits` and `fused_labels` are provided by your model and data loader respectively.\n",
    "# For example:\n",
    "# output = model(input_ids)\n",
    "# fused_labels = ...  # Your label tensor\n",
    "\n",
    "# Ensure reproducibility and set device\n",
    "torch.manual_seed(42)\n",
    "device = torch.device('cuda' if torch.cuda.is_available() else 'cpu')\n",
    "\n",
    "# Example shapes (adjust as per your actual data)\n",
    "# output.logits: [batch_size, seq_length, num_classes]\n",
    "# fused_labels: [batch_size, seq_length]\n",
    "\n",
    "# Move tensors to the appropriate device and dtype\n",
    "dtype = torch.float32\n",
    "\n",
    "# Ensure that output.logits requires grad\n",
    "shift_logits = output.logits[:, :-1, :].contiguous().to(dtype).to(device)\n",
    "assert shift_logits.requires_grad, \"shift_logits must require gradients.\"\n",
    "\n",
    "valid_targets = fused_labels[:, 1:].contiguous().to(torch.long).to(device)  # Ensure targets are LongTensor\n",
    "\n",
    "num_classes = shift_logits.size(-1)\n",
    "mask = (valid_targets != -100)  # Ignored positions are marked with -100\n",
    "\n",
    "# Compute soft probabilities from logits and detach to prevent gradient flow\n",
    "soft_probs = F.softmax(shift_logits, dim=-1).detach()  # Shape: [batch_size, seq_length-1, num_classes]\n",
    "\n",
    "batch_size, shifted_seq_length = shift_logits.size()[:2]\n",
    "\n",
    "# Initialize a zero tensor for one-hot encoding\n",
    "one_hot_targets = torch.zeros(\n",
    "    batch_size, \n",
    "    shifted_seq_length, \n",
    "    num_classes, \n",
    "    device=valid_targets.device, \n",
    "    dtype=dtype\n",
    ")  # Shape: [batch_size, seq_length-1, num_classes]\n",
    "\n",
    "# Identify valid target positions\n",
    "valid_positions = mask.nonzero(as_tuple=False)  # Shape: [num_valid_positions, 2]\n",
    "target_indices = valid_targets[mask]    # Shape: [num_valid_positions]\n",
    "\n",
    "# Convert target indices to one-hot vectors\n",
    "one_hot_valid = F.one_hot(target_indices, num_classes=num_classes).to(dtype)  # Shape: [num_valid_positions, num_classes]\n",
    "\n",
    "# Assign one-hot vectors to their corresponding positions in the batch\n",
    "batch_indices, seq_indices = valid_positions[:, 0], valid_positions[:, 1]  # Shapes: [num_valid_positions], [num_valid_positions]\n",
    "one_hot_targets[batch_indices, seq_indices] = one_hot_valid  # Broadcasting assignment\n",
    "\n",
    "# Define the interpolation factor\n",
    "alpha = 0.1\n",
    "\n",
    "# Compute dynamic soft targets without tracking gradients\n",
    "with torch.no_grad():\n",
    "    # Interpolate between soft_probs and one_hot_targets\n",
    "    dynamic_soft_targets = alpha * soft_probs + (1.0 - alpha) * one_hot_targets  # Shape: [batch_size, seq_length-1, num_classes]\n",
    "    \n",
    "    # Apply mask to ignore certain positions\n",
    "    dynamic_soft_targets = dynamic_soft_targets * mask.unsqueeze(-1).float()  # Shape: [batch_size, seq_length-1, num_classes]\n",
    "    \n",
    "    # Optionally cast to a different dtype if required (ensure compatibility with loss function)\n",
    "    dynamic_soft_targets = dynamic_soft_targets.to(torch.bfloat16)\n",
    "\n",
    "# Verify shapes and properties\n",
    "assert dynamic_soft_targets.shape == (batch_size, shifted_seq_length, num_classes), \\\n",
    "    f\"Expected shape {[batch_size, shifted_seq_length, num_classes]}, but got {dynamic_soft_targets.shape}\"\n",
    "assert torch.all(dynamic_soft_targets[~mask] == 0), \"Positions with label -100 are not all zeros in dynamic_soft_targets.\"\n",
    "\n",
    "# Verify that valid positions have probability distributions summing to 1\n",
    "valid_dynamic_sum = dynamic_soft_targets[mask].sum(dim=-1)\n",
    "assert torch.allclose(valid_dynamic_sum, torch.ones_like(valid_dynamic_sum), atol=1e-2), \\\n",
    "    \"Valid positions in dynamic_soft_targets do not sum to 1.\"\n",
    "\n",
    "# Compute log probabilities from shift_logits for KLDivLoss\n",
    "log_probs = F.log_softmax(shift_logits, dim=-1)  # Shape: [batch_size, seq_length-1, num_classes]\n",
    "assert log_probs.requires_grad, \"log_probs must require gradients.\"\n",
    "\n",
    "# Define the loss function\n",
    "loss_fct = nn.KLDivLoss(reduction='batchmean')\n",
    "\n",
    "# Compute the loss\n",
    "# Reshape tensors to [batch_size * (seq_length-1), num_classes]\n",
    "loss = loss_fct(\n",
    "    log_probs.view(-1, num_classes),                # Predictions\n",
    "    dynamic_soft_targets.view(-1, num_classes)       # Targets\n",
    ")\n",
    "\n",
    "print(f\"Loss: {loss.item()}\")\n",
    "\n",
    "# Backpropagate the loss\n",
    "loss.backward()"
   ]
  },
  {
   "cell_type": "code",
   "execution_count": null,
   "metadata": {},
   "outputs": [],
   "source": []
  },
  {
   "cell_type": "code",
   "execution_count": null,
   "metadata": {},
   "outputs": [],
   "source": [
    "\n",
    "# Create one-hot encoded labels\n",
    "one_hot = torch.zeros_like(shift_logits).scatter(2, valid_targets.unsqueeze(-1), 1.0)\n",
    "\n",
    "# Compute the target distribution\n",
    "soft_alpha = 0.1\n",
    "targets_combined = soft_alpha * soft_probs + (1.0 - soft_alpha) * one_hot\n",
    "\n",
    "# For positions to be ignored, set the entire distribution to 0\n",
    "targets_combined[~mask] = 0.0\n",
    "\n",
    "# Define the loss function\n",
    "loss_fct = nn.KLDivLoss(reduction='batchmean')\n",
    "\n",
    "# Compute log probabilities from logits\n",
    "log_probs = F.log_softmax(shift_logits, dim=-1)\n",
    "\n",
    "# Flatten the tensors for loss computation\n",
    "loss = loss_fct(\n",
    "    log_probs.view(-1, num_classes),\n",
    "    targets_combined.view(-1, num_classes)\n",
    ")"
   ]
  },
  {
   "cell_type": "code",
   "execution_count": null,
   "metadata": {},
   "outputs": [],
   "source": []
  },
  {
   "cell_type": "markdown",
   "metadata": {},
   "source": [
    "### Debugging "
   ]
  },
  {
   "cell_type": "code",
   "execution_count": null,
   "metadata": {},
   "outputs": [
    {
     "ename": "ValueError",
     "evalue": "Some positions have multiple valid labels. Please ensure that each position has only one label.",
     "output_type": "error",
     "traceback": [
      "\u001b[0;31m---------------------------------------------------------------------------\u001b[0m",
      "\u001b[0;31mValueError\u001b[0m                                Traceback (most recent call last)",
      "Cell \u001b[0;32mIn[65], line 48\u001b[0m\n\u001b[1;32m     46\u001b[0m valid_label_counts \u001b[38;5;241m=\u001b[39m mask\u001b[38;5;241m.\u001b[39msum(dim\u001b[38;5;241m=\u001b[39m\u001b[38;5;241m-\u001b[39m\u001b[38;5;241m1\u001b[39m)  \u001b[38;5;66;03m# Shape: [batch_size]\u001b[39;00m\n\u001b[1;32m     47\u001b[0m \u001b[38;5;28;01mif\u001b[39;00m (valid_label_counts \u001b[38;5;241m>\u001b[39m \u001b[38;5;241m1\u001b[39m)\u001b[38;5;241m.\u001b[39many():\n\u001b[0;32m---> 48\u001b[0m     \u001b[38;5;28;01mraise\u001b[39;00m \u001b[38;5;167;01mValueError\u001b[39;00m(\u001b[38;5;124m\"\u001b[39m\u001b[38;5;124mSome positions have multiple valid labels. Please ensure that each position has only one label.\u001b[39m\u001b[38;5;124m\"\u001b[39m)\n\u001b[1;32m     50\u001b[0m \u001b[38;5;66;03m# Create one-hot encoded targets\u001b[39;00m\n\u001b[1;32m     51\u001b[0m one_hot_targets \u001b[38;5;241m=\u001b[39m create_one_hot_targets(valid_targets, mask, num_classes)  \u001b[38;5;66;03m# Shape: [batch_size, shifted_seq_length, num_classes]\u001b[39;00m\n",
      "\u001b[0;31mValueError\u001b[0m: Some positions have multiple valid labels. Please ensure that each position has only one label."
     ]
    }
   ],
   "source": [
    "import torch\n",
    "import torch.nn.functional as F\n",
    "\n",
    "def create_one_hot_targets(valid_targets: torch.Tensor, mask: torch.Tensor, num_classes: int) -> torch.Tensor:\n",
    "    \"\"\"\n",
    "    Converts label indices to one-hot encoded vectors, handling invalid positions.\n",
    "\n",
    "    Args:\n",
    "        valid_targets (torch.Tensor): Tensor of shape [batch_size, shifted_seq_length] containing label indices.\n",
    "        mask (torch.Tensor): Boolean tensor of shape [batch_size, shifted_seq_length] indicating valid labels.\n",
    "        num_classes (int): Number of classes for one-hot encoding.\n",
    "\n",
    "    Returns:\n",
    "        torch.Tensor: One-hot encoded tensor of shape [batch_size, shifted_seq_length, num_classes].\n",
    "    \"\"\"\n",
    "    batch_size, shifted_seq_length = valid_targets.shape\n",
    "\n",
    "    # Initialize one_hot_targets with zeros\n",
    "    one_hot_targets = torch.zeros(\n",
    "        batch_size, \n",
    "        shifted_seq_length, \n",
    "        num_classes, \n",
    "        device=valid_targets.device, \n",
    "        dtype=torch.float32  # Use torch.float32 for precision\n",
    "    )\n",
    "\n",
    "    # Extract valid (batch, seq) indices\n",
    "    batch_indices, seq_indices = mask.nonzero(as_tuple=True)\n",
    "\n",
    "    # Extract corresponding target class indices\n",
    "    target_classes = valid_targets[batch_indices, seq_indices].long()\n",
    "\n",
    "    # Assign 1.0 to the target class indices at the valid positions\n",
    "    one_hot_targets[batch_indices, seq_indices, target_classes] = 1.0\n",
    "\n",
    "    return one_hot_targets\n",
    "\n",
    "# Shift logits and labels\n",
    "shift_logits = output.logits[:, :-1, :].contiguous()  # Shape: [batch_size, shifted_seq_length, num_classes]\n",
    "valid_targets = fused_labels[:, 1:].contiguous()      # Shape: [batch_size, shifted_seq_length]\n",
    "\n",
    "# Create mask for valid targets (labels != -100)\n",
    "mask = (valid_targets != -100)  # Shape: [batch_size, shifted_seq_length]\n",
    "\n",
    "# Verify that each position has at most one label\n",
    "valid_label_counts = mask.sum(dim=-1)  # Shape: [batch_size]\n",
    "if (valid_label_counts > 1).any():\n",
    "    raise ValueError(\"Some positions have multiple valid labels. Please ensure that each position has only one label.\")\n",
    "\n",
    "# Create one-hot encoded targets\n",
    "one_hot_targets = create_one_hot_targets(valid_targets, mask, num_classes)  # Shape: [batch_size, shifted_seq_length, num_classes]\n",
    "\n",
    "# Verify the one-hot encoding\n",
    "sum_per_position = one_hot_targets.sum(dim=-1)  # Shape: [batch_size, shifted_seq_length]\n",
    "mean_sum = sum_per_position.mean().item()\n",
    "print(f\"Mean sum per position: {mean_sum}\")  # Should be approximately 1.0\n",
    "\n",
    "assert torch.allclose(sum_per_position[mask], torch.ones_like(sum_per_position[mask]), atol=1e-5), \\\n",
    "    \"One-hot encoding error: Some valid positions do not sum to 1.\"\n",
    "\n",
    "assert torch.all(sum_per_position[~mask] == 0), \\\n",
    "    \"One-hot encoding error: Some invalid positions are not zero.\"\n",
    "\n",
    "print(\"One-hot encoding verification passed.\")\n",
    "\n",
    "# ============================\n",
    "# Interpolate Logits and One-Hot Targets with Alpha to Create Dynamic Soft Targets\n",
    "# ============================\n",
    "\n",
    "# Define the interpolation parameter alpha\n",
    "alpha = 0.1  # Example value; adjust based on your requirements\n",
    "\n",
    "# Compute softmax probabilities from logits\n",
    "soft_probs = F.softmax(shift_logits, dim=-1)  # Shape: [batch_size, shifted_seq_length, num_classes]\n",
    "\n",
    "# Interpolate to create dynamic soft targets\n",
    "dynamic_soft_targets = alpha * soft_probs + (1.0 - alpha) * one_hot_targets  # Shape: [batch_size, shifted_seq_length, num_classes]\n",
    "\n",
    "# Zero out the invalid positions\n",
    "dynamic_soft_targets = dynamic_soft_targets * mask.unsqueeze(-1).float()  # Shape: [batch_size, shifted_seq_length, num_classes]\n",
    "\n",
    "# Verification\n",
    "sum_dynamic = dynamic_soft_targets.sum(dim=-1)  # Shape: [batch_size, shifted_seq_length]\n",
    "mean_sum_dynamic = sum_dynamic.mean().item()\n",
    "print(f\"Mean sum of dynamic soft targets per position: {mean_sum_dynamic}\")  # Should be approximately 1.0\n",
    "\n",
    "assert torch.allclose(sum_dynamic[mask], torch.ones_like(sum_dynamic[mask]), atol=1e-5), \\\n",
    "    \"Dynamic soft targets error: Some valid positions do not sum to 1.\"\n",
    "\n",
    "assert torch.all(sum_dynamic[~mask] == 0), \\\n",
    "    \"Dynamic soft targets error: Some invalid positions are not zero.\"\n",
    "\n",
    "print(\"Dynamic soft targets verification passed.\")\n",
    "\n",
    "# ============================\n",
    "# Example Loss Computation Using KLDivLoss\n",
    "# ============================\n",
    "\n",
    "# Compute log probabilities from shift_logits\n",
    "log_probs = F.log_softmax(shift_logits, dim=-1)  # Shape: [batch_size, shifted_seq_length, num_classes]\n",
    "\n",
    "# Define the loss function\n",
    "loss_fct = nn.KLDivLoss(reduction='batchmean')\n",
    "\n",
    "# Compute the loss\n",
    "loss = loss_fct(\n",
    "    log_probs.view(-1, num_classes),         # [batch_size * shifted_seq_length, num_classes]\n",
    "    dynamic_soft_targets.view(-1, num_classes)   # [batch_size * shifted_seq_length, num_classes]\n",
    ")\n",
    "\n",
    "print(f\"Loss: {loss.item()}\")\n",
    "\n",
    "# Backpropagate if in training mode\n",
    "# loss.backward()"
   ]
  },
  {
   "cell_type": "code",
   "execution_count": null,
   "metadata": {},
   "outputs": [],
   "source": []
  },
  {
   "cell_type": "code",
   "execution_count": null,
   "metadata": {},
   "outputs": [],
   "source": [
    "import torch\n",
    "import torch.nn as nn\n",
    "import torch.nn.functional as F\n",
    "\n",
    "# Assume output.logits and fused_labels are provided\n",
    "# Shift logits and labels\n",
    "shift_logits = output.logits[:, :-1, :].contiguous()\n",
    "valid_targets = fused_labels[:, 1:].contiguous()\n",
    "\n",
    "num_classes = shift_logits.size(-1)\n",
    "\n",
    "# Create mask for valid targets\n",
    "mask = (valid_targets != -100)\n",
    "\n",
    "# Compute softmax probabilities from logits\n",
    "soft_probs = F.softmax(shift_logits, dim=-1)\n",
    "\n",
    "# Create one-hot encoded labels\n",
    "one_hot = torch.zeros_like(shift_logits).scatter(2, valid_targets.unsqueeze(-1), 1.0)\n",
    "\n",
    "# Compute the target distribution\n",
    "soft_alpha = 0.1\n",
    "targets_combined = soft_alpha * soft_probs + (1.0 - soft_alpha) * one_hot\n",
    "\n",
    "# For positions to be ignored, set the entire distribution to 0\n",
    "targets_combined[~mask] = 0.0\n",
    "\n",
    "# Define the loss function\n",
    "loss_fct = nn.KLDivLoss(reduction='batchmean')\n",
    "\n",
    "# Compute log probabilities from logits\n",
    "log_probs = F.log_softmax(shift_logits, dim=-1)\n",
    "\n",
    "# Flatten the tensors for loss computation\n",
    "loss = loss_fct(\n",
    "    log_probs.view(-1, num_classes),\n",
    "    targets_combined.view(-1, num_classes)\n",
    ")"
   ]
  },
  {
   "cell_type": "code",
   "execution_count": null,
   "metadata": {},
   "outputs": [
    {
     "name": "stdout",
     "output_type": "stream",
     "text": [
      "Valid Targets Range: 0 to 49579\n"
     ]
    },
    {
     "ename": "RuntimeError",
     "evalue": "CUDA error: device-side assert triggered\nCUDA kernel errors might be asynchronously reported at some other API call, so the stacktrace below might be incorrect.\nFor debugging consider passing CUDA_LAUNCH_BLOCKING=1.\nCompile with `TORCH_USE_CUDA_DSA` to enable device-side assertions.\n",
     "output_type": "error",
     "traceback": [
      "\u001b[0;31m---------------------------------------------------------------------------\u001b[0m",
      "\u001b[0;31mRuntimeError\u001b[0m                              Traceback (most recent call last)",
      "Cell \u001b[0;32mIn[9], line 48\u001b[0m\n\u001b[1;32m     45\u001b[0m targets_combined \u001b[38;5;241m=\u001b[39m targets_combined \u001b[38;5;241m*\u001b[39m mask\u001b[38;5;241m.\u001b[39munsqueeze(\u001b[38;5;241m-\u001b[39m\u001b[38;5;241m1\u001b[39m)\u001b[38;5;241m.\u001b[39mfloat()\n\u001b[1;32m     47\u001b[0m \u001b[38;5;66;03m# Verify that target distributions sum to 1 where mask is True\u001b[39;00m\n\u001b[0;32m---> 48\u001b[0m target_sums \u001b[38;5;241m=\u001b[39m \u001b[43mtargets_combined\u001b[49m\u001b[38;5;241;43m.\u001b[39;49m\u001b[43msum\u001b[49m\u001b[43m(\u001b[49m\u001b[43mdim\u001b[49m\u001b[38;5;241;43m=\u001b[39;49m\u001b[38;5;241;43m-\u001b[39;49m\u001b[38;5;241;43m1\u001b[39;49m\u001b[43m)\u001b[49m\n\u001b[1;32m     49\u001b[0m \u001b[38;5;28mprint\u001b[39m(\u001b[38;5;124mf\u001b[39m\u001b[38;5;124m\"\u001b[39m\u001b[38;5;124mTarget sums (should be close to 1 for valid positions): \u001b[39m\u001b[38;5;132;01m{\u001b[39;00mtarget_sums[mask]\u001b[38;5;132;01m}\u001b[39;00m\u001b[38;5;124m\"\u001b[39m)\n\u001b[1;32m     51\u001b[0m \u001b[38;5;66;03m# Define the loss function\u001b[39;00m\n",
      "\u001b[0;31mRuntimeError\u001b[0m: CUDA error: device-side assert triggered\nCUDA kernel errors might be asynchronously reported at some other API call, so the stacktrace below might be incorrect.\nFor debugging consider passing CUDA_LAUNCH_BLOCKING=1.\nCompile with `TORCH_USE_CUDA_DSA` to enable device-side assertions.\n"
     ]
    },
    {
     "name": "stderr",
     "output_type": "stream",
     "text": [
      "../aten/src/ATen/native/cuda/ScatterGatherKernel.cu:365: operator(): block: [5,0,0], thread: [32,0,0] Assertion `idx_dim >= 0 && idx_dim < index_size && \"index out of bounds\"` failed.\n",
      "../aten/src/ATen/native/cuda/ScatterGatherKernel.cu:365: operator(): block: [5,0,0], thread: [33,0,0] Assertion `idx_dim >= 0 && idx_dim < index_size && \"index out of bounds\"` failed.\n",
      "../aten/src/ATen/native/cuda/ScatterGatherKernel.cu:365: operator(): block: [5,0,0], thread: [34,0,0] Assertion `idx_dim >= 0 && idx_dim < index_size && \"index out of bounds\"` failed.\n",
      "../aten/src/ATen/native/cuda/ScatterGatherKernel.cu:365: operator(): block: [5,0,0], thread: [35,0,0] Assertion `idx_dim >= 0 && idx_dim < index_size && \"index out of bounds\"` failed.\n",
      "../aten/src/ATen/native/cuda/ScatterGatherKernel.cu:365: operator(): block: [5,0,0], thread: [36,0,0] Assertion `idx_dim >= 0 && idx_dim < index_size && \"index out of bounds\"` failed.\n",
      "../aten/src/ATen/native/cuda/ScatterGatherKernel.cu:365: operator(): block: [5,0,0], thread: [37,0,0] Assertion `idx_dim >= 0 && idx_dim < index_size && \"index out of bounds\"` failed.\n",
      "../aten/src/ATen/native/cuda/ScatterGatherKernel.cu:365: operator(): block: [5,0,0], thread: [38,0,0] Assertion `idx_dim >= 0 && idx_dim < index_size && \"index out of bounds\"` failed.\n",
      "../aten/src/ATen/native/cuda/ScatterGatherKernel.cu:365: operator(): block: [5,0,0], thread: [39,0,0] Assertion `idx_dim >= 0 && idx_dim < index_size && \"index out of bounds\"` failed.\n",
      "../aten/src/ATen/native/cuda/ScatterGatherKernel.cu:365: operator(): block: [5,0,0], thread: [43,0,0] Assertion `idx_dim >= 0 && idx_dim < index_size && \"index out of bounds\"` failed.\n",
      "../aten/src/ATen/native/cuda/ScatterGatherKernel.cu:365: operator(): block: [5,0,0], thread: [44,0,0] Assertion `idx_dim >= 0 && idx_dim < index_size && \"index out of bounds\"` failed.\n",
      "../aten/src/ATen/native/cuda/ScatterGatherKernel.cu:365: operator(): block: [5,0,0], thread: [45,0,0] Assertion `idx_dim >= 0 && idx_dim < index_size && \"index out of bounds\"` failed.\n",
      "../aten/src/ATen/native/cuda/ScatterGatherKernel.cu:365: operator(): block: [5,0,0], thread: [46,0,0] Assertion `idx_dim >= 0 && idx_dim < index_size && \"index out of bounds\"` failed.\n",
      "../aten/src/ATen/native/cuda/ScatterGatherKernel.cu:365: operator(): block: [5,0,0], thread: [47,0,0] Assertion `idx_dim >= 0 && idx_dim < index_size && \"index out of bounds\"` failed.\n",
      "../aten/src/ATen/native/cuda/ScatterGatherKernel.cu:365: operator(): block: [5,0,0], thread: [48,0,0] Assertion `idx_dim >= 0 && idx_dim < index_size && \"index out of bounds\"` failed.\n",
      "../aten/src/ATen/native/cuda/ScatterGatherKernel.cu:365: operator(): block: [5,0,0], thread: [49,0,0] Assertion `idx_dim >= 0 && idx_dim < index_size && \"index out of bounds\"` failed.\n",
      "../aten/src/ATen/native/cuda/ScatterGatherKernel.cu:365: operator(): block: [5,0,0], thread: [50,0,0] Assertion `idx_dim >= 0 && idx_dim < index_size && \"index out of bounds\"` failed.\n",
      "../aten/src/ATen/native/cuda/ScatterGatherKernel.cu:365: operator(): block: [5,0,0], thread: [51,0,0] Assertion `idx_dim >= 0 && idx_dim < index_size && \"index out of bounds\"` failed.\n",
      "../aten/src/ATen/native/cuda/ScatterGatherKernel.cu:365: operator(): block: [5,0,0], thread: [52,0,0] Assertion `idx_dim >= 0 && idx_dim < index_size && \"index out of bounds\"` failed.\n",
      "../aten/src/ATen/native/cuda/ScatterGatherKernel.cu:365: operator(): block: [5,0,0], thread: [53,0,0] Assertion `idx_dim >= 0 && idx_dim < index_size && \"index out of bounds\"` failed.\n",
      "../aten/src/ATen/native/cuda/ScatterGatherKernel.cu:365: operator(): block: [5,0,0], thread: [54,0,0] Assertion `idx_dim >= 0 && idx_dim < index_size && \"index out of bounds\"` failed.\n",
      "../aten/src/ATen/native/cuda/ScatterGatherKernel.cu:365: operator(): block: [5,0,0], thread: [55,0,0] Assertion `idx_dim >= 0 && idx_dim < index_size && \"index out of bounds\"` failed.\n",
      "../aten/src/ATen/native/cuda/ScatterGatherKernel.cu:365: operator(): block: [5,0,0], thread: [56,0,0] Assertion `idx_dim >= 0 && idx_dim < index_size && \"index out of bounds\"` failed.\n",
      "../aten/src/ATen/native/cuda/ScatterGatherKernel.cu:365: operator(): block: [5,0,0], thread: [57,0,0] Assertion `idx_dim >= 0 && idx_dim < index_size && \"index out of bounds\"` failed.\n",
      "../aten/src/ATen/native/cuda/ScatterGatherKernel.cu:365: operator(): block: [5,0,0], thread: [58,0,0] Assertion `idx_dim >= 0 && idx_dim < index_size && \"index out of bounds\"` failed.\n",
      "../aten/src/ATen/native/cuda/ScatterGatherKernel.cu:365: operator(): block: [5,0,0], thread: [59,0,0] Assertion `idx_dim >= 0 && idx_dim < index_size && \"index out of bounds\"` failed.\n",
      "../aten/src/ATen/native/cuda/ScatterGatherKernel.cu:365: operator(): block: [4,0,0], thread: [96,0,0] Assertion `idx_dim >= 0 && idx_dim < index_size && \"index out of bounds\"` failed.\n",
      "../aten/src/ATen/native/cuda/ScatterGatherKernel.cu:365: operator(): block: [4,0,0], thread: [97,0,0] Assertion `idx_dim >= 0 && idx_dim < index_size && \"index out of bounds\"` failed.\n",
      "../aten/src/ATen/native/cuda/ScatterGatherKernel.cu:365: operator(): block: [4,0,0], thread: [98,0,0] Assertion `idx_dim >= 0 && idx_dim < index_size && \"index out of bounds\"` failed.\n",
      "../aten/src/ATen/native/cuda/ScatterGatherKernel.cu:365: operator(): block: [4,0,0], thread: [99,0,0] Assertion `idx_dim >= 0 && idx_dim < index_size && \"index out of bounds\"` failed.\n",
      "../aten/src/ATen/native/cuda/ScatterGatherKernel.cu:365: operator(): block: [4,0,0], thread: [104,0,0] Assertion `idx_dim >= 0 && idx_dim < index_size && \"index out of bounds\"` failed.\n",
      "../aten/src/ATen/native/cuda/ScatterGatherKernel.cu:365: operator(): block: [4,0,0], thread: [105,0,0] Assertion `idx_dim >= 0 && idx_dim < index_size && \"index out of bounds\"` failed.\n",
      "../aten/src/ATen/native/cuda/ScatterGatherKernel.cu:365: operator(): block: [4,0,0], thread: [106,0,0] Assertion `idx_dim >= 0 && idx_dim < index_size && \"index out of bounds\"` failed.\n",
      "../aten/src/ATen/native/cuda/ScatterGatherKernel.cu:365: operator(): block: [4,0,0], thread: [107,0,0] Assertion `idx_dim >= 0 && idx_dim < index_size && \"index out of bounds\"` failed.\n",
      "../aten/src/ATen/native/cuda/ScatterGatherKernel.cu:365: operator(): block: [4,0,0], thread: [108,0,0] Assertion `idx_dim >= 0 && idx_dim < index_size && \"index out of bounds\"` failed.\n",
      "../aten/src/ATen/native/cuda/ScatterGatherKernel.cu:365: operator(): block: [4,0,0], thread: [109,0,0] Assertion `idx_dim >= 0 && idx_dim < index_size && \"index out of bounds\"` failed.\n",
      "../aten/src/ATen/native/cuda/ScatterGatherKernel.cu:365: operator(): block: [4,0,0], thread: [110,0,0] Assertion `idx_dim >= 0 && idx_dim < index_size && \"index out of bounds\"` failed.\n",
      "../aten/src/ATen/native/cuda/ScatterGatherKernel.cu:365: operator(): block: [4,0,0], thread: [111,0,0] Assertion `idx_dim >= 0 && idx_dim < index_size && \"index out of bounds\"` failed.\n",
      "../aten/src/ATen/native/cuda/ScatterGatherKernel.cu:365: operator(): block: [4,0,0], thread: [112,0,0] Assertion `idx_dim >= 0 && idx_dim < index_size && \"index out of bounds\"` failed.\n",
      "../aten/src/ATen/native/cuda/ScatterGatherKernel.cu:365: operator(): block: [4,0,0], thread: [113,0,0] Assertion `idx_dim >= 0 && idx_dim < index_size && \"index out of bounds\"` failed.\n",
      "../aten/src/ATen/native/cuda/ScatterGatherKernel.cu:365: operator(): block: [4,0,0], thread: [114,0,0] Assertion `idx_dim >= 0 && idx_dim < index_size && \"index out of bounds\"` failed.\n",
      "../aten/src/ATen/native/cuda/ScatterGatherKernel.cu:365: operator(): block: [4,0,0], thread: [115,0,0] Assertion `idx_dim >= 0 && idx_dim < index_size && \"index out of bounds\"` failed.\n",
      "../aten/src/ATen/native/cuda/ScatterGatherKernel.cu:365: operator(): block: [4,0,0], thread: [116,0,0] Assertion `idx_dim >= 0 && idx_dim < index_size && \"index out of bounds\"` failed.\n",
      "../aten/src/ATen/native/cuda/ScatterGatherKernel.cu:365: operator(): block: [4,0,0], thread: [121,0,0] Assertion `idx_dim >= 0 && idx_dim < index_size && \"index out of bounds\"` failed.\n",
      "../aten/src/ATen/native/cuda/ScatterGatherKernel.cu:365: operator(): block: [4,0,0], thread: [122,0,0] Assertion `idx_dim >= 0 && idx_dim < index_size && \"index out of bounds\"` failed.\n",
      "../aten/src/ATen/native/cuda/ScatterGatherKernel.cu:365: operator(): block: [4,0,0], thread: [123,0,0] Assertion `idx_dim >= 0 && idx_dim < index_size && \"index out of bounds\"` failed.\n",
      "../aten/src/ATen/native/cuda/ScatterGatherKernel.cu:365: operator(): block: [4,0,0], thread: [124,0,0] Assertion `idx_dim >= 0 && idx_dim < index_size && \"index out of bounds\"` failed.\n",
      "../aten/src/ATen/native/cuda/ScatterGatherKernel.cu:365: operator(): block: [4,0,0], thread: [125,0,0] Assertion `idx_dim >= 0 && idx_dim < index_size && \"index out of bounds\"` failed.\n",
      "../aten/src/ATen/native/cuda/ScatterGatherKernel.cu:365: operator(): block: [4,0,0], thread: [126,0,0] Assertion `idx_dim >= 0 && idx_dim < index_size && \"index out of bounds\"` failed.\n",
      "../aten/src/ATen/native/cuda/ScatterGatherKernel.cu:365: operator(): block: [4,0,0], thread: [127,0,0] Assertion `idx_dim >= 0 && idx_dim < index_size && \"index out of bounds\"` failed.\n",
      "../aten/src/ATen/native/cuda/ScatterGatherKernel.cu:365: operator(): block: [4,0,0], thread: [32,0,0] Assertion `idx_dim >= 0 && idx_dim < index_size && \"index out of bounds\"` failed.\n",
      "../aten/src/ATen/native/cuda/ScatterGatherKernel.cu:365: operator(): block: [4,0,0], thread: [33,0,0] Assertion `idx_dim >= 0 && idx_dim < index_size && \"index out of bounds\"` failed.\n",
      "../aten/src/ATen/native/cuda/ScatterGatherKernel.cu:365: operator(): block: [4,0,0], thread: [38,0,0] Assertion `idx_dim >= 0 && idx_dim < index_size && \"index out of bounds\"` failed.\n",
      "../aten/src/ATen/native/cuda/ScatterGatherKernel.cu:365: operator(): block: [4,0,0], thread: [39,0,0] Assertion `idx_dim >= 0 && idx_dim < index_size && \"index out of bounds\"` failed.\n",
      "../aten/src/ATen/native/cuda/ScatterGatherKernel.cu:365: operator(): block: [4,0,0], thread: [40,0,0] Assertion `idx_dim >= 0 && idx_dim < index_size && \"index out of bounds\"` failed.\n",
      "../aten/src/ATen/native/cuda/ScatterGatherKernel.cu:365: operator(): block: [4,0,0], thread: [41,0,0] Assertion `idx_dim >= 0 && idx_dim < index_size && \"index out of bounds\"` failed.\n",
      "../aten/src/ATen/native/cuda/ScatterGatherKernel.cu:365: operator(): block: [4,0,0], thread: [42,0,0] Assertion `idx_dim >= 0 && idx_dim < index_size && \"index out of bounds\"` failed.\n",
      "../aten/src/ATen/native/cuda/ScatterGatherKernel.cu:365: operator(): block: [4,0,0], thread: [43,0,0] Assertion `idx_dim >= 0 && idx_dim < index_size && \"index out of bounds\"` failed.\n",
      "../aten/src/ATen/native/cuda/ScatterGatherKernel.cu:365: operator(): block: [4,0,0], thread: [44,0,0] Assertion `idx_dim >= 0 && idx_dim < index_size && \"index out of bounds\"` failed.\n",
      "../aten/src/ATen/native/cuda/ScatterGatherKernel.cu:365: operator(): block: [4,0,0], thread: [45,0,0] Assertion `idx_dim >= 0 && idx_dim < index_size && \"index out of bounds\"` failed.\n",
      "../aten/src/ATen/native/cuda/ScatterGatherKernel.cu:365: operator(): block: [4,0,0], thread: [46,0,0] Assertion `idx_dim >= 0 && idx_dim < index_size && \"index out of bounds\"` failed.\n",
      "../aten/src/ATen/native/cuda/ScatterGatherKernel.cu:365: operator(): block: [4,0,0], thread: [47,0,0] Assertion `idx_dim >= 0 && idx_dim < index_size && \"index out of bounds\"` failed.\n",
      "../aten/src/ATen/native/cuda/ScatterGatherKernel.cu:365: operator(): block: [4,0,0], thread: [48,0,0] Assertion `idx_dim >= 0 && idx_dim < index_size && \"index out of bounds\"` failed.\n",
      "../aten/src/ATen/native/cuda/ScatterGatherKernel.cu:365: operator(): block: [4,0,0], thread: [49,0,0] Assertion `idx_dim >= 0 && idx_dim < index_size && \"index out of bounds\"` failed.\n",
      "../aten/src/ATen/native/cuda/ScatterGatherKernel.cu:365: operator(): block: [4,0,0], thread: [50,0,0] Assertion `idx_dim >= 0 && idx_dim < index_size && \"index out of bounds\"` failed.\n",
      "../aten/src/ATen/native/cuda/ScatterGatherKernel.cu:365: operator(): block: [4,0,0], thread: [51,0,0] Assertion `idx_dim >= 0 && idx_dim < index_size && \"index out of bounds\"` failed.\n",
      "../aten/src/ATen/native/cuda/ScatterGatherKernel.cu:365: operator(): block: [4,0,0], thread: [52,0,0] Assertion `idx_dim >= 0 && idx_dim < index_size && \"index out of bounds\"` failed.\n",
      "../aten/src/ATen/native/cuda/ScatterGatherKernel.cu:365: operator(): block: [4,0,0], thread: [55,0,0] Assertion `idx_dim >= 0 && idx_dim < index_size && \"index out of bounds\"` failed.\n",
      "../aten/src/ATen/native/cuda/ScatterGatherKernel.cu:365: operator(): block: [4,0,0], thread: [56,0,0] Assertion `idx_dim >= 0 && idx_dim < index_size && \"index out of bounds\"` failed.\n",
      "../aten/src/ATen/native/cuda/ScatterGatherKernel.cu:365: operator(): block: [4,0,0], thread: [57,0,0] Assertion `idx_dim >= 0 && idx_dim < index_size && \"index out of bounds\"` failed.\n",
      "../aten/src/ATen/native/cuda/ScatterGatherKernel.cu:365: operator(): block: [4,0,0], thread: [58,0,0] Assertion `idx_dim >= 0 && idx_dim < index_size && \"index out of bounds\"` failed.\n",
      "../aten/src/ATen/native/cuda/ScatterGatherKernel.cu:365: operator(): block: [4,0,0], thread: [59,0,0] Assertion `idx_dim >= 0 && idx_dim < index_size && \"index out of bounds\"` failed.\n",
      "../aten/src/ATen/native/cuda/ScatterGatherKernel.cu:365: operator(): block: [4,0,0], thread: [60,0,0] Assertion `idx_dim >= 0 && idx_dim < index_size && \"index out of bounds\"` failed.\n",
      "../aten/src/ATen/native/cuda/ScatterGatherKernel.cu:365: operator(): block: [4,0,0], thread: [61,0,0] Assertion `idx_dim >= 0 && idx_dim < index_size && \"index out of bounds\"` failed.\n",
      "../aten/src/ATen/native/cuda/ScatterGatherKernel.cu:365: operator(): block: [4,0,0], thread: [62,0,0] Assertion `idx_dim >= 0 && idx_dim < index_size && \"index out of bounds\"` failed.\n",
      "../aten/src/ATen/native/cuda/ScatterGatherKernel.cu:365: operator(): block: [4,0,0], thread: [63,0,0] Assertion `idx_dim >= 0 && idx_dim < index_size && \"index out of bounds\"` failed.\n",
      "../aten/src/ATen/native/cuda/ScatterGatherKernel.cu:365: operator(): block: [5,0,0], thread: [0,0,0] Assertion `idx_dim >= 0 && idx_dim < index_size && \"index out of bounds\"` failed.\n",
      "../aten/src/ATen/native/cuda/ScatterGatherKernel.cu:365: operator(): block: [5,0,0], thread: [1,0,0] Assertion `idx_dim >= 0 && idx_dim < index_size && \"index out of bounds\"` failed.\n",
      "../aten/src/ATen/native/cuda/ScatterGatherKernel.cu:365: operator(): block: [5,0,0], thread: [2,0,0] Assertion `idx_dim >= 0 && idx_dim < index_size && \"index out of bounds\"` failed.\n",
      "../aten/src/ATen/native/cuda/ScatterGatherKernel.cu:365: operator(): block: [5,0,0], thread: [3,0,0] Assertion `idx_dim >= 0 && idx_dim < index_size && \"index out of bounds\"` failed.\n",
      "../aten/src/ATen/native/cuda/ScatterGatherKernel.cu:365: operator(): block: [5,0,0], thread: [4,0,0] Assertion `idx_dim >= 0 && idx_dim < index_size && \"index out of bounds\"` failed.\n",
      "../aten/src/ATen/native/cuda/ScatterGatherKernel.cu:365: operator(): block: [5,0,0], thread: [5,0,0] Assertion `idx_dim >= 0 && idx_dim < index_size && \"index out of bounds\"` failed.\n",
      "../aten/src/ATen/native/cuda/ScatterGatherKernel.cu:365: operator(): block: [5,0,0], thread: [8,0,0] Assertion `idx_dim >= 0 && idx_dim < index_size && \"index out of bounds\"` failed.\n",
      "../aten/src/ATen/native/cuda/ScatterGatherKernel.cu:365: operator(): block: [5,0,0], thread: [9,0,0] Assertion `idx_dim >= 0 && idx_dim < index_size && \"index out of bounds\"` failed.\n",
      "../aten/src/ATen/native/cuda/ScatterGatherKernel.cu:365: operator(): block: [5,0,0], thread: [10,0,0] Assertion `idx_dim >= 0 && idx_dim < index_size && \"index out of bounds\"` failed.\n",
      "../aten/src/ATen/native/cuda/ScatterGatherKernel.cu:365: operator(): block: [5,0,0], thread: [11,0,0] Assertion `idx_dim >= 0 && idx_dim < index_size && \"index out of bounds\"` failed.\n",
      "../aten/src/ATen/native/cuda/ScatterGatherKernel.cu:365: operator(): block: [5,0,0], thread: [12,0,0] Assertion `idx_dim >= 0 && idx_dim < index_size && \"index out of bounds\"` failed.\n",
      "../aten/src/ATen/native/cuda/ScatterGatherKernel.cu:365: operator(): block: [5,0,0], thread: [13,0,0] Assertion `idx_dim >= 0 && idx_dim < index_size && \"index out of bounds\"` failed.\n",
      "../aten/src/ATen/native/cuda/ScatterGatherKernel.cu:365: operator(): block: [5,0,0], thread: [14,0,0] Assertion `idx_dim >= 0 && idx_dim < index_size && \"index out of bounds\"` failed.\n",
      "../aten/src/ATen/native/cuda/ScatterGatherKernel.cu:365: operator(): block: [5,0,0], thread: [15,0,0] Assertion `idx_dim >= 0 && idx_dim < index_size && \"index out of bounds\"` failed.\n",
      "../aten/src/ATen/native/cuda/ScatterGatherKernel.cu:365: operator(): block: [5,0,0], thread: [16,0,0] Assertion `idx_dim >= 0 && idx_dim < index_size && \"index out of bounds\"` failed.\n",
      "../aten/src/ATen/native/cuda/ScatterGatherKernel.cu:365: operator(): block: [5,0,0], thread: [17,0,0] Assertion `idx_dim >= 0 && idx_dim < index_size && \"index out of bounds\"` failed.\n",
      "../aten/src/ATen/native/cuda/ScatterGatherKernel.cu:365: operator(): block: [5,0,0], thread: [18,0,0] Assertion `idx_dim >= 0 && idx_dim < index_size && \"index out of bounds\"` failed.\n",
      "../aten/src/ATen/native/cuda/ScatterGatherKernel.cu:365: operator(): block: [5,0,0], thread: [19,0,0] Assertion `idx_dim >= 0 && idx_dim < index_size && \"index out of bounds\"` failed.\n",
      "../aten/src/ATen/native/cuda/ScatterGatherKernel.cu:365: operator(): block: [5,0,0], thread: [20,0,0] Assertion `idx_dim >= 0 && idx_dim < index_size && \"index out of bounds\"` failed.\n",
      "../aten/src/ATen/native/cuda/ScatterGatherKernel.cu:365: operator(): block: [5,0,0], thread: [23,0,0] Assertion `idx_dim >= 0 && idx_dim < index_size && \"index out of bounds\"` failed.\n",
      "../aten/src/ATen/native/cuda/ScatterGatherKernel.cu:365: operator(): block: [5,0,0], thread: [24,0,0] Assertion `idx_dim >= 0 && idx_dim < index_size && \"index out of bounds\"` failed.\n",
      "../aten/src/ATen/native/cuda/ScatterGatherKernel.cu:365: operator(): block: [5,0,0], thread: [25,0,0] Assertion `idx_dim >= 0 && idx_dim < index_size && \"index out of bounds\"` failed.\n",
      "../aten/src/ATen/native/cuda/ScatterGatherKernel.cu:365: operator(): block: [5,0,0], thread: [26,0,0] Assertion `idx_dim >= 0 && idx_dim < index_size && \"index out of bounds\"` failed.\n",
      "../aten/src/ATen/native/cuda/ScatterGatherKernel.cu:365: operator(): block: [5,0,0], thread: [27,0,0] Assertion `idx_dim >= 0 && idx_dim < index_size && \"index out of bounds\"` failed.\n",
      "../aten/src/ATen/native/cuda/ScatterGatherKernel.cu:365: operator(): block: [5,0,0], thread: [28,0,0] Assertion `idx_dim >= 0 && idx_dim < index_size && \"index out of bounds\"` failed.\n",
      "../aten/src/ATen/native/cuda/ScatterGatherKernel.cu:365: operator(): block: [5,0,0], thread: [29,0,0] Assertion `idx_dim >= 0 && idx_dim < index_size && \"index out of bounds\"` failed.\n",
      "../aten/src/ATen/native/cuda/ScatterGatherKernel.cu:365: operator(): block: [5,0,0], thread: [30,0,0] Assertion `idx_dim >= 0 && idx_dim < index_size && \"index out of bounds\"` failed.\n",
      "../aten/src/ATen/native/cuda/ScatterGatherKernel.cu:365: operator(): block: [5,0,0], thread: [31,0,0] Assertion `idx_dim >= 0 && idx_dim < index_size && \"index out of bounds\"` failed.\n",
      "../aten/src/ATen/native/cuda/ScatterGatherKernel.cu:365: operator(): block: [4,0,0], thread: [64,0,0] Assertion `idx_dim >= 0 && idx_dim < index_size && \"index out of bounds\"` failed.\n",
      "../aten/src/ATen/native/cuda/ScatterGatherKernel.cu:365: operator(): block: [4,0,0], thread: [65,0,0] Assertion `idx_dim >= 0 && idx_dim < index_size && \"index out of bounds\"` failed.\n",
      "../aten/src/ATen/native/cuda/ScatterGatherKernel.cu:365: operator(): block: [4,0,0], thread: [66,0,0] Assertion `idx_dim >= 0 && idx_dim < index_size && \"index out of bounds\"` failed.\n",
      "../aten/src/ATen/native/cuda/ScatterGatherKernel.cu:365: operator(): block: [4,0,0], thread: [67,0,0] Assertion `idx_dim >= 0 && idx_dim < index_size && \"index out of bounds\"` failed.\n",
      "../aten/src/ATen/native/cuda/ScatterGatherKernel.cu:365: operator(): block: [4,0,0], thread: [68,0,0] Assertion `idx_dim >= 0 && idx_dim < index_size && \"index out of bounds\"` failed.\n",
      "../aten/src/ATen/native/cuda/ScatterGatherKernel.cu:365: operator(): block: [4,0,0], thread: [71,0,0] Assertion `idx_dim >= 0 && idx_dim < index_size && \"index out of bounds\"` failed.\n",
      "../aten/src/ATen/native/cuda/ScatterGatherKernel.cu:365: operator(): block: [4,0,0], thread: [72,0,0] Assertion `idx_dim >= 0 && idx_dim < index_size && \"index out of bounds\"` failed.\n",
      "../aten/src/ATen/native/cuda/ScatterGatherKernel.cu:365: operator(): block: [4,0,0], thread: [73,0,0] Assertion `idx_dim >= 0 && idx_dim < index_size && \"index out of bounds\"` failed.\n",
      "../aten/src/ATen/native/cuda/ScatterGatherKernel.cu:365: operator(): block: [4,0,0], thread: [74,0,0] Assertion `idx_dim >= 0 && idx_dim < index_size && \"index out of bounds\"` failed.\n",
      "../aten/src/ATen/native/cuda/ScatterGatherKernel.cu:365: operator(): block: [4,0,0], thread: [75,0,0] Assertion `idx_dim >= 0 && idx_dim < index_size && \"index out of bounds\"` failed.\n",
      "../aten/src/ATen/native/cuda/ScatterGatherKernel.cu:365: operator(): block: [4,0,0], thread: [76,0,0] Assertion `idx_dim >= 0 && idx_dim < index_size && \"index out of bounds\"` failed.\n",
      "../aten/src/ATen/native/cuda/ScatterGatherKernel.cu:365: operator(): block: [4,0,0], thread: [77,0,0] Assertion `idx_dim >= 0 && idx_dim < index_size && \"index out of bounds\"` failed.\n",
      "../aten/src/ATen/native/cuda/ScatterGatherKernel.cu:365: operator(): block: [4,0,0], thread: [78,0,0] Assertion `idx_dim >= 0 && idx_dim < index_size && \"index out of bounds\"` failed.\n",
      "../aten/src/ATen/native/cuda/ScatterGatherKernel.cu:365: operator(): block: [4,0,0], thread: [79,0,0] Assertion `idx_dim >= 0 && idx_dim < index_size && \"index out of bounds\"` failed.\n",
      "../aten/src/ATen/native/cuda/ScatterGatherKernel.cu:365: operator(): block: [4,0,0], thread: [80,0,0] Assertion `idx_dim >= 0 && idx_dim < index_size && \"index out of bounds\"` failed.\n",
      "../aten/src/ATen/native/cuda/ScatterGatherKernel.cu:365: operator(): block: [4,0,0], thread: [81,0,0] Assertion `idx_dim >= 0 && idx_dim < index_size && \"index out of bounds\"` failed.\n",
      "../aten/src/ATen/native/cuda/ScatterGatherKernel.cu:365: operator(): block: [4,0,0], thread: [82,0,0] Assertion `idx_dim >= 0 && idx_dim < index_size && \"index out of bounds\"` failed.\n",
      "../aten/src/ATen/native/cuda/ScatterGatherKernel.cu:365: operator(): block: [4,0,0], thread: [83,0,0] Assertion `idx_dim >= 0 && idx_dim < index_size && \"index out of bounds\"` failed.\n",
      "../aten/src/ATen/native/cuda/ScatterGatherKernel.cu:365: operator(): block: [4,0,0], thread: [84,0,0] Assertion `idx_dim >= 0 && idx_dim < index_size && \"index out of bounds\"` failed.\n",
      "../aten/src/ATen/native/cuda/ScatterGatherKernel.cu:365: operator(): block: [4,0,0], thread: [87,0,0] Assertion `idx_dim >= 0 && idx_dim < index_size && \"index out of bounds\"` failed.\n",
      "../aten/src/ATen/native/cuda/ScatterGatherKernel.cu:365: operator(): block: [4,0,0], thread: [88,0,0] Assertion `idx_dim >= 0 && idx_dim < index_size && \"index out of bounds\"` failed.\n",
      "../aten/src/ATen/native/cuda/ScatterGatherKernel.cu:365: operator(): block: [4,0,0], thread: [89,0,0] Assertion `idx_dim >= 0 && idx_dim < index_size && \"index out of bounds\"` failed.\n",
      "../aten/src/ATen/native/cuda/ScatterGatherKernel.cu:365: operator(): block: [4,0,0], thread: [90,0,0] Assertion `idx_dim >= 0 && idx_dim < index_size && \"index out of bounds\"` failed.\n",
      "../aten/src/ATen/native/cuda/ScatterGatherKernel.cu:365: operator(): block: [4,0,0], thread: [91,0,0] Assertion `idx_dim >= 0 && idx_dim < index_size && \"index out of bounds\"` failed.\n",
      "../aten/src/ATen/native/cuda/ScatterGatherKernel.cu:365: operator(): block: [4,0,0], thread: [92,0,0] Assertion `idx_dim >= 0 && idx_dim < index_size && \"index out of bounds\"` failed.\n",
      "../aten/src/ATen/native/cuda/ScatterGatherKernel.cu:365: operator(): block: [4,0,0], thread: [93,0,0] Assertion `idx_dim >= 0 && idx_dim < index_size && \"index out of bounds\"` failed.\n",
      "../aten/src/ATen/native/cuda/ScatterGatherKernel.cu:365: operator(): block: [4,0,0], thread: [94,0,0] Assertion `idx_dim >= 0 && idx_dim < index_size && \"index out of bounds\"` failed.\n",
      "../aten/src/ATen/native/cuda/ScatterGatherKernel.cu:365: operator(): block: [4,0,0], thread: [95,0,0] Assertion `idx_dim >= 0 && idx_dim < index_size && \"index out of bounds\"` failed.\n",
      "../aten/src/ATen/native/cuda/ScatterGatherKernel.cu:365: operator(): block: [4,0,0], thread: [0,0,0] Assertion `idx_dim >= 0 && idx_dim < index_size && \"index out of bounds\"` failed.\n",
      "../aten/src/ATen/native/cuda/ScatterGatherKernel.cu:365: operator(): block: [4,0,0], thread: [1,0,0] Assertion `idx_dim >= 0 && idx_dim < index_size && \"index out of bounds\"` failed.\n",
      "../aten/src/ATen/native/cuda/ScatterGatherKernel.cu:365: operator(): block: [4,0,0], thread: [2,0,0] Assertion `idx_dim >= 0 && idx_dim < index_size && \"index out of bounds\"` failed.\n",
      "../aten/src/ATen/native/cuda/ScatterGatherKernel.cu:365: operator(): block: [4,0,0], thread: [3,0,0] Assertion `idx_dim >= 0 && idx_dim < index_size && \"index out of bounds\"` failed.\n",
      "../aten/src/ATen/native/cuda/ScatterGatherKernel.cu:365: operator(): block: [4,0,0], thread: [4,0,0] Assertion `idx_dim >= 0 && idx_dim < index_size && \"index out of bounds\"` failed.\n",
      "../aten/src/ATen/native/cuda/ScatterGatherKernel.cu:365: operator(): block: [4,0,0], thread: [5,0,0] Assertion `idx_dim >= 0 && idx_dim < index_size && \"index out of bounds\"` failed.\n",
      "../aten/src/ATen/native/cuda/ScatterGatherKernel.cu:365: operator(): block: [4,0,0], thread: [6,0,0] Assertion `idx_dim >= 0 && idx_dim < index_size && \"index out of bounds\"` failed.\n",
      "../aten/src/ATen/native/cuda/ScatterGatherKernel.cu:365: operator(): block: [4,0,0], thread: [7,0,0] Assertion `idx_dim >= 0 && idx_dim < index_size && \"index out of bounds\"` failed.\n",
      "../aten/src/ATen/native/cuda/ScatterGatherKernel.cu:365: operator(): block: [4,0,0], thread: [8,0,0] Assertion `idx_dim >= 0 && idx_dim < index_size && \"index out of bounds\"` failed.\n",
      "../aten/src/ATen/native/cuda/ScatterGatherKernel.cu:365: operator(): block: [4,0,0], thread: [9,0,0] Assertion `idx_dim >= 0 && idx_dim < index_size && \"index out of bounds\"` failed.\n",
      "../aten/src/ATen/native/cuda/ScatterGatherKernel.cu:365: operator(): block: [4,0,0], thread: [10,0,0] Assertion `idx_dim >= 0 && idx_dim < index_size && \"index out of bounds\"` failed.\n",
      "../aten/src/ATen/native/cuda/ScatterGatherKernel.cu:365: operator(): block: [4,0,0], thread: [11,0,0] Assertion `idx_dim >= 0 && idx_dim < index_size && \"index out of bounds\"` failed.\n",
      "../aten/src/ATen/native/cuda/ScatterGatherKernel.cu:365: operator(): block: [4,0,0], thread: [12,0,0] Assertion `idx_dim >= 0 && idx_dim < index_size && \"index out of bounds\"` failed.\n",
      "../aten/src/ATen/native/cuda/ScatterGatherKernel.cu:365: operator(): block: [4,0,0], thread: [13,0,0] Assertion `idx_dim >= 0 && idx_dim < index_size && \"index out of bounds\"` failed.\n",
      "../aten/src/ATen/native/cuda/ScatterGatherKernel.cu:365: operator(): block: [4,0,0], thread: [14,0,0] Assertion `idx_dim >= 0 && idx_dim < index_size && \"index out of bounds\"` failed.\n",
      "../aten/src/ATen/native/cuda/ScatterGatherKernel.cu:365: operator(): block: [4,0,0], thread: [15,0,0] Assertion `idx_dim >= 0 && idx_dim < index_size && \"index out of bounds\"` failed.\n",
      "../aten/src/ATen/native/cuda/ScatterGatherKernel.cu:365: operator(): block: [4,0,0], thread: [20,0,0] Assertion `idx_dim >= 0 && idx_dim < index_size && \"index out of bounds\"` failed.\n",
      "../aten/src/ATen/native/cuda/ScatterGatherKernel.cu:365: operator(): block: [4,0,0], thread: [21,0,0] Assertion `idx_dim >= 0 && idx_dim < index_size && \"index out of bounds\"` failed.\n",
      "../aten/src/ATen/native/cuda/ScatterGatherKernel.cu:365: operator(): block: [4,0,0], thread: [22,0,0] Assertion `idx_dim >= 0 && idx_dim < index_size && \"index out of bounds\"` failed.\n",
      "../aten/src/ATen/native/cuda/ScatterGatherKernel.cu:365: operator(): block: [4,0,0], thread: [23,0,0] Assertion `idx_dim >= 0 && idx_dim < index_size && \"index out of bounds\"` failed.\n",
      "../aten/src/ATen/native/cuda/ScatterGatherKernel.cu:365: operator(): block: [4,0,0], thread: [24,0,0] Assertion `idx_dim >= 0 && idx_dim < index_size && \"index out of bounds\"` failed.\n",
      "../aten/src/ATen/native/cuda/ScatterGatherKernel.cu:365: operator(): block: [4,0,0], thread: [25,0,0] Assertion `idx_dim >= 0 && idx_dim < index_size && \"index out of bounds\"` failed.\n",
      "../aten/src/ATen/native/cuda/ScatterGatherKernel.cu:365: operator(): block: [4,0,0], thread: [26,0,0] Assertion `idx_dim >= 0 && idx_dim < index_size && \"index out of bounds\"` failed.\n",
      "../aten/src/ATen/native/cuda/ScatterGatherKernel.cu:365: operator(): block: [4,0,0], thread: [27,0,0] Assertion `idx_dim >= 0 && idx_dim < index_size && \"index out of bounds\"` failed.\n",
      "../aten/src/ATen/native/cuda/ScatterGatherKernel.cu:365: operator(): block: [4,0,0], thread: [28,0,0] Assertion `idx_dim >= 0 && idx_dim < index_size && \"index out of bounds\"` failed.\n",
      "../aten/src/ATen/native/cuda/ScatterGatherKernel.cu:365: operator(): block: [4,0,0], thread: [29,0,0] Assertion `idx_dim >= 0 && idx_dim < index_size && \"index out of bounds\"` failed.\n",
      "../aten/src/ATen/native/cuda/ScatterGatherKernel.cu:365: operator(): block: [4,0,0], thread: [30,0,0] Assertion `idx_dim >= 0 && idx_dim < index_size && \"index out of bounds\"` failed.\n",
      "../aten/src/ATen/native/cuda/ScatterGatherKernel.cu:365: operator(): block: [4,0,0], thread: [31,0,0] Assertion `idx_dim >= 0 && idx_dim < index_size && \"index out of bounds\"` failed.\n",
      "../aten/src/ATen/native/cuda/ScatterGatherKernel.cu:365: operator(): block: [3,0,0], thread: [32,0,0] Assertion `idx_dim >= 0 && idx_dim < index_size && \"index out of bounds\"` failed.\n",
      "../aten/src/ATen/native/cuda/ScatterGatherKernel.cu:365: operator(): block: [3,0,0], thread: [33,0,0] Assertion `idx_dim >= 0 && idx_dim < index_size && \"index out of bounds\"` failed.\n",
      "../aten/src/ATen/native/cuda/ScatterGatherKernel.cu:365: operator(): block: [3,0,0], thread: [34,0,0] Assertion `idx_dim >= 0 && idx_dim < index_size && \"index out of bounds\"` failed.\n",
      "../aten/src/ATen/native/cuda/ScatterGatherKernel.cu:365: operator(): block: [3,0,0], thread: [35,0,0] Assertion `idx_dim >= 0 && idx_dim < index_size && \"index out of bounds\"` failed.\n",
      "../aten/src/ATen/native/cuda/ScatterGatherKernel.cu:365: operator(): block: [3,0,0], thread: [38,0,0] Assertion `idx_dim >= 0 && idx_dim < index_size && \"index out of bounds\"` failed.\n",
      "../aten/src/ATen/native/cuda/ScatterGatherKernel.cu:365: operator(): block: [3,0,0], thread: [39,0,0] Assertion `idx_dim >= 0 && idx_dim < index_size && \"index out of bounds\"` failed.\n",
      "../aten/src/ATen/native/cuda/ScatterGatherKernel.cu:365: operator(): block: [3,0,0], thread: [40,0,0] Assertion `idx_dim >= 0 && idx_dim < index_size && \"index out of bounds\"` failed.\n",
      "../aten/src/ATen/native/cuda/ScatterGatherKernel.cu:365: operator(): block: [3,0,0], thread: [41,0,0] Assertion `idx_dim >= 0 && idx_dim < index_size && \"index out of bounds\"` failed.\n",
      "../aten/src/ATen/native/cuda/ScatterGatherKernel.cu:365: operator(): block: [3,0,0], thread: [42,0,0] Assertion `idx_dim >= 0 && idx_dim < index_size && \"index out of bounds\"` failed.\n",
      "../aten/src/ATen/native/cuda/ScatterGatherKernel.cu:365: operator(): block: [3,0,0], thread: [43,0,0] Assertion `idx_dim >= 0 && idx_dim < index_size && \"index out of bounds\"` failed.\n",
      "../aten/src/ATen/native/cuda/ScatterGatherKernel.cu:365: operator(): block: [3,0,0], thread: [44,0,0] Assertion `idx_dim >= 0 && idx_dim < index_size && \"index out of bounds\"` failed.\n",
      "../aten/src/ATen/native/cuda/ScatterGatherKernel.cu:365: operator(): block: [3,0,0], thread: [45,0,0] Assertion `idx_dim >= 0 && idx_dim < index_size && \"index out of bounds\"` failed.\n",
      "../aten/src/ATen/native/cuda/ScatterGatherKernel.cu:365: operator(): block: [3,0,0], thread: [46,0,0] Assertion `idx_dim >= 0 && idx_dim < index_size && \"index out of bounds\"` failed.\n",
      "../aten/src/ATen/native/cuda/ScatterGatherKernel.cu:365: operator(): block: [3,0,0], thread: [47,0,0] Assertion `idx_dim >= 0 && idx_dim < index_size && \"index out of bounds\"` failed.\n",
      "../aten/src/ATen/native/cuda/ScatterGatherKernel.cu:365: operator(): block: [3,0,0], thread: [48,0,0] Assertion `idx_dim >= 0 && idx_dim < index_size && \"index out of bounds\"` failed.\n",
      "../aten/src/ATen/native/cuda/ScatterGatherKernel.cu:365: operator(): block: [3,0,0], thread: [49,0,0] Assertion `idx_dim >= 0 && idx_dim < index_size && \"index out of bounds\"` failed.\n",
      "../aten/src/ATen/native/cuda/ScatterGatherKernel.cu:365: operator(): block: [3,0,0], thread: [50,0,0] Assertion `idx_dim >= 0 && idx_dim < index_size && \"index out of bounds\"` failed.\n",
      "../aten/src/ATen/native/cuda/ScatterGatherKernel.cu:365: operator(): block: [3,0,0], thread: [55,0,0] Assertion `idx_dim >= 0 && idx_dim < index_size && \"index out of bounds\"` failed.\n",
      "../aten/src/ATen/native/cuda/ScatterGatherKernel.cu:365: operator(): block: [3,0,0], thread: [56,0,0] Assertion `idx_dim >= 0 && idx_dim < index_size && \"index out of bounds\"` failed.\n",
      "../aten/src/ATen/native/cuda/ScatterGatherKernel.cu:365: operator(): block: [3,0,0], thread: [57,0,0] Assertion `idx_dim >= 0 && idx_dim < index_size && \"index out of bounds\"` failed.\n",
      "../aten/src/ATen/native/cuda/ScatterGatherKernel.cu:365: operator(): block: [3,0,0], thread: [58,0,0] Assertion `idx_dim >= 0 && idx_dim < index_size && \"index out of bounds\"` failed.\n",
      "../aten/src/ATen/native/cuda/ScatterGatherKernel.cu:365: operator(): block: [3,0,0], thread: [59,0,0] Assertion `idx_dim >= 0 && idx_dim < index_size && \"index out of bounds\"` failed.\n",
      "../aten/src/ATen/native/cuda/ScatterGatherKernel.cu:365: operator(): block: [3,0,0], thread: [60,0,0] Assertion `idx_dim >= 0 && idx_dim < index_size && \"index out of bounds\"` failed.\n",
      "../aten/src/ATen/native/cuda/ScatterGatherKernel.cu:365: operator(): block: [3,0,0], thread: [61,0,0] Assertion `idx_dim >= 0 && idx_dim < index_size && \"index out of bounds\"` failed.\n",
      "../aten/src/ATen/native/cuda/ScatterGatherKernel.cu:365: operator(): block: [3,0,0], thread: [62,0,0] Assertion `idx_dim >= 0 && idx_dim < index_size && \"index out of bounds\"` failed.\n",
      "../aten/src/ATen/native/cuda/ScatterGatherKernel.cu:365: operator(): block: [3,0,0], thread: [63,0,0] Assertion `idx_dim >= 0 && idx_dim < index_size && \"index out of bounds\"` failed.\n",
      "../aten/src/ATen/native/cuda/ScatterGatherKernel.cu:365: operator(): block: [3,0,0], thread: [96,0,0] Assertion `idx_dim >= 0 && idx_dim < index_size && \"index out of bounds\"` failed.\n",
      "../aten/src/ATen/native/cuda/ScatterGatherKernel.cu:365: operator(): block: [3,0,0], thread: [97,0,0] Assertion `idx_dim >= 0 && idx_dim < index_size && \"index out of bounds\"` failed.\n",
      "../aten/src/ATen/native/cuda/ScatterGatherKernel.cu:365: operator(): block: [3,0,0], thread: [98,0,0] Assertion `idx_dim >= 0 && idx_dim < index_size && \"index out of bounds\"` failed.\n",
      "../aten/src/ATen/native/cuda/ScatterGatherKernel.cu:365: operator(): block: [3,0,0], thread: [99,0,0] Assertion `idx_dim >= 0 && idx_dim < index_size && \"index out of bounds\"` failed.\n",
      "../aten/src/ATen/native/cuda/ScatterGatherKernel.cu:365: operator(): block: [3,0,0], thread: [100,0,0] Assertion `idx_dim >= 0 && idx_dim < index_size && \"index out of bounds\"` failed.\n",
      "../aten/src/ATen/native/cuda/ScatterGatherKernel.cu:365: operator(): block: [3,0,0], thread: [101,0,0] Assertion `idx_dim >= 0 && idx_dim < index_size && \"index out of bounds\"` failed.\n",
      "../aten/src/ATen/native/cuda/ScatterGatherKernel.cu:365: operator(): block: [3,0,0], thread: [102,0,0] Assertion `idx_dim >= 0 && idx_dim < index_size && \"index out of bounds\"` failed.\n",
      "../aten/src/ATen/native/cuda/ScatterGatherKernel.cu:365: operator(): block: [3,0,0], thread: [103,0,0] Assertion `idx_dim >= 0 && idx_dim < index_size && \"index out of bounds\"` failed.\n",
      "../aten/src/ATen/native/cuda/ScatterGatherKernel.cu:365: operator(): block: [3,0,0], thread: [104,0,0] Assertion `idx_dim >= 0 && idx_dim < index_size && \"index out of bounds\"` failed.\n",
      "../aten/src/ATen/native/cuda/ScatterGatherKernel.cu:365: operator(): block: [3,0,0], thread: [105,0,0] Assertion `idx_dim >= 0 && idx_dim < index_size && \"index out of bounds\"` failed.\n",
      "../aten/src/ATen/native/cuda/ScatterGatherKernel.cu:365: operator(): block: [3,0,0], thread: [106,0,0] Assertion `idx_dim >= 0 && idx_dim < index_size && \"index out of bounds\"` failed.\n",
      "../aten/src/ATen/native/cuda/ScatterGatherKernel.cu:365: operator(): block: [3,0,0], thread: [109,0,0] Assertion `idx_dim >= 0 && idx_dim < index_size && \"index out of bounds\"` failed.\n",
      "../aten/src/ATen/native/cuda/ScatterGatherKernel.cu:365: operator(): block: [3,0,0], thread: [110,0,0] Assertion `idx_dim >= 0 && idx_dim < index_size && \"index out of bounds\"` failed.\n",
      "../aten/src/ATen/native/cuda/ScatterGatherKernel.cu:365: operator(): block: [3,0,0], thread: [111,0,0] Assertion `idx_dim >= 0 && idx_dim < index_size && \"index out of bounds\"` failed.\n",
      "../aten/src/ATen/native/cuda/ScatterGatherKernel.cu:365: operator(): block: [3,0,0], thread: [112,0,0] Assertion `idx_dim >= 0 && idx_dim < index_size && \"index out of bounds\"` failed.\n",
      "../aten/src/ATen/native/cuda/ScatterGatherKernel.cu:365: operator(): block: [3,0,0], thread: [113,0,0] Assertion `idx_dim >= 0 && idx_dim < index_size && \"index out of bounds\"` failed.\n",
      "../aten/src/ATen/native/cuda/ScatterGatherKernel.cu:365: operator(): block: [3,0,0], thread: [114,0,0] Assertion `idx_dim >= 0 && idx_dim < index_size && \"index out of bounds\"` failed.\n",
      "../aten/src/ATen/native/cuda/ScatterGatherKernel.cu:365: operator(): block: [3,0,0], thread: [115,0,0] Assertion `idx_dim >= 0 && idx_dim < index_size && \"index out of bounds\"` failed.\n",
      "../aten/src/ATen/native/cuda/ScatterGatherKernel.cu:365: operator(): block: [3,0,0], thread: [116,0,0] Assertion `idx_dim >= 0 && idx_dim < index_size && \"index out of bounds\"` failed.\n",
      "../aten/src/ATen/native/cuda/ScatterGatherKernel.cu:365: operator(): block: [3,0,0], thread: [117,0,0] Assertion `idx_dim >= 0 && idx_dim < index_size && \"index out of bounds\"` failed.\n",
      "../aten/src/ATen/native/cuda/ScatterGatherKernel.cu:365: operator(): block: [3,0,0], thread: [118,0,0] Assertion `idx_dim >= 0 && idx_dim < index_size && \"index out of bounds\"` failed.\n",
      "../aten/src/ATen/native/cuda/ScatterGatherKernel.cu:365: operator(): block: [3,0,0], thread: [119,0,0] Assertion `idx_dim >= 0 && idx_dim < index_size && \"index out of bounds\"` failed.\n",
      "../aten/src/ATen/native/cuda/ScatterGatherKernel.cu:365: operator(): block: [3,0,0], thread: [120,0,0] Assertion `idx_dim >= 0 && idx_dim < index_size && \"index out of bounds\"` failed.\n",
      "../aten/src/ATen/native/cuda/ScatterGatherKernel.cu:365: operator(): block: [3,0,0], thread: [121,0,0] Assertion `idx_dim >= 0 && idx_dim < index_size && \"index out of bounds\"` failed.\n",
      "../aten/src/ATen/native/cuda/ScatterGatherKernel.cu:365: operator(): block: [3,0,0], thread: [122,0,0] Assertion `idx_dim >= 0 && idx_dim < index_size && \"index out of bounds\"` failed.\n",
      "../aten/src/ATen/native/cuda/ScatterGatherKernel.cu:365: operator(): block: [3,0,0], thread: [126,0,0] Assertion `idx_dim >= 0 && idx_dim < index_size && \"index out of bounds\"` failed.\n",
      "../aten/src/ATen/native/cuda/ScatterGatherKernel.cu:365: operator(): block: [3,0,0], thread: [127,0,0] Assertion `idx_dim >= 0 && idx_dim < index_size && \"index out of bounds\"` failed.\n",
      "../aten/src/ATen/native/cuda/ScatterGatherKernel.cu:365: operator(): block: [3,0,0], thread: [64,0,0] Assertion `idx_dim >= 0 && idx_dim < index_size && \"index out of bounds\"` failed.\n",
      "../aten/src/ATen/native/cuda/ScatterGatherKernel.cu:365: operator(): block: [3,0,0], thread: [65,0,0] Assertion `idx_dim >= 0 && idx_dim < index_size && \"index out of bounds\"` failed.\n",
      "../aten/src/ATen/native/cuda/ScatterGatherKernel.cu:365: operator(): block: [3,0,0], thread: [66,0,0] Assertion `idx_dim >= 0 && idx_dim < index_size && \"index out of bounds\"` failed.\n",
      "../aten/src/ATen/native/cuda/ScatterGatherKernel.cu:365: operator(): block: [3,0,0], thread: [67,0,0] Assertion `idx_dim >= 0 && idx_dim < index_size && \"index out of bounds\"` failed.\n",
      "../aten/src/ATen/native/cuda/ScatterGatherKernel.cu:365: operator(): block: [3,0,0], thread: [68,0,0] Assertion `idx_dim >= 0 && idx_dim < index_size && \"index out of bounds\"` failed.\n",
      "../aten/src/ATen/native/cuda/ScatterGatherKernel.cu:365: operator(): block: [3,0,0], thread: [69,0,0] Assertion `idx_dim >= 0 && idx_dim < index_size && \"index out of bounds\"` failed.\n",
      "../aten/src/ATen/native/cuda/ScatterGatherKernel.cu:365: operator(): block: [3,0,0], thread: [70,0,0] Assertion `idx_dim >= 0 && idx_dim < index_size && \"index out of bounds\"` failed.\n",
      "../aten/src/ATen/native/cuda/ScatterGatherKernel.cu:365: operator(): block: [3,0,0], thread: [75,0,0] Assertion `idx_dim >= 0 && idx_dim < index_size && \"index out of bounds\"` failed.\n",
      "../aten/src/ATen/native/cuda/ScatterGatherKernel.cu:365: operator(): block: [3,0,0], thread: [76,0,0] Assertion `idx_dim >= 0 && idx_dim < index_size && \"index out of bounds\"` failed.\n",
      "../aten/src/ATen/native/cuda/ScatterGatherKernel.cu:365: operator(): block: [3,0,0], thread: [77,0,0] Assertion `idx_dim >= 0 && idx_dim < index_size && \"index out of bounds\"` failed.\n",
      "../aten/src/ATen/native/cuda/ScatterGatherKernel.cu:365: operator(): block: [3,0,0], thread: [78,0,0] Assertion `idx_dim >= 0 && idx_dim < index_size && \"index out of bounds\"` failed.\n",
      "../aten/src/ATen/native/cuda/ScatterGatherKernel.cu:365: operator(): block: [3,0,0], thread: [79,0,0] Assertion `idx_dim >= 0 && idx_dim < index_size && \"index out of bounds\"` failed.\n",
      "../aten/src/ATen/native/cuda/ScatterGatherKernel.cu:365: operator(): block: [3,0,0], thread: [80,0,0] Assertion `idx_dim >= 0 && idx_dim < index_size && \"index out of bounds\"` failed.\n",
      "../aten/src/ATen/native/cuda/ScatterGatherKernel.cu:365: operator(): block: [3,0,0], thread: [81,0,0] Assertion `idx_dim >= 0 && idx_dim < index_size && \"index out of bounds\"` failed.\n",
      "../aten/src/ATen/native/cuda/ScatterGatherKernel.cu:365: operator(): block: [3,0,0], thread: [82,0,0] Assertion `idx_dim >= 0 && idx_dim < index_size && \"index out of bounds\"` failed.\n",
      "../aten/src/ATen/native/cuda/ScatterGatherKernel.cu:365: operator(): block: [3,0,0], thread: [83,0,0] Assertion `idx_dim >= 0 && idx_dim < index_size && \"index out of bounds\"` failed.\n",
      "../aten/src/ATen/native/cuda/ScatterGatherKernel.cu:365: operator(): block: [3,0,0], thread: [84,0,0] Assertion `idx_dim >= 0 && idx_dim < index_size && \"index out of bounds\"` failed.\n",
      "../aten/src/ATen/native/cuda/ScatterGatherKernel.cu:365: operator(): block: [3,0,0], thread: [85,0,0] Assertion `idx_dim >= 0 && idx_dim < index_size && \"index out of bounds\"` failed.\n",
      "../aten/src/ATen/native/cuda/ScatterGatherKernel.cu:365: operator(): block: [3,0,0], thread: [86,0,0] Assertion `idx_dim >= 0 && idx_dim < index_size && \"index out of bounds\"` failed.\n",
      "../aten/src/ATen/native/cuda/ScatterGatherKernel.cu:365: operator(): block: [3,0,0], thread: [87,0,0] Assertion `idx_dim >= 0 && idx_dim < index_size && \"index out of bounds\"` failed.\n",
      "../aten/src/ATen/native/cuda/ScatterGatherKernel.cu:365: operator(): block: [3,0,0], thread: [88,0,0] Assertion `idx_dim >= 0 && idx_dim < index_size && \"index out of bounds\"` failed.\n",
      "../aten/src/ATen/native/cuda/ScatterGatherKernel.cu:365: operator(): block: [3,0,0], thread: [91,0,0] Assertion `idx_dim >= 0 && idx_dim < index_size && \"index out of bounds\"` failed.\n",
      "../aten/src/ATen/native/cuda/ScatterGatherKernel.cu:365: operator(): block: [3,0,0], thread: [92,0,0] Assertion `idx_dim >= 0 && idx_dim < index_size && \"index out of bounds\"` failed.\n",
      "../aten/src/ATen/native/cuda/ScatterGatherKernel.cu:365: operator(): block: [3,0,0], thread: [93,0,0] Assertion `idx_dim >= 0 && idx_dim < index_size && \"index out of bounds\"` failed.\n",
      "../aten/src/ATen/native/cuda/ScatterGatherKernel.cu:365: operator(): block: [3,0,0], thread: [94,0,0] Assertion `idx_dim >= 0 && idx_dim < index_size && \"index out of bounds\"` failed.\n",
      "../aten/src/ATen/native/cuda/ScatterGatherKernel.cu:365: operator(): block: [3,0,0], thread: [95,0,0] Assertion `idx_dim >= 0 && idx_dim < index_size && \"index out of bounds\"` failed.\n",
      "../aten/src/ATen/native/cuda/ScatterGatherKernel.cu:365: operator(): block: [3,0,0], thread: [0,0,0] Assertion `idx_dim >= 0 && idx_dim < index_size && \"index out of bounds\"` failed.\n",
      "../aten/src/ATen/native/cuda/ScatterGatherKernel.cu:365: operator(): block: [3,0,0], thread: [1,0,0] Assertion `idx_dim >= 0 && idx_dim < index_size && \"index out of bounds\"` failed.\n",
      "../aten/src/ATen/native/cuda/ScatterGatherKernel.cu:365: operator(): block: [3,0,0], thread: [2,0,0] Assertion `idx_dim >= 0 && idx_dim < index_size && \"index out of bounds\"` failed.\n",
      "../aten/src/ATen/native/cuda/ScatterGatherKernel.cu:365: operator(): block: [3,0,0], thread: [3,0,0] Assertion `idx_dim >= 0 && idx_dim < index_size && \"index out of bounds\"` failed.\n",
      "../aten/src/ATen/native/cuda/ScatterGatherKernel.cu:365: operator(): block: [3,0,0], thread: [4,0,0] Assertion `idx_dim >= 0 && idx_dim < index_size && \"index out of bounds\"` failed.\n",
      "../aten/src/ATen/native/cuda/ScatterGatherKernel.cu:365: operator(): block: [3,0,0], thread: [5,0,0] Assertion `idx_dim >= 0 && idx_dim < index_size && \"index out of bounds\"` failed.\n",
      "../aten/src/ATen/native/cuda/ScatterGatherKernel.cu:365: operator(): block: [3,0,0], thread: [6,0,0] Assertion `idx_dim >= 0 && idx_dim < index_size && \"index out of bounds\"` failed.\n",
      "../aten/src/ATen/native/cuda/ScatterGatherKernel.cu:365: operator(): block: [3,0,0], thread: [7,0,0] Assertion `idx_dim >= 0 && idx_dim < index_size && \"index out of bounds\"` failed.\n",
      "../aten/src/ATen/native/cuda/ScatterGatherKernel.cu:365: operator(): block: [3,0,0], thread: [8,0,0] Assertion `idx_dim >= 0 && idx_dim < index_size && \"index out of bounds\"` failed.\n",
      "../aten/src/ATen/native/cuda/ScatterGatherKernel.cu:365: operator(): block: [3,0,0], thread: [9,0,0] Assertion `idx_dim >= 0 && idx_dim < index_size && \"index out of bounds\"` failed.\n",
      "../aten/src/ATen/native/cuda/ScatterGatherKernel.cu:365: operator(): block: [3,0,0], thread: [10,0,0] Assertion `idx_dim >= 0 && idx_dim < index_size && \"index out of bounds\"` failed.\n",
      "../aten/src/ATen/native/cuda/ScatterGatherKernel.cu:365: operator(): block: [3,0,0], thread: [11,0,0] Assertion `idx_dim >= 0 && idx_dim < index_size && \"index out of bounds\"` failed.\n",
      "../aten/src/ATen/native/cuda/ScatterGatherKernel.cu:365: operator(): block: [3,0,0], thread: [12,0,0] Assertion `idx_dim >= 0 && idx_dim < index_size && \"index out of bounds\"` failed.\n",
      "../aten/src/ATen/native/cuda/ScatterGatherKernel.cu:365: operator(): block: [3,0,0], thread: [13,0,0] Assertion `idx_dim >= 0 && idx_dim < index_size && \"index out of bounds\"` failed.\n",
      "../aten/src/ATen/native/cuda/ScatterGatherKernel.cu:365: operator(): block: [3,0,0], thread: [14,0,0] Assertion `idx_dim >= 0 && idx_dim < index_size && \"index out of bounds\"` failed.\n",
      "../aten/src/ATen/native/cuda/ScatterGatherKernel.cu:365: operator(): block: [3,0,0], thread: [15,0,0] Assertion `idx_dim >= 0 && idx_dim < index_size && \"index out of bounds\"` failed.\n",
      "../aten/src/ATen/native/cuda/ScatterGatherKernel.cu:365: operator(): block: [3,0,0], thread: [16,0,0] Assertion `idx_dim >= 0 && idx_dim < index_size && \"index out of bounds\"` failed.\n",
      "../aten/src/ATen/native/cuda/ScatterGatherKernel.cu:365: operator(): block: [3,0,0], thread: [17,0,0] Assertion `idx_dim >= 0 && idx_dim < index_size && \"index out of bounds\"` failed.\n",
      "../aten/src/ATen/native/cuda/ScatterGatherKernel.cu:365: operator(): block: [3,0,0], thread: [20,0,0] Assertion `idx_dim >= 0 && idx_dim < index_size && \"index out of bounds\"` failed.\n",
      "../aten/src/ATen/native/cuda/ScatterGatherKernel.cu:365: operator(): block: [3,0,0], thread: [21,0,0] Assertion `idx_dim >= 0 && idx_dim < index_size && \"index out of bounds\"` failed.\n",
      "../aten/src/ATen/native/cuda/ScatterGatherKernel.cu:365: operator(): block: [3,0,0], thread: [22,0,0] Assertion `idx_dim >= 0 && idx_dim < index_size && \"index out of bounds\"` failed.\n",
      "../aten/src/ATen/native/cuda/ScatterGatherKernel.cu:365: operator(): block: [3,0,0], thread: [23,0,0] Assertion `idx_dim >= 0 && idx_dim < index_size && \"index out of bounds\"` failed.\n",
      "../aten/src/ATen/native/cuda/ScatterGatherKernel.cu:365: operator(): block: [3,0,0], thread: [24,0,0] Assertion `idx_dim >= 0 && idx_dim < index_size && \"index out of bounds\"` failed.\n",
      "../aten/src/ATen/native/cuda/ScatterGatherKernel.cu:365: operator(): block: [3,0,0], thread: [25,0,0] Assertion `idx_dim >= 0 && idx_dim < index_size && \"index out of bounds\"` failed.\n",
      "../aten/src/ATen/native/cuda/ScatterGatherKernel.cu:365: operator(): block: [3,0,0], thread: [26,0,0] Assertion `idx_dim >= 0 && idx_dim < index_size && \"index out of bounds\"` failed.\n",
      "../aten/src/ATen/native/cuda/ScatterGatherKernel.cu:365: operator(): block: [3,0,0], thread: [27,0,0] Assertion `idx_dim >= 0 && idx_dim < index_size && \"index out of bounds\"` failed.\n",
      "../aten/src/ATen/native/cuda/ScatterGatherKernel.cu:365: operator(): block: [3,0,0], thread: [28,0,0] Assertion `idx_dim >= 0 && idx_dim < index_size && \"index out of bounds\"` failed.\n",
      "../aten/src/ATen/native/cuda/ScatterGatherKernel.cu:365: operator(): block: [3,0,0], thread: [29,0,0] Assertion `idx_dim >= 0 && idx_dim < index_size && \"index out of bounds\"` failed.\n",
      "../aten/src/ATen/native/cuda/ScatterGatherKernel.cu:365: operator(): block: [3,0,0], thread: [30,0,0] Assertion `idx_dim >= 0 && idx_dim < index_size && \"index out of bounds\"` failed.\n",
      "../aten/src/ATen/native/cuda/ScatterGatherKernel.cu:365: operator(): block: [3,0,0], thread: [31,0,0] Assertion `idx_dim >= 0 && idx_dim < index_size && \"index out of bounds\"` failed.\n",
      "../aten/src/ATen/native/cuda/ScatterGatherKernel.cu:365: operator(): block: [0,0,0], thread: [64,0,0] Assertion `idx_dim >= 0 && idx_dim < index_size && \"index out of bounds\"` failed.\n",
      "../aten/src/ATen/native/cuda/ScatterGatherKernel.cu:365: operator(): block: [0,0,0], thread: [65,0,0] Assertion `idx_dim >= 0 && idx_dim < index_size && \"index out of bounds\"` failed.\n",
      "../aten/src/ATen/native/cuda/ScatterGatherKernel.cu:365: operator(): block: [0,0,0], thread: [66,0,0] Assertion `idx_dim >= 0 && idx_dim < index_size && \"index out of bounds\"` failed.\n",
      "../aten/src/ATen/native/cuda/ScatterGatherKernel.cu:365: operator(): block: [0,0,0], thread: [67,0,0] Assertion `idx_dim >= 0 && idx_dim < index_size && \"index out of bounds\"` failed.\n",
      "../aten/src/ATen/native/cuda/ScatterGatherKernel.cu:365: operator(): block: [0,0,0], thread: [68,0,0] Assertion `idx_dim >= 0 && idx_dim < index_size && \"index out of bounds\"` failed.\n",
      "../aten/src/ATen/native/cuda/ScatterGatherKernel.cu:365: operator(): block: [0,0,0], thread: [69,0,0] Assertion `idx_dim >= 0 && idx_dim < index_size && \"index out of bounds\"` failed.\n",
      "../aten/src/ATen/native/cuda/ScatterGatherKernel.cu:365: operator(): block: [0,0,0], thread: [70,0,0] Assertion `idx_dim >= 0 && idx_dim < index_size && \"index out of bounds\"` failed.\n",
      "../aten/src/ATen/native/cuda/ScatterGatherKernel.cu:365: operator(): block: [0,0,0], thread: [71,0,0] Assertion `idx_dim >= 0 && idx_dim < index_size && \"index out of bounds\"` failed.\n",
      "../aten/src/ATen/native/cuda/ScatterGatherKernel.cu:365: operator(): block: [0,0,0], thread: [72,0,0] Assertion `idx_dim >= 0 && idx_dim < index_size && \"index out of bounds\"` failed.\n",
      "../aten/src/ATen/native/cuda/ScatterGatherKernel.cu:365: operator(): block: [0,0,0], thread: [73,0,0] Assertion `idx_dim >= 0 && idx_dim < index_size && \"index out of bounds\"` failed.\n",
      "../aten/src/ATen/native/cuda/ScatterGatherKernel.cu:365: operator(): block: [0,0,0], thread: [74,0,0] Assertion `idx_dim >= 0 && idx_dim < index_size && \"index out of bounds\"` failed.\n",
      "../aten/src/ATen/native/cuda/ScatterGatherKernel.cu:365: operator(): block: [0,0,0], thread: [75,0,0] Assertion `idx_dim >= 0 && idx_dim < index_size && \"index out of bounds\"` failed.\n",
      "../aten/src/ATen/native/cuda/ScatterGatherKernel.cu:365: operator(): block: [0,0,0], thread: [76,0,0] Assertion `idx_dim >= 0 && idx_dim < index_size && \"index out of bounds\"` failed.\n",
      "../aten/src/ATen/native/cuda/ScatterGatherKernel.cu:365: operator(): block: [0,0,0], thread: [77,0,0] Assertion `idx_dim >= 0 && idx_dim < index_size && \"index out of bounds\"` failed.\n",
      "../aten/src/ATen/native/cuda/ScatterGatherKernel.cu:365: operator(): block: [0,0,0], thread: [78,0,0] Assertion `idx_dim >= 0 && idx_dim < index_size && \"index out of bounds\"` failed.\n",
      "../aten/src/ATen/native/cuda/ScatterGatherKernel.cu:365: operator(): block: [0,0,0], thread: [79,0,0] Assertion `idx_dim >= 0 && idx_dim < index_size && \"index out of bounds\"` failed.\n",
      "../aten/src/ATen/native/cuda/ScatterGatherKernel.cu:365: operator(): block: [0,0,0], thread: [80,0,0] Assertion `idx_dim >= 0 && idx_dim < index_size && \"index out of bounds\"` failed.\n",
      "../aten/src/ATen/native/cuda/ScatterGatherKernel.cu:365: operator(): block: [0,0,0], thread: [81,0,0] Assertion `idx_dim >= 0 && idx_dim < index_size && \"index out of bounds\"` failed.\n",
      "../aten/src/ATen/native/cuda/ScatterGatherKernel.cu:365: operator(): block: [0,0,0], thread: [82,0,0] Assertion `idx_dim >= 0 && idx_dim < index_size && \"index out of bounds\"` failed.\n",
      "../aten/src/ATen/native/cuda/ScatterGatherKernel.cu:365: operator(): block: [0,0,0], thread: [83,0,0] Assertion `idx_dim >= 0 && idx_dim < index_size && \"index out of bounds\"` failed.\n",
      "../aten/src/ATen/native/cuda/ScatterGatherKernel.cu:365: operator(): block: [0,0,0], thread: [84,0,0] Assertion `idx_dim >= 0 && idx_dim < index_size && \"index out of bounds\"` failed.\n",
      "../aten/src/ATen/native/cuda/ScatterGatherKernel.cu:365: operator(): block: [0,0,0], thread: [85,0,0] Assertion `idx_dim >= 0 && idx_dim < index_size && \"index out of bounds\"` failed.\n",
      "../aten/src/ATen/native/cuda/ScatterGatherKernel.cu:365: operator(): block: [0,0,0], thread: [86,0,0] Assertion `idx_dim >= 0 && idx_dim < index_size && \"index out of bounds\"` failed.\n",
      "../aten/src/ATen/native/cuda/ScatterGatherKernel.cu:365: operator(): block: [0,0,0], thread: [87,0,0] Assertion `idx_dim >= 0 && idx_dim < index_size && \"index out of bounds\"` failed.\n",
      "../aten/src/ATen/native/cuda/ScatterGatherKernel.cu:365: operator(): block: [0,0,0], thread: [88,0,0] Assertion `idx_dim >= 0 && idx_dim < index_size && \"index out of bounds\"` failed.\n",
      "../aten/src/ATen/native/cuda/ScatterGatherKernel.cu:365: operator(): block: [0,0,0], thread: [89,0,0] Assertion `idx_dim >= 0 && idx_dim < index_size && \"index out of bounds\"` failed.\n",
      "../aten/src/ATen/native/cuda/ScatterGatherKernel.cu:365: operator(): block: [0,0,0], thread: [90,0,0] Assertion `idx_dim >= 0 && idx_dim < index_size && \"index out of bounds\"` failed.\n",
      "../aten/src/ATen/native/cuda/ScatterGatherKernel.cu:365: operator(): block: [0,0,0], thread: [91,0,0] Assertion `idx_dim >= 0 && idx_dim < index_size && \"index out of bounds\"` failed.\n",
      "../aten/src/ATen/native/cuda/ScatterGatherKernel.cu:365: operator(): block: [0,0,0], thread: [92,0,0] Assertion `idx_dim >= 0 && idx_dim < index_size && \"index out of bounds\"` failed.\n",
      "../aten/src/ATen/native/cuda/ScatterGatherKernel.cu:365: operator(): block: [0,0,0], thread: [93,0,0] Assertion `idx_dim >= 0 && idx_dim < index_size && \"index out of bounds\"` failed.\n",
      "../aten/src/ATen/native/cuda/ScatterGatherKernel.cu:365: operator(): block: [0,0,0], thread: [94,0,0] Assertion `idx_dim >= 0 && idx_dim < index_size && \"index out of bounds\"` failed.\n",
      "../aten/src/ATen/native/cuda/ScatterGatherKernel.cu:365: operator(): block: [0,0,0], thread: [95,0,0] Assertion `idx_dim >= 0 && idx_dim < index_size && \"index out of bounds\"` failed.\n",
      "../aten/src/ATen/native/cuda/ScatterGatherKernel.cu:365: operator(): block: [0,0,0], thread: [32,0,0] Assertion `idx_dim >= 0 && idx_dim < index_size && \"index out of bounds\"` failed.\n",
      "../aten/src/ATen/native/cuda/ScatterGatherKernel.cu:365: operator(): block: [0,0,0], thread: [33,0,0] Assertion `idx_dim >= 0 && idx_dim < index_size && \"index out of bounds\"` failed.\n",
      "../aten/src/ATen/native/cuda/ScatterGatherKernel.cu:365: operator(): block: [0,0,0], thread: [34,0,0] Assertion `idx_dim >= 0 && idx_dim < index_size && \"index out of bounds\"` failed.\n",
      "../aten/src/ATen/native/cuda/ScatterGatherKernel.cu:365: operator(): block: [0,0,0], thread: [35,0,0] Assertion `idx_dim >= 0 && idx_dim < index_size && \"index out of bounds\"` failed.\n",
      "../aten/src/ATen/native/cuda/ScatterGatherKernel.cu:365: operator(): block: [0,0,0], thread: [36,0,0] Assertion `idx_dim >= 0 && idx_dim < index_size && \"index out of bounds\"` failed.\n",
      "../aten/src/ATen/native/cuda/ScatterGatherKernel.cu:365: operator(): block: [0,0,0], thread: [37,0,0] Assertion `idx_dim >= 0 && idx_dim < index_size && \"index out of bounds\"` failed.\n",
      "../aten/src/ATen/native/cuda/ScatterGatherKernel.cu:365: operator(): block: [0,0,0], thread: [38,0,0] Assertion `idx_dim >= 0 && idx_dim < index_size && \"index out of bounds\"` failed.\n",
      "../aten/src/ATen/native/cuda/ScatterGatherKernel.cu:365: operator(): block: [0,0,0], thread: [39,0,0] Assertion `idx_dim >= 0 && idx_dim < index_size && \"index out of bounds\"` failed.\n",
      "../aten/src/ATen/native/cuda/ScatterGatherKernel.cu:365: operator(): block: [0,0,0], thread: [40,0,0] Assertion `idx_dim >= 0 && idx_dim < index_size && \"index out of bounds\"` failed.\n",
      "../aten/src/ATen/native/cuda/ScatterGatherKernel.cu:365: operator(): block: [0,0,0], thread: [41,0,0] Assertion `idx_dim >= 0 && idx_dim < index_size && \"index out of bounds\"` failed.\n",
      "../aten/src/ATen/native/cuda/ScatterGatherKernel.cu:365: operator(): block: [0,0,0], thread: [42,0,0] Assertion `idx_dim >= 0 && idx_dim < index_size && \"index out of bounds\"` failed.\n",
      "../aten/src/ATen/native/cuda/ScatterGatherKernel.cu:365: operator(): block: [0,0,0], thread: [43,0,0] Assertion `idx_dim >= 0 && idx_dim < index_size && \"index out of bounds\"` failed.\n",
      "../aten/src/ATen/native/cuda/ScatterGatherKernel.cu:365: operator(): block: [0,0,0], thread: [44,0,0] Assertion `idx_dim >= 0 && idx_dim < index_size && \"index out of bounds\"` failed.\n",
      "../aten/src/ATen/native/cuda/ScatterGatherKernel.cu:365: operator(): block: [0,0,0], thread: [45,0,0] Assertion `idx_dim >= 0 && idx_dim < index_size && \"index out of bounds\"` failed.\n",
      "../aten/src/ATen/native/cuda/ScatterGatherKernel.cu:365: operator(): block: [0,0,0], thread: [46,0,0] Assertion `idx_dim >= 0 && idx_dim < index_size && \"index out of bounds\"` failed.\n",
      "../aten/src/ATen/native/cuda/ScatterGatherKernel.cu:365: operator(): block: [0,0,0], thread: [47,0,0] Assertion `idx_dim >= 0 && idx_dim < index_size && \"index out of bounds\"` failed.\n",
      "../aten/src/ATen/native/cuda/ScatterGatherKernel.cu:365: operator(): block: [0,0,0], thread: [48,0,0] Assertion `idx_dim >= 0 && idx_dim < index_size && \"index out of bounds\"` failed.\n",
      "../aten/src/ATen/native/cuda/ScatterGatherKernel.cu:365: operator(): block: [0,0,0], thread: [49,0,0] Assertion `idx_dim >= 0 && idx_dim < index_size && \"index out of bounds\"` failed.\n",
      "../aten/src/ATen/native/cuda/ScatterGatherKernel.cu:365: operator(): block: [0,0,0], thread: [50,0,0] Assertion `idx_dim >= 0 && idx_dim < index_size && \"index out of bounds\"` failed.\n",
      "../aten/src/ATen/native/cuda/ScatterGatherKernel.cu:365: operator(): block: [0,0,0], thread: [51,0,0] Assertion `idx_dim >= 0 && idx_dim < index_size && \"index out of bounds\"` failed.\n",
      "../aten/src/ATen/native/cuda/ScatterGatherKernel.cu:365: operator(): block: [0,0,0], thread: [52,0,0] Assertion `idx_dim >= 0 && idx_dim < index_size && \"index out of bounds\"` failed.\n",
      "../aten/src/ATen/native/cuda/ScatterGatherKernel.cu:365: operator(): block: [0,0,0], thread: [53,0,0] Assertion `idx_dim >= 0 && idx_dim < index_size && \"index out of bounds\"` failed.\n",
      "../aten/src/ATen/native/cuda/ScatterGatherKernel.cu:365: operator(): block: [0,0,0], thread: [54,0,0] Assertion `idx_dim >= 0 && idx_dim < index_size && \"index out of bounds\"` failed.\n",
      "../aten/src/ATen/native/cuda/ScatterGatherKernel.cu:365: operator(): block: [0,0,0], thread: [55,0,0] Assertion `idx_dim >= 0 && idx_dim < index_size && \"index out of bounds\"` failed.\n",
      "../aten/src/ATen/native/cuda/ScatterGatherKernel.cu:365: operator(): block: [0,0,0], thread: [56,0,0] Assertion `idx_dim >= 0 && idx_dim < index_size && \"index out of bounds\"` failed.\n",
      "../aten/src/ATen/native/cuda/ScatterGatherKernel.cu:365: operator(): block: [0,0,0], thread: [57,0,0] Assertion `idx_dim >= 0 && idx_dim < index_size && \"index out of bounds\"` failed.\n",
      "../aten/src/ATen/native/cuda/ScatterGatherKernel.cu:365: operator(): block: [0,0,0], thread: [58,0,0] Assertion `idx_dim >= 0 && idx_dim < index_size && \"index out of bounds\"` failed.\n",
      "../aten/src/ATen/native/cuda/ScatterGatherKernel.cu:365: operator(): block: [0,0,0], thread: [59,0,0] Assertion `idx_dim >= 0 && idx_dim < index_size && \"index out of bounds\"` failed.\n",
      "../aten/src/ATen/native/cuda/ScatterGatherKernel.cu:365: operator(): block: [0,0,0], thread: [60,0,0] Assertion `idx_dim >= 0 && idx_dim < index_size && \"index out of bounds\"` failed.\n",
      "../aten/src/ATen/native/cuda/ScatterGatherKernel.cu:365: operator(): block: [0,0,0], thread: [61,0,0] Assertion `idx_dim >= 0 && idx_dim < index_size && \"index out of bounds\"` failed.\n",
      "../aten/src/ATen/native/cuda/ScatterGatherKernel.cu:365: operator(): block: [0,0,0], thread: [62,0,0] Assertion `idx_dim >= 0 && idx_dim < index_size && \"index out of bounds\"` failed.\n",
      "../aten/src/ATen/native/cuda/ScatterGatherKernel.cu:365: operator(): block: [0,0,0], thread: [63,0,0] Assertion `idx_dim >= 0 && idx_dim < index_size && \"index out of bounds\"` failed.\n",
      "../aten/src/ATen/native/cuda/ScatterGatherKernel.cu:365: operator(): block: [0,0,0], thread: [96,0,0] Assertion `idx_dim >= 0 && idx_dim < index_size && \"index out of bounds\"` failed.\n",
      "../aten/src/ATen/native/cuda/ScatterGatherKernel.cu:365: operator(): block: [0,0,0], thread: [97,0,0] Assertion `idx_dim >= 0 && idx_dim < index_size && \"index out of bounds\"` failed.\n",
      "../aten/src/ATen/native/cuda/ScatterGatherKernel.cu:365: operator(): block: [0,0,0], thread: [98,0,0] Assertion `idx_dim >= 0 && idx_dim < index_size && \"index out of bounds\"` failed.\n",
      "../aten/src/ATen/native/cuda/ScatterGatherKernel.cu:365: operator(): block: [0,0,0], thread: [99,0,0] Assertion `idx_dim >= 0 && idx_dim < index_size && \"index out of bounds\"` failed.\n",
      "../aten/src/ATen/native/cuda/ScatterGatherKernel.cu:365: operator(): block: [0,0,0], thread: [100,0,0] Assertion `idx_dim >= 0 && idx_dim < index_size && \"index out of bounds\"` failed.\n",
      "../aten/src/ATen/native/cuda/ScatterGatherKernel.cu:365: operator(): block: [0,0,0], thread: [101,0,0] Assertion `idx_dim >= 0 && idx_dim < index_size && \"index out of bounds\"` failed.\n",
      "../aten/src/ATen/native/cuda/ScatterGatherKernel.cu:365: operator(): block: [0,0,0], thread: [102,0,0] Assertion `idx_dim >= 0 && idx_dim < index_size && \"index out of bounds\"` failed.\n",
      "../aten/src/ATen/native/cuda/ScatterGatherKernel.cu:365: operator(): block: [0,0,0], thread: [103,0,0] Assertion `idx_dim >= 0 && idx_dim < index_size && \"index out of bounds\"` failed.\n",
      "../aten/src/ATen/native/cuda/ScatterGatherKernel.cu:365: operator(): block: [0,0,0], thread: [104,0,0] Assertion `idx_dim >= 0 && idx_dim < index_size && \"index out of bounds\"` failed.\n",
      "../aten/src/ATen/native/cuda/ScatterGatherKernel.cu:365: operator(): block: [0,0,0], thread: [105,0,0] Assertion `idx_dim >= 0 && idx_dim < index_size && \"index out of bounds\"` failed.\n",
      "../aten/src/ATen/native/cuda/ScatterGatherKernel.cu:365: operator(): block: [0,0,0], thread: [106,0,0] Assertion `idx_dim >= 0 && idx_dim < index_size && \"index out of bounds\"` failed.\n",
      "../aten/src/ATen/native/cuda/ScatterGatherKernel.cu:365: operator(): block: [0,0,0], thread: [107,0,0] Assertion `idx_dim >= 0 && idx_dim < index_size && \"index out of bounds\"` failed.\n",
      "../aten/src/ATen/native/cuda/ScatterGatherKernel.cu:365: operator(): block: [0,0,0], thread: [108,0,0] Assertion `idx_dim >= 0 && idx_dim < index_size && \"index out of bounds\"` failed.\n",
      "../aten/src/ATen/native/cuda/ScatterGatherKernel.cu:365: operator(): block: [0,0,0], thread: [109,0,0] Assertion `idx_dim >= 0 && idx_dim < index_size && \"index out of bounds\"` failed.\n",
      "../aten/src/ATen/native/cuda/ScatterGatherKernel.cu:365: operator(): block: [0,0,0], thread: [110,0,0] Assertion `idx_dim >= 0 && idx_dim < index_size && \"index out of bounds\"` failed.\n",
      "../aten/src/ATen/native/cuda/ScatterGatherKernel.cu:365: operator(): block: [0,0,0], thread: [111,0,0] Assertion `idx_dim >= 0 && idx_dim < index_size && \"index out of bounds\"` failed.\n",
      "../aten/src/ATen/native/cuda/ScatterGatherKernel.cu:365: operator(): block: [0,0,0], thread: [112,0,0] Assertion `idx_dim >= 0 && idx_dim < index_size && \"index out of bounds\"` failed.\n",
      "../aten/src/ATen/native/cuda/ScatterGatherKernel.cu:365: operator(): block: [0,0,0], thread: [113,0,0] Assertion `idx_dim >= 0 && idx_dim < index_size && \"index out of bounds\"` failed.\n",
      "../aten/src/ATen/native/cuda/ScatterGatherKernel.cu:365: operator(): block: [0,0,0], thread: [114,0,0] Assertion `idx_dim >= 0 && idx_dim < index_size && \"index out of bounds\"` failed.\n",
      "../aten/src/ATen/native/cuda/ScatterGatherKernel.cu:365: operator(): block: [0,0,0], thread: [115,0,0] Assertion `idx_dim >= 0 && idx_dim < index_size && \"index out of bounds\"` failed.\n",
      "../aten/src/ATen/native/cuda/ScatterGatherKernel.cu:365: operator(): block: [0,0,0], thread: [116,0,0] Assertion `idx_dim >= 0 && idx_dim < index_size && \"index out of bounds\"` failed.\n",
      "../aten/src/ATen/native/cuda/ScatterGatherKernel.cu:365: operator(): block: [0,0,0], thread: [117,0,0] Assertion `idx_dim >= 0 && idx_dim < index_size && \"index out of bounds\"` failed.\n",
      "../aten/src/ATen/native/cuda/ScatterGatherKernel.cu:365: operator(): block: [0,0,0], thread: [118,0,0] Assertion `idx_dim >= 0 && idx_dim < index_size && \"index out of bounds\"` failed.\n",
      "../aten/src/ATen/native/cuda/ScatterGatherKernel.cu:365: operator(): block: [0,0,0], thread: [119,0,0] Assertion `idx_dim >= 0 && idx_dim < index_size && \"index out of bounds\"` failed.\n",
      "../aten/src/ATen/native/cuda/ScatterGatherKernel.cu:365: operator(): block: [0,0,0], thread: [120,0,0] Assertion `idx_dim >= 0 && idx_dim < index_size && \"index out of bounds\"` failed.\n",
      "../aten/src/ATen/native/cuda/ScatterGatherKernel.cu:365: operator(): block: [0,0,0], thread: [121,0,0] Assertion `idx_dim >= 0 && idx_dim < index_size && \"index out of bounds\"` failed.\n",
      "../aten/src/ATen/native/cuda/ScatterGatherKernel.cu:365: operator(): block: [0,0,0], thread: [122,0,0] Assertion `idx_dim >= 0 && idx_dim < index_size && \"index out of bounds\"` failed.\n",
      "../aten/src/ATen/native/cuda/ScatterGatherKernel.cu:365: operator(): block: [0,0,0], thread: [123,0,0] Assertion `idx_dim >= 0 && idx_dim < index_size && \"index out of bounds\"` failed.\n",
      "../aten/src/ATen/native/cuda/ScatterGatherKernel.cu:365: operator(): block: [0,0,0], thread: [124,0,0] Assertion `idx_dim >= 0 && idx_dim < index_size && \"index out of bounds\"` failed.\n",
      "../aten/src/ATen/native/cuda/ScatterGatherKernel.cu:365: operator(): block: [0,0,0], thread: [125,0,0] Assertion `idx_dim >= 0 && idx_dim < index_size && \"index out of bounds\"` failed.\n",
      "../aten/src/ATen/native/cuda/ScatterGatherKernel.cu:365: operator(): block: [0,0,0], thread: [126,0,0] Assertion `idx_dim >= 0 && idx_dim < index_size && \"index out of bounds\"` failed.\n",
      "../aten/src/ATen/native/cuda/ScatterGatherKernel.cu:365: operator(): block: [0,0,0], thread: [127,0,0] Assertion `idx_dim >= 0 && idx_dim < index_size && \"index out of bounds\"` failed.\n",
      "../aten/src/ATen/native/cuda/ScatterGatherKernel.cu:365: operator(): block: [0,0,0], thread: [0,0,0] Assertion `idx_dim >= 0 && idx_dim < index_size && \"index out of bounds\"` failed.\n",
      "../aten/src/ATen/native/cuda/ScatterGatherKernel.cu:365: operator(): block: [0,0,0], thread: [1,0,0] Assertion `idx_dim >= 0 && idx_dim < index_size && \"index out of bounds\"` failed.\n",
      "../aten/src/ATen/native/cuda/ScatterGatherKernel.cu:365: operator(): block: [0,0,0], thread: [2,0,0] Assertion `idx_dim >= 0 && idx_dim < index_size && \"index out of bounds\"` failed.\n",
      "../aten/src/ATen/native/cuda/ScatterGatherKernel.cu:365: operator(): block: [0,0,0], thread: [3,0,0] Assertion `idx_dim >= 0 && idx_dim < index_size && \"index out of bounds\"` failed.\n",
      "../aten/src/ATen/native/cuda/ScatterGatherKernel.cu:365: operator(): block: [0,0,0], thread: [4,0,0] Assertion `idx_dim >= 0 && idx_dim < index_size && \"index out of bounds\"` failed.\n",
      "../aten/src/ATen/native/cuda/ScatterGatherKernel.cu:365: operator(): block: [0,0,0], thread: [5,0,0] Assertion `idx_dim >= 0 && idx_dim < index_size && \"index out of bounds\"` failed.\n",
      "../aten/src/ATen/native/cuda/ScatterGatherKernel.cu:365: operator(): block: [0,0,0], thread: [6,0,0] Assertion `idx_dim >= 0 && idx_dim < index_size && \"index out of bounds\"` failed.\n",
      "../aten/src/ATen/native/cuda/ScatterGatherKernel.cu:365: operator(): block: [0,0,0], thread: [7,0,0] Assertion `idx_dim >= 0 && idx_dim < index_size && \"index out of bounds\"` failed.\n",
      "../aten/src/ATen/native/cuda/ScatterGatherKernel.cu:365: operator(): block: [0,0,0], thread: [8,0,0] Assertion `idx_dim >= 0 && idx_dim < index_size && \"index out of bounds\"` failed.\n",
      "../aten/src/ATen/native/cuda/ScatterGatherKernel.cu:365: operator(): block: [0,0,0], thread: [9,0,0] Assertion `idx_dim >= 0 && idx_dim < index_size && \"index out of bounds\"` failed.\n",
      "../aten/src/ATen/native/cuda/ScatterGatherKernel.cu:365: operator(): block: [0,0,0], thread: [10,0,0] Assertion `idx_dim >= 0 && idx_dim < index_size && \"index out of bounds\"` failed.\n",
      "../aten/src/ATen/native/cuda/ScatterGatherKernel.cu:365: operator(): block: [0,0,0], thread: [11,0,0] Assertion `idx_dim >= 0 && idx_dim < index_size && \"index out of bounds\"` failed.\n",
      "../aten/src/ATen/native/cuda/ScatterGatherKernel.cu:365: operator(): block: [0,0,0], thread: [12,0,0] Assertion `idx_dim >= 0 && idx_dim < index_size && \"index out of bounds\"` failed.\n",
      "../aten/src/ATen/native/cuda/ScatterGatherKernel.cu:365: operator(): block: [0,0,0], thread: [13,0,0] Assertion `idx_dim >= 0 && idx_dim < index_size && \"index out of bounds\"` failed.\n",
      "../aten/src/ATen/native/cuda/ScatterGatherKernel.cu:365: operator(): block: [0,0,0], thread: [14,0,0] Assertion `idx_dim >= 0 && idx_dim < index_size && \"index out of bounds\"` failed.\n",
      "../aten/src/ATen/native/cuda/ScatterGatherKernel.cu:365: operator(): block: [0,0,0], thread: [15,0,0] Assertion `idx_dim >= 0 && idx_dim < index_size && \"index out of bounds\"` failed.\n",
      "../aten/src/ATen/native/cuda/ScatterGatherKernel.cu:365: operator(): block: [0,0,0], thread: [16,0,0] Assertion `idx_dim >= 0 && idx_dim < index_size && \"index out of bounds\"` failed.\n",
      "../aten/src/ATen/native/cuda/ScatterGatherKernel.cu:365: operator(): block: [0,0,0], thread: [17,0,0] Assertion `idx_dim >= 0 && idx_dim < index_size && \"index out of bounds\"` failed.\n",
      "../aten/src/ATen/native/cuda/ScatterGatherKernel.cu:365: operator(): block: [0,0,0], thread: [18,0,0] Assertion `idx_dim >= 0 && idx_dim < index_size && \"index out of bounds\"` failed.\n",
      "../aten/src/ATen/native/cuda/ScatterGatherKernel.cu:365: operator(): block: [0,0,0], thread: [19,0,0] Assertion `idx_dim >= 0 && idx_dim < index_size && \"index out of bounds\"` failed.\n",
      "../aten/src/ATen/native/cuda/ScatterGatherKernel.cu:365: operator(): block: [0,0,0], thread: [20,0,0] Assertion `idx_dim >= 0 && idx_dim < index_size && \"index out of bounds\"` failed.\n",
      "../aten/src/ATen/native/cuda/ScatterGatherKernel.cu:365: operator(): block: [0,0,0], thread: [21,0,0] Assertion `idx_dim >= 0 && idx_dim < index_size && \"index out of bounds\"` failed.\n",
      "../aten/src/ATen/native/cuda/ScatterGatherKernel.cu:365: operator(): block: [0,0,0], thread: [22,0,0] Assertion `idx_dim >= 0 && idx_dim < index_size && \"index out of bounds\"` failed.\n",
      "../aten/src/ATen/native/cuda/ScatterGatherKernel.cu:365: operator(): block: [0,0,0], thread: [23,0,0] Assertion `idx_dim >= 0 && idx_dim < index_size && \"index out of bounds\"` failed.\n",
      "../aten/src/ATen/native/cuda/ScatterGatherKernel.cu:365: operator(): block: [0,0,0], thread: [24,0,0] Assertion `idx_dim >= 0 && idx_dim < index_size && \"index out of bounds\"` failed.\n",
      "../aten/src/ATen/native/cuda/ScatterGatherKernel.cu:365: operator(): block: [0,0,0], thread: [25,0,0] Assertion `idx_dim >= 0 && idx_dim < index_size && \"index out of bounds\"` failed.\n",
      "../aten/src/ATen/native/cuda/ScatterGatherKernel.cu:365: operator(): block: [0,0,0], thread: [26,0,0] Assertion `idx_dim >= 0 && idx_dim < index_size && \"index out of bounds\"` failed.\n",
      "../aten/src/ATen/native/cuda/ScatterGatherKernel.cu:365: operator(): block: [0,0,0], thread: [27,0,0] Assertion `idx_dim >= 0 && idx_dim < index_size && \"index out of bounds\"` failed.\n",
      "../aten/src/ATen/native/cuda/ScatterGatherKernel.cu:365: operator(): block: [0,0,0], thread: [28,0,0] Assertion `idx_dim >= 0 && idx_dim < index_size && \"index out of bounds\"` failed.\n",
      "../aten/src/ATen/native/cuda/ScatterGatherKernel.cu:365: operator(): block: [0,0,0], thread: [29,0,0] Assertion `idx_dim >= 0 && idx_dim < index_size && \"index out of bounds\"` failed.\n",
      "../aten/src/ATen/native/cuda/ScatterGatherKernel.cu:365: operator(): block: [0,0,0], thread: [30,0,0] Assertion `idx_dim >= 0 && idx_dim < index_size && \"index out of bounds\"` failed.\n",
      "../aten/src/ATen/native/cuda/ScatterGatherKernel.cu:365: operator(): block: [0,0,0], thread: [31,0,0] Assertion `idx_dim >= 0 && idx_dim < index_size && \"index out of bounds\"` failed.\n",
      "../aten/src/ATen/native/cuda/ScatterGatherKernel.cu:365: operator(): block: [2,0,0], thread: [64,0,0] Assertion `idx_dim >= 0 && idx_dim < index_size && \"index out of bounds\"` failed.\n",
      "../aten/src/ATen/native/cuda/ScatterGatherKernel.cu:365: operator(): block: [2,0,0], thread: [65,0,0] Assertion `idx_dim >= 0 && idx_dim < index_size && \"index out of bounds\"` failed.\n",
      "../aten/src/ATen/native/cuda/ScatterGatherKernel.cu:365: operator(): block: [2,0,0], thread: [66,0,0] Assertion `idx_dim >= 0 && idx_dim < index_size && \"index out of bounds\"` failed.\n",
      "../aten/src/ATen/native/cuda/ScatterGatherKernel.cu:365: operator(): block: [2,0,0], thread: [67,0,0] Assertion `idx_dim >= 0 && idx_dim < index_size && \"index out of bounds\"` failed.\n",
      "../aten/src/ATen/native/cuda/ScatterGatherKernel.cu:365: operator(): block: [2,0,0], thread: [68,0,0] Assertion `idx_dim >= 0 && idx_dim < index_size && \"index out of bounds\"` failed.\n",
      "../aten/src/ATen/native/cuda/ScatterGatherKernel.cu:365: operator(): block: [2,0,0], thread: [72,0,0] Assertion `idx_dim >= 0 && idx_dim < index_size && \"index out of bounds\"` failed.\n",
      "../aten/src/ATen/native/cuda/ScatterGatherKernel.cu:365: operator(): block: [2,0,0], thread: [73,0,0] Assertion `idx_dim >= 0 && idx_dim < index_size && \"index out of bounds\"` failed.\n",
      "../aten/src/ATen/native/cuda/ScatterGatherKernel.cu:365: operator(): block: [2,0,0], thread: [74,0,0] Assertion `idx_dim >= 0 && idx_dim < index_size && \"index out of bounds\"` failed.\n",
      "../aten/src/ATen/native/cuda/ScatterGatherKernel.cu:365: operator(): block: [2,0,0], thread: [75,0,0] Assertion `idx_dim >= 0 && idx_dim < index_size && \"index out of bounds\"` failed.\n",
      "../aten/src/ATen/native/cuda/ScatterGatherKernel.cu:365: operator(): block: [2,0,0], thread: [76,0,0] Assertion `idx_dim >= 0 && idx_dim < index_size && \"index out of bounds\"` failed.\n",
      "../aten/src/ATen/native/cuda/ScatterGatherKernel.cu:365: operator(): block: [2,0,0], thread: [77,0,0] Assertion `idx_dim >= 0 && idx_dim < index_size && \"index out of bounds\"` failed.\n",
      "../aten/src/ATen/native/cuda/ScatterGatherKernel.cu:365: operator(): block: [2,0,0], thread: [78,0,0] Assertion `idx_dim >= 0 && idx_dim < index_size && \"index out of bounds\"` failed.\n",
      "../aten/src/ATen/native/cuda/ScatterGatherKernel.cu:365: operator(): block: [2,0,0], thread: [79,0,0] Assertion `idx_dim >= 0 && idx_dim < index_size && \"index out of bounds\"` failed.\n",
      "../aten/src/ATen/native/cuda/ScatterGatherKernel.cu:365: operator(): block: [2,0,0], thread: [80,0,0] Assertion `idx_dim >= 0 && idx_dim < index_size && \"index out of bounds\"` failed.\n",
      "../aten/src/ATen/native/cuda/ScatterGatherKernel.cu:365: operator(): block: [2,0,0], thread: [81,0,0] Assertion `idx_dim >= 0 && idx_dim < index_size && \"index out of bounds\"` failed.\n",
      "../aten/src/ATen/native/cuda/ScatterGatherKernel.cu:365: operator(): block: [2,0,0], thread: [82,0,0] Assertion `idx_dim >= 0 && idx_dim < index_size && \"index out of bounds\"` failed.\n",
      "../aten/src/ATen/native/cuda/ScatterGatherKernel.cu:365: operator(): block: [2,0,0], thread: [83,0,0] Assertion `idx_dim >= 0 && idx_dim < index_size && \"index out of bounds\"` failed.\n",
      "../aten/src/ATen/native/cuda/ScatterGatherKernel.cu:365: operator(): block: [2,0,0], thread: [84,0,0] Assertion `idx_dim >= 0 && idx_dim < index_size && \"index out of bounds\"` failed.\n",
      "../aten/src/ATen/native/cuda/ScatterGatherKernel.cu:365: operator(): block: [2,0,0], thread: [85,0,0] Assertion `idx_dim >= 0 && idx_dim < index_size && \"index out of bounds\"` failed.\n",
      "../aten/src/ATen/native/cuda/ScatterGatherKernel.cu:365: operator(): block: [2,0,0], thread: [86,0,0] Assertion `idx_dim >= 0 && idx_dim < index_size && \"index out of bounds\"` failed.\n",
      "../aten/src/ATen/native/cuda/ScatterGatherKernel.cu:365: operator(): block: [2,0,0], thread: [87,0,0] Assertion `idx_dim >= 0 && idx_dim < index_size && \"index out of bounds\"` failed.\n",
      "../aten/src/ATen/native/cuda/ScatterGatherKernel.cu:365: operator(): block: [2,0,0], thread: [88,0,0] Assertion `idx_dim >= 0 && idx_dim < index_size && \"index out of bounds\"` failed.\n",
      "../aten/src/ATen/native/cuda/ScatterGatherKernel.cu:365: operator(): block: [2,0,0], thread: [89,0,0] Assertion `idx_dim >= 0 && idx_dim < index_size && \"index out of bounds\"` failed.\n",
      "../aten/src/ATen/native/cuda/ScatterGatherKernel.cu:365: operator(): block: [2,0,0], thread: [93,0,0] Assertion `idx_dim >= 0 && idx_dim < index_size && \"index out of bounds\"` failed.\n",
      "../aten/src/ATen/native/cuda/ScatterGatherKernel.cu:365: operator(): block: [2,0,0], thread: [94,0,0] Assertion `idx_dim >= 0 && idx_dim < index_size && \"index out of bounds\"` failed.\n",
      "../aten/src/ATen/native/cuda/ScatterGatherKernel.cu:365: operator(): block: [2,0,0], thread: [95,0,0] Assertion `idx_dim >= 0 && idx_dim < index_size && \"index out of bounds\"` failed.\n",
      "../aten/src/ATen/native/cuda/ScatterGatherKernel.cu:365: operator(): block: [2,0,0], thread: [96,0,0] Assertion `idx_dim >= 0 && idx_dim < index_size && \"index out of bounds\"` failed.\n",
      "../aten/src/ATen/native/cuda/ScatterGatherKernel.cu:365: operator(): block: [2,0,0], thread: [97,0,0] Assertion `idx_dim >= 0 && idx_dim < index_size && \"index out of bounds\"` failed.\n",
      "../aten/src/ATen/native/cuda/ScatterGatherKernel.cu:365: operator(): block: [2,0,0], thread: [98,0,0] Assertion `idx_dim >= 0 && idx_dim < index_size && \"index out of bounds\"` failed.\n",
      "../aten/src/ATen/native/cuda/ScatterGatherKernel.cu:365: operator(): block: [2,0,0], thread: [99,0,0] Assertion `idx_dim >= 0 && idx_dim < index_size && \"index out of bounds\"` failed.\n",
      "../aten/src/ATen/native/cuda/ScatterGatherKernel.cu:365: operator(): block: [2,0,0], thread: [100,0,0] Assertion `idx_dim >= 0 && idx_dim < index_size && \"index out of bounds\"` failed.\n",
      "../aten/src/ATen/native/cuda/ScatterGatherKernel.cu:365: operator(): block: [2,0,0], thread: [101,0,0] Assertion `idx_dim >= 0 && idx_dim < index_size && \"index out of bounds\"` failed.\n",
      "../aten/src/ATen/native/cuda/ScatterGatherKernel.cu:365: operator(): block: [2,0,0], thread: [102,0,0] Assertion `idx_dim >= 0 && idx_dim < index_size && \"index out of bounds\"` failed.\n",
      "../aten/src/ATen/native/cuda/ScatterGatherKernel.cu:365: operator(): block: [2,0,0], thread: [103,0,0] Assertion `idx_dim >= 0 && idx_dim < index_size && \"index out of bounds\"` failed.\n",
      "../aten/src/ATen/native/cuda/ScatterGatherKernel.cu:365: operator(): block: [2,0,0], thread: [104,0,0] Assertion `idx_dim >= 0 && idx_dim < index_size && \"index out of bounds\"` failed.\n",
      "../aten/src/ATen/native/cuda/ScatterGatherKernel.cu:365: operator(): block: [2,0,0], thread: [105,0,0] Assertion `idx_dim >= 0 && idx_dim < index_size && \"index out of bounds\"` failed.\n",
      "../aten/src/ATen/native/cuda/ScatterGatherKernel.cu:365: operator(): block: [2,0,0], thread: [111,0,0] Assertion `idx_dim >= 0 && idx_dim < index_size && \"index out of bounds\"` failed.\n",
      "../aten/src/ATen/native/cuda/ScatterGatherKernel.cu:365: operator(): block: [2,0,0], thread: [112,0,0] Assertion `idx_dim >= 0 && idx_dim < index_size && \"index out of bounds\"` failed.\n",
      "../aten/src/ATen/native/cuda/ScatterGatherKernel.cu:365: operator(): block: [2,0,0], thread: [113,0,0] Assertion `idx_dim >= 0 && idx_dim < index_size && \"index out of bounds\"` failed.\n",
      "../aten/src/ATen/native/cuda/ScatterGatherKernel.cu:365: operator(): block: [2,0,0], thread: [114,0,0] Assertion `idx_dim >= 0 && idx_dim < index_size && \"index out of bounds\"` failed.\n",
      "../aten/src/ATen/native/cuda/ScatterGatherKernel.cu:365: operator(): block: [2,0,0], thread: [115,0,0] Assertion `idx_dim >= 0 && idx_dim < index_size && \"index out of bounds\"` failed.\n",
      "../aten/src/ATen/native/cuda/ScatterGatherKernel.cu:365: operator(): block: [2,0,0], thread: [116,0,0] Assertion `idx_dim >= 0 && idx_dim < index_size && \"index out of bounds\"` failed.\n",
      "../aten/src/ATen/native/cuda/ScatterGatherKernel.cu:365: operator(): block: [2,0,0], thread: [117,0,0] Assertion `idx_dim >= 0 && idx_dim < index_size && \"index out of bounds\"` failed.\n",
      "../aten/src/ATen/native/cuda/ScatterGatherKernel.cu:365: operator(): block: [2,0,0], thread: [118,0,0] Assertion `idx_dim >= 0 && idx_dim < index_size && \"index out of bounds\"` failed.\n",
      "../aten/src/ATen/native/cuda/ScatterGatherKernel.cu:365: operator(): block: [2,0,0], thread: [119,0,0] Assertion `idx_dim >= 0 && idx_dim < index_size && \"index out of bounds\"` failed.\n",
      "../aten/src/ATen/native/cuda/ScatterGatherKernel.cu:365: operator(): block: [2,0,0], thread: [120,0,0] Assertion `idx_dim >= 0 && idx_dim < index_size && \"index out of bounds\"` failed.\n",
      "../aten/src/ATen/native/cuda/ScatterGatherKernel.cu:365: operator(): block: [2,0,0], thread: [121,0,0] Assertion `idx_dim >= 0 && idx_dim < index_size && \"index out of bounds\"` failed.\n",
      "../aten/src/ATen/native/cuda/ScatterGatherKernel.cu:365: operator(): block: [2,0,0], thread: [122,0,0] Assertion `idx_dim >= 0 && idx_dim < index_size && \"index out of bounds\"` failed.\n",
      "../aten/src/ATen/native/cuda/ScatterGatherKernel.cu:365: operator(): block: [2,0,0], thread: [123,0,0] Assertion `idx_dim >= 0 && idx_dim < index_size && \"index out of bounds\"` failed.\n",
      "../aten/src/ATen/native/cuda/ScatterGatherKernel.cu:365: operator(): block: [2,0,0], thread: [126,0,0] Assertion `idx_dim >= 0 && idx_dim < index_size && \"index out of bounds\"` failed.\n",
      "../aten/src/ATen/native/cuda/ScatterGatherKernel.cu:365: operator(): block: [2,0,0], thread: [127,0,0] Assertion `idx_dim >= 0 && idx_dim < index_size && \"index out of bounds\"` failed.\n",
      "../aten/src/ATen/native/cuda/ScatterGatherKernel.cu:365: operator(): block: [2,0,0], thread: [32,0,0] Assertion `idx_dim >= 0 && idx_dim < index_size && \"index out of bounds\"` failed.\n",
      "../aten/src/ATen/native/cuda/ScatterGatherKernel.cu:365: operator(): block: [2,0,0], thread: [33,0,0] Assertion `idx_dim >= 0 && idx_dim < index_size && \"index out of bounds\"` failed.\n",
      "../aten/src/ATen/native/cuda/ScatterGatherKernel.cu:365: operator(): block: [2,0,0], thread: [34,0,0] Assertion `idx_dim >= 0 && idx_dim < index_size && \"index out of bounds\"` failed.\n",
      "../aten/src/ATen/native/cuda/ScatterGatherKernel.cu:365: operator(): block: [2,0,0], thread: [37,0,0] Assertion `idx_dim >= 0 && idx_dim < index_size && \"index out of bounds\"` failed.\n",
      "../aten/src/ATen/native/cuda/ScatterGatherKernel.cu:365: operator(): block: [2,0,0], thread: [38,0,0] Assertion `idx_dim >= 0 && idx_dim < index_size && \"index out of bounds\"` failed.\n",
      "../aten/src/ATen/native/cuda/ScatterGatherKernel.cu:365: operator(): block: [2,0,0], thread: [39,0,0] Assertion `idx_dim >= 0 && idx_dim < index_size && \"index out of bounds\"` failed.\n",
      "../aten/src/ATen/native/cuda/ScatterGatherKernel.cu:365: operator(): block: [2,0,0], thread: [40,0,0] Assertion `idx_dim >= 0 && idx_dim < index_size && \"index out of bounds\"` failed.\n",
      "../aten/src/ATen/native/cuda/ScatterGatherKernel.cu:365: operator(): block: [2,0,0], thread: [41,0,0] Assertion `idx_dim >= 0 && idx_dim < index_size && \"index out of bounds\"` failed.\n",
      "../aten/src/ATen/native/cuda/ScatterGatherKernel.cu:365: operator(): block: [2,0,0], thread: [42,0,0] Assertion `idx_dim >= 0 && idx_dim < index_size && \"index out of bounds\"` failed.\n",
      "../aten/src/ATen/native/cuda/ScatterGatherKernel.cu:365: operator(): block: [2,0,0], thread: [43,0,0] Assertion `idx_dim >= 0 && idx_dim < index_size && \"index out of bounds\"` failed.\n",
      "../aten/src/ATen/native/cuda/ScatterGatherKernel.cu:365: operator(): block: [2,0,0], thread: [44,0,0] Assertion `idx_dim >= 0 && idx_dim < index_size && \"index out of bounds\"` failed.\n",
      "../aten/src/ATen/native/cuda/ScatterGatherKernel.cu:365: operator(): block: [2,0,0], thread: [45,0,0] Assertion `idx_dim >= 0 && idx_dim < index_size && \"index out of bounds\"` failed.\n",
      "../aten/src/ATen/native/cuda/ScatterGatherKernel.cu:365: operator(): block: [2,0,0], thread: [46,0,0] Assertion `idx_dim >= 0 && idx_dim < index_size && \"index out of bounds\"` failed.\n",
      "../aten/src/ATen/native/cuda/ScatterGatherKernel.cu:365: operator(): block: [2,0,0], thread: [47,0,0] Assertion `idx_dim >= 0 && idx_dim < index_size && \"index out of bounds\"` failed.\n",
      "../aten/src/ATen/native/cuda/ScatterGatherKernel.cu:365: operator(): block: [2,0,0], thread: [48,0,0] Assertion `idx_dim >= 0 && idx_dim < index_size && \"index out of bounds\"` failed.\n",
      "../aten/src/ATen/native/cuda/ScatterGatherKernel.cu:365: operator(): block: [2,0,0], thread: [49,0,0] Assertion `idx_dim >= 0 && idx_dim < index_size && \"index out of bounds\"` failed.\n",
      "../aten/src/ATen/native/cuda/ScatterGatherKernel.cu:365: operator(): block: [2,0,0], thread: [50,0,0] Assertion `idx_dim >= 0 && idx_dim < index_size && \"index out of bounds\"` failed.\n",
      "../aten/src/ATen/native/cuda/ScatterGatherKernel.cu:365: operator(): block: [2,0,0], thread: [51,0,0] Assertion `idx_dim >= 0 && idx_dim < index_size && \"index out of bounds\"` failed.\n",
      "../aten/src/ATen/native/cuda/ScatterGatherKernel.cu:365: operator(): block: [2,0,0], thread: [54,0,0] Assertion `idx_dim >= 0 && idx_dim < index_size && \"index out of bounds\"` failed.\n",
      "../aten/src/ATen/native/cuda/ScatterGatherKernel.cu:365: operator(): block: [2,0,0], thread: [55,0,0] Assertion `idx_dim >= 0 && idx_dim < index_size && \"index out of bounds\"` failed.\n",
      "../aten/src/ATen/native/cuda/ScatterGatherKernel.cu:365: operator(): block: [2,0,0], thread: [56,0,0] Assertion `idx_dim >= 0 && idx_dim < index_size && \"index out of bounds\"` failed.\n",
      "../aten/src/ATen/native/cuda/ScatterGatherKernel.cu:365: operator(): block: [2,0,0], thread: [57,0,0] Assertion `idx_dim >= 0 && idx_dim < index_size && \"index out of bounds\"` failed.\n",
      "../aten/src/ATen/native/cuda/ScatterGatherKernel.cu:365: operator(): block: [2,0,0], thread: [58,0,0] Assertion `idx_dim >= 0 && idx_dim < index_size && \"index out of bounds\"` failed.\n",
      "../aten/src/ATen/native/cuda/ScatterGatherKernel.cu:365: operator(): block: [2,0,0], thread: [59,0,0] Assertion `idx_dim >= 0 && idx_dim < index_size && \"index out of bounds\"` failed.\n",
      "../aten/src/ATen/native/cuda/ScatterGatherKernel.cu:365: operator(): block: [2,0,0], thread: [60,0,0] Assertion `idx_dim >= 0 && idx_dim < index_size && \"index out of bounds\"` failed.\n",
      "../aten/src/ATen/native/cuda/ScatterGatherKernel.cu:365: operator(): block: [2,0,0], thread: [61,0,0] Assertion `idx_dim >= 0 && idx_dim < index_size && \"index out of bounds\"` failed.\n",
      "../aten/src/ATen/native/cuda/ScatterGatherKernel.cu:365: operator(): block: [2,0,0], thread: [62,0,0] Assertion `idx_dim >= 0 && idx_dim < index_size && \"index out of bounds\"` failed.\n",
      "../aten/src/ATen/native/cuda/ScatterGatherKernel.cu:365: operator(): block: [2,0,0], thread: [63,0,0] Assertion `idx_dim >= 0 && idx_dim < index_size && \"index out of bounds\"` failed.\n",
      "../aten/src/ATen/native/cuda/ScatterGatherKernel.cu:365: operator(): block: [2,0,0], thread: [1,0,0] Assertion `idx_dim >= 0 && idx_dim < index_size && \"index out of bounds\"` failed.\n",
      "../aten/src/ATen/native/cuda/ScatterGatherKernel.cu:365: operator(): block: [2,0,0], thread: [2,0,0] Assertion `idx_dim >= 0 && idx_dim < index_size && \"index out of bounds\"` failed.\n",
      "../aten/src/ATen/native/cuda/ScatterGatherKernel.cu:365: operator(): block: [2,0,0], thread: [3,0,0] Assertion `idx_dim >= 0 && idx_dim < index_size && \"index out of bounds\"` failed.\n",
      "../aten/src/ATen/native/cuda/ScatterGatherKernel.cu:365: operator(): block: [2,0,0], thread: [4,0,0] Assertion `idx_dim >= 0 && idx_dim < index_size && \"index out of bounds\"` failed.\n",
      "../aten/src/ATen/native/cuda/ScatterGatherKernel.cu:365: operator(): block: [2,0,0], thread: [5,0,0] Assertion `idx_dim >= 0 && idx_dim < index_size && \"index out of bounds\"` failed.\n",
      "../aten/src/ATen/native/cuda/ScatterGatherKernel.cu:365: operator(): block: [2,0,0], thread: [6,0,0] Assertion `idx_dim >= 0 && idx_dim < index_size && \"index out of bounds\"` failed.\n",
      "../aten/src/ATen/native/cuda/ScatterGatherKernel.cu:365: operator(): block: [2,0,0], thread: [7,0,0] Assertion `idx_dim >= 0 && idx_dim < index_size && \"index out of bounds\"` failed.\n",
      "../aten/src/ATen/native/cuda/ScatterGatherKernel.cu:365: operator(): block: [2,0,0], thread: [8,0,0] Assertion `idx_dim >= 0 && idx_dim < index_size && \"index out of bounds\"` failed.\n",
      "../aten/src/ATen/native/cuda/ScatterGatherKernel.cu:365: operator(): block: [2,0,0], thread: [9,0,0] Assertion `idx_dim >= 0 && idx_dim < index_size && \"index out of bounds\"` failed.\n",
      "../aten/src/ATen/native/cuda/ScatterGatherKernel.cu:365: operator(): block: [2,0,0], thread: [10,0,0] Assertion `idx_dim >= 0 && idx_dim < index_size && \"index out of bounds\"` failed.\n",
      "../aten/src/ATen/native/cuda/ScatterGatherKernel.cu:365: operator(): block: [2,0,0], thread: [11,0,0] Assertion `idx_dim >= 0 && idx_dim < index_size && \"index out of bounds\"` failed.\n",
      "../aten/src/ATen/native/cuda/ScatterGatherKernel.cu:365: operator(): block: [2,0,0], thread: [12,0,0] Assertion `idx_dim >= 0 && idx_dim < index_size && \"index out of bounds\"` failed.\n",
      "../aten/src/ATen/native/cuda/ScatterGatherKernel.cu:365: operator(): block: [2,0,0], thread: [13,0,0] Assertion `idx_dim >= 0 && idx_dim < index_size && \"index out of bounds\"` failed.\n",
      "../aten/src/ATen/native/cuda/ScatterGatherKernel.cu:365: operator(): block: [2,0,0], thread: [14,0,0] Assertion `idx_dim >= 0 && idx_dim < index_size && \"index out of bounds\"` failed.\n",
      "../aten/src/ATen/native/cuda/ScatterGatherKernel.cu:365: operator(): block: [2,0,0], thread: [15,0,0] Assertion `idx_dim >= 0 && idx_dim < index_size && \"index out of bounds\"` failed.\n",
      "../aten/src/ATen/native/cuda/ScatterGatherKernel.cu:365: operator(): block: [2,0,0], thread: [16,0,0] Assertion `idx_dim >= 0 && idx_dim < index_size && \"index out of bounds\"` failed.\n",
      "../aten/src/ATen/native/cuda/ScatterGatherKernel.cu:365: operator(): block: [2,0,0], thread: [20,0,0] Assertion `idx_dim >= 0 && idx_dim < index_size && \"index out of bounds\"` failed.\n",
      "../aten/src/ATen/native/cuda/ScatterGatherKernel.cu:365: operator(): block: [2,0,0], thread: [21,0,0] Assertion `idx_dim >= 0 && idx_dim < index_size && \"index out of bounds\"` failed.\n",
      "../aten/src/ATen/native/cuda/ScatterGatherKernel.cu:365: operator(): block: [2,0,0], thread: [22,0,0] Assertion `idx_dim >= 0 && idx_dim < index_size && \"index out of bounds\"` failed.\n",
      "../aten/src/ATen/native/cuda/ScatterGatherKernel.cu:365: operator(): block: [2,0,0], thread: [23,0,0] Assertion `idx_dim >= 0 && idx_dim < index_size && \"index out of bounds\"` failed.\n",
      "../aten/src/ATen/native/cuda/ScatterGatherKernel.cu:365: operator(): block: [2,0,0], thread: [24,0,0] Assertion `idx_dim >= 0 && idx_dim < index_size && \"index out of bounds\"` failed.\n",
      "../aten/src/ATen/native/cuda/ScatterGatherKernel.cu:365: operator(): block: [2,0,0], thread: [25,0,0] Assertion `idx_dim >= 0 && idx_dim < index_size && \"index out of bounds\"` failed.\n",
      "../aten/src/ATen/native/cuda/ScatterGatherKernel.cu:365: operator(): block: [2,0,0], thread: [26,0,0] Assertion `idx_dim >= 0 && idx_dim < index_size && \"index out of bounds\"` failed.\n",
      "../aten/src/ATen/native/cuda/ScatterGatherKernel.cu:365: operator(): block: [2,0,0], thread: [27,0,0] Assertion `idx_dim >= 0 && idx_dim < index_size && \"index out of bounds\"` failed.\n",
      "../aten/src/ATen/native/cuda/ScatterGatherKernel.cu:365: operator(): block: [2,0,0], thread: [28,0,0] Assertion `idx_dim >= 0 && idx_dim < index_size && \"index out of bounds\"` failed.\n",
      "../aten/src/ATen/native/cuda/ScatterGatherKernel.cu:365: operator(): block: [2,0,0], thread: [29,0,0] Assertion `idx_dim >= 0 && idx_dim < index_size && \"index out of bounds\"` failed.\n",
      "../aten/src/ATen/native/cuda/ScatterGatherKernel.cu:365: operator(): block: [2,0,0], thread: [30,0,0] Assertion `idx_dim >= 0 && idx_dim < index_size && \"index out of bounds\"` failed.\n",
      "../aten/src/ATen/native/cuda/ScatterGatherKernel.cu:365: operator(): block: [2,0,0], thread: [31,0,0] Assertion `idx_dim >= 0 && idx_dim < index_size && \"index out of bounds\"` failed.\n",
      "../aten/src/ATen/native/cuda/ScatterGatherKernel.cu:365: operator(): block: [1,0,0], thread: [0,0,0] Assertion `idx_dim >= 0 && idx_dim < index_size && \"index out of bounds\"` failed.\n",
      "../aten/src/ATen/native/cuda/ScatterGatherKernel.cu:365: operator(): block: [1,0,0], thread: [1,0,0] Assertion `idx_dim >= 0 && idx_dim < index_size && \"index out of bounds\"` failed.\n",
      "../aten/src/ATen/native/cuda/ScatterGatherKernel.cu:365: operator(): block: [1,0,0], thread: [2,0,0] Assertion `idx_dim >= 0 && idx_dim < index_size && \"index out of bounds\"` failed.\n",
      "../aten/src/ATen/native/cuda/ScatterGatherKernel.cu:365: operator(): block: [1,0,0], thread: [3,0,0] Assertion `idx_dim >= 0 && idx_dim < index_size && \"index out of bounds\"` failed.\n",
      "../aten/src/ATen/native/cuda/ScatterGatherKernel.cu:365: operator(): block: [1,0,0], thread: [4,0,0] Assertion `idx_dim >= 0 && idx_dim < index_size && \"index out of bounds\"` failed.\n",
      "../aten/src/ATen/native/cuda/ScatterGatherKernel.cu:365: operator(): block: [1,0,0], thread: [5,0,0] Assertion `idx_dim >= 0 && idx_dim < index_size && \"index out of bounds\"` failed.\n",
      "../aten/src/ATen/native/cuda/ScatterGatherKernel.cu:365: operator(): block: [1,0,0], thread: [6,0,0] Assertion `idx_dim >= 0 && idx_dim < index_size && \"index out of bounds\"` failed.\n",
      "../aten/src/ATen/native/cuda/ScatterGatherKernel.cu:365: operator(): block: [1,0,0], thread: [7,0,0] Assertion `idx_dim >= 0 && idx_dim < index_size && \"index out of bounds\"` failed.\n",
      "../aten/src/ATen/native/cuda/ScatterGatherKernel.cu:365: operator(): block: [1,0,0], thread: [8,0,0] Assertion `idx_dim >= 0 && idx_dim < index_size && \"index out of bounds\"` failed.\n",
      "../aten/src/ATen/native/cuda/ScatterGatherKernel.cu:365: operator(): block: [1,0,0], thread: [9,0,0] Assertion `idx_dim >= 0 && idx_dim < index_size && \"index out of bounds\"` failed.\n",
      "../aten/src/ATen/native/cuda/ScatterGatherKernel.cu:365: operator(): block: [1,0,0], thread: [10,0,0] Assertion `idx_dim >= 0 && idx_dim < index_size && \"index out of bounds\"` failed.\n",
      "../aten/src/ATen/native/cuda/ScatterGatherKernel.cu:365: operator(): block: [1,0,0], thread: [11,0,0] Assertion `idx_dim >= 0 && idx_dim < index_size && \"index out of bounds\"` failed.\n",
      "../aten/src/ATen/native/cuda/ScatterGatherKernel.cu:365: operator(): block: [1,0,0], thread: [12,0,0] Assertion `idx_dim >= 0 && idx_dim < index_size && \"index out of bounds\"` failed.\n",
      "../aten/src/ATen/native/cuda/ScatterGatherKernel.cu:365: operator(): block: [1,0,0], thread: [13,0,0] Assertion `idx_dim >= 0 && idx_dim < index_size && \"index out of bounds\"` failed.\n",
      "../aten/src/ATen/native/cuda/ScatterGatherKernel.cu:365: operator(): block: [1,0,0], thread: [14,0,0] Assertion `idx_dim >= 0 && idx_dim < index_size && \"index out of bounds\"` failed.\n",
      "../aten/src/ATen/native/cuda/ScatterGatherKernel.cu:365: operator(): block: [1,0,0], thread: [15,0,0] Assertion `idx_dim >= 0 && idx_dim < index_size && \"index out of bounds\"` failed.\n",
      "../aten/src/ATen/native/cuda/ScatterGatherKernel.cu:365: operator(): block: [1,0,0], thread: [16,0,0] Assertion `idx_dim >= 0 && idx_dim < index_size && \"index out of bounds\"` failed.\n",
      "../aten/src/ATen/native/cuda/ScatterGatherKernel.cu:365: operator(): block: [1,0,0], thread: [17,0,0] Assertion `idx_dim >= 0 && idx_dim < index_size && \"index out of bounds\"` failed.\n",
      "../aten/src/ATen/native/cuda/ScatterGatherKernel.cu:365: operator(): block: [1,0,0], thread: [18,0,0] Assertion `idx_dim >= 0 && idx_dim < index_size && \"index out of bounds\"` failed.\n",
      "../aten/src/ATen/native/cuda/ScatterGatherKernel.cu:365: operator(): block: [1,0,0], thread: [19,0,0] Assertion `idx_dim >= 0 && idx_dim < index_size && \"index out of bounds\"` failed.\n",
      "../aten/src/ATen/native/cuda/ScatterGatherKernel.cu:365: operator(): block: [1,0,0], thread: [20,0,0] Assertion `idx_dim >= 0 && idx_dim < index_size && \"index out of bounds\"` failed.\n",
      "../aten/src/ATen/native/cuda/ScatterGatherKernel.cu:365: operator(): block: [1,0,0], thread: [21,0,0] Assertion `idx_dim >= 0 && idx_dim < index_size && \"index out of bounds\"` failed.\n",
      "../aten/src/ATen/native/cuda/ScatterGatherKernel.cu:365: operator(): block: [1,0,0], thread: [22,0,0] Assertion `idx_dim >= 0 && idx_dim < index_size && \"index out of bounds\"` failed.\n",
      "../aten/src/ATen/native/cuda/ScatterGatherKernel.cu:365: operator(): block: [1,0,0], thread: [23,0,0] Assertion `idx_dim >= 0 && idx_dim < index_size && \"index out of bounds\"` failed.\n",
      "../aten/src/ATen/native/cuda/ScatterGatherKernel.cu:365: operator(): block: [1,0,0], thread: [24,0,0] Assertion `idx_dim >= 0 && idx_dim < index_size && \"index out of bounds\"` failed.\n",
      "../aten/src/ATen/native/cuda/ScatterGatherKernel.cu:365: operator(): block: [1,0,0], thread: [25,0,0] Assertion `idx_dim >= 0 && idx_dim < index_size && \"index out of bounds\"` failed.\n",
      "../aten/src/ATen/native/cuda/ScatterGatherKernel.cu:365: operator(): block: [1,0,0], thread: [26,0,0] Assertion `idx_dim >= 0 && idx_dim < index_size && \"index out of bounds\"` failed.\n",
      "../aten/src/ATen/native/cuda/ScatterGatherKernel.cu:365: operator(): block: [1,0,0], thread: [27,0,0] Assertion `idx_dim >= 0 && idx_dim < index_size && \"index out of bounds\"` failed.\n",
      "../aten/src/ATen/native/cuda/ScatterGatherKernel.cu:365: operator(): block: [1,0,0], thread: [28,0,0] Assertion `idx_dim >= 0 && idx_dim < index_size && \"index out of bounds\"` failed.\n",
      "../aten/src/ATen/native/cuda/ScatterGatherKernel.cu:365: operator(): block: [1,0,0], thread: [29,0,0] Assertion `idx_dim >= 0 && idx_dim < index_size && \"index out of bounds\"` failed.\n",
      "../aten/src/ATen/native/cuda/ScatterGatherKernel.cu:365: operator(): block: [1,0,0], thread: [30,0,0] Assertion `idx_dim >= 0 && idx_dim < index_size && \"index out of bounds\"` failed.\n",
      "../aten/src/ATen/native/cuda/ScatterGatherKernel.cu:365: operator(): block: [1,0,0], thread: [31,0,0] Assertion `idx_dim >= 0 && idx_dim < index_size && \"index out of bounds\"` failed.\n",
      "../aten/src/ATen/native/cuda/ScatterGatherKernel.cu:365: operator(): block: [1,0,0], thread: [32,0,0] Assertion `idx_dim >= 0 && idx_dim < index_size && \"index out of bounds\"` failed.\n",
      "../aten/src/ATen/native/cuda/ScatterGatherKernel.cu:365: operator(): block: [1,0,0], thread: [33,0,0] Assertion `idx_dim >= 0 && idx_dim < index_size && \"index out of bounds\"` failed.\n",
      "../aten/src/ATen/native/cuda/ScatterGatherKernel.cu:365: operator(): block: [1,0,0], thread: [34,0,0] Assertion `idx_dim >= 0 && idx_dim < index_size && \"index out of bounds\"` failed.\n",
      "../aten/src/ATen/native/cuda/ScatterGatherKernel.cu:365: operator(): block: [1,0,0], thread: [35,0,0] Assertion `idx_dim >= 0 && idx_dim < index_size && \"index out of bounds\"` failed.\n",
      "../aten/src/ATen/native/cuda/ScatterGatherKernel.cu:365: operator(): block: [1,0,0], thread: [36,0,0] Assertion `idx_dim >= 0 && idx_dim < index_size && \"index out of bounds\"` failed.\n",
      "../aten/src/ATen/native/cuda/ScatterGatherKernel.cu:365: operator(): block: [1,0,0], thread: [37,0,0] Assertion `idx_dim >= 0 && idx_dim < index_size && \"index out of bounds\"` failed.\n",
      "../aten/src/ATen/native/cuda/ScatterGatherKernel.cu:365: operator(): block: [1,0,0], thread: [38,0,0] Assertion `idx_dim >= 0 && idx_dim < index_size && \"index out of bounds\"` failed.\n",
      "../aten/src/ATen/native/cuda/ScatterGatherKernel.cu:365: operator(): block: [1,0,0], thread: [39,0,0] Assertion `idx_dim >= 0 && idx_dim < index_size && \"index out of bounds\"` failed.\n",
      "../aten/src/ATen/native/cuda/ScatterGatherKernel.cu:365: operator(): block: [1,0,0], thread: [40,0,0] Assertion `idx_dim >= 0 && idx_dim < index_size && \"index out of bounds\"` failed.\n",
      "../aten/src/ATen/native/cuda/ScatterGatherKernel.cu:365: operator(): block: [1,0,0], thread: [41,0,0] Assertion `idx_dim >= 0 && idx_dim < index_size && \"index out of bounds\"` failed.\n",
      "../aten/src/ATen/native/cuda/ScatterGatherKernel.cu:365: operator(): block: [1,0,0], thread: [42,0,0] Assertion `idx_dim >= 0 && idx_dim < index_size && \"index out of bounds\"` failed.\n",
      "../aten/src/ATen/native/cuda/ScatterGatherKernel.cu:365: operator(): block: [1,0,0], thread: [43,0,0] Assertion `idx_dim >= 0 && idx_dim < index_size && \"index out of bounds\"` failed.\n",
      "../aten/src/ATen/native/cuda/ScatterGatherKernel.cu:365: operator(): block: [1,0,0], thread: [44,0,0] Assertion `idx_dim >= 0 && idx_dim < index_size && \"index out of bounds\"` failed.\n",
      "../aten/src/ATen/native/cuda/ScatterGatherKernel.cu:365: operator(): block: [1,0,0], thread: [45,0,0] Assertion `idx_dim >= 0 && idx_dim < index_size && \"index out of bounds\"` failed.\n",
      "../aten/src/ATen/native/cuda/ScatterGatherKernel.cu:365: operator(): block: [1,0,0], thread: [46,0,0] Assertion `idx_dim >= 0 && idx_dim < index_size && \"index out of bounds\"` failed.\n",
      "../aten/src/ATen/native/cuda/ScatterGatherKernel.cu:365: operator(): block: [1,0,0], thread: [47,0,0] Assertion `idx_dim >= 0 && idx_dim < index_size && \"index out of bounds\"` failed.\n",
      "../aten/src/ATen/native/cuda/ScatterGatherKernel.cu:365: operator(): block: [1,0,0], thread: [48,0,0] Assertion `idx_dim >= 0 && idx_dim < index_size && \"index out of bounds\"` failed.\n",
      "../aten/src/ATen/native/cuda/ScatterGatherKernel.cu:365: operator(): block: [1,0,0], thread: [49,0,0] Assertion `idx_dim >= 0 && idx_dim < index_size && \"index out of bounds\"` failed.\n",
      "../aten/src/ATen/native/cuda/ScatterGatherKernel.cu:365: operator(): block: [1,0,0], thread: [50,0,0] Assertion `idx_dim >= 0 && idx_dim < index_size && \"index out of bounds\"` failed.\n",
      "../aten/src/ATen/native/cuda/ScatterGatherKernel.cu:365: operator(): block: [1,0,0], thread: [51,0,0] Assertion `idx_dim >= 0 && idx_dim < index_size && \"index out of bounds\"` failed.\n",
      "../aten/src/ATen/native/cuda/ScatterGatherKernel.cu:365: operator(): block: [1,0,0], thread: [52,0,0] Assertion `idx_dim >= 0 && idx_dim < index_size && \"index out of bounds\"` failed.\n",
      "../aten/src/ATen/native/cuda/ScatterGatherKernel.cu:365: operator(): block: [1,0,0], thread: [53,0,0] Assertion `idx_dim >= 0 && idx_dim < index_size && \"index out of bounds\"` failed.\n",
      "../aten/src/ATen/native/cuda/ScatterGatherKernel.cu:365: operator(): block: [1,0,0], thread: [54,0,0] Assertion `idx_dim >= 0 && idx_dim < index_size && \"index out of bounds\"` failed.\n",
      "../aten/src/ATen/native/cuda/ScatterGatherKernel.cu:365: operator(): block: [1,0,0], thread: [55,0,0] Assertion `idx_dim >= 0 && idx_dim < index_size && \"index out of bounds\"` failed.\n",
      "../aten/src/ATen/native/cuda/ScatterGatherKernel.cu:365: operator(): block: [1,0,0], thread: [56,0,0] Assertion `idx_dim >= 0 && idx_dim < index_size && \"index out of bounds\"` failed.\n",
      "../aten/src/ATen/native/cuda/ScatterGatherKernel.cu:365: operator(): block: [1,0,0], thread: [57,0,0] Assertion `idx_dim >= 0 && idx_dim < index_size && \"index out of bounds\"` failed.\n",
      "../aten/src/ATen/native/cuda/ScatterGatherKernel.cu:365: operator(): block: [1,0,0], thread: [58,0,0] Assertion `idx_dim >= 0 && idx_dim < index_size && \"index out of bounds\"` failed.\n",
      "../aten/src/ATen/native/cuda/ScatterGatherKernel.cu:365: operator(): block: [1,0,0], thread: [59,0,0] Assertion `idx_dim >= 0 && idx_dim < index_size && \"index out of bounds\"` failed.\n",
      "../aten/src/ATen/native/cuda/ScatterGatherKernel.cu:365: operator(): block: [1,0,0], thread: [60,0,0] Assertion `idx_dim >= 0 && idx_dim < index_size && \"index out of bounds\"` failed.\n",
      "../aten/src/ATen/native/cuda/ScatterGatherKernel.cu:365: operator(): block: [1,0,0], thread: [61,0,0] Assertion `idx_dim >= 0 && idx_dim < index_size && \"index out of bounds\"` failed.\n",
      "../aten/src/ATen/native/cuda/ScatterGatherKernel.cu:365: operator(): block: [1,0,0], thread: [62,0,0] Assertion `idx_dim >= 0 && idx_dim < index_size && \"index out of bounds\"` failed.\n",
      "../aten/src/ATen/native/cuda/ScatterGatherKernel.cu:365: operator(): block: [1,0,0], thread: [63,0,0] Assertion `idx_dim >= 0 && idx_dim < index_size && \"index out of bounds\"` failed.\n",
      "../aten/src/ATen/native/cuda/ScatterGatherKernel.cu:365: operator(): block: [1,0,0], thread: [64,0,0] Assertion `idx_dim >= 0 && idx_dim < index_size && \"index out of bounds\"` failed.\n",
      "../aten/src/ATen/native/cuda/ScatterGatherKernel.cu:365: operator(): block: [1,0,0], thread: [65,0,0] Assertion `idx_dim >= 0 && idx_dim < index_size && \"index out of bounds\"` failed.\n",
      "../aten/src/ATen/native/cuda/ScatterGatherKernel.cu:365: operator(): block: [1,0,0], thread: [66,0,0] Assertion `idx_dim >= 0 && idx_dim < index_size && \"index out of bounds\"` failed.\n",
      "../aten/src/ATen/native/cuda/ScatterGatherKernel.cu:365: operator(): block: [1,0,0], thread: [67,0,0] Assertion `idx_dim >= 0 && idx_dim < index_size && \"index out of bounds\"` failed.\n",
      "../aten/src/ATen/native/cuda/ScatterGatherKernel.cu:365: operator(): block: [1,0,0], thread: [68,0,0] Assertion `idx_dim >= 0 && idx_dim < index_size && \"index out of bounds\"` failed.\n",
      "../aten/src/ATen/native/cuda/ScatterGatherKernel.cu:365: operator(): block: [1,0,0], thread: [69,0,0] Assertion `idx_dim >= 0 && idx_dim < index_size && \"index out of bounds\"` failed.\n",
      "../aten/src/ATen/native/cuda/ScatterGatherKernel.cu:365: operator(): block: [1,0,0], thread: [70,0,0] Assertion `idx_dim >= 0 && idx_dim < index_size && \"index out of bounds\"` failed.\n",
      "../aten/src/ATen/native/cuda/ScatterGatherKernel.cu:365: operator(): block: [1,0,0], thread: [71,0,0] Assertion `idx_dim >= 0 && idx_dim < index_size && \"index out of bounds\"` failed.\n",
      "../aten/src/ATen/native/cuda/ScatterGatherKernel.cu:365: operator(): block: [1,0,0], thread: [72,0,0] Assertion `idx_dim >= 0 && idx_dim < index_size && \"index out of bounds\"` failed.\n",
      "../aten/src/ATen/native/cuda/ScatterGatherKernel.cu:365: operator(): block: [1,0,0], thread: [73,0,0] Assertion `idx_dim >= 0 && idx_dim < index_size && \"index out of bounds\"` failed.\n",
      "../aten/src/ATen/native/cuda/ScatterGatherKernel.cu:365: operator(): block: [1,0,0], thread: [74,0,0] Assertion `idx_dim >= 0 && idx_dim < index_size && \"index out of bounds\"` failed.\n",
      "../aten/src/ATen/native/cuda/ScatterGatherKernel.cu:365: operator(): block: [1,0,0], thread: [75,0,0] Assertion `idx_dim >= 0 && idx_dim < index_size && \"index out of bounds\"` failed.\n",
      "../aten/src/ATen/native/cuda/ScatterGatherKernel.cu:365: operator(): block: [1,0,0], thread: [76,0,0] Assertion `idx_dim >= 0 && idx_dim < index_size && \"index out of bounds\"` failed.\n",
      "../aten/src/ATen/native/cuda/ScatterGatherKernel.cu:365: operator(): block: [1,0,0], thread: [77,0,0] Assertion `idx_dim >= 0 && idx_dim < index_size && \"index out of bounds\"` failed.\n",
      "../aten/src/ATen/native/cuda/ScatterGatherKernel.cu:365: operator(): block: [1,0,0], thread: [78,0,0] Assertion `idx_dim >= 0 && idx_dim < index_size && \"index out of bounds\"` failed.\n",
      "../aten/src/ATen/native/cuda/ScatterGatherKernel.cu:365: operator(): block: [1,0,0], thread: [79,0,0] Assertion `idx_dim >= 0 && idx_dim < index_size && \"index out of bounds\"` failed.\n",
      "../aten/src/ATen/native/cuda/ScatterGatherKernel.cu:365: operator(): block: [1,0,0], thread: [80,0,0] Assertion `idx_dim >= 0 && idx_dim < index_size && \"index out of bounds\"` failed.\n",
      "../aten/src/ATen/native/cuda/ScatterGatherKernel.cu:365: operator(): block: [1,0,0], thread: [81,0,0] Assertion `idx_dim >= 0 && idx_dim < index_size && \"index out of bounds\"` failed.\n",
      "../aten/src/ATen/native/cuda/ScatterGatherKernel.cu:365: operator(): block: [1,0,0], thread: [82,0,0] Assertion `idx_dim >= 0 && idx_dim < index_size && \"index out of bounds\"` failed.\n",
      "../aten/src/ATen/native/cuda/ScatterGatherKernel.cu:365: operator(): block: [1,0,0], thread: [83,0,0] Assertion `idx_dim >= 0 && idx_dim < index_size && \"index out of bounds\"` failed.\n",
      "../aten/src/ATen/native/cuda/ScatterGatherKernel.cu:365: operator(): block: [1,0,0], thread: [84,0,0] Assertion `idx_dim >= 0 && idx_dim < index_size && \"index out of bounds\"` failed.\n",
      "../aten/src/ATen/native/cuda/ScatterGatherKernel.cu:365: operator(): block: [1,0,0], thread: [85,0,0] Assertion `idx_dim >= 0 && idx_dim < index_size && \"index out of bounds\"` failed.\n",
      "../aten/src/ATen/native/cuda/ScatterGatherKernel.cu:365: operator(): block: [1,0,0], thread: [86,0,0] Assertion `idx_dim >= 0 && idx_dim < index_size && \"index out of bounds\"` failed.\n",
      "../aten/src/ATen/native/cuda/ScatterGatherKernel.cu:365: operator(): block: [1,0,0], thread: [87,0,0] Assertion `idx_dim >= 0 && idx_dim < index_size && \"index out of bounds\"` failed.\n",
      "../aten/src/ATen/native/cuda/ScatterGatherKernel.cu:365: operator(): block: [1,0,0], thread: [88,0,0] Assertion `idx_dim >= 0 && idx_dim < index_size && \"index out of bounds\"` failed.\n",
      "../aten/src/ATen/native/cuda/ScatterGatherKernel.cu:365: operator(): block: [1,0,0], thread: [89,0,0] Assertion `idx_dim >= 0 && idx_dim < index_size && \"index out of bounds\"` failed.\n",
      "../aten/src/ATen/native/cuda/ScatterGatherKernel.cu:365: operator(): block: [1,0,0], thread: [90,0,0] Assertion `idx_dim >= 0 && idx_dim < index_size && \"index out of bounds\"` failed.\n",
      "../aten/src/ATen/native/cuda/ScatterGatherKernel.cu:365: operator(): block: [1,0,0], thread: [91,0,0] Assertion `idx_dim >= 0 && idx_dim < index_size && \"index out of bounds\"` failed.\n",
      "../aten/src/ATen/native/cuda/ScatterGatherKernel.cu:365: operator(): block: [1,0,0], thread: [92,0,0] Assertion `idx_dim >= 0 && idx_dim < index_size && \"index out of bounds\"` failed.\n",
      "../aten/src/ATen/native/cuda/ScatterGatherKernel.cu:365: operator(): block: [1,0,0], thread: [93,0,0] Assertion `idx_dim >= 0 && idx_dim < index_size && \"index out of bounds\"` failed.\n",
      "../aten/src/ATen/native/cuda/ScatterGatherKernel.cu:365: operator(): block: [1,0,0], thread: [94,0,0] Assertion `idx_dim >= 0 && idx_dim < index_size && \"index out of bounds\"` failed.\n",
      "../aten/src/ATen/native/cuda/ScatterGatherKernel.cu:365: operator(): block: [1,0,0], thread: [95,0,0] Assertion `idx_dim >= 0 && idx_dim < index_size && \"index out of bounds\"` failed.\n",
      "../aten/src/ATen/native/cuda/ScatterGatherKernel.cu:365: operator(): block: [1,0,0], thread: [96,0,0] Assertion `idx_dim >= 0 && idx_dim < index_size && \"index out of bounds\"` failed.\n",
      "../aten/src/ATen/native/cuda/ScatterGatherKernel.cu:365: operator(): block: [1,0,0], thread: [97,0,0] Assertion `idx_dim >= 0 && idx_dim < index_size && \"index out of bounds\"` failed.\n",
      "../aten/src/ATen/native/cuda/ScatterGatherKernel.cu:365: operator(): block: [1,0,0], thread: [98,0,0] Assertion `idx_dim >= 0 && idx_dim < index_size && \"index out of bounds\"` failed.\n",
      "../aten/src/ATen/native/cuda/ScatterGatherKernel.cu:365: operator(): block: [1,0,0], thread: [99,0,0] Assertion `idx_dim >= 0 && idx_dim < index_size && \"index out of bounds\"` failed.\n",
      "../aten/src/ATen/native/cuda/ScatterGatherKernel.cu:365: operator(): block: [1,0,0], thread: [100,0,0] Assertion `idx_dim >= 0 && idx_dim < index_size && \"index out of bounds\"` failed.\n",
      "../aten/src/ATen/native/cuda/ScatterGatherKernel.cu:365: operator(): block: [1,0,0], thread: [101,0,0] Assertion `idx_dim >= 0 && idx_dim < index_size && \"index out of bounds\"` failed.\n",
      "../aten/src/ATen/native/cuda/ScatterGatherKernel.cu:365: operator(): block: [1,0,0], thread: [102,0,0] Assertion `idx_dim >= 0 && idx_dim < index_size && \"index out of bounds\"` failed.\n",
      "../aten/src/ATen/native/cuda/ScatterGatherKernel.cu:365: operator(): block: [1,0,0], thread: [103,0,0] Assertion `idx_dim >= 0 && idx_dim < index_size && \"index out of bounds\"` failed.\n",
      "../aten/src/ATen/native/cuda/ScatterGatherKernel.cu:365: operator(): block: [1,0,0], thread: [104,0,0] Assertion `idx_dim >= 0 && idx_dim < index_size && \"index out of bounds\"` failed.\n",
      "../aten/src/ATen/native/cuda/ScatterGatherKernel.cu:365: operator(): block: [1,0,0], thread: [105,0,0] Assertion `idx_dim >= 0 && idx_dim < index_size && \"index out of bounds\"` failed.\n",
      "../aten/src/ATen/native/cuda/ScatterGatherKernel.cu:365: operator(): block: [1,0,0], thread: [106,0,0] Assertion `idx_dim >= 0 && idx_dim < index_size && \"index out of bounds\"` failed.\n",
      "../aten/src/ATen/native/cuda/ScatterGatherKernel.cu:365: operator(): block: [1,0,0], thread: [107,0,0] Assertion `idx_dim >= 0 && idx_dim < index_size && \"index out of bounds\"` failed.\n",
      "../aten/src/ATen/native/cuda/ScatterGatherKernel.cu:365: operator(): block: [1,0,0], thread: [108,0,0] Assertion `idx_dim >= 0 && idx_dim < index_size && \"index out of bounds\"` failed.\n",
      "../aten/src/ATen/native/cuda/ScatterGatherKernel.cu:365: operator(): block: [1,0,0], thread: [109,0,0] Assertion `idx_dim >= 0 && idx_dim < index_size && \"index out of bounds\"` failed.\n",
      "../aten/src/ATen/native/cuda/ScatterGatherKernel.cu:365: operator(): block: [1,0,0], thread: [110,0,0] Assertion `idx_dim >= 0 && idx_dim < index_size && \"index out of bounds\"` failed.\n",
      "../aten/src/ATen/native/cuda/ScatterGatherKernel.cu:365: operator(): block: [1,0,0], thread: [111,0,0] Assertion `idx_dim >= 0 && idx_dim < index_size && \"index out of bounds\"` failed.\n",
      "../aten/src/ATen/native/cuda/ScatterGatherKernel.cu:365: operator(): block: [1,0,0], thread: [112,0,0] Assertion `idx_dim >= 0 && idx_dim < index_size && \"index out of bounds\"` failed.\n",
      "../aten/src/ATen/native/cuda/ScatterGatherKernel.cu:365: operator(): block: [1,0,0], thread: [113,0,0] Assertion `idx_dim >= 0 && idx_dim < index_size && \"index out of bounds\"` failed.\n",
      "../aten/src/ATen/native/cuda/ScatterGatherKernel.cu:365: operator(): block: [1,0,0], thread: [114,0,0] Assertion `idx_dim >= 0 && idx_dim < index_size && \"index out of bounds\"` failed.\n",
      "../aten/src/ATen/native/cuda/ScatterGatherKernel.cu:365: operator(): block: [1,0,0], thread: [115,0,0] Assertion `idx_dim >= 0 && idx_dim < index_size && \"index out of bounds\"` failed.\n",
      "../aten/src/ATen/native/cuda/ScatterGatherKernel.cu:365: operator(): block: [1,0,0], thread: [118,0,0] Assertion `idx_dim >= 0 && idx_dim < index_size && \"index out of bounds\"` failed.\n",
      "../aten/src/ATen/native/cuda/ScatterGatherKernel.cu:365: operator(): block: [1,0,0], thread: [119,0,0] Assertion `idx_dim >= 0 && idx_dim < index_size && \"index out of bounds\"` failed.\n",
      "../aten/src/ATen/native/cuda/ScatterGatherKernel.cu:365: operator(): block: [1,0,0], thread: [120,0,0] Assertion `idx_dim >= 0 && idx_dim < index_size && \"index out of bounds\"` failed.\n",
      "../aten/src/ATen/native/cuda/ScatterGatherKernel.cu:365: operator(): block: [1,0,0], thread: [121,0,0] Assertion `idx_dim >= 0 && idx_dim < index_size && \"index out of bounds\"` failed.\n",
      "../aten/src/ATen/native/cuda/ScatterGatherKernel.cu:365: operator(): block: [1,0,0], thread: [122,0,0] Assertion `idx_dim >= 0 && idx_dim < index_size && \"index out of bounds\"` failed.\n",
      "../aten/src/ATen/native/cuda/ScatterGatherKernel.cu:365: operator(): block: [1,0,0], thread: [123,0,0] Assertion `idx_dim >= 0 && idx_dim < index_size && \"index out of bounds\"` failed.\n",
      "../aten/src/ATen/native/cuda/ScatterGatherKernel.cu:365: operator(): block: [1,0,0], thread: [124,0,0] Assertion `idx_dim >= 0 && idx_dim < index_size && \"index out of bounds\"` failed.\n",
      "../aten/src/ATen/native/cuda/ScatterGatherKernel.cu:365: operator(): block: [1,0,0], thread: [125,0,0] Assertion `idx_dim >= 0 && idx_dim < index_size && \"index out of bounds\"` failed.\n",
      "../aten/src/ATen/native/cuda/ScatterGatherKernel.cu:365: operator(): block: [1,0,0], thread: [126,0,0] Assertion `idx_dim >= 0 && idx_dim < index_size && \"index out of bounds\"` failed.\n",
      "../aten/src/ATen/native/cuda/ScatterGatherKernel.cu:365: operator(): block: [1,0,0], thread: [127,0,0] Assertion `idx_dim >= 0 && idx_dim < index_size && \"index out of bounds\"` failed.\n"
     ]
    }
   ],
   "source": [
    "import torch\n",
    "import torch.nn as nn\n",
    "import torch.nn.functional as F\n",
    "\n",
    "soft_alpha = 0.1 \n",
    "\n",
    "if soft_alpha is not None:\n",
    "    # Shift logits and labels\n",
    "    shift_logits = output.logits[:, :-1, :].contiguous()  # [batch, seq-1, num_classes]\n",
    "    valid_targets = fused_labels[:, 1:].contiguous()      # [batch, seq-1]\n",
    "\n",
    "    num_classes = shift_logits.size(-1)  # Vocab size\n",
    "\n",
    "    # Create mask for valid targets (labels != -100)\n",
    "    mask = (valid_targets != -100)  # [batch, seq-1]\n",
    "\n",
    "    # Replace invalid labels with -100 to ignore them\n",
    "    valid_targets = torch.where(\n",
    "        (valid_targets >= 0) & (valid_targets < num_classes),\n",
    "        valid_targets,\n",
    "        torch.tensor(-100, device=valid_targets.device)\n",
    "    )\n",
    "\n",
    "    # Update mask after replacing invalid labels\n",
    "    mask = (valid_targets != -100)\n",
    "\n",
    "    # Diagnostic: Check label ranges\n",
    "    if mask.any():\n",
    "        min_label = valid_targets[mask].min().item()\n",
    "        max_label = valid_targets[mask].max().item()\n",
    "        print(f\"Valid Targets Range: {min_label} to {max_label}\")\n",
    "        if min_label < 0 or max_label >= num_classes:\n",
    "            raise ValueError(f\"Labels out of bounds. Valid labels should be in [0, {num_classes - 1}], but got min {min_label} and max {max_label}.\")\n",
    "\n",
    "    # Compute softmax probabilities from logits\n",
    "    soft_probs = F.softmax(shift_logits, dim=-1)  # [batch, seq-1, num_classes]\n",
    "\n",
    "    # Create one-hot encoded labels\n",
    "    one_hot = torch.zeros_like(shift_logits).scatter_(2, valid_targets.unsqueeze(-1), 1.0)  # [batch, seq-1, num_classes]\n",
    "\n",
    "    # Compute the target distribution\n",
    "    targets_combined = soft_alpha * soft_probs + (1.0 - soft_alpha) * one_hot  # [batch, seq-1, num_classes]\n",
    "\n",
    "    # For positions to be ignored, set the entire distribution to 0\n",
    "    targets_combined = targets_combined * mask.unsqueeze(-1).float()\n",
    "\n",
    "    # Verify that target distributions sum to 1 where mask is True\n",
    "    target_sums = targets_combined.sum(dim=-1)\n",
    "    print(f\"Target sums (should be close to 1 for valid positions): {target_sums[mask]}\")\n",
    "\n",
    "    # Define the loss function\n",
    "    loss_fct = nn.KLDivLoss(reduction='batchmean')\n",
    "\n",
    "    # Compute log probabilities from logits\n",
    "    log_probs = F.log_softmax(shift_logits, dim=-1)  # [batch, seq-1, num_classes]\n",
    "\n",
    "    # Flatten the tensors for loss computation\n",
    "    loss = loss_fct(\n",
    "        log_probs.view(-1, num_classes),         # [batch * (seq-1), num_classes]\n",
    "        targets_combined.view(-1, num_classes)   # [batch * (seq-1), num_classes]\n",
    "    )\n",
    "\n",
    "    print(f\"Loss: {loss.item()}\")\n",
    "    loss.backward()  # Backpropagate if needed"
   ]
  },
  {
   "cell_type": "code",
   "execution_count": null,
   "metadata": {},
   "outputs": [
    {
     "ename": "RuntimeError",
     "evalue": "CUDA error: device-side assert triggered\nCompile with `TORCH_USE_CUDA_DSA` to enable device-side assertions.\n",
     "output_type": "error",
     "traceback": [
      "\u001b[0;31m---------------------------------------------------------------------------\u001b[0m",
      "\u001b[0;31mRuntimeError\u001b[0m                              Traceback (most recent call last)",
      "Cell \u001b[0;32mIn[2], line 15\u001b[0m\n\u001b[1;32m     12\u001b[0m num_classes \u001b[38;5;241m=\u001b[39m \u001b[38;5;241m6\u001b[39m  \u001b[38;5;66;03m# Adjusted to accommodate labels up to 5\u001b[39;00m\n\u001b[1;32m     14\u001b[0m \u001b[38;5;66;03m# Dummy logits and labels\u001b[39;00m\n\u001b[0;32m---> 15\u001b[0m \u001b[43mtorch\u001b[49m\u001b[38;5;241;43m.\u001b[39;49m\u001b[43mmanual_seed\u001b[49m\u001b[43m(\u001b[49m\u001b[38;5;241;43m0\u001b[39;49m\u001b[43m)\u001b[49m\n\u001b[1;32m     16\u001b[0m output \u001b[38;5;241m=\u001b[39m \u001b[38;5;28mtype\u001b[39m(\u001b[38;5;124m'\u001b[39m\u001b[38;5;124mobj\u001b[39m\u001b[38;5;124m'\u001b[39m, (\u001b[38;5;28mobject\u001b[39m,), {})()  \u001b[38;5;66;03m# Creating a dummy object\u001b[39;00m\n\u001b[1;32m     17\u001b[0m output\u001b[38;5;241m.\u001b[39mlogits \u001b[38;5;241m=\u001b[39m torch\u001b[38;5;241m.\u001b[39mrandn(batch_size, seq_length, num_classes, requires_grad\u001b[38;5;241m=\u001b[39m\u001b[38;5;28;01mTrue\u001b[39;00m)\u001b[38;5;241m.\u001b[39mto(\u001b[38;5;124m\"\u001b[39m\u001b[38;5;124mcuda\u001b[39m\u001b[38;5;124m\"\u001b[39m)\n",
      "File \u001b[0;32m/localdisk/ssrivas9/miniconda3/envs/eval/lib/python3.10/site-packages/torch/random.py:40\u001b[0m, in \u001b[0;36mmanual_seed\u001b[0;34m(seed)\u001b[0m\n\u001b[1;32m     37\u001b[0m \u001b[38;5;28;01mimport\u001b[39;00m \u001b[38;5;21;01mtorch\u001b[39;00m\u001b[38;5;21;01m.\u001b[39;00m\u001b[38;5;21;01mcuda\u001b[39;00m\n\u001b[1;32m     39\u001b[0m \u001b[38;5;28;01mif\u001b[39;00m \u001b[38;5;129;01mnot\u001b[39;00m torch\u001b[38;5;241m.\u001b[39mcuda\u001b[38;5;241m.\u001b[39m_is_in_bad_fork():\n\u001b[0;32m---> 40\u001b[0m     \u001b[43mtorch\u001b[49m\u001b[38;5;241;43m.\u001b[39;49m\u001b[43mcuda\u001b[49m\u001b[38;5;241;43m.\u001b[39;49m\u001b[43mmanual_seed_all\u001b[49m\u001b[43m(\u001b[49m\u001b[43mseed\u001b[49m\u001b[43m)\u001b[49m\n\u001b[1;32m     42\u001b[0m \u001b[38;5;28;01mimport\u001b[39;00m \u001b[38;5;21;01mtorch\u001b[39;00m\u001b[38;5;21;01m.\u001b[39;00m\u001b[38;5;21;01mmps\u001b[39;00m\n\u001b[1;32m     43\u001b[0m \u001b[38;5;28;01mif\u001b[39;00m \u001b[38;5;129;01mnot\u001b[39;00m torch\u001b[38;5;241m.\u001b[39mmps\u001b[38;5;241m.\u001b[39m_is_in_bad_fork():\n",
      "File \u001b[0;32m/localdisk/ssrivas9/miniconda3/envs/eval/lib/python3.10/site-packages/torch/cuda/random.py:126\u001b[0m, in \u001b[0;36mmanual_seed_all\u001b[0;34m(seed)\u001b[0m\n\u001b[1;32m    123\u001b[0m         default_generator \u001b[38;5;241m=\u001b[39m torch\u001b[38;5;241m.\u001b[39mcuda\u001b[38;5;241m.\u001b[39mdefault_generators[i]\n\u001b[1;32m    124\u001b[0m         default_generator\u001b[38;5;241m.\u001b[39mmanual_seed(seed)\n\u001b[0;32m--> 126\u001b[0m \u001b[43m_lazy_call\u001b[49m\u001b[43m(\u001b[49m\u001b[43mcb\u001b[49m\u001b[43m,\u001b[49m\u001b[43m \u001b[49m\u001b[43mseed_all\u001b[49m\u001b[38;5;241;43m=\u001b[39;49m\u001b[38;5;28;43;01mTrue\u001b[39;49;00m\u001b[43m)\u001b[49m\n",
      "File \u001b[0;32m/localdisk/ssrivas9/miniconda3/envs/eval/lib/python3.10/site-packages/torch/cuda/__init__.py:223\u001b[0m, in \u001b[0;36m_lazy_call\u001b[0;34m(callable, **kwargs)\u001b[0m\n\u001b[1;32m    221\u001b[0m \u001b[38;5;28;01mdef\u001b[39;00m \u001b[38;5;21m_lazy_call\u001b[39m(\u001b[38;5;28mcallable\u001b[39m, \u001b[38;5;241m*\u001b[39m\u001b[38;5;241m*\u001b[39mkwargs):\n\u001b[1;32m    222\u001b[0m     \u001b[38;5;28;01mif\u001b[39;00m is_initialized():\n\u001b[0;32m--> 223\u001b[0m         \u001b[38;5;28;43mcallable\u001b[39;49m\u001b[43m(\u001b[49m\u001b[43m)\u001b[49m\n\u001b[1;32m    224\u001b[0m     \u001b[38;5;28;01melse\u001b[39;00m:\n\u001b[1;32m    225\u001b[0m         \u001b[38;5;66;03m# TODO(torch_deploy): this accesses linecache, which attempts to read the\u001b[39;00m\n\u001b[1;32m    226\u001b[0m         \u001b[38;5;66;03m# file system to get traceback info. Patch linecache or do something\u001b[39;00m\n\u001b[1;32m    227\u001b[0m         \u001b[38;5;66;03m# else here if this ends up being important.\u001b[39;00m\n\u001b[1;32m    228\u001b[0m         \u001b[38;5;28;01mglobal\u001b[39;00m _lazy_seed_tracker\n",
      "File \u001b[0;32m/localdisk/ssrivas9/miniconda3/envs/eval/lib/python3.10/site-packages/torch/cuda/random.py:124\u001b[0m, in \u001b[0;36mmanual_seed_all.<locals>.cb\u001b[0;34m()\u001b[0m\n\u001b[1;32m    122\u001b[0m \u001b[38;5;28;01mfor\u001b[39;00m i \u001b[38;5;129;01min\u001b[39;00m \u001b[38;5;28mrange\u001b[39m(device_count()):\n\u001b[1;32m    123\u001b[0m     default_generator \u001b[38;5;241m=\u001b[39m torch\u001b[38;5;241m.\u001b[39mcuda\u001b[38;5;241m.\u001b[39mdefault_generators[i]\n\u001b[0;32m--> 124\u001b[0m     \u001b[43mdefault_generator\u001b[49m\u001b[38;5;241;43m.\u001b[39;49m\u001b[43mmanual_seed\u001b[49m\u001b[43m(\u001b[49m\u001b[43mseed\u001b[49m\u001b[43m)\u001b[49m\n",
      "\u001b[0;31mRuntimeError\u001b[0m: CUDA error: device-side assert triggered\nCompile with `TORCH_USE_CUDA_DSA` to enable device-side assertions.\n"
     ]
    }
   ],
   "source": [
    "import torch\n",
    "import torch.nn as nn\n",
    "import torch.nn.functional as F\n",
    "import os\n",
    "\n",
    "# Enable synchronous CUDA error reporting for debugging\n",
    "os.environ['CUDA_LAUNCH_BLOCKING'] = \"1\"\n",
    "\n",
    "# Sample Data (for illustration purposes)\n",
    "batch_size = 2\n",
    "seq_length = 5\n",
    "num_classes = 6  # Adjusted to accommodate labels up to 5\n",
    "\n",
    "# Dummy logits and labels\n",
    "torch.manual_seed(0)\n",
    "output = type('obj', (object,), {})()  # Creating a dummy object\n",
    "output.logits = torch.randn(batch_size, seq_length, num_classes, requires_grad=True).to(\"cuda\")\n",
    "fused_labels = torch.tensor([\n",
    "    [1, 2, -100, 4, 5],\n",
    "    [2, -100, 3, 4, 0]\n",
    "]).to(\"cuda\")  # Move labels to CUDA\n",
    "\n",
    "# Correct the labels if necessary\n",
    "fused_labels = fused_labels.clone()\n",
    "invalid_mask = (fused_labels >= num_classes) | (fused_labels < 0)\n",
    "num_invalid = invalid_mask.sum().item()\n",
    "print(f\"Number of Invalid Labels: {num_invalid}\")\n",
    "\n",
    "if num_invalid > 0:\n",
    "    fused_labels[invalid_mask] = -100  # Optionally, map to a valid class\n",
    "    print(\"Invalid labels set to -100.\")\n",
    "\n",
    "soft_alpha = 0.1  # Example alpha value\n",
    "\n",
    "if soft_alpha is not None:\n",
    "    # Shift logits and labels\n",
    "    shift_logits = output.logits[:, :-1, :].contiguous()  # [batch, seq-1, num_classes]\n",
    "    valid_targets = fused_labels[:, 1:].contiguous()      # [batch, seq-1]\n",
    "\n",
    "    num_classes = shift_logits.size(-1)  # Vocab size\n",
    "    print(f\"Number of Classes (Vocabulary Size): {num_classes}\")\n",
    "\n",
    "    # Create mask for valid targets (labels != -100)\n",
    "    mask = (valid_targets != -100)  # [batch, seq-1]\n",
    "\n",
    "    # Diagnostic: Check label ranges\n",
    "    if mask.any():\n",
    "        min_label = valid_targets[mask].min().item()\n",
    "        max_label = valid_targets[mask].max().item()\n",
    "        print(f\"Valid Targets Range: {min_label} to {max_label}\")\n",
    "        if min_label < 0 or max_label >= num_classes:\n",
    "            raise ValueError(f\"Labels out of bounds. Valid labels should be in [0, {num_classes - 1}], but got min {min_label} and max {max_label}.\")\n",
    "\n",
    "    # Compute softmax probabilities from logits\n",
    "    soft_probs = F.softmax(shift_logits, dim=-1)  # [batch, seq-1, num_classes]\n",
    "\n",
    "    # Replace -100 with 0 in a cloned tensor for one-hot encoding\n",
    "    labels_for_one_hot = valid_targets.clone()\n",
    "    labels_for_one_hot[~mask] = 0  # Replace -100 with 0 (or another valid class index)\n",
    "\n",
    "    # Create one-hot encoded labels safely using torch.nn.functional.one_hot\n",
    "    one_hot = F.one_hot(labels_for_one_hot, num_classes=num_classes).float()  # [batch, seq-1, num_classes]\n",
    "\n",
    "    # Ensure one_hot is zeroed out where mask is False\n",
    "    one_hot = one_hot * mask.unsqueeze(-1).float()  # [batch, seq-1, num_classes]\n",
    "\n",
    "    # Compute the target distribution\n",
    "    targets_combined = soft_alpha * soft_probs + (1.0 - soft_alpha) * one_hot  # [batch, seq-1, num_classes]\n",
    "\n",
    "    # For positions to be ignored, set the entire distribution to 0\n",
    "    mask_expanded = mask.unsqueeze(-1).float()  # [batch, seq-1, 1]\n",
    "    targets_combined = targets_combined * mask_expanded  # [batch, seq-1, num_classes]\n",
    "\n",
    "    # Verify that target distributions sum to approximately 1 for valid positions\n",
    "    target_sums = targets_combined.sum(dim=-1)  # [batch, seq-1]\n",
    "    print(f\"Target sums (should be close to 1 for valid positions): {target_sums[mask]}\")\n",
    "\n",
    "    # Define the loss function\n",
    "    loss_fct = nn.KLDivLoss(reduction='batchmean')\n",
    "\n",
    "    # Compute log probabilities from logits\n",
    "    log_probs = F.log_softmax(shift_logits, dim=-1)  # [batch, seq-1, num_classes]\n",
    "\n",
    "    # Flatten the tensors for loss computation\n",
    "    loss = loss_fct(\n",
    "        log_probs.view(-1, num_classes),         # [batch * (seq-1), num_classes]\n",
    "        targets_combined.view(-1, num_classes)   # [batch * (seq-1), num_classes]\n",
    "    )\n",
    "\n",
    "    print(f\"Loss: {loss.item()}\")\n",
    "    loss.backward()  # Backpropagate if needed"
   ]
  },
  {
   "cell_type": "code",
   "execution_count": null,
   "metadata": {},
   "outputs": [],
   "source": [
    "import torch\n",
    "import torch.nn as nn\n",
    "import torch.nn.functional as F\n",
    "\n",
    "# Assume output.logits and fused_labels are provided\n",
    "# Shift logits and labels\n",
    "shift_logits = output.logits[:, :-1, :].contiguous()\n",
    "valid_targets = fused_labels[:, 1:].contiguous()\n",
    "\n",
    "num_classes = shift_logits.size(-1)\n",
    "\n",
    "# Create mask for valid targets\n",
    "mask = (valid_targets != -100)"
   ]
  },
  {
   "cell_type": "code",
   "execution_count": null,
   "metadata": {},
   "outputs": [],
   "source": [
    "\n",
    "# Compute softmax probabilities from logits\n",
    "soft_probs = F.softmax(shift_logits, dim=-1)"
   ]
  },
  {
   "cell_type": "code",
   "execution_count": null,
   "metadata": {},
   "outputs": [],
   "source": [
    "\n",
    "# Create one-hot encoded labels\n",
    "one_hot = torch.zeros_like(shift_logits).scatter(2, valid_targets.unsqueeze(-1), 1.0)\n"
   ]
  },
  {
   "cell_type": "code",
   "execution_count": null,
   "metadata": {},
   "outputs": [
    {
     "ename": "RuntimeError",
     "evalue": "CUDA error: device-side assert triggered\nCUDA kernel errors might be asynchronously reported at some other API call, so the stacktrace below might be incorrect.\nFor debugging consider passing CUDA_LAUNCH_BLOCKING=1.\nCompile with `TORCH_USE_CUDA_DSA` to enable device-side assertions.\n",
     "output_type": "error",
     "traceback": [
      "\u001b[0;31m---------------------------------------------------------------------------\u001b[0m",
      "\u001b[0;31mRuntimeError\u001b[0m                              Traceback (most recent call last)",
      "Cell \u001b[0;32mIn[10], line 3\u001b[0m\n\u001b[1;32m      1\u001b[0m \u001b[38;5;66;03m# Compute the target distribution\u001b[39;00m\n\u001b[1;32m      2\u001b[0m soft_alpha \u001b[38;5;241m=\u001b[39m \u001b[38;5;241m0.01\u001b[39m\n\u001b[0;32m----> 3\u001b[0m targets_combined \u001b[38;5;241m=\u001b[39m \u001b[43msoft_alpha\u001b[49m\u001b[43m \u001b[49m\u001b[38;5;241;43m*\u001b[39;49m\u001b[43m \u001b[49m\u001b[43msoft_probs\u001b[49m \u001b[38;5;241m+\u001b[39m (\u001b[38;5;241m1.0\u001b[39m \u001b[38;5;241m-\u001b[39m soft_alpha) \u001b[38;5;241m*\u001b[39m one_hot\n",
      "\u001b[0;31mRuntimeError\u001b[0m: CUDA error: device-side assert triggered\nCUDA kernel errors might be asynchronously reported at some other API call, so the stacktrace below might be incorrect.\nFor debugging consider passing CUDA_LAUNCH_BLOCKING=1.\nCompile with `TORCH_USE_CUDA_DSA` to enable device-side assertions.\n"
     ]
    }
   ],
   "source": [
    "\n",
    "# Compute the target distribution\n",
    "soft_alpha = 0.01\n",
    "targets_combined = soft_alpha * soft_probs + (1.0 - soft_alpha) * one_hot"
   ]
  },
  {
   "cell_type": "code",
   "execution_count": null,
   "metadata": {},
   "outputs": [
    {
     "data": {
      "text/plain": [
       "torch.Size([1, 2048])"
      ]
     },
     "execution_count": 6,
     "metadata": {},
     "output_type": "execute_result"
    }
   ],
   "source": [
    "batch[\"labels\"].shape"
   ]
  },
  {
   "cell_type": "code",
   "execution_count": null,
   "metadata": {},
   "outputs": [
    {
     "data": {
      "text/plain": [
       "(torch.Size([1, 2048]), torch.Size([1, 3, 336, 336]))"
      ]
     },
     "execution_count": 195,
     "metadata": {},
     "output_type": "execute_result"
    }
   ],
   "source": [
    "batch['input_ids'].shape, batch[\"pixel_values\"].shape"
   ]
  },
  {
   "cell_type": "code",
   "execution_count": null,
   "metadata": {},
   "outputs": [
    {
     "data": {
      "text/plain": [
       "torch.Size([1, 626, 50304])"
      ]
     },
     "execution_count": 196,
     "metadata": {},
     "output_type": "execute_result"
    }
   ],
   "source": [
    "output.logits.shape"
   ]
  },
  {
   "cell_type": "code",
   "execution_count": null,
   "metadata": {},
   "outputs": [
    {
     "data": {
      "text/plain": [
       "tensor([[[ 3.6875, -4.5312,  2.6875,  ..., -4.5312, -4.6250, -4.5312],\n",
       "         [ 7.8750, -3.0000,  0.6992,  ..., -3.1562, -2.9531, -2.9531],\n",
       "         [ 8.7500, -2.8281,  1.3828,  ..., -2.8750, -2.7812, -2.7031],\n",
       "         ...,\n",
       "         [ 8.9375, -2.3281,  2.3438,  ..., -2.3594, -2.4531, -2.4844],\n",
       "         [ 9.7500, -2.2344,  2.7344,  ..., -2.2031, -2.3594, -2.2500],\n",
       "         [ 8.3125, -2.3125,  0.5898,  ..., -2.3125, -2.4062, -2.4688]]],\n",
       "       device='cuda:0', dtype=torch.bfloat16)"
      ]
     },
     "execution_count": 197,
     "metadata": {},
     "output_type": "execute_result"
    }
   ],
   "source": [
    "output.logits"
   ]
  },
  {
   "cell_type": "code",
   "execution_count": null,
   "metadata": {},
   "outputs": [],
   "source": [
    "# Convert logits to softmax probabilities\n",
    "import torch.nn.functional as F\n",
    "probs = F.softmax(output.logits.squeeze(0), dim=-1)"
   ]
  },
  {
   "cell_type": "code",
   "execution_count": null,
   "metadata": {},
   "outputs": [
    {
     "data": {
      "text/plain": [
       "torch.Size([626, 50304])"
      ]
     },
     "execution_count": 199,
     "metadata": {},
     "output_type": "execute_result"
    }
   ],
   "source": [
    "probs.shape"
   ]
  },
  {
   "cell_type": "code",
   "execution_count": null,
   "metadata": {},
   "outputs": [
    {
     "data": {
      "image/png": "[encoded data removed]",
      "text/plain": [
       "<Figure size 1200x800 with 2 Axes>"
      ]
     },
     "metadata": {},
     "output_type": "display_data"
    }
   ],
   "source": [
    "import torch\n",
    "import torch.nn.functional as F\n",
    "import matplotlib.pyplot as plt\n",
    "import seaborn as sns\n",
    "\n",
    "# Assuming 'output' contains the logits, and they are already squeezed.\n",
    "# Convert logits to softmax probabilities\n",
    "TOP_N_PROBS = 15\n",
    "FIRST_N_TOKENS = 100\n",
    "probs = F.softmax(output.logits.squeeze(0), dim=-1)\n",
    "\n",
    "# Step 1: Extract probabilities for the first 100 tokens\n",
    "probs_first_100_tokens = probs[:FIRST_N_TOKENS, :]  # Shape: [100, 50304]\n",
    "\n",
    "# Step 2: For each token, select the top 100 probabilities from the 50304 vocabulary options\n",
    "top_probs, top_indices = torch.topk(probs_first_100_tokens, k=TOP_N_PROBS, dim=-1)\n",
    "\n",
    "# Step 3: Convert tensors to numpy for plotting\n",
    "top_probs_np = top_probs.to(torch.float16).detach().cpu().numpy()\n",
    "\n",
    "# Step 4: Plotting the heatmap\n",
    "plt.figure(figsize=(12, 8))\n",
    "sns.heatmap(top_probs_np, cbar=True)\n",
    "\n",
    "# Customize the plot with labels and title\n",
    "plt.title(f'Heatmap of Top {TOP_N_PROBS} Vocabulary Probabilities for First {FIRST_N_TOKENS} Tokens')\n",
    "plt.xlabel(f'Top {TOP_N_PROBS} Vocabulary Indices')\n",
    "plt.ylabel(f'First {FIRST_N_TOKENS} Tokens')\n",
    "plt.show()"
   ]
  },
  {
   "cell_type": "code",
   "execution_count": null,
   "metadata": {},
   "outputs": [
    {
     "data": {
      "image/png": "[encoded data removed]",
      "text/plain": [
       "<Figure size 1200x800 with 2 Axes>"
      ]
     },
     "metadata": {},
     "output_type": "display_data"
    }
   ],
   "source": [
    "import torch\n",
    "import torch.nn.functional as F\n",
    "import matplotlib.pyplot as plt\n",
    "import seaborn as sns\n",
    "\n",
    "# Assuming 'output' contains the logits, and they are already squeezed.\n",
    "# Convert logits to softmax probabilities\n",
    "TOP_N_PROBS = 15\n",
    "FIRST_N_TOKENS = 100\n",
    "probs = F.softmax(output.logits.squeeze(0), dim=-1)\n",
    "\n",
    "# Step 1: Extract probabilities for the first 100 tokens\n",
    "probs_first_100_tokens = probs[:FIRST_N_TOKENS, :]  # Shape: [100, 50304]\n",
    "\n",
    "# Step 2: For each token, select the top 100 probabilities from the 50304 vocabulary options\n",
    "top_probs, top_indices = torch.topk(probs_first_100_tokens, k=TOP_N_PROBS, dim=-1)\n",
    "\n",
    "# Step 3: Convert tensors to numpy for plotting\n",
    "top_probs_np = top_probs.to(torch.float16).detach().cpu().numpy()\n",
    "\n",
    "# Step 4: Plotting the heatmap\n",
    "plt.figure(figsize=(12, 8))\n",
    "sns.heatmap(top_probs_np, cbar=True)\n",
    "\n",
    "# Customize the plot with labels and title\n",
    "plt.title(f'Heatmap of Top {TOP_N_PROBS} Vocabulary Probabilities for First {FIRST_N_TOKENS} Tokens')\n",
    "plt.xlabel(f'Top {TOP_N_PROBS} Vocabulary Indices')\n",
    "plt.ylabel(f'First {FIRST_N_TOKENS} Tokens')\n",
    "plt.show()"
   ]
  },
  {
   "cell_type": "code",
   "execution_count": null,
   "metadata": {},
   "outputs": [
    {
     "data": {
      "image/png": "[encoded data removed]",
      "text/plain": [
       "<Figure size 640x480 with 2 Axes>"
      ]
     },
     "metadata": {},
     "output_type": "display_data"
    }
   ],
   "source": [
    "\n",
    "\n",
    "\n",
    "# Plot the distribution of output logits for the first token \n",
    "import matplotlib.pyplot as plt\n",
    "# plt.hist(probs[0, :].to(torch.float16).detach().cpu().numpy(), bins=10000)\n",
    "# plt.show()\n",
    "\n",
    "# Now plot a 2D histogram of the logits. One dimension is the token index, the other is the logit distribution\n",
    "import seaborn as sns\n",
    "sns.heatmap(probs[:100, :].to(torch.float16).detach().cpu().numpy(), cmap='viridis')\n",
    "plt.show()\n"
   ]
  },
  {
   "cell_type": "code",
   "execution_count": null,
   "metadata": {},
   "outputs": [
    {
     "name": "stdout",
     "output_type": "stream",
     "text": [
      "Decoded Output: AYesYesNoNoYesNoYesNothethethethethethethethethethethe room with club clubthethe room room house athethethe with with room with with with room room with with door door door. withthethe withthethethethe doorthethethe with with hair hair hair hair door door door woodenthethe in in hair womanthethethethe are are are in inways women man man...... screenAYes door are in are in areways in with man...... are are and shirt with are in in in are in..Yes man man are shirts in. in in and and are. door. a man are man in in are in. are and and and. in... on. in. in.... are shirt and and and. computer.. w a.. in in. in in are are are. shirts are and with music.. on man with with in on with a in with and shirt are in a computer. man. man a a on man shirt in are in in are music.. a man mat a watch in in with in music musicTTTT people people a athethethethethethe man peoplethethethe people people manthethethethethethethe man man man peoplethethe manthethe man manthethethethe people man manthethethe manthe man manthethethethethethe man manthethethe man man man manthe manthethethe manthethethe manthe man man with the man group. a older.. the man is a advice accurate information accurate accurate advice. the man. questions. there a wearing or No No No no no no no no NoNo No\n"
     ]
    }
   ],
   "source": [
    "input_ids = batch[\"input_ids\"]\n",
    "decoded_input = tokenizer.decode(input_ids.flatten()).strip()\n",
    "decoded_labels = tokenizer.decode(batch[\"labels\"].flatten()).strip()\n",
    "# Ignore special tokens for output\n",
    "decoded_output = tokenizer.decode(output.logits.argmax(dim=-1).flatten()[new_input_ids.shape[1] :], skip_special_tokens=True).strip()\n",
    "#print(\"Decoded Input:\", decoded_input)\n",
    "print(\"Decoded Output:\", decoded_output)"
   ]
  },
  {
   "cell_type": "code",
   "execution_count": null,
   "metadata": {},
   "outputs": [],
   "source": []
  },
  {
   "cell_type": "code",
   "execution_count": null,
   "metadata": {},
   "outputs": [
    {
     "name": "stderr",
     "output_type": "stream",
     "text": [
      "The attention mask and the pad token id were not set. As a consequence, you may observe unexpected behavior. Please pass your input's `attention_mask` to obtain reliable results.\n",
      "Setting `pad_token_id` to `eos_token_id`:0 for open-end generation.\n"
     ]
    }
   ],
   "source": [
    "from prismatic.models.vlms import PrismaticVLM\n",
    "with torch.autocast(\"cuda\", dtype=torch.bfloat16):\n",
    "    # fmt: off\n",
    "    generated_ids = super(PrismaticVLM, vlm.model).generate(\n",
    "        input_ids=batch['input_ids'],            # Shape: [1, seq]\n",
    "        pixel_values=batch[\"pixel_values\"],      # Shape: [1, 3, res, res] or Dict[str, Shape[1, 3, res, res]]\n",
    "        #attention_mask=batch[\"attention_mask\"],\n",
    "        do_sample = True,\n",
    "        temperature = 1.0,\n",
    "        max_new_tokens = 512,\n",
    "        min_length = 10\n",
    "    )\n",
    "    # fmt: on"
   ]
  },
  {
   "cell_type": "code",
   "execution_count": null,
   "metadata": {},
   "outputs": [
    {
     "name": "stdout",
     "output_type": "stream",
     "text": [
      "ANT: No<|endoftext|>USER: Is the man smiling? ASSISTANT: Yes<|endoftext|>USER: Is this man writing? ASSISTANT: No<|endoftext|>USER: Who seems more happier? ASSISTANT: Men<|endoftext|>USER: How many people in this photo appear to be holding gaming controllers? ASSISTANT: 2<|endoftext|>USER: What is on the man's wrist? ASSISTANT: Watch<|endoftext|>USER: What is in the guys hand? ASSISTANT: Wii remote<|endoftext|>USER: Are they inside? ASSISTANT: Yes<|endoftext|>USER: What color is his hair? ASSISTANT: Gray<|endoftext|>USER: What part of this man's outfit is missing? ASSISTANT: Shirt<|endoftext|>USER: Is this a test waiting room? ASSISTANT: No<|endoftext|>USER: Is the man wearing a tie? ASSISTANT: No<|endoftext|>USER: What is the person in white t-shirt holding? ASSISTANT: Wii remote<|endoftext|>USER: What kind of electronic device is the man using? ASSISTANT: Wii<|endoftext|>USER: Is anyone else in the room with the man? ASSISTANT: Yes<|endoftext|>USER: What color is the old man's shirt? ASSISTANT: White<|endoftext|>USER: Where are the boys sitting? ASSISTANT: Nowhere<|endoftext|>USER: What does the man's shirt say? ASSISTANT: Nothing<|endoftext|>USER: Is this an old person? ASSISTANT: Yes<|endoftext|>USER: Is it around holiday times in this picture? ASSISTANT: No<|endoftext|>USER: What are the men looking at? ASSISTANT: Tv<|endoftext|>USER: Why is this man shirtless? ASSISTANT: He isn't<|endoftext|>USER: What is the woman playing? ASSISTANT: Wii<|endoftext|>USER: What is on the man's right arm? ASSISTANT: Wii controller<|endoftext|>USER: What game is being played by the gentlemen? ASSISTANT: Wii<|endoftext|>USER: Is this man wearing a black shirt? ASSISTANT: No<|endoftext|>USER: How many people are in the pic? ASSISTANT: 4<|endoftext|>USER: What sort of room are they in? ASSISTANT: Living room<|endoftext|>USER: What room of the house does this item belong in? ASSISTANT: Living room<|endoftext|>USER: What are both men holding? ASSISTANT: Wii remotes<|endoftext|>USER: Is this man a parent? ASSISTANT: Yes<|endoftext|>USER: What are the men holding in their hands? ASSISTANT: Wii remote<|endoftext|>USER: What are both men wearing on their heads? ASSISTANT: Glasses<|endoftext|>USER: Do you think this adult woman is sitting on a chair? ASSISTANT: No<|endoftext|>USER: How many males are seen in the photo? ASSISTANT: 2<|endoftext|>USER: What are the guys standing around? ASSISTANT: Asian<|endoftext|>USER: How many people are wearing hats? ASSISTANT: 0<|endoftext|>USER: Are they intoxicated? ASSISTANT: No<|endoftext|>USER: Are the people in the background real? ASSISTANT: Yes<|endoftext|>USER: Is there any fruit in the picture? ASSISTANT: No<|endoftext|>USER: What are they standing on? ASSISTANT: Floor<|endoftext|>USER: Does the man in the background have facial hair? ASSISTANT: No<|endoftext|>USER: How many people in the photo? ASSISTANT: 4<|endoftext|>USER: What is the ethnicity of these people? ASSISTANT: Asian<|endoftext|>USER: How many people are wearing glasses? ASSISTANT: 4<|endoftext|>USER: How many people are in this family? ASSISTANT: 4<|endoftext|>USER: Is this man wearing a tie? ASSISTANT: No<|endoftext|>USER: Is everyone's face visible? ASSISTANT: Yes<|endoftext|>USER: Are the people cooking? ASSISTANT: No<|endoftext|>USER: Did the man shave? ASSISTANT: Yes<|endoftext|>USER: How many people are there? ASSISTANT: 4<|endoftext|>USER: What is the man wearing on his face? ASSISTANT: Glasses<|endoftext|>USER: How many pairs of glasses are in the scene? ASSISTANT: 4<|endoftext|>USER: Does he have gray hair? ASSISTANT: Yes<|endoftext|>USER: Are the people in this image of the same nationality? ASSISTANT: Yes<|endoftext|>USER: Is there a person laying on the floor? ASSISTANT: No<|endoftext|>USER: What is the man doing? ASSISTANT: Playing wii<|endoftext|>USER: What is the wall behind him made of? ASSISTANT: Drywall<|endoftext|>USER: Is this person wearing protective gear? ASSISTANT: No<|endoftext|>USER: How many people are standing in the background? ASSISTANT: 2<|endoftext|>USER: What time of day is it? ASSISTANT: Evening<|endoftext|>USER: What is the gender of the person in a sleeveless shirt? ASSISTANT: Male<|endoftext|>USER: Is someone wearing a red shirt? ASSISTANT: No<|endoftext|>USER: How many women are in the room? ASSISTANT: 1<|endoftext|>USER: Is the man sad? ASSISTANT: No<|endoftext|>USER: What is the bent over man doing? ASSISTANT: Playing<|endoftext|>USER: Does everyone have hair? ASSISTANT: Yes<|endoftext|>USER: What type of jewelry does he wear? ASSISTANT: Watch<|endoftext|>USER: How many men wearing eyeglasses? ASSISTANT: 2<|endoftext|>USER: Is the door open? ASSISTANT: No<|endoftext|>USER: Are they indoors? ASSISTANT: Yes<|endoftext|>USER: How is the man holding his arms? ASSISTANT: Wii controller<|endoftext|>USER: What are these people wearing on their faces? ASSISTANT: Glasses<|endoftext|>USER: What color are the poles? ASSISTANT: White<|endoftext|>USER: Is the person traveling? ASSISTANT: No<|endoftext|>USER: Who is wearing glasses? ASSISTANT: Everyone<|endoftext|>USER: What are both men holding in their hands? ASSISTANT: Wii remotes<|endoftext|>USER: What does the woman have on her face? ASSISTANT: Glasses<|endoftext|>USER: How many men are in the picture? ASSISTANT: 2<|endoftext|>USER: What is the man holding? ASSISTANT: Wii remote<|endoftext|>USER: What color shirts are these 2 people wearing? ASSISTANT: White<|endoftext|>USER: What color is the boys bracelet? ASSISTANT: White<|endoftext|>USER: Is it windy? ASSISTANT: No<|endoftext|>USER: How many people are there in the picture? ASSISTANT: 4<|endoftext|>USER: What is the guy in the white shirt doing? ASSISTANT: Playing wii<|endoftext|>USER: What objects are the men holding? ASSISTANT: Wii controllers<|endoftext|>USER: How many parking meters can be seen? ASSISTANT: 0<|endoftext|>USER: How many people can be seen? ASSISTANT: 4<|endoftext|>USER: Could there be a beer bottle? ASSISTANT: No<|endoftext|>USER: What are the men doing? ASSISTANT: Playing wii<|endoftext|>USER: What is this guy doing? ASSISTANT: Playing wii<|endoftext|>USER: How many people are in the picture? ASSISTANT: 4<|endoftext|>USER: Is the man dressed formally? ASSISTANT: No<|endoftext|>USER: Does this person appear to need a cane due to old age? ASSISTANT: No<|endoftext|>USER: What's on the woman's head? ASSISTANT: Hair<|endoftext|>USER: Are the men related? ASSISTANT: Yes<|endoftext|>USER: Is there a grocery store visible here? ASSISTANT: No<|endoftext|>USER: What is he on? ASSISTANT: Floor<|endoftext|>USER: Where might this photo have been taken? ASSISTANT: Living room<|endoftext|>USER: Is the man waiting for his luggage? ASSISTANT: No<|endoftext|>USER: Is the man bald head? ASSISTANT: No<|endoftext|>USER: Is he indoors or outdoors? ASSISTANT: Indoors<|endoftext|>USER: Is this on a boat? ASSISTANT: No<|endoftext|>USER: What is he holding? ASSISTANT: Wii remote<|endoftext|>USER: What is the man leaning on? ASSISTANT: Couch<|endoftext|>USER: Who is playing Wii? ASSISTANT: Men<|endoftext|>USER: What's in the man's right hand? ASSISTANT: Remote<|endoftext|>USER: What is on the man's face? ASSISTANT: Glasses<|endoftext|>USER: Are these men friendly? ASSISTANT: Yes<|endoftext|>USER: Are either of them holding iPhones? ASSISTANT: No<|endoftext|>USER: How many girls are there? ASSISTANT: 2<|endoftext|>USER: What is the third person in the line have around their arm? ASSISTANT: Controller<|endoftext|>USER: What is above the young man's head? ASSISTANT: Ceiling<|endoftext|>USER: Could he break his neck? ASSISTANT: No<|endoftext|>USER: Are they playing Xbox? ASSISTANT: No<|endoftext|>USER: Do they both wear glasses? ASSISTANT: Yes<|endoftext|>USER: What is behind the older man in the scene? ASSISTANT: Laptop<|endoftext|>USER: What is the man holding in his right hand? ASSISTANT: Wii remote control, which has the words<|endoftext|>\n"
     ]
    }
   ],
   "source": [
    "generated_text = tokenizer.decode(generated_ids[0, new_input_ids.shape[1] :]).strip()\n",
    "print(generated_text)"
   ]
  },
  {
   "cell_type": "code",
   "execution_count": null,
   "metadata": {},
   "outputs": [
    {
     "data": {
      "image/png": "[encoded data removed]",
      "text/plain": [
       "<Figure size 640x480 with 1 Axes>"
      ]
     },
     "metadata": {},
     "output_type": "display_data"
    },
    {
     "name": "stdout",
     "output_type": "stream",
     "text": [
      "<|endoftext|>A chat between a curious user and an artificial intelligence assistant. The assistant gives helpful, detailed, and polite answers to the user's questions. USER: Is this person alone?\n",
      "Answer the question using a single word or phrase. ASSISTANT: No<|endoftext|>USER: Is the man smiling? ASSISTANT: Yes<|endoftext|>USER: Is this man writing? ASSISTANT: No<|endoftext|>USER: Who seems more happier? ASSISTANT: Men<|endoftext|>USER: How many people in this photo appear to be holding gaming controllers? ASSISTANT: 2<|endoftext|>USER: What is on the man's wrist? ASSISTANT: Watch<|endoftext|>USER: What is in the guys hand? ASSISTANT: Wii remote<|endoftext|>USER: Are they inside? ASSISTANT: Yes<|endoftext|>USER: What color is his hair? ASSISTANT: Gray<|endoftext|>USER: What part of this man's outfit is missing? ASSISTANT: Shirt<|endoftext|>USER: Is this a test waiting room? ASSISTANT: No<|endoftext|>USER: Is the man wearing a tie? ASSISTANT: No<|endoftext|>USER: What is the person in white t-shirt holding? ASSISTANT: Wii remote<|endoftext|>USER: What kind of electronic device is the man using? ASSISTANT: Wii<|endoftext|>USER: Is anyone else in the room with the man? ASSISTANT: Yes<|endoftext|>USER: What color is the old man's shirt? ASSISTANT: White<|endoftext|>USER: Where are the boys sitting? ASSISTANT: Nowhere<|endoftext|>USER: What does the man's shirt say? ASSISTANT: Nothing<|endoftext|>USER: Is this an old person? ASSISTANT: Yes<|endoftext|>USER: Is it around holiday times in this picture? ASSISTANT: No<|endoftext|>USER: What are the men looking at? ASSISTANT: Tv<|endoftext|>USER: Why is this man shirtless? ASSISTANT: He isn't<|endoftext|>USER: What is the woman playing? ASSISTANT: Wii<|endoftext|>USER: What is on the man's right arm? ASSISTANT: Wii controller<|endoftext|>USER: What game is being played by the gentlemen? ASSISTANT: Wii<|endoftext|>USER: Is this man wearing a black shirt? ASSISTANT: No<|endoftext|>USER: How many people are in the pic? ASSISTANT: 4<|endoftext|>USER: What sort of room are they in? ASSISTANT: Living room<|endoftext|>USER: What room of the house does this item belong in? ASSISTANT: Living room<|endoftext|>USER: What are both men holding? ASSISTANT: Wii remotes<|endoftext|>USER: Is this man a parent? ASSISTANT: Yes<|endoftext|>USER: What are the men holding in their hands? ASSISTANT: Wii remote<|endoftext|>USER: What are both men wearing on their heads? ASSISTANT: Glasses<|endoftext|>USER: Do you think this adult woman is sitting on a chair? ASSISTANT: No<|endoftext|>USER: How many males are seen in the photo? ASSISTANT: 2<|endoftext|>USER: What are the guys standing around? ASSISTANT: Asian<|endoftext|>USER: How many people are wearing hats? ASSISTANT: 0<|endoftext|>USER: Are they intoxicated? ASSISTANT: No<|endoftext|>USER: Are the people in the background real? ASSISTANT: Yes<|endoftext|>USER: Is there any fruit in the picture? ASSISTANT: No<|endoftext|>USER: What are they standing on? ASSISTANT: Floor<|endoftext|>USER: Does the man in the background have facial hair? ASSISTANT: No<|endoftext|>USER: How many people in the photo? ASSISTANT: 4<|endoftext|>USER: What is the ethnicity of these people? ASSISTANT: Asian<|endoftext|>USER: How many people are wearing glasses? ASSISTANT: 4<|endoftext|>USER: How many people are in this family? ASSISTANT: 4<|endoftext|>USER: Is this man wearing a tie? ASSISTANT: No<|endoftext|>USER: Is everyone's face visible? ASSISTANT: Yes<|endoftext|>USER: Are the people cooking? ASSISTANT: No<|endoftext|>USER: Did the man shave? ASSISTANT: Yes<|endoftext|>USER: How many people are there? ASSISTANT: 4<|endoftext|>USER: What is the man wearing on his face? ASSISTANT: Glasses<|endoftext|>USER: How many pairs of glasses are in the scene? ASSISTANT: 4<|endoftext|>USER: Does he have gray hair? ASSISTANT: Yes<|endoftext|>USER: Are the people in this image of the same nationality? ASSISTANT: Yes<|endoftext|>USER: Is there a person laying on the floor? ASSISTANT: No<|endoftext|>USER: What is the man doing? ASSISTANT: Playing wii<|endoftext|>USER: What is the wall behind him made of? ASSISTANT: Drywall<|endoftext|>USER: Is this person wearing protective gear? ASSISTANT: No<|endoftext|>USER: How many people are standing in the background? ASSISTANT: 2<|endoftext|>USER: What time of day is it? ASSISTANT: Evening<|endoftext|>USER: What is the gender of the person in a sleeveless shirt? ASSISTANT: Male<|endoftext|>USER: Is someone wearing a red shirt? ASSISTANT: No<|endoftext|>USER: How many women are in the room? ASSISTANT: 1<|endoftext|>USER: Is the man sad? ASSISTANT: No<|endoftext|>USER: What is the bent over man doing? ASSISTANT: Playing<|endoftext|>USER: Does everyone have hair? ASSISTANT: Yes<|endoftext|>USER: What type of jewelry does he wear? ASSISTANT: Watch<|endoftext|>USER: How many men wearing eyeglasses? ASSISTANT: 2<|endoftext|>USER: Is the door open? ASSISTANT: No<|endoftext|>USER: Are they indoors? ASSISTANT: Yes<|endoftext|>USER: How is the man holding his arms? ASSISTANT: Wii controller<|endoftext|>USER: What are these people wearing on their faces? ASSISTANT: Glasses<|endoftext|>USER: What color are the poles? ASSISTANT: White<|endoftext|>USER: Is the person traveling? ASSISTANT: No<|endoftext|>USER: Who is wearing glasses? ASSISTANT: Everyone<|endoftext|>USER: What are both men holding in their hands? ASSISTANT: Wii remotes<|endoftext|>USER: What does the woman have on her face? ASSISTANT: Glasses<|endoftext|>USER: How many men are in the picture? ASSISTANT: 2<|endoftext|>USER: What is the man holding? ASSISTANT: Wii remote<|endoftext|>USER: What color shirts are these 2 people wearing? ASSISTANT: White<|endoftext|>USER: What color is the boys bracelet? ASSISTANT: White<|endoftext|>USER: Is it windy? ASSISTANT: No<|endoftext|>USER: How many people are there in the picture? ASSISTANT: 4<|endoftext|>USER: What is the guy in the white shirt doing? ASSISTANT: Playing wii<|endoftext|>USER: What objects are the men holding? ASSISTANT: Wii controllers<|endoftext|>USER: How many parking meters can be seen? ASSISTANT: 0<|endoftext|>USER: How many people can be seen? ASSISTANT: 4<|endoftext|>USER: Could there be a beer bottle? ASSISTANT: No<|endoftext|>USER: What are the men doing? ASSISTANT: Playing wii<|endoftext|>USER: What is this guy doing? ASSISTANT: Playing wii<|endoftext|>USER: How many people are in the picture? ASSISTANT: 4<|endoftext|>USER: Is the man dressed formally? ASSISTANT: No<|endoftext|>USER: Does this person appear to need a cane due to old age? ASSISTANT: No<|endoftext|>USER: What's on the woman's head? ASSISTANT: Hair<|endoftext|>USER: Are the men related? ASSISTANT: Yes<|endoftext|>USER: Is there a grocery store visible here? ASSISTANT: No<|endoftext|>USER: What is he on? ASSISTANT: Floor<|endoftext|>USER: Where might this photo have been taken? ASSISTANT: Living room<|endoftext|>USER: Is the man waiting for his luggage? ASSISTANT: No<|endoftext|>USER: Is the man bald head? ASSISTANT: No<|endoftext|>USER: Is he indoors or outdoors? ASSISTANT: Indoors<|endoftext|>USER: Is this on a boat? ASSISTANT: No<|endoftext|>USER: What is he holding? ASSISTANT: Wii remote<|endoftext|>USER: What is the man leaning on? ASSISTANT: Couch<|endoftext|>USER: Who is playing Wii? ASSISTANT: Men<|endoftext|>USER: What's in the man's right hand? ASSISTANT: Remote<|endoftext|>USER: What is on the man's face? ASSISTANT: Glasses<|endoftext|>USER: Are these men friendly? ASSISTANT: Yes<|endoftext|>USER: Are either of them holding iPhones? ASSISTANT: No<|endoftext|>USER: How many girls are there? ASSISTANT: 2<|endoftext|>USER: What is the third person in the line have around their arm? ASSISTANT: Controller<|endoftext|>USER: What is above the young man's head? ASSISTANT: Ceiling<|endoftext|>USER: Could he break his neck? ASSISTANT: No<|endoftext|>USER: Are they playing Xbox? ASSISTANT: No<|endoftext|>USER: Do they both wear glasses? ASSISTANT: Yes<|endoftext|>USER: What is behind the older man in the scene? ASSISTANT: Laptop<|endoftext|>USER: What is the man holding in his right hand? ASSISTANT: Wii remote\n"
     ]
    }
   ],
   "source": [
    "# Plot the pixelvalues in batch[\"pixel_values\"]\n",
    "import matplotlib.pyplot as plt\n",
    "import numpy as np\n",
    "# Scale image by min max normalizing to 0-255 then plot\n",
    "pixel_values = batch[\"pixel_values\"]\n",
    "pixel_values = pixel_values.squeeze(0).permute(1, 2, 0).cpu().numpy()\n",
    "pixel_values = (pixel_values - pixel_values.min()) / (pixel_values.max() - pixel_values.min()) * 255\n",
    "plt.imshow(pixel_values.astype(np.uint8))\n",
    "plt.show()\n",
    "\n",
    "print(decoded_input)"
   ]
  },
  {
   "cell_type": "code",
   "execution_count": null,
   "metadata": {},
   "outputs": [
    {
     "name": "stdout",
     "output_type": "stream",
     "text": [
      "up up up\n",
      "\n",
      "<|endoftext|><|endoftext|><|endoftext|> up<|endoftext|>\n",
      "\n",
      "\n",
      "\n",
      "<|endoftext|>\n",
      "<|endoftext|><|endoftext|><|endoftext|>\n",
      "\n",
      "\n",
      "<|endoftext|><|endoftext|><|endoftext|><|endoftext|>\n",
      "\n",
      "\n",
      "<|endoftext|>\n",
      "<|endoftext|><|endoftext|>\n",
      "<|endoftext|>\n",
      "\n",
      "\n",
      "<|endoftext|>\n",
      "\n",
      "<|endoftext|><|endoftext|><|endoftext|>\n",
      "<|endoftext|><|endoftext|> up<|endoftext|><|endoftext|>\n",
      "\n",
      "\n",
      "\n",
      "<|endoftext|><|endoftext|><|endoftext|>\n",
      "<|endoftext|>\n",
      "\n",
      "\n",
      "<|endoftext|>\n",
      "<|endoftext|><|endoftext|><|endoftext|><|endoftext|><|endoftext|><|endoftext|><|endoftext|><|endoftext|> of\n",
      "\n",
      "\n",
      "\n",
      "<|endoftext|><|endoftext|><|endoftext|><|endoftext|><|endoftext|><|endoftext|>\n",
      "<|endoftext|><|endoftext|><|endoftext|>\n",
      "<|endoftext|><|endoftext|><|endoftext|><|endoftext|><|endoftext|>\n",
      "<|endoftext|><|endoftext|><|endoftext|><|endoftext|> of<|endoftext|>\n",
      " party party room with\n",
      " with<|endoftext|>\n",
      "<|endoftext|>\n",
      " with house room party house\n",
      " party<|endoftext|> party<|endoftext|> with room with house\n",
      " of\n",
      "\n",
      "\n",
      " with withroomroomroom with house house with with with with wall wall with with with with\n",
      "<|endoftext|><|endoftext|>\n",
      "\n",
      "<|endoftext|> with\n",
      "\n",
      "<|endoftext|> with with with with house door wood wood wood wood withe\n",
      "<|endoftext|><|endoftext|>\n",
      "\n",
      "<|endoftext|>room\n",
      " with<|endoftext|>\n",
      "<|endoftext|><|endoftext|> and and ra with with<|endoftext|> with with wood wood\n",
      "\n",
      " wood window<|endoftext|><|endoftext|><|endoftext|><|endoftext|> with withroom<|endoftext|><|endoftext|> with girl girl man man man boxes box wooden wood of<|endoftext|>\n",
      " wall wooden<|endoftext|>\n",
      "\n",
      "<|endoftext|><|endoftext|> with-, house with-<|endoftext|>- hair hair with<|endoftext|> with with with<|endoftext|><|endoftext|> wood<|endoftext|><|endoftext|><|endoftext|><|endoftext|> in in in in in steps steps women women. women. with boxes bottle bottle<|endoftext|><|endoftext|><|endoftext|>ers television\n",
      "\n",
      "<|endoftext|> of in of in of steps in in women women women man<|endoftext|> wood bottle bottle<|endoftext|><|endoftext|><|endoftext|> wall<|endoftext|> with<|endoftext|> of women and shirts and and are wood in in in sit sit man man music with with<|endoftext|><|endoftext|><|endoftext|><|endoftext|>\n",
      "<|endoftext|> and man<|endoftext|> of and in with wood sit are and and sit on computer, television<|endoftext|> with background wall party<|endoftext|><|endoftext|> man in men in in in in with in and and and and in men man man is with<|endoftext|> game game a on playing<|endoftext|><|endoftext|> and men with playing<|endoftext|> in shirt and and and shorts man man with and with<|endoftext|> a Wii band each<|endoftext|> in in and in play in are in and shirts with and in one man with and with with room with on man man in<|endoftext|> in on men each men each and and in in men man man tv man man couch with man man<|endoftext|> man man with each man each each man shorts in in in in in man with man background screen room room man<|endoftext|><|endoftext|><|endoftext|> man game game a paper man each man man man in and with man man man<|endoftext|>\n",
      "\n",
      "\n",
      "\n",
      "\n",
      "<|endoftext|> a<|endoftext|><|endoftext|><|endoftext|>\n",
      "\n",
      "\n",
      "\n",
      "\n",
      "\n",
      "<|endoftext|><|endoftext|><|endoftext|><|endoftext|>\n",
      "<|endoftext|><|endoftext|><|endoftext|><|endoftext|>\n",
      "\n",
      "<|endoftext|><|endoftext|><|endoftext|><|endoftext|><|endoftext|><|endoftext|><|endoftext|><|endoftext|><|endoftext|><|endoftext|><|endoftext|><|endoftext|><|endoftext|><|endoftext|><|endoftext|><|endoftext|><|endoftext|><|endoftext|><|endoftext|><|endoftext|><|endoftext|><|endoftext|><|endoftext|><|endoftext|><|endoftext|><|endoftext|><|endoftext|><|endoftext|><|endoftext|><|endoftext|><|endoftext|><|endoftext|><|endoftext|><|endoftext|><|endoftext|><|endoftext|><|endoftext|><|endoftext|><|endoftext|><|endoftext|><|endoftext|><|endoftext|><|endoftext|> up<|endoftext|><|endoftext|><|endoftext|><|endoftext|><|endoftext|><|endoftext|><|endoftext|><|endoftext|><|endoftext|><|endoftext|><|endoftext|><|endoftext|><|endoftext|><|endoftext|><|endoftext|><|endoftext|><|endoftext|><|endoftext|><|endoftext|><|endoftext|><|endoftext|><|endoftext|><|endoftext|> up man a two man group. a Asian light.\n",
      "\n",
      " man\n",
      " the light but information and a response to the questions...<|endoftext|>$<|endoftext|><|endoftext|> there a wearing or<|endoftext|>\n",
      ": question<|endoftext|> the no word<|endoftext|> no<|endoftext|><|endoftext|><|endoftext|><|endoftext|>:NoNo<|endoftext|>\n",
      ": Is there person in?<|endoftext|>:::YesYes<|endoftext|>\n",
      ": Is there man wearing on<|endoftext|>::: NoNo<|endoftext|>\n",
      ": Is are to happy?<|endoftext|>::: ManMan<|endoftext|>\n",
      ": Is many people are the room? to be Asian a controllers?<|endoftext|>::: 22<|endoftext|>\n",
      ": Is is the the man's shirt?<|endoftext|>IST:: TT<|endoftext|>\n",
      ": Is is the the man hand?<|endoftext|>IST:: WWii controller<|endoftext|>\n",
      ": Is there all or<|endoftext|>IST::YesYes<|endoftext|>\n",
      ": What is shirt the shirt?<|endoftext|>IST:: BlGray<|endoftext|>\n",
      ": Is is of the photo's body is white?<|endoftext|>::: BackBackirt<|endoftext|>\n",
      ": Is there man man or room?<|endoftext|>IST:: NoNo<|endoftext|>\n",
      ": Is there man wearing a shirt?<|endoftext|>IST::YesYes<|endoftext|>\n",
      ": Is is the man in the shirt-shirt doing?<|endoftext|>IST:: WiiWii remote<|endoftext|>\n",
      ": Is is of game device is the man holding?<|endoftext|>IST:: WiiWii<|endoftext|>\n",
      ": Is there else in the photo? him man?<|endoftext|>IST:: NoNo<|endoftext|>\n",
      ": Is is is the man man in shirt?<|endoftext|>IST:: WhiteWhite<|endoftext|>\n",
      ": Is is the man in?<|endoftext|>IST:: OnOnhere<|endoftext|>\n",
      ": Is is the man in shirt say on<|endoftext|>IST:: \"\"<|endoftext|>\n",
      ": Is there man old man?<|endoftext|>IST:: NoYes<|endoftext|>\n",
      ": Is there a the time? the room?<|endoftext|>IST:: NoNo<|endoftext|>\n",
      ": Is is the man doing at?<|endoftext|>IST:: WiiWv<|endoftext|>\n",
      ": Is did the man smiling is?<|endoftext|>IST:: HeHe is't wearing\n",
      ": Is is the man in on<|endoftext|>IST:: WiiWii<|endoftext|>\n",
      ": Is is the the man's wrist arm?<|endoftext|>IST:: WTii remote<|endoftext|>\n",
      ": Is is is the played? the man?<|endoftext|>IST:: WiiWii<|endoftext|>\n",
      ": What there man wearing a tie shirt?<|endoftext|>IST::YesYes<|endoftext|>\n",
      ": Is many people are in the room?<|endoftext|>IST:: 43<|endoftext|>\n",
      ": Is is of game is the in?<|endoftext|>IST:: LivingLiving room<|endoftext|>\n",
      ": Is is is the house is the man belong to?<|endoftext|>IST:: LivingLiving room<|endoftext|>\n",
      ": What is the men wearing controllers<|endoftext|>IST:: WiiWii remoteotes<|endoftext|>\n",
      ": Is there man wearing man?<|endoftext|>IST::NoNo<|endoftext|>\n",
      ": Is is the man wearing rem their hands?<|endoftext|>IST:: WiiWii remote<|endoftext|>\n",
      ": What is the men holding shirts their arms?<|endoftext|>IST:: ShHasses<|endoftext|>\n",
      ": Is the have this man men is wearing in the chair?<|endoftext|>IST::NoNo<|endoftext|>\n",
      ": Is many people are there in the picture?<|endoftext|>IST:: 42<|endoftext|>\n",
      ": Is is the men wearing up the<|endoftext|>IST:: WiiW<|endoftext|>\n",
      ": Is many people are in glasses?<|endoftext|>IST:: 22<|endoftext|>\n",
      ": Is there wearing?<|endoftext|>ISTR:NoNo<|endoftext|>\n",
      ": What there men in the photo wearing people<|endoftext|>IST::NoNo<|endoftext|>\n",
      ": Is there anything other in the background?<|endoftext|>IST:: NoNo<|endoftext|>\n",
      ": Is are the wearing in?<|endoftext|>ISTIC: FlDesoor<|endoftext|>\n",
      ": Is the man have the white have a hair?<|endoftext|>IST::YesYes<|endoftext|>\n",
      ": Is many people are the picture?<|endoftext|>IST:: 44<|endoftext|>\n",
      ": Is are the man of the people?<|endoftext|>IST:: AsianAsian<|endoftext|>\n",
      ": What many people are in glasses?<|endoftext|>IST:: 22<|endoftext|>\n",
      ": What many people are in the picture?<|endoftext|>IST:: 42<|endoftext|>\n",
      ": What there man wearing a tie?<|endoftext|>IST:: NoYes<|endoftext|>\n",
      ": Is there in shirt shown?<|endoftext|>IST::YesNo<|endoftext|>\n",
      ": Is there men in?<|endoftext|>IST:: NoNo<|endoftext|>\n",
      ": Is the man inave his<|endoftext|>IST:: NoNo<|endoftext|>\n",
      ": Is many people are in in<|endoftext|>IST:: 44<|endoftext|>\n",
      ": Is are the man in a his head?<|endoftext|>IST::GlGlasses<|endoftext|>\n",
      ": Is many people of glasses are there the man?<|endoftext|>IST:: 22<|endoftext|>\n",
      ": Is the have a hair?<|endoftext|>IST::YesYes<|endoftext|>\n",
      ": Is there man in the picture wearing Asian same race?<|endoftext|>IST:: NoNo<|endoftext|>\n",
      ": Is there anything man in on a floor?<|endoftext|>IST:: NoNo<|endoftext|>\n",
      ": Is is the man wearing?<|endoftext|>IST:: WPlaying wii<|endoftext|>\n",
      ": Is is the manpaper the? of wood<|endoftext|>IST:: WoodWoodirtwall<|endoftext|>\n",
      ": Is there man wearing a clothing?<|endoftext|>IST:: NoNo<|endoftext|>\n",
      ": Is many people are in in the image?<|endoftext|>IST:: 42<|endoftext|>\n",
      ": Is is of day is it is<|endoftext|>IST:: DayDaying<|endoftext|>\n",
      ": Is is the man of the man in the blackevveless shirt?<|endoftext|>IST::FemaleMale<|endoftext|>\n",
      ": Is there in a tie shirt?<|endoftext|>IST::NoNo<|endoftext|>\n",
      ": Is many people are in the background?<|endoftext|>IST:: 00<|endoftext|>\n",
      ": Is there man in?<|endoftext|>IST::NoNo<|endoftext|>\n",
      ": Is is the man arm the's?<|endoftext|>IST:: WW w\n",
      ": Is the in glasses?<|endoftext|>IST::YesYes<|endoftext|>\n",
      ": Is is of person is man is?<|endoftext|>IST::GlGl<|endoftext|>\n",
      ": Is many people are glasseseglasses?<|endoftext|>IST:: 44<|endoftext|>\n",
      ": Is there man open?<|endoftext|>IST::YesYes<|endoftext|>\n",
      ": Is there wearing or<|endoftext|>IST::YesYes<|endoftext|>\n",
      ": Is many the man in the remote?<|endoftext|>IST:: Yesrist controller<|endoftext|>\n",
      ": Is is the people wearing glasses their heads?<|endoftext|>IST::GlGlasses<|endoftext|>\n",
      ": How is is their people in<|endoftext|>IST::WhiteWhite<|endoftext|>\n",
      ": Is there man in?<|endoftext|>IST::NoNo<|endoftext|>\n",
      ": Is is the a?<|endoftext|>IST:: 2Man<|endoftext|>\n",
      ": What is the men wearing their their hands?<|endoftext|>IST::WWii controllersotes<|endoftext|>\n",
      ": Is is the man in on her head?<|endoftext|>IST::GlGlasses<|endoftext|>\n",
      ": Is many people are there the room?<|endoftext|>IST:: 42<|endoftext|>\n",
      ": Is is the man in in<|endoftext|>IST:: WiiWii controller<|endoftext|>\n",
      ": Is is is are the people men wearing?<|endoftext|>IST::GrayGray<|endoftext|>\n",
      ": Is is is the man?let?<|endoftext|>IST::BlackBlack<|endoftext|>\n",
      ": What there ray?<|endoftext|>IST::NoNo<|endoftext|>\n",
      ": Is many people are in? the room?<|endoftext|>IST:: 44<|endoftext|>\n",
      ": Is is the man in the background shirt??<|endoftext|>IST:: WPlaying wii<|endoftext|>\n",
      ": What is<|endoftext|> in man in?<|endoftext|>IST:: WiiWii remote<|endoftext|>\n",
      ": What many people meters are there seen in<|endoftext|>IST:: 11<|endoftext|>\n",
      ": What many people are be seen in<|endoftext|>IST:: 44<|endoftext|>\n",
      ":2 be be more person in in<|endoftext|>IST::NoNo<|endoftext|>\n",
      ": How is the people wearing?<|endoftext|>IST:: PlayingPlaying wii<|endoftext|>\n",
      ": What is the man wearing?<|endoftext|>IST::PlayingPlaying wii<|endoftext|>\n",
      ": What many people can there the picture?<|endoftext|>IST:: 44<|endoftext|>\n",
      ":<|endoftext|> there man in in<|endoftext|><|endoftext|>IST::<|endoftext|><|endoftext|><|endoftext|>\n",
      ":<|endoftext|> the man in to be to man<|endoftext|> to be<|endoftext|><|endoftext|><|endoftext|>IST::<|endoftext|><|endoftext|><|endoftext|>\n",
      ":<|endoftext|> is<|endoftext|> the man<|endoftext|><|endoftext|><|endoftext|><|endoftext|><|endoftext|><|endoftext|>:<|endoftext|>No<|endoftext|><|endoftext|>\n",
      ":<|endoftext|> there man<|endoftext|><|endoftext|><|endoftext|>ist::<|endoftext|><|endoftext|><|endoftext|>\n",
      ":<|endoftext|> it? man store<|endoftext|><|endoftext|><|endoftext|><|endoftext|><|endoftext|>::<|endoftext|><|endoftext|><|endoftext|>\n",
      ":<|endoftext|> is the<|endoftext|><|endoftext|><|endoftext|><|endoftext|><|endoftext|>:<|endoftext|><|endoftext|>oor<|endoftext|>\n",
      ":<|endoftext|> is be<|endoftext|><|endoftext|> a<|endoftext|><|endoftext|><|endoftext|><|endoftext|>::<|endoftext|><|endoftext|> room<|endoftext|>\n",
      ":<|endoftext|><|endoftext|><|endoftext|><|endoftext|><|endoftext|><|endoftext|><|endoftext|><|endoftext|><|endoftext|><|endoftext|>::<|endoftext|><|endoftext|><|endoftext|>\n",
      ":<|endoftext|><|endoftext|><|endoftext|><|endoftext|><|endoftext|><|endoftext|><|endoftext|><|endoftext|>::<|endoftext|><|endoftext|><|endoftext|>\n",
      ":<|endoftext|> it<|endoftext|>.<|endoftext|>.<|endoftext|><|endoftext|>::<|endoftext|><|endoftext|> the.\n",
      ":<|endoftext|> it<|endoftext|><|endoftext|><|endoftext|>.<|endoftext|><|endoftext|>::<|endoftext|><|endoftext|><|endoftext|>\n",
      ":<|endoftext|><|endoftext|><|endoftext|><|endoftext|><|endoftext|><|endoftext|><|endoftext|><|endoftext|><|endoftext|><|endoftext|><|endoftext|><|endoftext|><|endoftext|><|endoftext|>\n",
      ":<|endoftext|><|endoftext|><|endoftext|><|endoftext|><|endoftext|><|endoftext|><|endoftext|><|endoftext|><|endoftext|><|endoftext|>s<|endoftext|><|endoftext|><|endoftext|><|endoftext|>\n",
      ":<|endoftext|><|endoftext|><|endoftext|><|endoftext|><|endoftext|><|endoftext|><|endoftext|>:s<|endoftext|><|endoftext|><|endoftext|>\n",
      ":<|endoftext|><|endoftext|><|endoftext|><|endoftext|><|endoftext|><|endoftext|><|endoftext|><|endoftext|><|endoftext|><|endoftext|><|endoftext|><|endoftext|><|endoftext|><|endoftext|><|endoftext|><|endoftext|>\n",
      "<|endoftext|><|endoftext|><|endoftext|><|endoftext|><|endoftext|><|endoftext|><|endoftext|><|endoftext|><|endoftext|><|endoftext|><|endoftext|><|endoftext|><|endoftext|><|endoftext|><|endoftext|>ass<|endoftext|>\n",
      "<|endoftext|><|endoftext|><|endoftext|><|endoftext|><|endoftext|><|endoftext|><|endoftext|><|endoftext|><|endoftext|><|endoftext|><|endoftext|><|endoftext|><|endoftext|>\n",
      "<|endoftext|><|endoftext|><|endoftext|><|endoftext|><|endoftext|><|endoftext|><|endoftext|><|endoftext|><|endoftext|><|endoftext|><|endoftext|><|endoftext|><|endoftext|>s<|endoftext|><|endoftext|><|endoftext|>\n",
      "<|endoftext|><|endoftext|><|endoftext|><|endoftext|><|endoftext|><|endoftext|><|endoftext|><|endoftext|><|endoftext|><|endoftext|><|endoftext|><|endoftext|><|endoftext|><|endoftext|>\n",
      "<|endoftext|><|endoftext|><|endoftext|><|endoftext|><|endoftext|><|endoftext|><|endoftext|><|endoftext|><|endoftext|><|endoftext|><|endoftext|><|endoftext|><|endoftext|><|endoftext|><|endoftext|><|endoftext|><|endoftext|><|endoftext|><|endoftext|><|endoftext|><|endoftext|>\n",
      "<|endoftext|><|endoftext|><|endoftext|><|endoftext|><|endoftext|><|endoftext|><|endoftext|><|endoftext|><|endoftext|><|endoftext|><|endoftext|><|endoftext|><|endoftext|><|endoftext|><|endoftext|><|endoftext|><|endoftext|><|endoftext|>\n",
      "<|endoftext|><|endoftext|><|endoftext|><|endoftext|><|endoftext|><|endoftext|><|endoftext|><|endoftext|><|endoftext|><|endoftext|><|endoftext|><|endoftext|><|endoftext|><|endoftext|>\n",
      "<|endoftext|><|endoftext|><|endoftext|><|endoftext|><|endoftext|><|endoftext|><|endoftext|><|endoftext|><|endoftext|><|endoftext|><|endoftext|><|endoftext|><|endoftext|>\n",
      "<|endoftext|><|endoftext|><|endoftext|><|endoftext|><|endoftext|><|endoftext|> and<|endoftext|><|endoftext|><|endoftext|><|endoftext|><|endoftext|><|endoftext|><|endoftext|>\n",
      "<|endoftext|><|endoftext|> is<|endoftext|> a<|endoftext|><|endoftext|><|endoftext|><|endoftext|><|endoftext|><|endoftext|><|endoftext|><|endoftext|><|endoftext|><|endoftext|><|endoftext|><|endoftext|><|endoftext|><|endoftext|>\n",
      "<|endoftext|><|endoftext|> is the<|endoftext|><|endoftext|> a<|endoftext|> with<|endoftext|><|endoftext|><|endoftext|><|endoftext|><|endoftext|><|endoftext|><|endoftext|><|endoftext|>are<|endoftext|><|endoftext|>\n"
     ]
    }
   ],
   "source": [
    "print(decoded_output)\n"
   ]
  },
  {
   "cell_type": "code",
   "execution_count": null,
   "metadata": {},
   "outputs": [],
   "source": []
  }
 ],
 "metadata": {
  "kernelspec": {
   "display_name": "eval",
   "language": "python",
   "name": "python3"
  },
  "language_info": {
   "codemirror_mode": {
    "name": "ipython",
    "version": 3
   },
   "file_extension": ".py",
   "mimetype": "text/x-python",
   "name": "python",
   "nbconvert_exporter": "python",
   "pygments_lexer": "ipython3",
   "version": "3.10.14"
  }
 },
 "nbformat": 4,
 "nbformat_minor": 2
}
