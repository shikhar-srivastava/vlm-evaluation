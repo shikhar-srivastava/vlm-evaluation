{
 "cells": [
  {
   "cell_type": "code",
   "execution_count": 1,
   "metadata": {},
   "outputs": [
    {
     "name": "stdout",
     "output_type": "stream",
     "text": [
      "loading prismatic <vlm_eval.models.prismatic.PrismaticVLM object at 0x7f461010db10>\n"
     ]
    },
    {
     "data": {
      "text/html": [
       "<pre style=\"white-space:pre;overflow-x:auto;line-height:normal;font-family:Menlo,'DejaVu Sans Mono',consolas,'Courier New',monospace\"><span style=\"color: #7fbfbf; text-decoration-color: #7fbfbf\">12/18 [04:31:08] </span><span style=\"color: #000080; text-decoration-color: #000080\">INFO    </span> | &gt;&gt; <span style=\"font-weight: bold\">[</span>*<span style=\"font-weight: bold\">]</span> Loading from local path                                               <a href=\"file:///localdisk/ssrivas9/miniconda3/envs/eval/lib/python3.10/site-packages/prismatic/models/load.py\" target=\"_blank\"><span style=\"color: #7f7f7f; text-decoration-color: #7f7f7f\">load.py</span></a><span style=\"color: #7f7f7f; text-decoration-color: #7f7f7f\">:</span><a href=\"file:///localdisk/ssrivas9/miniconda3/envs/eval/lib/python3.10/site-packages/prismatic/models/load.py#55\" target=\"_blank\"><span style=\"color: #7f7f7f; text-decoration-color: #7f7f7f\">55</span></a>\n",
       "<span style=\"color: #7fbfbf; text-decoration-color: #7fbfbf\">                 </span>         `<span style=\"color: #800080; text-decoration-color: #800080\">/localdisk/ssrivas9/prismatic-vlms/runs/</span><span style=\"color: #ff00ff; text-decoration-color: #ff00ff\">reproduction-align-pythia+2p8b</span>`       <span style=\"color: #7f7f7f; text-decoration-color: #7f7f7f\">          </span>\n",
       "</pre>\n"
      ],
      "text/plain": [
       "\u001b[2;36m12/18 [04:31:08]\u001b[0m\u001b[2;36m \u001b[0m\u001b[34mINFO    \u001b[0m | >> \u001b[1m[\u001b[0m*\u001b[1m]\u001b[0m Loading from local path                                               \u001b]8;id=876260;file:///localdisk/ssrivas9/miniconda3/envs/eval/lib/python3.10/site-packages/prismatic/models/load.py\u001b\\\u001b[2mload.py\u001b[0m\u001b]8;;\u001b\\\u001b[2m:\u001b[0m\u001b]8;id=110938;file:///localdisk/ssrivas9/miniconda3/envs/eval/lib/python3.10/site-packages/prismatic/models/load.py#55\u001b\\\u001b[2m55\u001b[0m\u001b]8;;\u001b\\\n",
       "\u001b[2;36m                 \u001b[0m         `\u001b[35m/localdisk/ssrivas9/prismatic-vlms/runs/\u001b[0m\u001b[95mreproduction-align-pythia+2p8b\u001b[0m`       \u001b[2m          \u001b[0m\n"
      ]
     },
     "metadata": {},
     "output_type": "display_data"
    },
    {
     "data": {
      "text/html": [
       "<pre style=\"white-space:pre;overflow-x:auto;line-height:normal;font-family:Menlo,'DejaVu Sans Mono',consolas,'Courier New',monospace\"><span style=\"color: #7fbfbf; text-decoration-color: #7fbfbf\">                 </span><span style=\"color: #000080; text-decoration-color: #000080\">INFO    </span> | &gt;&gt; <span style=\"font-weight: bold\">[</span>*<span style=\"font-weight: bold\">]</span>                                                                       <a href=\"file:///localdisk/ssrivas9/miniconda3/envs/eval/lib/python3.10/site-packages/prismatic/models/load.py\" target=\"_blank\"><span style=\"color: #7f7f7f; text-decoration-color: #7f7f7f\">load.py</span></a><span style=\"color: #7f7f7f; text-decoration-color: #7f7f7f\">:</span><a href=\"file:///localdisk/ssrivas9/miniconda3/envs/eval/lib/python3.10/site-packages/prismatic/models/load.py#70\" target=\"_blank\"><span style=\"color: #7f7f7f; text-decoration-color: #7f7f7f\">70</span></a>\n",
       "<span style=\"color: #7fbfbf; text-decoration-color: #7fbfbf\">                 </span>                                                                                        <span style=\"color: #7f7f7f; text-decoration-color: #7f7f7f\">          </span>\n",
       "<span style=\"color: #7fbfbf; text-decoration-color: #7fbfbf\">                 </span>         🚀 <span style=\"color: #008000; text-decoration-color: #008000; font-weight: bold\">(LATEST) Loading Prismatic VLM for Inference 🚀</span> 🚀                          <span style=\"color: #7f7f7f; text-decoration-color: #7f7f7f\">          </span>\n",
       "<span style=\"color: #7fbfbf; text-decoration-color: #7fbfbf\">                 </span>                                                                                        <span style=\"color: #7f7f7f; text-decoration-color: #7f7f7f\">          </span>\n",
       "<span style=\"color: #7fbfbf; text-decoration-color: #7fbfbf\">                 </span>                                                                                        <span style=\"color: #7f7f7f; text-decoration-color: #7f7f7f\">          </span>\n",
       "</pre>\n"
      ],
      "text/plain": [
       "\u001b[2;36m                \u001b[0m\u001b[2;36m \u001b[0m\u001b[34mINFO    \u001b[0m | >> \u001b[1m[\u001b[0m*\u001b[1m]\u001b[0m                                                                       \u001b]8;id=673757;file:///localdisk/ssrivas9/miniconda3/envs/eval/lib/python3.10/site-packages/prismatic/models/load.py\u001b\\\u001b[2mload.py\u001b[0m\u001b]8;;\u001b\\\u001b[2m:\u001b[0m\u001b]8;id=211179;file:///localdisk/ssrivas9/miniconda3/envs/eval/lib/python3.10/site-packages/prismatic/models/load.py#70\u001b\\\u001b[2m70\u001b[0m\u001b]8;;\u001b\\\n",
       "\u001b[2;36m                 \u001b[0m                                                                                        \u001b[2m          \u001b[0m\n",
       "\u001b[2;36m                 \u001b[0m         🚀 \u001b[1;32m(\u001b[0m\u001b[1;32mLATEST\u001b[0m\u001b[1;32m)\u001b[0m\u001b[1;32m Loading Prismatic VLM for Inference 🚀\u001b[0m 🚀                          \u001b[2m          \u001b[0m\n",
       "\u001b[2;36m                 \u001b[0m                                                                                        \u001b[2m          \u001b[0m\n",
       "\u001b[2;36m                 \u001b[0m                                                                                        \u001b[2m          \u001b[0m\n"
      ]
     },
     "metadata": {},
     "output_type": "display_data"
    },
    {
     "data": {
      "text/html": [
       "<pre style=\"white-space:pre;overflow-x:auto;line-height:normal;font-family:Menlo,'DejaVu Sans Mono',consolas,'Courier New',monospace\"><span style=\"color: #7fbfbf; text-decoration-color: #7fbfbf\">                 </span><span style=\"color: #000080; text-decoration-color: #000080\">INFO    </span> | &gt;&gt; <span style=\"font-weight: bold\">[</span>*<span style=\"font-weight: bold\">]</span> Found Config =&gt;&gt; Loading &amp; Freezing <span style=\"color: #000080; text-decoration-color: #000080; font-weight: bold\">stage0-pythia+2p8b</span> with:          <a href=\"file:///localdisk/ssrivas9/miniconda3/envs/eval/lib/python3.10/site-packages/prismatic/models/load.py\" target=\"_blank\"><span style=\"color: #7f7f7f; text-decoration-color: #7f7f7f\">load.py</span></a><span style=\"color: #7f7f7f; text-decoration-color: #7f7f7f\">:</span><a href=\"file:///localdisk/ssrivas9/miniconda3/envs/eval/lib/python3.10/site-packages/prismatic/models/load.py#78\" target=\"_blank\"><span style=\"color: #7f7f7f; text-decoration-color: #7f7f7f\">78</span></a>\n",
       "<span style=\"color: #7fbfbf; text-decoration-color: #7fbfbf\">                 </span>                      Vision Backbone =&gt;&gt; <span style=\"font-weight: bold\">clip-vit-l-336px</span>                              <span style=\"color: #7f7f7f; text-decoration-color: #7f7f7f\">          </span>\n",
       "<span style=\"color: #7fbfbf; text-decoration-color: #7fbfbf\">                 </span>                      LLM Backbone    =&gt;&gt; <span style=\"font-weight: bold\">pythia-2p8b</span>                                   <span style=\"color: #7f7f7f; text-decoration-color: #7f7f7f\">          </span>\n",
       "<span style=\"color: #7fbfbf; text-decoration-color: #7fbfbf\">                 </span>                      Arch Specifier  =&gt;&gt; <span style=\"font-weight: bold\">gelu-mlp</span>                                      <span style=\"color: #7f7f7f; text-decoration-color: #7f7f7f\">          </span>\n",
       "<span style=\"color: #7fbfbf; text-decoration-color: #7fbfbf\">                 </span>                      Mitigation Strategy      =&gt;&gt; <span style=\"color: #800080; text-decoration-color: #800080; font-weight: bold; font-style: italic\">None</span>             LoRA      =&gt;&gt; <span style=\"font-weight: bold\">rank:</span> <span style=\"color: #7f7f7f; text-decoration-color: #7f7f7f\">          </span>\n",
       "<span style=\"color: #7fbfbf; text-decoration-color: #7fbfbf\">                 </span>         <span style=\"color: #008080; text-decoration-color: #008080; font-weight: bold\">16</span><span style=\"font-weight: bold\">, alpha: </span><span style=\"color: #008080; text-decoration-color: #008080; font-weight: bold\">8</span><span style=\"font-weight: bold\">, lora_target_modules: all-linear</span>             Load in 8bit     =&gt;&gt; <span style=\"color: #7f7f7f; text-decoration-color: #7f7f7f\">          </span>\n",
       "<span style=\"color: #7fbfbf; text-decoration-color: #7fbfbf\">                 </span>         <span style=\"color: #ff0000; text-decoration-color: #ff0000; font-weight: bold; font-style: italic\">False</span>             Checkpoint Path =&gt;&gt;                                          <span style=\"color: #7f7f7f; text-decoration-color: #7f7f7f\">          </span>\n",
       "<span style=\"color: #7fbfbf; text-decoration-color: #7fbfbf\">                 </span>         <span style=\"text-decoration: underline\">`</span><span style=\"color: #800080; text-decoration-color: #800080; text-decoration: underline\">/localdisk/ssrivas9/prismatic-vlms/runs/reproduction-align-pythia+2p8b/checkp</span> <span style=\"color: #7f7f7f; text-decoration-color: #7f7f7f\">          </span>\n",
       "<span style=\"color: #7fbfbf; text-decoration-color: #7fbfbf\">                 </span>         <span style=\"color: #800080; text-decoration-color: #800080; text-decoration: underline\">oints/</span><span style=\"color: #ff00ff; text-decoration-color: #ff00ff; text-decoration: underline\">latest-checkpoint.pt</span><span style=\"text-decoration: underline\">`</span>                                                    <span style=\"color: #7f7f7f; text-decoration-color: #7f7f7f\">          </span>\n",
       "</pre>\n"
      ],
      "text/plain": [
       "\u001b[2;36m                \u001b[0m\u001b[2;36m \u001b[0m\u001b[34mINFO    \u001b[0m | >> \u001b[1m[\u001b[0m*\u001b[1m]\u001b[0m Found Config =>> Loading & Freezing \u001b[1;34mstage0-pythia+2p8b\u001b[0m with:          \u001b]8;id=122878;file:///localdisk/ssrivas9/miniconda3/envs/eval/lib/python3.10/site-packages/prismatic/models/load.py\u001b\\\u001b[2mload.py\u001b[0m\u001b]8;;\u001b\\\u001b[2m:\u001b[0m\u001b]8;id=762517;file:///localdisk/ssrivas9/miniconda3/envs/eval/lib/python3.10/site-packages/prismatic/models/load.py#78\u001b\\\u001b[2m78\u001b[0m\u001b]8;;\u001b\\\n",
       "\u001b[2;36m                 \u001b[0m                      Vision Backbone =>> \u001b[1mclip-vit-l-336px\u001b[0m                              \u001b[2m          \u001b[0m\n",
       "\u001b[2;36m                 \u001b[0m                      LLM Backbone    =>> \u001b[1mpythia-2p8b\u001b[0m                                   \u001b[2m          \u001b[0m\n",
       "\u001b[2;36m                 \u001b[0m                      Arch Specifier  =>> \u001b[1mgelu-mlp\u001b[0m                                      \u001b[2m          \u001b[0m\n",
       "\u001b[2;36m                 \u001b[0m                      Mitigation Strategy      =>> \u001b[1;3;35mNone\u001b[0m             LoRA      =>> \u001b[1mrank:\u001b[0m \u001b[2m          \u001b[0m\n",
       "\u001b[2;36m                 \u001b[0m         \u001b[1;36m16\u001b[0m\u001b[1m, alpha: \u001b[0m\u001b[1;36m8\u001b[0m\u001b[1m, lora_target_modules: all-linear\u001b[0m             Load in 8bit     =>> \u001b[2m          \u001b[0m\n",
       "\u001b[2;36m                 \u001b[0m         \u001b[1;3;91mFalse\u001b[0m             Checkpoint Path =>>                                          \u001b[2m          \u001b[0m\n",
       "\u001b[2;36m                 \u001b[0m         \u001b[4m`\u001b[0m\u001b[4;35m/localdisk/ssrivas9/prismatic-vlms/runs/reproduction-align-pythia+2p8b/checkp\u001b[0m \u001b[2m          \u001b[0m\n",
       "\u001b[2;36m                 \u001b[0m         \u001b[4;35moints/\u001b[0m\u001b[4;95mlatest-checkpoint.pt\u001b[0m\u001b[4m`\u001b[0m                                                    \u001b[2m          \u001b[0m\n"
      ]
     },
     "metadata": {},
     "output_type": "display_data"
    },
    {
     "data": {
      "text/html": [
       "<pre style=\"white-space:pre;overflow-x:auto;line-height:normal;font-family:Menlo,'DejaVu Sans Mono',consolas,'Courier New',monospace\"><span style=\"color: #7fbfbf; text-decoration-color: #7fbfbf\">                 </span><span style=\"color: #000080; text-decoration-color: #000080\">INFO    </span> | &gt;&gt; <span style=\"font-weight: bold\">[</span>*<span style=\"font-weight: bold\">]</span> Loading Vision Backbone <span style=\"font-weight: bold\">clip-vit-l-336px</span>                              <a href=\"file:///localdisk/ssrivas9/miniconda3/envs/eval/lib/python3.10/site-packages/prismatic/models/load.py\" target=\"_blank\"><span style=\"color: #7f7f7f; text-decoration-color: #7f7f7f\">load.py</span></a><span style=\"color: #7f7f7f; text-decoration-color: #7f7f7f\">:</span><a href=\"file:///localdisk/ssrivas9/miniconda3/envs/eval/lib/python3.10/site-packages/prismatic/models/load.py#89\" target=\"_blank\"><span style=\"color: #7f7f7f; text-decoration-color: #7f7f7f\">89</span></a>\n",
       "</pre>\n"
      ],
      "text/plain": [
       "\u001b[2;36m                \u001b[0m\u001b[2;36m \u001b[0m\u001b[34mINFO    \u001b[0m | >> \u001b[1m[\u001b[0m*\u001b[1m]\u001b[0m Loading Vision Backbone \u001b[1mclip-vit-l-336px\u001b[0m                              \u001b]8;id=156198;file:///localdisk/ssrivas9/miniconda3/envs/eval/lib/python3.10/site-packages/prismatic/models/load.py\u001b\\\u001b[2mload.py\u001b[0m\u001b]8;;\u001b\\\u001b[2m:\u001b[0m\u001b]8;id=35270;file:///localdisk/ssrivas9/miniconda3/envs/eval/lib/python3.10/site-packages/prismatic/models/load.py#89\u001b\\\u001b[2m89\u001b[0m\u001b]8;;\u001b\\\n"
      ]
     },
     "metadata": {},
     "output_type": "display_data"
    },
    {
     "data": {
      "text/html": [
       "<pre style=\"white-space:pre;overflow-x:auto;line-height:normal;font-family:Menlo,'DejaVu Sans Mono',consolas,'Courier New',monospace\"><span style=\"color: #7fbfbf; text-decoration-color: #7fbfbf\">12/18 [04:31:11] </span><span style=\"color: #000080; text-decoration-color: #000080\">INFO    </span> | &gt;&gt; Loading pretrained weights from Hugging Face hub                     <a href=\"file:///localdisk/ssrivas9/miniconda3/envs/eval/lib/python3.10/site-packages/timm/models/_builder.py\" target=\"_blank\"><span style=\"color: #7f7f7f; text-decoration-color: #7f7f7f\">_builder.py</span></a><span style=\"color: #7f7f7f; text-decoration-color: #7f7f7f\">:</span><a href=\"file:///localdisk/ssrivas9/miniconda3/envs/eval/lib/python3.10/site-packages/timm/models/_builder.py#186\" target=\"_blank\"><span style=\"color: #7f7f7f; text-decoration-color: #7f7f7f\">186</span></a>\n",
       "<span style=\"color: #7fbfbf; text-decoration-color: #7fbfbf\">                 </span>         <span style=\"font-weight: bold\">((</span><span style=\"color: #008000; text-decoration-color: #008000\">'timm/vit_large_patch14_clip_336.openai'</span>,                               <span style=\"color: #7f7f7f; text-decoration-color: #7f7f7f\">               </span>\n",
       "<span style=\"color: #7fbfbf; text-decoration-color: #7fbfbf\">                 </span>         <span style=\"color: #008000; text-decoration-color: #008000\">'open_clip_pytorch_model.bin'</span><span style=\"font-weight: bold\">))</span>                                           <span style=\"color: #7f7f7f; text-decoration-color: #7f7f7f\">               </span>\n",
       "</pre>\n"
      ],
      "text/plain": [
       "\u001b[2;36m12/18 [04:31:11]\u001b[0m\u001b[2;36m \u001b[0m\u001b[34mINFO    \u001b[0m | >> Loading pretrained weights from Hugging Face hub                     \u001b]8;id=477225;file:///localdisk/ssrivas9/miniconda3/envs/eval/lib/python3.10/site-packages/timm/models/_builder.py\u001b\\\u001b[2m_builder.py\u001b[0m\u001b]8;;\u001b\\\u001b[2m:\u001b[0m\u001b]8;id=606522;file:///localdisk/ssrivas9/miniconda3/envs/eval/lib/python3.10/site-packages/timm/models/_builder.py#186\u001b\\\u001b[2m186\u001b[0m\u001b]8;;\u001b\\\n",
       "\u001b[2;36m                 \u001b[0m         \u001b[1m(\u001b[0m\u001b[1m(\u001b[0m\u001b[32m'timm/vit_large_patch14_clip_336.openai'\u001b[0m,                               \u001b[2m               \u001b[0m\n",
       "\u001b[2;36m                 \u001b[0m         \u001b[32m'open_clip_pytorch_model.bin'\u001b[0m\u001b[1m)\u001b[0m\u001b[1m)\u001b[0m                                           \u001b[2m               \u001b[0m\n"
      ]
     },
     "metadata": {},
     "output_type": "display_data"
    },
    {
     "data": {
      "text/html": [
       "<pre style=\"white-space:pre;overflow-x:auto;line-height:normal;font-family:Menlo,'DejaVu Sans Mono',consolas,'Courier New',monospace\"><span style=\"color: #7fbfbf; text-decoration-color: #7fbfbf\">                 </span><span style=\"color: #000080; text-decoration-color: #000080\">INFO    </span> | &gt;&gt;  Safe alternative available for <span style=\"color: #008000; text-decoration-color: #008000\">'open_clip_pytorch_model.bin'</span> <span style=\"font-weight: bold\">(</span>as        <a href=\"file:///localdisk/ssrivas9/miniconda3/envs/eval/lib/python3.10/site-packages/timm/models/_hub.py\" target=\"_blank\"><span style=\"color: #7f7f7f; text-decoration-color: #7f7f7f\">_hub.py</span></a><span style=\"color: #7f7f7f; text-decoration-color: #7f7f7f\">:</span><a href=\"file:///localdisk/ssrivas9/miniconda3/envs/eval/lib/python3.10/site-packages/timm/models/_hub.py#180\" target=\"_blank\"><span style=\"color: #7f7f7f; text-decoration-color: #7f7f7f\">180</span></a>\n",
       "<span style=\"color: #7fbfbf; text-decoration-color: #7fbfbf\">                 </span>         <span style=\"color: #008000; text-decoration-color: #008000\">'open_clip_model.safetensors'</span><span style=\"font-weight: bold\">)</span>. Loading weights using safetensors.            <span style=\"color: #7f7f7f; text-decoration-color: #7f7f7f\">           </span>\n",
       "</pre>\n"
      ],
      "text/plain": [
       "\u001b[2;36m                \u001b[0m\u001b[2;36m \u001b[0m\u001b[34mINFO    \u001b[0m | >>  Safe alternative available for \u001b[32m'open_clip_pytorch_model.bin'\u001b[0m \u001b[1m(\u001b[0mas        \u001b]8;id=851788;file:///localdisk/ssrivas9/miniconda3/envs/eval/lib/python3.10/site-packages/timm/models/_hub.py\u001b\\\u001b[2m_hub.py\u001b[0m\u001b]8;;\u001b\\\u001b[2m:\u001b[0m\u001b]8;id=901015;file:///localdisk/ssrivas9/miniconda3/envs/eval/lib/python3.10/site-packages/timm/models/_hub.py#180\u001b\\\u001b[2m180\u001b[0m\u001b]8;;\u001b\\\n",
       "\u001b[2;36m                 \u001b[0m         \u001b[32m'open_clip_model.safetensors'\u001b[0m\u001b[1m)\u001b[0m. Loading weights using safetensors.            \u001b[2m           \u001b[0m\n"
      ]
     },
     "metadata": {},
     "output_type": "display_data"
    },
    {
     "data": {
      "text/html": [
       "<pre style=\"white-space:pre;overflow-x:auto;line-height:normal;font-family:Menlo,'DejaVu Sans Mono',consolas,'Courier New',monospace\"><span style=\"color: #7fbfbf; text-decoration-color: #7fbfbf\">                 </span><span style=\"color: #000080; text-decoration-color: #000080\">INFO    </span> | &gt;&gt; <span style=\"font-weight: bold\">[</span>*<span style=\"font-weight: bold\">]</span> Loading Pretrained LLM <span style=\"font-weight: bold\">pythia-2p8b</span> via HF Transformers               <a href=\"file:///localdisk/ssrivas9/miniconda3/envs/eval/lib/python3.10/site-packages/prismatic/models/load.py\" target=\"_blank\"><span style=\"color: #7f7f7f; text-decoration-color: #7f7f7f\">load.py</span></a><span style=\"color: #7f7f7f; text-decoration-color: #7f7f7f\">:</span><a href=\"file:///localdisk/ssrivas9/miniconda3/envs/eval/lib/python3.10/site-packages/prismatic/models/load.py#103\" target=\"_blank\"><span style=\"color: #7f7f7f; text-decoration-color: #7f7f7f\">103</span></a>\n",
       "</pre>\n"
      ],
      "text/plain": [
       "\u001b[2;36m                \u001b[0m\u001b[2;36m \u001b[0m\u001b[34mINFO    \u001b[0m | >> \u001b[1m[\u001b[0m*\u001b[1m]\u001b[0m Loading Pretrained LLM \u001b[1mpythia-2p8b\u001b[0m via HF Transformers               \u001b]8;id=661515;file:///localdisk/ssrivas9/miniconda3/envs/eval/lib/python3.10/site-packages/prismatic/models/load.py\u001b\\\u001b[2mload.py\u001b[0m\u001b]8;;\u001b\\\u001b[2m:\u001b[0m\u001b]8;id=226140;file:///localdisk/ssrivas9/miniconda3/envs/eval/lib/python3.10/site-packages/prismatic/models/load.py#103\u001b\\\u001b[2m103\u001b[0m\u001b]8;;\u001b\\\n"
      ]
     },
     "metadata": {},
     "output_type": "display_data"
    },
    {
     "data": {
      "text/html": [
       "<pre style=\"white-space:pre;overflow-x:auto;line-height:normal;font-family:Menlo,'DejaVu Sans Mono',consolas,'Courier New',monospace\"><span style=\"color: #7fbfbf; text-decoration-color: #7fbfbf\">12/18 [04:31:12] </span><span style=\"color: #000080; text-decoration-color: #000080\">INFO    </span> | &gt;&gt;     |=&gt; Loading <span style=\"font-weight: bold\">pythia</span> <span style=\"font-weight: bold\">(</span>Fast<span style=\"font-weight: bold\">)</span> Tokenizer via the AutoTokenizer API    <a href=\"file:///localdisk/ssrivas9/miniconda3/envs/eval/lib/python3.10/site-packages/prismatic/models/backbones/llm/base_llm.py\" target=\"_blank\"><span style=\"color: #7f7f7f; text-decoration-color: #7f7f7f\">base_llm.py</span></a><span style=\"color: #7f7f7f; text-decoration-color: #7f7f7f\">:</span><a href=\"file:///localdisk/ssrivas9/miniconda3/envs/eval/lib/python3.10/site-packages/prismatic/models/backbones/llm/base_llm.py#247\" target=\"_blank\"><span style=\"color: #7f7f7f; text-decoration-color: #7f7f7f\">247</span></a>\n",
       "</pre>\n"
      ],
      "text/plain": [
       "\u001b[2;36m12/18 [04:31:12]\u001b[0m\u001b[2;36m \u001b[0m\u001b[34mINFO    \u001b[0m | >>     |=> Loading \u001b[1mpythia\u001b[0m \u001b[1m(\u001b[0mFast\u001b[1m)\u001b[0m Tokenizer via the AutoTokenizer API    \u001b]8;id=957592;file:///localdisk/ssrivas9/miniconda3/envs/eval/lib/python3.10/site-packages/prismatic/models/backbones/llm/base_llm.py\u001b\\\u001b[2mbase_llm.py\u001b[0m\u001b]8;;\u001b\\\u001b[2m:\u001b[0m\u001b]8;id=72981;file:///localdisk/ssrivas9/miniconda3/envs/eval/lib/python3.10/site-packages/prismatic/models/backbones/llm/base_llm.py#247\u001b\\\u001b[2m247\u001b[0m\u001b]8;;\u001b\\\n"
      ]
     },
     "metadata": {},
     "output_type": "display_data"
    },
    {
     "name": "stderr",
     "output_type": "stream",
     "text": [
      "Special tokens have been added in the vocabulary, make sure the associated word embeddings are fine-tuned or trained.\n"
     ]
    },
    {
     "data": {
      "text/html": [
       "<pre style=\"white-space:pre;overflow-x:auto;line-height:normal;font-family:Menlo,'DejaVu Sans Mono',consolas,'Courier New',monospace\"><span style=\"color: #7fbfbf; text-decoration-color: #7fbfbf\">                 </span><span style=\"color: #000080; text-decoration-color: #000080\">INFO    </span> | &gt;&gt; <span style=\"font-weight: bold\">[</span>*<span style=\"font-weight: bold\">]</span> Loading VLM <span style=\"color: #000080; text-decoration-color: #000080; font-weight: bold\">stage0-pythia+2p8b</span> from Checkpoint; Freezing Weights 🥶  <a href=\"file:///localdisk/ssrivas9/miniconda3/envs/eval/lib/python3.10/site-packages/prismatic/models/load.py\" target=\"_blank\"><span style=\"color: #7f7f7f; text-decoration-color: #7f7f7f\">load.py</span></a><span style=\"color: #7f7f7f; text-decoration-color: #7f7f7f\">:</span><a href=\"file:///localdisk/ssrivas9/miniconda3/envs/eval/lib/python3.10/site-packages/prismatic/models/load.py#113\" target=\"_blank\"><span style=\"color: #7f7f7f; text-decoration-color: #7f7f7f\">113</span></a>\n",
       "</pre>\n"
      ],
      "text/plain": [
       "\u001b[2;36m                \u001b[0m\u001b[2;36m \u001b[0m\u001b[34mINFO    \u001b[0m | >> \u001b[1m[\u001b[0m*\u001b[1m]\u001b[0m Loading VLM \u001b[1;34mstage0-pythia+2p8b\u001b[0m from Checkpoint; Freezing Weights 🥶  \u001b]8;id=424175;file:///localdisk/ssrivas9/miniconda3/envs/eval/lib/python3.10/site-packages/prismatic/models/load.py\u001b\\\u001b[2mload.py\u001b[0m\u001b]8;;\u001b\\\u001b[2m:\u001b[0m\u001b]8;id=380846;file:///localdisk/ssrivas9/miniconda3/envs/eval/lib/python3.10/site-packages/prismatic/models/load.py#113\u001b\\\u001b[2m113\u001b[0m\u001b]8;;\u001b\\\n"
      ]
     },
     "metadata": {},
     "output_type": "display_data"
    },
    {
     "data": {
      "text/html": [
       "<pre style=\"white-space:pre;overflow-x:auto;line-height:normal;font-family:Menlo,'DejaVu Sans Mono',consolas,'Courier New',monospace\"><span style=\"color: #7fbfbf; text-decoration-color: #7fbfbf\">                 </span><span style=\"color: #000080; text-decoration-color: #000080\">INFO    </span> | &gt;&gt; <span style=\"font-weight: bold\">[</span>*<span style=\"font-weight: bold\">]</span> Dimensions of Projector:                                         <a href=\"file:///localdisk/ssrivas9/miniconda3/envs/eval/lib/python3.10/site-packages/prismatic/models/vlms/prismatic.py\" target=\"_blank\"><span style=\"color: #7f7f7f; text-decoration-color: #7f7f7f\">prismatic.py</span></a><span style=\"color: #7f7f7f; text-decoration-color: #7f7f7f\">:</span><a href=\"file:///localdisk/ssrivas9/miniconda3/envs/eval/lib/python3.10/site-packages/prismatic/models/vlms/prismatic.py#77\" target=\"_blank\"><span style=\"color: #7f7f7f; text-decoration-color: #7f7f7f\">77</span></a>\n",
       "<span style=\"color: #7fbfbf; text-decoration-color: #7fbfbf\">                 </span>          vision_dim: <span style=\"color: #008080; text-decoration-color: #008080; font-weight: bold\">1024</span>, llm_dim: <span style=\"color: #008080; text-decoration-color: #008080; font-weight: bold\">2560</span>                                          <span style=\"color: #7f7f7f; text-decoration-color: #7f7f7f\">               </span>\n",
       "</pre>\n"
      ],
      "text/plain": [
       "\u001b[2;36m                \u001b[0m\u001b[2;36m \u001b[0m\u001b[34mINFO    \u001b[0m | >> \u001b[1m[\u001b[0m*\u001b[1m]\u001b[0m Dimensions of Projector:                                         \u001b]8;id=414931;file:///localdisk/ssrivas9/miniconda3/envs/eval/lib/python3.10/site-packages/prismatic/models/vlms/prismatic.py\u001b\\\u001b[2mprismatic.py\u001b[0m\u001b]8;;\u001b\\\u001b[2m:\u001b[0m\u001b]8;id=409970;file:///localdisk/ssrivas9/miniconda3/envs/eval/lib/python3.10/site-packages/prismatic/models/vlms/prismatic.py#77\u001b\\\u001b[2m77\u001b[0m\u001b]8;;\u001b\\\n",
       "\u001b[2;36m                 \u001b[0m          vision_dim: \u001b[1;36m1024\u001b[0m, llm_dim: \u001b[1;36m2560\u001b[0m                                          \u001b[2m               \u001b[0m\n"
      ]
     },
     "metadata": {},
     "output_type": "display_data"
    },
    {
     "data": {
      "text/html": [
       "<pre style=\"white-space:pre;overflow-x:auto;line-height:normal;font-family:Menlo,'DejaVu Sans Mono',consolas,'Courier New',monospace\"><span style=\"color: #7fbfbf; text-decoration-color: #7fbfbf\">                 </span><span style=\"color: #000080; text-decoration-color: #000080\">INFO    </span> | &gt;&gt; <span style=\"font-weight: bold\">[</span>*<span style=\"font-weight: bold\">]</span> Total Parameters: <span style=\"color: #008080; text-decoration-color: #008080; font-weight: bold\">9175040</span>                                        <a href=\"file:///localdisk/ssrivas9/miniconda3/envs/eval/lib/python3.10/site-packages/prismatic/models/vlms/prismatic.py\" target=\"_blank\"><span style=\"color: #7f7f7f; text-decoration-color: #7f7f7f\">prismatic.py</span></a><span style=\"color: #7f7f7f; text-decoration-color: #7f7f7f\">:</span><a href=\"file:///localdisk/ssrivas9/miniconda3/envs/eval/lib/python3.10/site-packages/prismatic/models/vlms/prismatic.py#78\" target=\"_blank\"><span style=\"color: #7f7f7f; text-decoration-color: #7f7f7f\">78</span></a>\n",
       "</pre>\n"
      ],
      "text/plain": [
       "\u001b[2;36m                \u001b[0m\u001b[2;36m \u001b[0m\u001b[34mINFO    \u001b[0m | >> \u001b[1m[\u001b[0m*\u001b[1m]\u001b[0m Total Parameters: \u001b[1;36m9175040\u001b[0m                                        \u001b]8;id=273415;file:///localdisk/ssrivas9/miniconda3/envs/eval/lib/python3.10/site-packages/prismatic/models/vlms/prismatic.py\u001b\\\u001b[2mprismatic.py\u001b[0m\u001b]8;;\u001b\\\u001b[2m:\u001b[0m\u001b]8;id=586841;file:///localdisk/ssrivas9/miniconda3/envs/eval/lib/python3.10/site-packages/prismatic/models/vlms/prismatic.py#78\u001b\\\u001b[2m78\u001b[0m\u001b]8;;\u001b\\\n"
      ]
     },
     "metadata": {},
     "output_type": "display_data"
    },
    {
     "data": {
      "text/html": [
       "<pre style=\"white-space:pre;overflow-x:auto;line-height:normal;font-family:Menlo,'DejaVu Sans Mono',consolas,'Courier New',monospace\"><span style=\"color: #7fbfbf; text-decoration-color: #7fbfbf\">                 </span><span style=\"color: #800000; text-decoration-color: #800000; font-weight: bold\">ERROR   </span> | &gt;&gt;     |=&gt; Loading only `projector` from checkpoint                    <a href=\"file:///localdisk/ssrivas9/miniconda3/envs/eval/lib/python3.10/site-packages/prismatic/models/vlms/prismatic.py\" target=\"_blank\"><span style=\"color: #7f7f7f; text-decoration-color: #7f7f7f\">prismatic.py</span></a><span style=\"color: #7f7f7f; text-decoration-color: #7f7f7f\">:</span><a href=\"file:///localdisk/ssrivas9/miniconda3/envs/eval/lib/python3.10/site-packages/prismatic/models/vlms/prismatic.py#135\" target=\"_blank\"><span style=\"color: #7f7f7f; text-decoration-color: #7f7f7f\">135</span></a>\n",
       "</pre>\n"
      ],
      "text/plain": [
       "\u001b[2;36m                \u001b[0m\u001b[2;36m \u001b[0m\u001b[1;31mERROR   \u001b[0m | >>     |=> Loading only `projector` from checkpoint                    \u001b]8;id=728335;file:///localdisk/ssrivas9/miniconda3/envs/eval/lib/python3.10/site-packages/prismatic/models/vlms/prismatic.py\u001b\\\u001b[2mprismatic.py\u001b[0m\u001b]8;;\u001b\\\u001b[2m:\u001b[0m\u001b]8;id=730312;file:///localdisk/ssrivas9/miniconda3/envs/eval/lib/python3.10/site-packages/prismatic/models/vlms/prismatic.py#135\u001b\\\u001b[2m135\u001b[0m\u001b]8;;\u001b\\\n"
      ]
     },
     "metadata": {},
     "output_type": "display_data"
    },
    {
     "name": "stdout",
     "output_type": "stream",
     "text": [
      "loaded prismatic prism-clip+7b\n"
     ]
    }
   ],
   "source": [
    "import os\n",
    "from dataclasses import dataclass, field\n",
    "from pathlib import Path\n",
    "from typing import Union, Optional\n",
    "\n",
    "import draccus\n",
    "from accelerate.utils import set_seed\n",
    "\n",
    "from vlm_eval.conf import DatasetConfig, DatasetRegistry\n",
    "from vlm_eval.models import load_vlm\n",
    "from vlm_eval.overwatch import initialize_overwatch\n",
    "from vlm_eval.tasks import get_task_runner\n",
    "\n",
    "RUN_DIR = '/localdisk/ssrivas9/prismatic-vlms/runs/reproduction-align-pythia+2p8b' #'/localdisk/ssrivas9/prismatic-vlms/runs/stage-final-llava-v15-pythia+2p8b'\n",
    "hf_token = None\n",
    "vlm = load_vlm('prismatic', 'prism-clip+7b', RUN_DIR, hf_token=hf_token)\n"
   ]
  },
  {
   "cell_type": "code",
   "execution_count": 2,
   "metadata": {},
   "outputs": [],
   "source": [
    "from prismatic.models import get_llm_backbone_and_tokenizer, get_vision_backbone_and_transform, get_vlm\n",
    "from prismatic.overwatch import initialize_overwatch\n",
    "from prismatic.preprocessing import get_dataset_and_collator\n",
    "\n",
    "# vision_backbone, image_transform = get_vision_backbone_and_transform(\n",
    "#         \"clip-vit-l-336px\", image_resize_strategy=\"letterbox\"\n",
    "#     )\n",
    "# Change directory to '/localdisk/ssrivas9/prismatic-vlms'\n",
    "import os\n",
    "os.chdir('/localdisk/ssrivas9/prismatic-vlms')\n",
    "tokenizer, image_transform = vlm.model.llm_backbone.tokenizer, vlm.model.vision_backbone.image_transform\n",
    "\n",
    "from prismatic.conf import DatasetConfig, DatasetRegistry, ModelConfig, ModelRegistry\n",
    "dataset_cfg: DatasetConfig = DatasetConfig.get_choice_class('sharegpt-only') #sharegpt-only, gqa-only, llava-v15\n",
    "\n",
    "train_dataset, collator = get_dataset_and_collator(\n",
    "        'finetune',\n",
    "        dataset_cfg,\n",
    "        image_transform,\n",
    "        tokenizer,\n",
    "        prompt_builder_fn=vlm.model.llm_backbone.prompt_builder_fn,\n",
    "        default_image_resolution=vlm.model.vision_backbone.default_image_resolution,\n",
    "        padding_side=tokenizer.padding_side,\n",
    "    )\n",
    "\n",
    "from prismatic.util.batching_utils import SplitModalitySampler\n",
    "\n",
    "modality_lengths = train_dataset.get_modality_lengths()\n",
    "sampler = SplitModalitySampler(\n",
    "        train_dataset,\n",
    "        modality_lengths,\n",
    "        global_batch_size=1,\n",
    "        num_replicas=1,\n",
    "        rank=0,\n",
    "        seed=123,\n",
    "        drop_last=False,\n",
    "    )"
   ]
  },
  {
   "cell_type": "code",
   "execution_count": 3,
   "metadata": {},
   "outputs": [],
   "source": [
    "from torch.utils.data import DataLoader, Dataset, DistributedSampler\n",
    "\n",
    "dataloader = DataLoader(\n",
    "        train_dataset,\n",
    "        batch_size=1,\n",
    "        sampler=sampler,\n",
    "        collate_fn=collator,\n",
    "        num_workers=12,\n",
    "        worker_init_fn=None,\n",
    "    )"
   ]
  },
  {
   "cell_type": "code",
   "execution_count": 4,
   "metadata": {},
   "outputs": [
    {
     "name": "stdout",
     "output_type": "stream",
     "text": [
      "Input: <|endoftext|>A chat between a curious user and an artificial intelligence assistant. The assistant gives helpful, detailed, and polite answers to the user's questions. USER: what is virtual memory, Address space, memory space ASSISTANT: Virtual memory is a memory management technique that allows a computer to use more memory than it physically has available by temporarily transferring data from the computer's RAM to the hard disk. This allows programs to use more memory than is physically available, and enables multitasking by allowing the computer to switch between different programs without needing to load and unload them into physical memory.\n",
      "\n",
      "Address space refers to the range of memory addresses that a computer's processor can access. The size of the address space depends on the architecture of the computer's processor. For example, a 32-bit processor has a maximum address space of 2^32 (4 GB), while a 64-bit processor can address up to 2^64 bytes of memory.\n",
      "\n",
      "Memory space refers to the total amount of memory available to a computer, including both physical memory (RAM) and virtual memory. This includes all memory that can be accessed by the computer, whether it is currently being used or not. The amount of memory space available depends on the physical memory installed in the computer, as well as the size of the virtual memory allocated by the operating system.<|endoftext|>USER: Address Mapping Using Pages: pages & blocks, page frame ASSISTANT: Address mapping using pages is a memory management technique used by operating systems to manage memory. In this technique, the physical memory is divided into fixed-sized blocks called page frames, and the logical memory used by programs is divided into fixed-sized blocks called pages. The page size is typically between 4KB and 64KB.\n",
      "\n",
      "The operating system maps the logical addresses used by programs to physical addresses in the page frames using a page table. The page table contains a mapping of each logical page to its corresponding physical page frame. When a program requests access to a particular memory location, the processor uses the page table to translate the logical address to the corresponding physical address.\n",
      "\n",
      "Pages are the fixed-sized blocks of logical memory used by programs in the address mapping using pages technique. Pages are typically between 4KB and 64KB in size, and are used to divide the logical memory used by programs into manageable chunks.\n",
      "\n",
      "Blocks are the fixed-sized blocks of physical memory used by the operating system in the address mapping using pages technique. Blocks are typically the same size as pages, and are used to divide the physical memory into manageable chunks.\n",
      "\n",
      "Page frames are the fixed-sized blocks of physical memory used by the operating system in the address mapping using pages technique. Page frames are typically the same size as pages, and are used to hold the contents of the logical pages that are currently in use by programs. The page table maps each logical page to its corresponding physical page frame.<|endoftext|>USER: Assocative memory page table ASSISTANT: An associative memory page table is a type of page table used in virtual memory management, where the page table is stored in an associative memory instead of a conventional table structure.\n",
      "\n",
      "In a conventional page table, each logical page number has a corresponding physical page number. The page table is usually implemented as an array or hash table, where the logical page number serves as an index to retrieve the corresponding physical page number. This type of page table is called a direct-mapped page table.\n",
      "\n",
      "In an associative memory page table, the logical page numbers are stored in the associative memory along with their corresponding physical page numbers. When the processor needs to access a memory location, it provides the logical address to the associative memory, which searches for the logical page number and returns its corresponding physical page number. The search is performed in parallel, which allows for faster lookup times compared to a conventional page table.\n",
      "\n",
      "The associative memory page table is more flexible than a conventional page table because it can handle page replacement algorithms that move pages in and out of physical memory as needed. This is because the associative memory page table can search for any logical page number in parallel, regardless of its location in physical memory.\n",
      "\n",
      "However, associative memory page tables are more complex and expensive to implement than conventional page tables, and they also require more memory to store the associative memory. Therefore, they are not commonly used in modern operating systems.<|endoftext|>USER: page replacement, page fault ASSISTANT: Page replacement is a technique used by the operating system to manage the memory in a computer system that uses virtual memory. Virtual memory allows a computer system to use more memory than is physically available by temporarily transferring data from the computer's RAM to the hard disk. When physical memory becomes full, the operating system uses a page replacement algorithm to swap out pages of memory that are not currently being used and replace them with pages that are needed.\n",
      "\n",
      "Page fault is an event that occurs when a program requests access to a memory page that is not currently in physical memory. When a page fault occurs, the operating system must find an available page frame in physical memory, copy the required page from the hard disk into the available page frame, and update the page table to reflect the new location of the page in physical memory. Once the page is loaded into physical memory, the program can access the page as if it were in memory all along.\n",
      "\n",
      "The page replacement algorithm determines which pages in physical memory to swap out when a page fault occurs. The goal of the page replacement algorithm is to minimize the number of page faults while making efficient use of physical memory. Common page replacement algorithms include the Least Recently Used (LRU), First-In-First-Out (FIFO), and Optimal algorithms.\n",
      "\n",
      "In summary, page replacement is a technique used by the operating system to manage memory in a virtual memory system, and page fault is an event that occurs when a program requests access to a memory page that is not currently in physical memory.<|endoftext|>USER: explain page replacement algorithm: LRU, FIFO, OPA ASSISTANT: Page replacement algorithms are used by operating systems to manage the allocation and deallocation of pages in virtual memory systems when the physical memory becomes full. There are several page replacement algorithms, including LRU, FIFO, and OPA.\n",
      "\n",
      "1. LRU (Least Recently Used):\n",
      "The LRU algorithm replaces the page that has not been accessed for the longest time. This algorithm assumes that the page that was accessed most recently is likely to be accessed again soon, and the page that has not been accessed for a long time is likely to be accessed less frequently. To implement the LRU algorithm, the operating system keeps track of the access time for each page and replaces the page that has the oldest access time when a page fault occurs.\n",
      "2. FIFO (First-In-First-Out):\n",
      "The FIFO algorithm replaces the page that has been in physical memory the longest time. This algorithm assumes that the page that has been in physical memory the longest time is likely to be accessed less frequently than newer pages. To implement the FIFO algorithm, the operating system maintains a queue of pages in the order they were loaded into physical memory and replaces the page at the front of the queue when a page fault occurs.\n",
      "3. OPA (Optimal Page Algorithm):\n",
      "The OPA algorithm replaces the page that will not be needed for the longest time in the future. This algorithm is considered the optimal algorithm because it minimizes the number of page faults. However, it is not practical to implement in a real-time operating system because it requires knowledge of the future behavior of the program. To implement the OPA algorithm, the operating system must know which pages will be accessed in the future, which is not always possible.\n",
      "\n",
      "In summary, LRU, FIFO, and OPA are page replacement algorithms used by operating systems to manage the allocation and deallocation of pages in virtual memory systems. Each algorithm has its advantages and disadvantages, and the choice of algorithm depends on the specific requirements of the system.<|endoftext|>USER: what is cache memory, locality of refrence, hit ratio ASSISTANT: Cache memory is a type of high-speed memory that is located between the CPU and the main memory of a computer. The purpose of cache memory is to improve the overall performance of the computer by storing frequently accessed data or instructions closer to the CPU, where they can be accessed more quickly than if they were stored in main memory.\n",
      "\n",
      "Locality of reference refers to the phenomenon that programs tend to access memory locations that are close to each other in time and space. In other words, if a program accesses a memory location, it is likely to access nearby memory locations in the near future. This behavior is known as temporal and spatial locality.\n",
      "\n",
      "Hit ratio is a measure of the effectiveness of a cache memory system. The hit ratio is the ratio of cache hits to the total number of memory accesses. A cache hit occurs when the requested data or instruction is found in the cache memory, and the CPU can access it directly without having to access main memory. A cache miss occurs when the requested data or instruction is not found in the cache memory, and the CPU has to access main memory to retrieve it. A high hit ratio indicates that the cache memory is effective at storing frequently<|endoftext|>\n",
      "Labels: Virtual memory is a memory management technique that allows a computer to use more memory than it physically has available by temporarily transferring data from the computer's RAM to the hard disk. This allows programs to use more memory than is physically available, and enables multitasking by allowing the computer to switch between different programs without needing to load and unload them into physical memory.\n",
      "\n",
      "Address space refers to the range of memory addresses that a computer's processor can access. The size of the address space depends on the architecture of the computer's processor. For example, a 32-bit processor has a maximum address space of 2^32 (4 GB), while a 64-bit processor can address up to 2^64 bytes of memory.\n",
      "\n",
      "Memory space refers to the total amount of memory available to a computer, including both physical memory (RAM) and virtual memory. This includes all memory that can be accessed by the computer, whether it is currently being used or not. The amount of memory space available depends on the physical memory installed in the computer, as well as the size of the virtual memory allocated by the operating system.<|endoftext|>Address mapping using pages is a memory management technique used by operating systems to manage memory. In this technique, the physical memory is divided into fixed-sized blocks called page frames, and the logical memory used by programs is divided into fixed-sized blocks called pages. The page size is typically between 4KB and 64KB.\n",
      "\n",
      "The operating system maps the logical addresses used by programs to physical addresses in the page frames using a page table. The page table contains a mapping of each logical page to its corresponding physical page frame. When a program requests access to a particular memory location, the processor uses the page table to translate the logical address to the corresponding physical address.\n",
      "\n",
      "Pages are the fixed-sized blocks of logical memory used by programs in the address mapping using pages technique. Pages are typically between 4KB and 64KB in size, and are used to divide the logical memory used by programs into manageable chunks.\n",
      "\n",
      "Blocks are the fixed-sized blocks of physical memory used by the operating system in the address mapping using pages technique. Blocks are typically the same size as pages, and are used to divide the physical memory into manageable chunks.\n",
      "\n",
      "Page frames are the fixed-sized blocks of physical memory used by the operating system in the address mapping using pages technique. Page frames are typically the same size as pages, and are used to hold the contents of the logical pages that are currently in use by programs. The page table maps each logical page to its corresponding physical page frame.<|endoftext|>An associative memory page table is a type of page table used in virtual memory management, where the page table is stored in an associative memory instead of a conventional table structure.\n",
      "\n",
      "In a conventional page table, each logical page number has a corresponding physical page number. The page table is usually implemented as an array or hash table, where the logical page number serves as an index to retrieve the corresponding physical page number. This type of page table is called a direct-mapped page table.\n",
      "\n",
      "In an associative memory page table, the logical page numbers are stored in the associative memory along with their corresponding physical page numbers. When the processor needs to access a memory location, it provides the logical address to the associative memory, which searches for the logical page number and returns its corresponding physical page number. The search is performed in parallel, which allows for faster lookup times compared to a conventional page table.\n",
      "\n",
      "The associative memory page table is more flexible than a conventional page table because it can handle page replacement algorithms that move pages in and out of physical memory as needed. This is because the associative memory page table can search for any logical page number in parallel, regardless of its location in physical memory.\n",
      "\n",
      "However, associative memory page tables are more complex and expensive to implement than conventional page tables, and they also require more memory to store the associative memory. Therefore, they are not commonly used in modern operating systems.<|endoftext|>Page replacement is a technique used by the operating system to manage the memory in a computer system that uses virtual memory. Virtual memory allows a computer system to use more memory than is physically available by temporarily transferring data from the computer's RAM to the hard disk. When physical memory becomes full, the operating system uses a page replacement algorithm to swap out pages of memory that are not currently being used and replace them with pages that are needed.\n",
      "\n",
      "Page fault is an event that occurs when a program requests access to a memory page that is not currently in physical memory. When a page fault occurs, the operating system must find an available page frame in physical memory, copy the required page from the hard disk into the available page frame, and update the page table to reflect the new location of the page in physical memory. Once the page is loaded into physical memory, the program can access the page as if it were in memory all along.\n",
      "\n",
      "The page replacement algorithm determines which pages in physical memory to swap out when a page fault occurs. The goal of the page replacement algorithm is to minimize the number of page faults while making efficient use of physical memory. Common page replacement algorithms include the Least Recently Used (LRU), First-In-First-Out (FIFO), and Optimal algorithms.\n",
      "\n",
      "In summary, page replacement is a technique used by the operating system to manage memory in a virtual memory system, and page fault is an event that occurs when a program requests access to a memory page that is not currently in physical memory.<|endoftext|>Page replacement algorithms are used by operating systems to manage the allocation and deallocation of pages in virtual memory systems when the physical memory becomes full. There are several page replacement algorithms, including LRU, FIFO, and OPA.\n",
      "\n",
      "1. LRU (Least Recently Used):\n",
      "The LRU algorithm replaces the page that has not been accessed for the longest time. This algorithm assumes that the page that was accessed most recently is likely to be accessed again soon, and the page that has not been accessed for a long time is likely to be accessed less frequently. To implement the LRU algorithm, the operating system keeps track of the access time for each page and replaces the page that has the oldest access time when a page fault occurs.\n",
      "2. FIFO (First-In-First-Out):\n",
      "The FIFO algorithm replaces the page that has been in physical memory the longest time. This algorithm assumes that the page that has been in physical memory the longest time is likely to be accessed less frequently than newer pages. To implement the FIFO algorithm, the operating system maintains a queue of pages in the order they were loaded into physical memory and replaces the page at the front of the queue when a page fault occurs.\n",
      "3. OPA (Optimal Page Algorithm):\n",
      "The OPA algorithm replaces the page that will not be needed for the longest time in the future. This algorithm is considered the optimal algorithm because it minimizes the number of page faults. However, it is not practical to implement in a real-time operating system because it requires knowledge of the future behavior of the program. To implement the OPA algorithm, the operating system must know which pages will be accessed in the future, which is not always possible.\n",
      "\n",
      "In summary, LRU, FIFO, and OPA are page replacement algorithms used by operating systems to manage the allocation and deallocation of pages in virtual memory systems. Each algorithm has its advantages and disadvantages, and the choice of algorithm depends on the specific requirements of the system.<|endoftext|>Cache memory is a type of high-speed memory that is located between the CPU and the main memory of a computer. The purpose of cache memory is to improve the overall performance of the computer by storing frequently accessed data or instructions closer to the CPU, where they can be accessed more quickly than if they were stored in main memory.\n",
      "\n",
      "Locality of reference refers to the phenomenon that programs tend to access memory locations that are close to each other in time and space. In other words, if a program accesses a memory location, it is likely to access nearby memory locations in the near future. This behavior is known as temporal and spatial locality.\n",
      "\n",
      "Hit ratio is a measure of the effectiveness of a cache memory system. The hit ratio is the ratio of cache hits to the total number of memory accesses. A cache hit occurs when the requested data or instruction is found in the cache memory, and the CPU can access it directly without having to access main memory. A cache miss occurs when the requested data or instruction is not found in the cache memory, and the CPU has to access main memory to retrieve it. A high hit ratio indicates that the cache memory is effective at storing frequently<|endoftext|>\n"
     ]
    }
   ],
   "source": [
    "for idx, batch in enumerate(dataloader):\n",
    "    pixel_values, input_ids, attention_mask, labels = batch['pixel_values'], batch['input_ids'], batch['attention_mask'], batch['labels']\n",
    "    break\n",
    "decoded_input = tokenizer.decode(batch[\"input_ids\"].flatten()).strip()\n",
    "decoded_labels = tokenizer.decode(batch[\"labels\"][batch['labels']!=-100].flatten()).strip()\n",
    "print(f\"Input: {decoded_input}\")\n",
    "print(f\"Labels: {decoded_labels}\")"
   ]
  },
  {
   "cell_type": "code",
   "execution_count": 5,
   "metadata": {},
   "outputs": [],
   "source": [
    "# Save pixel values as a tensor\n",
    "import torch\n",
    "gqa_images_pixel_batch = torch.load('pixel_values.pt').to()"
   ]
  },
  {
   "cell_type": "code",
   "execution_count": 11,
   "metadata": {},
   "outputs": [],
   "source": [
    "# Load Multimodal data from the dataset. \n",
    "# Load the multimodal_embeddings and multimodal_attention_mask from file\n",
    "import torch\n",
    "import os\n",
    "\n",
    "loaded_multimodal_embeddings = torch.load('multimodal_embeddings.pt')\n",
    "loaded_multimodal_attention_mask = torch.load('multimodal_attention_mask.pt')"
   ]
  },
  {
   "cell_type": "code",
   "execution_count": 12,
   "metadata": {},
   "outputs": [
    {
     "data": {
      "text/plain": [
       "(torch.Size([1, 2624, 2560]), torch.Size([1, 2624]))"
      ]
     },
     "execution_count": 12,
     "metadata": {},
     "output_type": "execute_result"
    }
   ],
   "source": [
    "loaded_multimodal_embeddings.shape, loaded_multimodal_attention_mask.shape"
   ]
  },
  {
   "cell_type": "code",
   "execution_count": 8,
   "metadata": {},
   "outputs": [
    {
     "data": {
      "text/plain": [
       "tensor([[[[0., 0., 0.,  ..., 0., 0., 0.],\n",
       "          [0., 0., 0.,  ..., 0., 0., 0.],\n",
       "          [0., 0., 0.,  ..., 0., 0., 0.],\n",
       "          ...,\n",
       "          [0., 0., 0.,  ..., 0., 0., 0.],\n",
       "          [0., 0., 0.,  ..., 0., 0., 0.],\n",
       "          [0., 0., 0.,  ..., 0., 0., 0.]],\n",
       "\n",
       "         [[0., 0., 0.,  ..., 0., 0., 0.],\n",
       "          [0., 0., 0.,  ..., 0., 0., 0.],\n",
       "          [0., 0., 0.,  ..., 0., 0., 0.],\n",
       "          ...,\n",
       "          [0., 0., 0.,  ..., 0., 0., 0.],\n",
       "          [0., 0., 0.,  ..., 0., 0., 0.],\n",
       "          [0., 0., 0.,  ..., 0., 0., 0.]],\n",
       "\n",
       "         [[0., 0., 0.,  ..., 0., 0., 0.],\n",
       "          [0., 0., 0.,  ..., 0., 0., 0.],\n",
       "          [0., 0., 0.,  ..., 0., 0., 0.],\n",
       "          ...,\n",
       "          [0., 0., 0.,  ..., 0., 0., 0.],\n",
       "          [0., 0., 0.,  ..., 0., 0., 0.],\n",
       "          [0., 0., 0.,  ..., 0., 0., 0.]]]], device='cuda:0')"
      ]
     },
     "execution_count": 8,
     "metadata": {},
     "output_type": "execute_result"
    }
   ],
   "source": [
    "batch[\"pixel_values\"]"
   ]
  },
  {
   "cell_type": "code",
   "execution_count": 10,
   "metadata": {},
   "outputs": [
    {
     "name": "stderr",
     "output_type": "stream",
     "text": [
      "/tmp/ipykernel_1716480/2408663757.py:7: RuntimeWarning: invalid value encountered in divide\n",
      "  pixel_values = (pixel_values - pixel_values.min()) / (pixel_values.max() - pixel_values.min())\n",
      "/localdisk/ssrivas9/miniconda3/envs/eval/lib/python3.10/site-packages/matplotlib/cm.py:494: RuntimeWarning: invalid value encountered in cast\n",
      "  xx = (xx * 255).astype(np.uint8)\n"
     ]
    },
    {
     "data": {
      "image/png": "[encoded data removed]",
      "text/plain": [
       "<Figure size 640x480 with 1 Axes>"
      ]
     },
     "metadata": {},
     "output_type": "display_data"
    }
   ],
   "source": [
    "# plot the pixel values batch[\"pixel_values\"] by first normalizing as well\n",
    "import matplotlib.pyplot as plt\n",
    "import numpy as np\n",
    "\n",
    "def plot_pixel_values(pixel_values):\n",
    "    pixel_values = pixel_values.squeeze().permute(1, 2, 0).cpu().numpy()\n",
    "    pixel_values = (pixel_values - pixel_values.min()) / (pixel_values.max() - pixel_values.min())\n",
    "    plt.imshow(pixel_values)\n",
    "    plt.axis('off')\n",
    "    plt.show()\n",
    "\n",
    "plot_pixel_values(batch[\"pixel_values\"])"
   ]
  },
  {
   "cell_type": "code",
   "execution_count": 5,
   "metadata": {},
   "outputs": [],
   "source": [
    "import torch\n",
    "multimodal_inject = 'prepend' # None, 'prepend', \n",
    "vlm.model.train()\n",
    "with torch.autocast(\"cuda\", dtype=torch.bfloat16):\n",
    "    # Move batch tensors to CUDA\n",
    "    batch = {k: v.to(\"cuda\") if isinstance(v, torch.Tensor) else v for k, v in batch.items()}\n",
    "    input_ids, attention_mask, pixel_values, labels, multimodal_indices = (\n",
    "        batch[\"input_ids\"],\n",
    "        batch[\"attention_mask\"],\n",
    "        batch[\"pixel_values\"],\n",
    "        batch[\"labels\"],\n",
    "        batch[\"multimodal_indices\"]\n",
    "    )\n",
    "    \n",
    "    # Define local defaults for arguments that were originally parameters of the forward method\n",
    "    past_key_values = None\n",
    "    use_cache = None\n",
    "    output_attentions = None\n",
    "    output_hidden_states = None\n",
    "    return_dict = True\n",
    "    return_labels = False\n",
    "    IGNORE_INDEX = -100  # Commonly used ignore index\n",
    "\n",
    "    # Short-circuit for inference with cache (as in original forward)\n",
    "    if input_ids.shape[1] == 1 and past_key_values is not None:\n",
    "        llm_backbone = vlm.model.llm_backbone\n",
    "        output = llm_backbone(\n",
    "            input_ids=input_ids,\n",
    "            attention_mask=None,\n",
    "            position_ids=None,\n",
    "            past_key_values=past_key_values,\n",
    "            inputs_embeds=None,\n",
    "            labels=None,\n",
    "            use_cache=use_cache,\n",
    "            output_attentions=output_attentions,\n",
    "            output_hidden_states=output_hidden_states,\n",
    "            return_dict=return_dict,\n",
    "        )\n",
    "        if return_labels:\n",
    "            output, None\n",
    "        # Return or process output as needed\n",
    "        # return output\n",
    "\n",
    "    elif input_ids.shape[1] == 1 or pixel_values is None:\n",
    "        raise RuntimeError(\"Invalid `forward()` call!\")\n",
    "\n",
    "    # If multimodal_indices is empty, do a unimodal forward\n",
    "    if (len(multimodal_indices) == 0) and (multimodal_inject is None):\n",
    "        llm_backbone = vlm.model.llm_backbone\n",
    "        output = llm_backbone(\n",
    "            input_ids=input_ids,\n",
    "            attention_mask=attention_mask,\n",
    "            position_ids=None,\n",
    "            past_key_values=past_key_values,\n",
    "            inputs_embeds=None,\n",
    "            labels=labels,\n",
    "            use_cache=use_cache,\n",
    "            output_attentions=output_attentions,\n",
    "            output_hidden_states=output_hidden_states,\n",
    "            return_dict=return_dict,\n",
    "        )\n",
    "        # if return_labels:\n",
    "        #     output, labels\n",
    "        # Return or process output as needed\n",
    "        # return output\n",
    "    elif (len(multimodal_indices) == 0) and (multimodal_inject == 'prepend'):\n",
    "        multimodal_indices = torch.tensor([0], dtype=torch.int64, device=input_ids.device)\n",
    "        # Now we use loaded_multimodal_embeddings, loaded_multimodal_attention_mask everywhere\n",
    "        # Run Vision Backbone to get patch_features\n",
    "        with torch.set_grad_enabled(vlm.model.vision_backbone_requires_grad):\n",
    "            if isinstance(pixel_values, dict):\n",
    "                patch_features = vlm.model.vision_backbone({k: pixel_values[k][multimodal_indices] for k in pixel_values})\n",
    "            else:\n",
    "                patch_features = vlm.model.vision_backbone(pixel_values[multimodal_indices])\n",
    "\n",
    "        # Project visual features\n",
    "        projector = vlm.model.projector\n",
    "        projected_patch_embeddings = projector(patch_features)\n",
    "        projected_patch_attention_mask = None\n",
    "        if attention_mask is not None:\n",
    "            projected_patch_attention_mask = torch.full(\n",
    "                (projected_patch_embeddings.shape[0], projected_patch_embeddings.shape[1]),\n",
    "                True,\n",
    "                dtype=attention_mask.dtype,\n",
    "                device=attention_mask.device,\n",
    "            )\n",
    "\n",
    "        # Get input embeddings from LLM backbone\n",
    "        llm_backbone = vlm.model.llm_backbone\n",
    "        input_embeddings = llm_backbone.embed_input_ids(input_ids)\n",
    "\n",
    "        # Build multimodal embeddings\n",
    "        multimodal_embeddings = torch.cat(\n",
    "            [\n",
    "                input_embeddings[multimodal_indices, :1, :],\n",
    "                projected_patch_embeddings,\n",
    "                input_embeddings[multimodal_indices, 1:, :],\n",
    "            ],\n",
    "            dim=1,\n",
    "        )\n",
    "        multimodal_attention_mask = None\n",
    "        if attention_mask is not None:\n",
    "            multimodal_attention_mask = torch.cat(\n",
    "                [\n",
    "                    attention_mask[multimodal_indices, :1],\n",
    "                    projected_patch_attention_mask,\n",
    "                    attention_mask[multimodal_indices, 1:],\n",
    "                ],\n",
    "                dim=1,\n",
    "            )\n",
    "\n",
    "        # Prepare labels for multimodal embeddings\n",
    "        multimodal_labels = None\n",
    "        if labels is not None:\n",
    "            projected_patch_labels = torch.full(\n",
    "                (projected_patch_embeddings.shape[0], projected_patch_embeddings.shape[1]),\n",
    "                IGNORE_INDEX,\n",
    "                dtype=labels.dtype,\n",
    "                device=labels.device,\n",
    "            )\n",
    "            multimodal_labels = torch.cat(\n",
    "                [labels[multimodal_indices, :1], projected_patch_labels, labels[multimodal_indices, 1:]],\n",
    "                dim=1\n",
    "            )\n",
    "\n",
    "        # Handle unimodal indices (those not in multimodal_indices)\n",
    "        unimodal_indices = torch.tensor(\n",
    "            [idx for idx in range(len(input_ids)) if idx not in multimodal_indices],\n",
    "            dtype=torch.long,\n",
    "            device=multimodal_indices.device,\n",
    "        )\n",
    "\n",
    "        # If no unimodal data, fused == multimodal\n",
    "        if len(unimodal_indices) == 0:\n",
    "            fused_embeddings = multimodal_embeddings\n",
    "            fused_attention_mask = multimodal_attention_mask\n",
    "            fused_labels = multimodal_labels\n",
    "        else:\n",
    "            unimodal_embeddings_pad = torch.zeros(\n",
    "                (len(unimodal_indices), projected_patch_embeddings.shape[1], input_embeddings.shape[2]),\n",
    "                dtype=input_embeddings.dtype,\n",
    "                device=input_embeddings.device,\n",
    "            )\n",
    "            unimodal_attention_pad = torch.full(\n",
    "                (len(unimodal_indices), projected_patch_embeddings.shape[1]),\n",
    "                False,\n",
    "                dtype=attention_mask.dtype,\n",
    "                device=attention_mask.device,\n",
    "            )\n",
    "            unimodal_labels_pad = torch.full(\n",
    "                (len(unimodal_indices), projected_patch_embeddings.shape[1]),\n",
    "                IGNORE_INDEX,\n",
    "                dtype=labels.dtype,\n",
    "                device=labels.device,\n",
    "            )\n",
    "\n",
    "            unimodal_embeddings = torch.cat([input_embeddings[unimodal_indices], unimodal_embeddings_pad], dim=1)\n",
    "            unimodal_attention_mask = torch.cat([attention_mask[unimodal_indices], unimodal_attention_pad], dim=1)\n",
    "            unimodal_labels = torch.cat([labels[unimodal_indices], unimodal_labels_pad], dim=1)\n",
    "\n",
    "            fused_embeddings = torch.vstack([multimodal_embeddings, unimodal_embeddings])\n",
    "            fused_attention_mask = torch.vstack([multimodal_attention_mask, unimodal_attention_mask])\n",
    "            fused_labels = torch.vstack([multimodal_labels, unimodal_labels])\n",
    "\n",
    "        # Run LLM forward\n",
    "        output = llm_backbone(\n",
    "            input_ids=None,\n",
    "            attention_mask=fused_attention_mask,\n",
    "            position_ids=None,\n",
    "            past_key_values=past_key_values,\n",
    "            inputs_embeds=fused_embeddings,\n",
    "            labels=fused_labels,\n",
    "            use_cache=use_cache,\n",
    "            output_attentions=output_attentions,\n",
    "            output_hidden_states=output_hidden_states,\n",
    "            return_dict=return_dict,\n",
    "        )\n",
    "\n",
    "        # 'output' now holds the final model output as per the full forward pass logic.\n",
    "        # Return or further process 'output' as needed.\n",
    "        # return output\n",
    "    else:\n",
    "        raise NotImplementedError(\"Only implemented for text-only data with/without multimodal injection!\")"
   ]
  },
  {
   "cell_type": "markdown",
   "metadata": {},
   "source": [
    "# Write the multimodal_embeddings and multimodal_attention_mask to file \n",
    "import torch\n",
    "import os\n",
    "torch.save(multimodal_embeddings, 'multimodal_embeddings.pt')\n",
    "torch.save(multimodal_attention_mask, 'multimodal_attention_mask.pt')\n",
    "\n"
   ]
  },
  {
   "cell_type": "code",
   "execution_count": 6,
   "metadata": {},
   "outputs": [
    {
     "data": {
      "text/html": [
       "<pre style=\"white-space:pre;overflow-x:auto;line-height:normal;font-family:Menlo,'DejaVu Sans Mono',consolas,'Courier New',monospace\"><span style=\"color: #7fbfbf; text-decoration-color: #7fbfbf\">12/16 [09:58:04] </span><span style=\"color: #000080; text-decoration-color: #000080\">INFO    </span> | &gt;&gt; Note: detected <span style=\"color: #008080; text-decoration-color: #008080; font-weight: bold\">80</span> virtual cores but NumExpr set to maximum of <span style=\"color: #008080; text-decoration-color: #008080; font-weight: bold\">64</span>, check <a href=\"file:///localdisk/ssrivas9/miniconda3/envs/eval/lib/python3.10/site-packages/numexpr/utils.py\" target=\"_blank\"><span style=\"color: #7f7f7f; text-decoration-color: #7f7f7f\">utils.py</span></a><span style=\"color: #7f7f7f; text-decoration-color: #7f7f7f\">:</span><a href=\"file:///localdisk/ssrivas9/miniconda3/envs/eval/lib/python3.10/site-packages/numexpr/utils.py#145\" target=\"_blank\"><span style=\"color: #7f7f7f; text-decoration-color: #7f7f7f\">145</span></a>\n",
       "<span style=\"color: #7fbfbf; text-decoration-color: #7fbfbf\">                 </span>         <span style=\"color: #008000; text-decoration-color: #008000\">\"NUMEXPR_MAX_THREADS\"</span> environment variable.                                  <span style=\"color: #7f7f7f; text-decoration-color: #7f7f7f\">            </span>\n",
       "</pre>\n"
      ],
      "text/plain": [
       "\u001b[2;36m12/16 [09:58:04]\u001b[0m\u001b[2;36m \u001b[0m\u001b[34mINFO    \u001b[0m | >> Note: detected \u001b[1;36m80\u001b[0m virtual cores but NumExpr set to maximum of \u001b[1;36m64\u001b[0m, check \u001b]8;id=457933;file:///localdisk/ssrivas9/miniconda3/envs/eval/lib/python3.10/site-packages/numexpr/utils.py\u001b\\\u001b[2mutils.py\u001b[0m\u001b]8;;\u001b\\\u001b[2m:\u001b[0m\u001b]8;id=803789;file:///localdisk/ssrivas9/miniconda3/envs/eval/lib/python3.10/site-packages/numexpr/utils.py#145\u001b\\\u001b[2m145\u001b[0m\u001b]8;;\u001b\\\n",
       "\u001b[2;36m                 \u001b[0m         \u001b[32m\"NUMEXPR_MAX_THREADS\"\u001b[0m environment variable.                                  \u001b[2m            \u001b[0m\n"
      ]
     },
     "metadata": {},
     "output_type": "display_data"
    },
    {
     "data": {
      "text/html": [
       "<pre style=\"white-space:pre;overflow-x:auto;line-height:normal;font-family:Menlo,'DejaVu Sans Mono',consolas,'Courier New',monospace\"><span style=\"color: #7fbfbf; text-decoration-color: #7fbfbf\">                 </span><span style=\"color: #000080; text-decoration-color: #000080\">INFO    </span> | &gt;&gt; Note: NumExpr detected <span style=\"color: #008080; text-decoration-color: #008080; font-weight: bold\">80</span> cores but <span style=\"color: #008000; text-decoration-color: #008000\">\"NUMEXPR_MAX_THREADS\"</span> not set, so   <a href=\"file:///localdisk/ssrivas9/miniconda3/envs/eval/lib/python3.10/site-packages/numexpr/utils.py\" target=\"_blank\"><span style=\"color: #7f7f7f; text-decoration-color: #7f7f7f\">utils.py</span></a><span style=\"color: #7f7f7f; text-decoration-color: #7f7f7f\">:</span><a href=\"file:///localdisk/ssrivas9/miniconda3/envs/eval/lib/python3.10/site-packages/numexpr/utils.py#148\" target=\"_blank\"><span style=\"color: #7f7f7f; text-decoration-color: #7f7f7f\">148</span></a>\n",
       "<span style=\"color: #7fbfbf; text-decoration-color: #7fbfbf\">                 </span>         enforcing safe limit of <span style=\"color: #008080; text-decoration-color: #008080; font-weight: bold\">8</span>.                                                   <span style=\"color: #7f7f7f; text-decoration-color: #7f7f7f\">            </span>\n",
       "</pre>\n"
      ],
      "text/plain": [
       "\u001b[2;36m                \u001b[0m\u001b[2;36m \u001b[0m\u001b[34mINFO    \u001b[0m | >> Note: NumExpr detected \u001b[1;36m80\u001b[0m cores but \u001b[32m\"NUMEXPR_MAX_THREADS\"\u001b[0m not set, so   \u001b]8;id=547958;file:///localdisk/ssrivas9/miniconda3/envs/eval/lib/python3.10/site-packages/numexpr/utils.py\u001b\\\u001b[2mutils.py\u001b[0m\u001b]8;;\u001b\\\u001b[2m:\u001b[0m\u001b]8;id=436608;file:///localdisk/ssrivas9/miniconda3/envs/eval/lib/python3.10/site-packages/numexpr/utils.py#148\u001b\\\u001b[2m148\u001b[0m\u001b]8;;\u001b\\\n",
       "\u001b[2;36m                 \u001b[0m         enforcing safe limit of \u001b[1;36m8\u001b[0m.                                                   \u001b[2m            \u001b[0m\n"
      ]
     },
     "metadata": {},
     "output_type": "display_data"
    },
    {
     "data": {
      "text/html": [
       "<pre style=\"white-space:pre;overflow-x:auto;line-height:normal;font-family:Menlo,'DejaVu Sans Mono',consolas,'Courier New',monospace\"><span style=\"color: #7fbfbf; text-decoration-color: #7fbfbf\">                 </span><span style=\"color: #000080; text-decoration-color: #000080\">INFO    </span> | &gt;&gt; NumExpr defaulting to <span style=\"color: #008080; text-decoration-color: #008080; font-weight: bold\">8</span> threads.                                        <a href=\"file:///localdisk/ssrivas9/miniconda3/envs/eval/lib/python3.10/site-packages/numexpr/utils.py\" target=\"_blank\"><span style=\"color: #7f7f7f; text-decoration-color: #7f7f7f\">utils.py</span></a><span style=\"color: #7f7f7f; text-decoration-color: #7f7f7f\">:</span><a href=\"file:///localdisk/ssrivas9/miniconda3/envs/eval/lib/python3.10/site-packages/numexpr/utils.py#161\" target=\"_blank\"><span style=\"color: #7f7f7f; text-decoration-color: #7f7f7f\">161</span></a>\n",
       "</pre>\n"
      ],
      "text/plain": [
       "\u001b[2;36m                \u001b[0m\u001b[2;36m \u001b[0m\u001b[34mINFO    \u001b[0m | >> NumExpr defaulting to \u001b[1;36m8\u001b[0m threads.                                        \u001b]8;id=351880;file:///localdisk/ssrivas9/miniconda3/envs/eval/lib/python3.10/site-packages/numexpr/utils.py\u001b\\\u001b[2mutils.py\u001b[0m\u001b]8;;\u001b\\\u001b[2m:\u001b[0m\u001b]8;id=960018;file:///localdisk/ssrivas9/miniconda3/envs/eval/lib/python3.10/site-packages/numexpr/utils.py#161\u001b\\\u001b[2m161\u001b[0m\u001b]8;;\u001b\\\n"
      ]
     },
     "metadata": {},
     "output_type": "display_data"
    }
   ],
   "source": [
    "import torch\n",
    "import matplotlib.pyplot as plt\n",
    "import seaborn as sns\n",
    "import numpy as np\n",
    "\n",
    "def plot_correct_token_rank_distribution(output, fused_labels):\n",
    "    \"\"\"\n",
    "    Plots the distribution of the ranks of the correct tokens within the logits,\n",
    "    and adds text showing the cumulative probability till the top 50 positions.\n",
    "\n",
    "    Args:\n",
    "        output (torch.Tensor): The output from the model, containing logits.\n",
    "        fused_labels (torch.Tensor): The ground truth labels aligned with the logits.\n",
    "\n",
    "    Returns:\n",
    "        None. Displays a plot of the rank distribution and cumulative probability.\n",
    "    \"\"\"\n",
    "    # Ensure logits and labels are on the same device\n",
    "    device = output.logits.device\n",
    "    logits = output.logits\n",
    "    labels = fused_labels\n",
    "\n",
    "    # Align logits and labels by shifting\n",
    "    shift_logits = logits[:, :-1, :].contiguous()  # (batch_size, seq_len-1, vocab_size)\n",
    "    valid_targets = labels[:, 1:].contiguous()     # (batch_size, seq_len-1)\n",
    "\n",
    "    # Create mask for valid targets (labels != -100)\n",
    "    mask = (valid_targets != -100)\n",
    "\n",
    "    # Replace -100 in labels to avoid indexing errors\n",
    "    valid_targets_clamped = valid_targets.clone()\n",
    "    valid_targets_clamped[~mask] = 0\n",
    "\n",
    "    batch_size, seq_len_minus_one, vocab_size = shift_logits.size()\n",
    "    flat_logits = shift_logits.view(-1, vocab_size)           # (batch_size*(seq_len-1), vocab_size)\n",
    "    flat_targets = valid_targets_clamped.view(-1)             # (batch_size*(seq_len-1))\n",
    "    flat_mask = mask.view(-1)                                 # (batch_size*(seq_len-1))\n",
    "\n",
    "    # Filter out invalid positions\n",
    "    valid_logits = flat_logits[flat_mask]                     # (num_valid, vocab_size)\n",
    "    valid_targets_final = flat_targets[flat_mask]             # (num_valid)\n",
    "\n",
    "    # Sort logits in descending order and find ranks\n",
    "    sorted_indices = torch.argsort(valid_logits, dim=-1, descending=True)\n",
    "    target_mask = (sorted_indices == valid_targets_final.unsqueeze(1))\n",
    "    ranks = torch.nonzero(target_mask, as_tuple=False)[:, 1] + 1\n",
    "\n",
    "    # Convert ranks to NumPy\n",
    "    ranks_np = ranks.cpu().numpy()\n",
    "\n",
    "    # Compute cumulative probability for top 50\n",
    "    top_50_coverage = np.mean(ranks_np <= 50) * 100.0\n",
    "\n",
    "    # Plot distribution of ranks\n",
    "    plt.figure(figsize=(10, 6))\n",
    "    sns.histplot(ranks_np, bins=range(1, min(ranks_np.max() + 2, 101)), kde=True, stat=\"density\", edgecolor=\"black\")\n",
    "    plt.title(\"Distribution of Correct Token Ranks in Logits\")\n",
    "    plt.xlabel(\"Rank of Correct Token\")\n",
    "    plt.ylabel(\"Density\")\n",
    "    plt.xlim(1, min(50, ranks_np.max() + 1))\n",
    "    plt.grid(True)\n",
    "\n",
    "    # Add text showing cumulative probability till top 50\n",
    "    plt.text(\n",
    "        0.5, 0.9,\n",
    "        f\"Cumulative Probability (Top 50): {top_50_coverage:.2f}%\",\n",
    "        transform=plt.gca().transAxes,\n",
    "        fontsize=12,\n",
    "        bbox=dict(facecolor='white', alpha=0.8, edgecolor='black')\n",
    "    )\n",
    "\n",
    "    plt.show()"
   ]
  },
  {
   "cell_type": "code",
   "execution_count": null,
   "metadata": {},
   "outputs": [],
   "source": []
  },
  {
   "cell_type": "code",
   "execution_count": 7,
   "metadata": {},
   "outputs": [
    {
     "data": {
      "image/png": "[encoded data removed]",
      "text/plain": [
       "<Figure size 1000x600 with 1 Axes>"
      ]
     },
     "metadata": {},
     "output_type": "display_data"
    }
   ],
   "source": [
    "plot_correct_token_rank_distribution(output, fused_labels if multimodal_inject is not None else labels)"
   ]
  },
  {
   "cell_type": "code",
   "execution_count": 20,
   "metadata": {},
   "outputs": [],
   "source": [
    "# Text Only, No Multimodal Injection"
   ]
  },
  {
   "cell_type": "code",
   "execution_count": 19,
   "metadata": {},
   "outputs": [
    {
     "data": {
      "image/png": "[encoded data removed]",
      "text/plain": [
       "<Figure size 1000x600 with 1 Axes>"
      ]
     },
     "metadata": {},
     "output_type": "display_data"
    }
   ],
   "source": [
    "plot_correct_token_rank_distribution(output, fused_labels if multimodal_inject is not None else labels)"
   ]
  },
  {
   "cell_type": "markdown",
   "metadata": {},
   "source": [
    "import torch\n",
    "vlm.model.train()\n",
    "with torch.autocast(\"cuda\", dtype=torch.bfloat16):\n",
    "    batch = {k: v.to(\"cuda\") if isinstance(v, torch.Tensor) else v for k, v in batch.items()}\n",
    "    input_ids, attention_mask, pixel_values, labels, multimodal_indices = batch[\"input_ids\"], batch[\"attention_mask\"], batch[\"pixel_values\"], batch[\"labels\"], batch[\"multimodal_indices\"]\n",
    "    \n",
    "    output, fused_labels = vlm.model(\n",
    "                                input_ids=batch[\"input_ids\"],\n",
    "                                attention_mask=batch[\"attention_mask\"],\n",
    "                                pixel_values=batch[\"pixel_values\"],\n",
    "                                labels=batch[\"labels\"],\n",
    "                                multimodal_indices=batch[\"multimodal_indices\"],\n",
    "                                return_labels=True,\n",
    "                            )\n",
    "    "
   ]
  }
 ],
 "metadata": {
  "kernelspec": {
   "display_name": "eval",
   "language": "python",
   "name": "python3"
  },
  "language_info": {
   "codemirror_mode": {
    "name": "ipython",
    "version": 3
   },
   "file_extension": ".py",
   "mimetype": "text/x-python",
   "name": "python",
   "nbconvert_exporter": "python",
   "pygments_lexer": "ipython3",
   "version": "3.10.14"
  }
 },
 "nbformat": 4,
 "nbformat_minor": 2
}
